{
 "cells": [
  {
   "cell_type": "markdown",
   "metadata": {},
   "source": [
    "# 05 Amazon Fine Food Reviews Analysis_Logistic Regression\n",
    "\n",
    "\n",
    "Data Source: https://www.kaggle.com/snap/amazon-fine-food-reviews <br>\n",
    "\n",
    "EDA: https://nycdatascience.com/blog/student-works/amazon-fine-foods-visualization/\n",
    "\n",
    "\n",
    "The Amazon Fine Food Reviews dataset consists of reviews of fine foods from Amazon.<br>\n",
    "\n",
    "Number of reviews: 568,454<br>\n",
    "Number of users: 256,059<br>\n",
    "Number of products: 74,258<br>\n",
    "Timespan: Oct 1999 - Oct 2012<br>\n",
    "Number of Attributes/Columns in data: 10 \n",
    "\n",
    "Attribute Information:\n",
    "\n",
    "1. Id\n",
    "2. ProductId - unique identifier for the product\n",
    "3. UserId - unqiue identifier for the user\n",
    "4. ProfileName\n",
    "5. HelpfulnessNumerator - number of users who found the review helpful\n",
    "6. HelpfulnessDenominator - number of users who indicated whether they found the review helpful or not\n",
    "7. Score - rating between 1 and 5\n",
    "8. Time - timestamp for the review\n",
    "9. Summary - brief summary of the review\n",
    "10. Text - text of the review\n",
    "\n",
    "\n",
    "#### Objective:\n",
    "Given a review, determine whether the review is positive (rating of 4 or 5) or negative (rating of 1 or 2).\n",
    "\n",
    "<br>\n",
    "[Q] How to determine if a review is positive or negative?<br>\n",
    "<br> \n",
    "[Ans] We could use Score/Rating. A rating of 4 or 5 can be cosnidered as a positive review. A rating of 1 or 2 can be considered as negative one. A review of rating 3 is considered nuetral and such reviews are ignored from our analysis. This is an approximate and proxy way of determining the polarity (positivity/negativity) of a review.\n",
    "\n",
    "\n"
   ]
  },
  {
   "cell_type": "markdown",
   "metadata": {},
   "source": [
    "# [1]. Reading Data"
   ]
  },
  {
   "cell_type": "markdown",
   "metadata": {},
   "source": [
    "## [1.1] Loading the data\n",
    "\n",
    "The dataset is available in two forms\n",
    "1. .csv file\n",
    "2. SQLite Database\n",
    "\n",
    "In order to load the data, We have used the SQLITE dataset as it is easier to query the data and visualise the data efficiently.\n",
    "<br> \n",
    "\n",
    "Here as we only want to get the global sentiment of the recommendations (positive or negative), we will purposefully ignore all Scores equal to 3. If the score is above 3, then the recommendation wil be set to \"positive\". Otherwise, it will be set to \"negative\"."
   ]
  },
  {
   "cell_type": "code",
   "execution_count": 1,
   "metadata": {
    "collapsed": true
   },
   "outputs": [],
   "source": [
    "%matplotlib inline\n",
    "import warnings\n",
    "warnings.filterwarnings(\"ignore\")\n",
    "\n",
    "\n",
    "import sqlite3\n",
    "import pandas as pd\n",
    "import numpy as np\n",
    "import nltk\n",
    "import string\n",
    "import matplotlib.pyplot as plt\n",
    "import seaborn as sns\n",
    "from sklearn.feature_extraction.text import TfidfTransformer\n",
    "from sklearn.feature_extraction.text import TfidfVectorizer\n",
    "\n",
    "from sklearn.feature_extraction.text import CountVectorizer\n",
    "from sklearn.metrics import confusion_matrix\n",
    "from sklearn import metrics\n",
    "from sklearn.metrics import roc_curve, auc\n",
    "from nltk.stem.porter import PorterStemmer\n",
    "\n",
    "import re\n",
    "# Tutorial about Python regular expressions: https://pymotw.com/2/re/\n",
    "import string\n",
    "from nltk.corpus import stopwords\n",
    "from nltk.stem import PorterStemmer\n",
    "from nltk.stem.wordnet import WordNetLemmatizer\n",
    "\n",
    "from gensim.models import Word2Vec\n",
    "from gensim.models import KeyedVectors\n",
    "import pickle\n",
    "\n",
    "from tqdm import tqdm\n",
    "import os\n"
   ]
  },
  {
   "cell_type": "code",
   "execution_count": 2,
   "metadata": {
    "scrolled": false
   },
   "outputs": [
    {
     "name": "stdout",
     "output_type": "stream",
     "text": [
      "Number of data points in our data (100000, 10)\n"
     ]
    },
    {
     "data": {
      "text/html": [
       "<div>\n",
       "<style>\n",
       "    .dataframe thead tr:only-child th {\n",
       "        text-align: right;\n",
       "    }\n",
       "\n",
       "    .dataframe thead th {\n",
       "        text-align: left;\n",
       "    }\n",
       "\n",
       "    .dataframe tbody tr th {\n",
       "        vertical-align: top;\n",
       "    }\n",
       "</style>\n",
       "<table border=\"1\" class=\"dataframe\">\n",
       "  <thead>\n",
       "    <tr style=\"text-align: right;\">\n",
       "      <th></th>\n",
       "      <th>Id</th>\n",
       "      <th>ProductId</th>\n",
       "      <th>UserId</th>\n",
       "      <th>ProfileName</th>\n",
       "      <th>HelpfulnessNumerator</th>\n",
       "      <th>HelpfulnessDenominator</th>\n",
       "      <th>Score</th>\n",
       "      <th>Time</th>\n",
       "      <th>Summary</th>\n",
       "      <th>Text</th>\n",
       "    </tr>\n",
       "  </thead>\n",
       "  <tbody>\n",
       "    <tr>\n",
       "      <th>0</th>\n",
       "      <td>1</td>\n",
       "      <td>B001E4KFG0</td>\n",
       "      <td>A3SGXH7AUHU8GW</td>\n",
       "      <td>delmartian</td>\n",
       "      <td>1</td>\n",
       "      <td>1</td>\n",
       "      <td>1</td>\n",
       "      <td>1303862400</td>\n",
       "      <td>Good Quality Dog Food</td>\n",
       "      <td>I have bought several of the Vitality canned d...</td>\n",
       "    </tr>\n",
       "    <tr>\n",
       "      <th>1</th>\n",
       "      <td>2</td>\n",
       "      <td>B00813GRG4</td>\n",
       "      <td>A1D87F6ZCVE5NK</td>\n",
       "      <td>dll pa</td>\n",
       "      <td>0</td>\n",
       "      <td>0</td>\n",
       "      <td>0</td>\n",
       "      <td>1346976000</td>\n",
       "      <td>Not as Advertised</td>\n",
       "      <td>Product arrived labeled as Jumbo Salted Peanut...</td>\n",
       "    </tr>\n",
       "    <tr>\n",
       "      <th>2</th>\n",
       "      <td>3</td>\n",
       "      <td>B000LQOCH0</td>\n",
       "      <td>ABXLMWJIXXAIN</td>\n",
       "      <td>Natalia Corres \"Natalia Corres\"</td>\n",
       "      <td>1</td>\n",
       "      <td>1</td>\n",
       "      <td>1</td>\n",
       "      <td>1219017600</td>\n",
       "      <td>\"Delight\" says it all</td>\n",
       "      <td>This is a confection that has been around a fe...</td>\n",
       "    </tr>\n",
       "  </tbody>\n",
       "</table>\n",
       "</div>"
      ],
      "text/plain": [
       "   Id   ProductId          UserId                      ProfileName  \\\n",
       "0   1  B001E4KFG0  A3SGXH7AUHU8GW                       delmartian   \n",
       "1   2  B00813GRG4  A1D87F6ZCVE5NK                           dll pa   \n",
       "2   3  B000LQOCH0   ABXLMWJIXXAIN  Natalia Corres \"Natalia Corres\"   \n",
       "\n",
       "   HelpfulnessNumerator  HelpfulnessDenominator  Score        Time  \\\n",
       "0                     1                       1      1  1303862400   \n",
       "1                     0                       0      0  1346976000   \n",
       "2                     1                       1      1  1219017600   \n",
       "\n",
       "                 Summary                                               Text  \n",
       "0  Good Quality Dog Food  I have bought several of the Vitality canned d...  \n",
       "1      Not as Advertised  Product arrived labeled as Jumbo Salted Peanut...  \n",
       "2  \"Delight\" says it all  This is a confection that has been around a fe...  "
      ]
     },
     "execution_count": 2,
     "metadata": {},
     "output_type": "execute_result"
    }
   ],
   "source": [
    "# using SQLite Table to read data.\n",
    "con = sqlite3.connect('database.sqlite') \n",
    "\n",
    "# filtering only positive and negative reviews i.e. \n",
    "# not taking into consideration those reviews with Score=3\n",
    "# SELECT * FROM Reviews WHERE Score != 3 LIMIT 500000, will give top 500000 data points\n",
    "# you can change the number to any other number based on your computing power\n",
    "\n",
    "filtered_data = pd.read_sql_query(\"\"\" SELECT * FROM Reviews WHERE Score != 3 LIMIT 100000\"\"\", con) \n",
    "\n",
    "# Give reviews with Score>3 a positive rating(1), and reviews with a score<3 a negative rating(0).\n",
    "def partition(x):\n",
    "    if x < 3:\n",
    "        return 0\n",
    "    return 1\n",
    "\n",
    "#changing reviews with score less than 3 to be positive and vice-versa\n",
    "actualScore = filtered_data['Score']\n",
    "positiveNegative = actualScore.map(partition) \n",
    "filtered_data['Score'] = positiveNegative\n",
    "print(\"Number of data points in our data\", filtered_data.shape)\n",
    "filtered_data.head(3)"
   ]
  },
  {
   "cell_type": "markdown",
   "metadata": {},
   "source": [
    "### FEATURES OF DATA "
   ]
  },
  {
   "cell_type": "code",
   "execution_count": 3,
   "metadata": {},
   "outputs": [
    {
     "data": {
      "text/plain": [
       "Index(['Id', 'ProductId', 'UserId', 'ProfileName', 'HelpfulnessNumerator',\n",
       "       'HelpfulnessDenominator', 'Score', 'Time', 'Summary', 'Text'],\n",
       "      dtype='object')"
      ]
     },
     "execution_count": 3,
     "metadata": {},
     "output_type": "execute_result"
    }
   ],
   "source": [
    "filtered_data.columns"
   ]
  },
  {
   "cell_type": "code",
   "execution_count": 4,
   "metadata": {
    "collapsed": true
   },
   "outputs": [],
   "source": [
    "display = pd.read_sql_query(\"\"\"\n",
    "SELECT UserId, ProductId, ProfileName, Time, Score, Text, COUNT(*)\n",
    "FROM Reviews\n",
    "GROUP BY UserId\n",
    "HAVING COUNT(*)>1\n",
    "\"\"\", con)"
   ]
  },
  {
   "cell_type": "code",
   "execution_count": 5,
   "metadata": {
    "scrolled": false
   },
   "outputs": [
    {
     "name": "stdout",
     "output_type": "stream",
     "text": [
      "(80668, 7)\n"
     ]
    },
    {
     "data": {
      "text/html": [
       "<div>\n",
       "<style>\n",
       "    .dataframe thead tr:only-child th {\n",
       "        text-align: right;\n",
       "    }\n",
       "\n",
       "    .dataframe thead th {\n",
       "        text-align: left;\n",
       "    }\n",
       "\n",
       "    .dataframe tbody tr th {\n",
       "        vertical-align: top;\n",
       "    }\n",
       "</style>\n",
       "<table border=\"1\" class=\"dataframe\">\n",
       "  <thead>\n",
       "    <tr style=\"text-align: right;\">\n",
       "      <th></th>\n",
       "      <th>UserId</th>\n",
       "      <th>ProductId</th>\n",
       "      <th>ProfileName</th>\n",
       "      <th>Time</th>\n",
       "      <th>Score</th>\n",
       "      <th>Text</th>\n",
       "      <th>COUNT(*)</th>\n",
       "    </tr>\n",
       "  </thead>\n",
       "  <tbody>\n",
       "    <tr>\n",
       "      <th>0</th>\n",
       "      <td>#oc-R115TNMSPFT9I7</td>\n",
       "      <td>B007Y59HVM</td>\n",
       "      <td>Breyton</td>\n",
       "      <td>1331510400</td>\n",
       "      <td>2</td>\n",
       "      <td>Overall its just OK when considering the price...</td>\n",
       "      <td>2</td>\n",
       "    </tr>\n",
       "    <tr>\n",
       "      <th>1</th>\n",
       "      <td>#oc-R11D9D7SHXIJB9</td>\n",
       "      <td>B005HG9ET0</td>\n",
       "      <td>Louis E. Emory \"hoppy\"</td>\n",
       "      <td>1342396800</td>\n",
       "      <td>5</td>\n",
       "      <td>My wife has recurring extreme muscle spasms, u...</td>\n",
       "      <td>3</td>\n",
       "    </tr>\n",
       "    <tr>\n",
       "      <th>2</th>\n",
       "      <td>#oc-R11DNU2NBKQ23Z</td>\n",
       "      <td>B007Y59HVM</td>\n",
       "      <td>Kim Cieszykowski</td>\n",
       "      <td>1348531200</td>\n",
       "      <td>1</td>\n",
       "      <td>This coffee is horrible and unfortunately not ...</td>\n",
       "      <td>2</td>\n",
       "    </tr>\n",
       "    <tr>\n",
       "      <th>3</th>\n",
       "      <td>#oc-R11O5J5ZVQE25C</td>\n",
       "      <td>B005HG9ET0</td>\n",
       "      <td>Penguin Chick</td>\n",
       "      <td>1346889600</td>\n",
       "      <td>5</td>\n",
       "      <td>This will be the bottle that you grab from the...</td>\n",
       "      <td>3</td>\n",
       "    </tr>\n",
       "    <tr>\n",
       "      <th>4</th>\n",
       "      <td>#oc-R12KPBODL2B5ZD</td>\n",
       "      <td>B007OSBE1U</td>\n",
       "      <td>Christopher P. Presta</td>\n",
       "      <td>1348617600</td>\n",
       "      <td>1</td>\n",
       "      <td>I didnt like this coffee. Instead of telling y...</td>\n",
       "      <td>2</td>\n",
       "    </tr>\n",
       "  </tbody>\n",
       "</table>\n",
       "</div>"
      ],
      "text/plain": [
       "               UserId   ProductId             ProfileName        Time  Score  \\\n",
       "0  #oc-R115TNMSPFT9I7  B007Y59HVM                 Breyton  1331510400      2   \n",
       "1  #oc-R11D9D7SHXIJB9  B005HG9ET0  Louis E. Emory \"hoppy\"  1342396800      5   \n",
       "2  #oc-R11DNU2NBKQ23Z  B007Y59HVM        Kim Cieszykowski  1348531200      1   \n",
       "3  #oc-R11O5J5ZVQE25C  B005HG9ET0           Penguin Chick  1346889600      5   \n",
       "4  #oc-R12KPBODL2B5ZD  B007OSBE1U   Christopher P. Presta  1348617600      1   \n",
       "\n",
       "                                                Text  COUNT(*)  \n",
       "0  Overall its just OK when considering the price...         2  \n",
       "1  My wife has recurring extreme muscle spasms, u...         3  \n",
       "2  This coffee is horrible and unfortunately not ...         2  \n",
       "3  This will be the bottle that you grab from the...         3  \n",
       "4  I didnt like this coffee. Instead of telling y...         2  "
      ]
     },
     "execution_count": 5,
     "metadata": {},
     "output_type": "execute_result"
    }
   ],
   "source": [
    "print(display.shape)\n",
    "display.head()"
   ]
  },
  {
   "cell_type": "code",
   "execution_count": 6,
   "metadata": {
    "scrolled": true
   },
   "outputs": [
    {
     "data": {
      "text/html": [
       "<div>\n",
       "<style>\n",
       "    .dataframe thead tr:only-child th {\n",
       "        text-align: right;\n",
       "    }\n",
       "\n",
       "    .dataframe thead th {\n",
       "        text-align: left;\n",
       "    }\n",
       "\n",
       "    .dataframe tbody tr th {\n",
       "        vertical-align: top;\n",
       "    }\n",
       "</style>\n",
       "<table border=\"1\" class=\"dataframe\">\n",
       "  <thead>\n",
       "    <tr style=\"text-align: right;\">\n",
       "      <th></th>\n",
       "      <th>UserId</th>\n",
       "      <th>ProductId</th>\n",
       "      <th>ProfileName</th>\n",
       "      <th>Time</th>\n",
       "      <th>Score</th>\n",
       "      <th>Text</th>\n",
       "      <th>COUNT(*)</th>\n",
       "    </tr>\n",
       "  </thead>\n",
       "  <tbody>\n",
       "    <tr>\n",
       "      <th>80638</th>\n",
       "      <td>AZY10LLTJ71NX</td>\n",
       "      <td>B006P7E5ZI</td>\n",
       "      <td>undertheshrine \"undertheshrine\"</td>\n",
       "      <td>1334707200</td>\n",
       "      <td>5</td>\n",
       "      <td>I was recommended to try green tea extract to ...</td>\n",
       "      <td>5</td>\n",
       "    </tr>\n",
       "  </tbody>\n",
       "</table>\n",
       "</div>"
      ],
      "text/plain": [
       "              UserId   ProductId                      ProfileName        Time  \\\n",
       "80638  AZY10LLTJ71NX  B006P7E5ZI  undertheshrine \"undertheshrine\"  1334707200   \n",
       "\n",
       "       Score                                               Text  COUNT(*)  \n",
       "80638      5  I was recommended to try green tea extract to ...         5  "
      ]
     },
     "execution_count": 6,
     "metadata": {},
     "output_type": "execute_result"
    }
   ],
   "source": [
    "display[display['UserId']=='AZY10LLTJ71NX']"
   ]
  },
  {
   "cell_type": "code",
   "execution_count": 7,
   "metadata": {},
   "outputs": [
    {
     "data": {
      "text/plain": [
       "393063"
      ]
     },
     "execution_count": 7,
     "metadata": {},
     "output_type": "execute_result"
    }
   ],
   "source": [
    "display['COUNT(*)'].sum()"
   ]
  },
  {
   "cell_type": "markdown",
   "metadata": {},
   "source": [
    "#  [2] Exploratory Data Analysis"
   ]
  },
  {
   "cell_type": "markdown",
   "metadata": {},
   "source": [
    "## [2.1] Data Cleaning: Deduplication\n",
    "\n",
    "It is observed (as shown in the table below) that the reviews data had many duplicate entries. Hence it was necessary to remove duplicates in order to get unbiased results for the analysis of the data.  Following is an example:"
   ]
  },
  {
   "cell_type": "code",
   "execution_count": 8,
   "metadata": {
    "scrolled": false
   },
   "outputs": [
    {
     "data": {
      "text/html": [
       "<div>\n",
       "<style>\n",
       "    .dataframe thead tr:only-child th {\n",
       "        text-align: right;\n",
       "    }\n",
       "\n",
       "    .dataframe thead th {\n",
       "        text-align: left;\n",
       "    }\n",
       "\n",
       "    .dataframe tbody tr th {\n",
       "        vertical-align: top;\n",
       "    }\n",
       "</style>\n",
       "<table border=\"1\" class=\"dataframe\">\n",
       "  <thead>\n",
       "    <tr style=\"text-align: right;\">\n",
       "      <th></th>\n",
       "      <th>Id</th>\n",
       "      <th>ProductId</th>\n",
       "      <th>UserId</th>\n",
       "      <th>ProfileName</th>\n",
       "      <th>HelpfulnessNumerator</th>\n",
       "      <th>HelpfulnessDenominator</th>\n",
       "      <th>Score</th>\n",
       "      <th>Time</th>\n",
       "      <th>Summary</th>\n",
       "      <th>Text</th>\n",
       "    </tr>\n",
       "  </thead>\n",
       "  <tbody>\n",
       "    <tr>\n",
       "      <th>0</th>\n",
       "      <td>78445</td>\n",
       "      <td>B000HDL1RQ</td>\n",
       "      <td>AR5J8UI46CURR</td>\n",
       "      <td>Geetha Krishnan</td>\n",
       "      <td>2</td>\n",
       "      <td>2</td>\n",
       "      <td>5</td>\n",
       "      <td>1199577600</td>\n",
       "      <td>LOACKER QUADRATINI VANILLA WAFERS</td>\n",
       "      <td>DELICIOUS WAFERS. I FIND THAT EUROPEAN WAFERS ...</td>\n",
       "    </tr>\n",
       "    <tr>\n",
       "      <th>1</th>\n",
       "      <td>138317</td>\n",
       "      <td>B000HDOPYC</td>\n",
       "      <td>AR5J8UI46CURR</td>\n",
       "      <td>Geetha Krishnan</td>\n",
       "      <td>2</td>\n",
       "      <td>2</td>\n",
       "      <td>5</td>\n",
       "      <td>1199577600</td>\n",
       "      <td>LOACKER QUADRATINI VANILLA WAFERS</td>\n",
       "      <td>DELICIOUS WAFERS. I FIND THAT EUROPEAN WAFERS ...</td>\n",
       "    </tr>\n",
       "    <tr>\n",
       "      <th>2</th>\n",
       "      <td>138277</td>\n",
       "      <td>B000HDOPYM</td>\n",
       "      <td>AR5J8UI46CURR</td>\n",
       "      <td>Geetha Krishnan</td>\n",
       "      <td>2</td>\n",
       "      <td>2</td>\n",
       "      <td>5</td>\n",
       "      <td>1199577600</td>\n",
       "      <td>LOACKER QUADRATINI VANILLA WAFERS</td>\n",
       "      <td>DELICIOUS WAFERS. I FIND THAT EUROPEAN WAFERS ...</td>\n",
       "    </tr>\n",
       "    <tr>\n",
       "      <th>3</th>\n",
       "      <td>73791</td>\n",
       "      <td>B000HDOPZG</td>\n",
       "      <td>AR5J8UI46CURR</td>\n",
       "      <td>Geetha Krishnan</td>\n",
       "      <td>2</td>\n",
       "      <td>2</td>\n",
       "      <td>5</td>\n",
       "      <td>1199577600</td>\n",
       "      <td>LOACKER QUADRATINI VANILLA WAFERS</td>\n",
       "      <td>DELICIOUS WAFERS. I FIND THAT EUROPEAN WAFERS ...</td>\n",
       "    </tr>\n",
       "    <tr>\n",
       "      <th>4</th>\n",
       "      <td>155049</td>\n",
       "      <td>B000PAQ75C</td>\n",
       "      <td>AR5J8UI46CURR</td>\n",
       "      <td>Geetha Krishnan</td>\n",
       "      <td>2</td>\n",
       "      <td>2</td>\n",
       "      <td>5</td>\n",
       "      <td>1199577600</td>\n",
       "      <td>LOACKER QUADRATINI VANILLA WAFERS</td>\n",
       "      <td>DELICIOUS WAFERS. I FIND THAT EUROPEAN WAFERS ...</td>\n",
       "    </tr>\n",
       "  </tbody>\n",
       "</table>\n",
       "</div>"
      ],
      "text/plain": [
       "       Id   ProductId         UserId      ProfileName  HelpfulnessNumerator  \\\n",
       "0   78445  B000HDL1RQ  AR5J8UI46CURR  Geetha Krishnan                     2   \n",
       "1  138317  B000HDOPYC  AR5J8UI46CURR  Geetha Krishnan                     2   \n",
       "2  138277  B000HDOPYM  AR5J8UI46CURR  Geetha Krishnan                     2   \n",
       "3   73791  B000HDOPZG  AR5J8UI46CURR  Geetha Krishnan                     2   \n",
       "4  155049  B000PAQ75C  AR5J8UI46CURR  Geetha Krishnan                     2   \n",
       "\n",
       "   HelpfulnessDenominator  Score        Time  \\\n",
       "0                       2      5  1199577600   \n",
       "1                       2      5  1199577600   \n",
       "2                       2      5  1199577600   \n",
       "3                       2      5  1199577600   \n",
       "4                       2      5  1199577600   \n",
       "\n",
       "                             Summary  \\\n",
       "0  LOACKER QUADRATINI VANILLA WAFERS   \n",
       "1  LOACKER QUADRATINI VANILLA WAFERS   \n",
       "2  LOACKER QUADRATINI VANILLA WAFERS   \n",
       "3  LOACKER QUADRATINI VANILLA WAFERS   \n",
       "4  LOACKER QUADRATINI VANILLA WAFERS   \n",
       "\n",
       "                                                Text  \n",
       "0  DELICIOUS WAFERS. I FIND THAT EUROPEAN WAFERS ...  \n",
       "1  DELICIOUS WAFERS. I FIND THAT EUROPEAN WAFERS ...  \n",
       "2  DELICIOUS WAFERS. I FIND THAT EUROPEAN WAFERS ...  \n",
       "3  DELICIOUS WAFERS. I FIND THAT EUROPEAN WAFERS ...  \n",
       "4  DELICIOUS WAFERS. I FIND THAT EUROPEAN WAFERS ...  "
      ]
     },
     "execution_count": 8,
     "metadata": {},
     "output_type": "execute_result"
    }
   ],
   "source": [
    "display= pd.read_sql_query(\"\"\"\n",
    "SELECT *\n",
    "FROM Reviews\n",
    "WHERE Score != 3 AND UserId=\"AR5J8UI46CURR\"\n",
    "ORDER BY ProductID\n",
    "\"\"\", con)\n",
    "display.head()"
   ]
  },
  {
   "cell_type": "markdown",
   "metadata": {},
   "source": [
    "As it can be seen above that same user has multiple reviews with same values for HelpfulnessNumerator, HelpfulnessDenominator, Score, Time, Summary and Text and on doing analysis it was found that <br>\n",
    "<br> \n",
    "ProductId=B000HDOPZG was Loacker Quadratini Vanilla Wafer Cookies, 8.82-Ounce Packages (Pack of 8)<br>\n",
    "<br> \n",
    "ProductId=B000HDL1RQ was Loacker Quadratini Lemon Wafer Cookies, 8.82-Ounce Packages (Pack of 8) and so on<br>\n",
    "\n",
    "It was inferred after analysis that reviews with same parameters other than ProductId belonged to the same product just having different flavour or quantity. Hence in order to reduce redundancy it was decided to eliminate the rows having same parameters.<br>\n",
    "\n",
    "The method used for the same was that we first sort the data according to ProductId and then just keep the first similar product review and delelte the others. for eg. in the above just the review for ProductId=B000HDL1RQ remains. This method ensures that there is only one representative for each product and deduplication without sorting would lead to possibility of different representatives still existing for the same product."
   ]
  },
  {
   "cell_type": "code",
   "execution_count": 9,
   "metadata": {
    "collapsed": true
   },
   "outputs": [],
   "source": [
    "#Sorting data according to TIME in ascending order\n",
    "sorted_data=filtered_data.sort_values('Time', axis=0, ascending=True, inplace=False, kind='quicksort', na_position='last')"
   ]
  },
  {
   "cell_type": "code",
   "execution_count": 10,
   "metadata": {
    "scrolled": false
   },
   "outputs": [
    {
     "data": {
      "text/html": [
       "<div>\n",
       "<style>\n",
       "    .dataframe thead tr:only-child th {\n",
       "        text-align: right;\n",
       "    }\n",
       "\n",
       "    .dataframe thead th {\n",
       "        text-align: left;\n",
       "    }\n",
       "\n",
       "    .dataframe tbody tr th {\n",
       "        vertical-align: top;\n",
       "    }\n",
       "</style>\n",
       "<table border=\"1\" class=\"dataframe\">\n",
       "  <thead>\n",
       "    <tr style=\"text-align: right;\">\n",
       "      <th></th>\n",
       "      <th>Id</th>\n",
       "      <th>ProductId</th>\n",
       "      <th>UserId</th>\n",
       "      <th>ProfileName</th>\n",
       "      <th>HelpfulnessNumerator</th>\n",
       "      <th>HelpfulnessDenominator</th>\n",
       "      <th>Score</th>\n",
       "      <th>Time</th>\n",
       "      <th>Summary</th>\n",
       "      <th>Text</th>\n",
       "    </tr>\n",
       "  </thead>\n",
       "  <tbody>\n",
       "    <tr>\n",
       "      <th>70688</th>\n",
       "      <td>76882</td>\n",
       "      <td>B00002N8SM</td>\n",
       "      <td>A32DW342WBJ6BX</td>\n",
       "      <td>Buttersugar</td>\n",
       "      <td>0</td>\n",
       "      <td>0</td>\n",
       "      <td>1</td>\n",
       "      <td>948672000</td>\n",
       "      <td>A sure death for flies</td>\n",
       "      <td>I bought a few of these after my apartment was...</td>\n",
       "    </tr>\n",
       "    <tr>\n",
       "      <th>1146</th>\n",
       "      <td>1245</td>\n",
       "      <td>B00002Z754</td>\n",
       "      <td>A29Z5PI9BW2PU3</td>\n",
       "      <td>Robbie</td>\n",
       "      <td>7</td>\n",
       "      <td>7</td>\n",
       "      <td>1</td>\n",
       "      <td>961718400</td>\n",
       "      <td>Great Product</td>\n",
       "      <td>This was a really good idea and the final prod...</td>\n",
       "    </tr>\n",
       "    <tr>\n",
       "      <th>1145</th>\n",
       "      <td>1244</td>\n",
       "      <td>B00002Z754</td>\n",
       "      <td>A3B8RCEI0FXFI6</td>\n",
       "      <td>B G Chase</td>\n",
       "      <td>10</td>\n",
       "      <td>10</td>\n",
       "      <td>1</td>\n",
       "      <td>962236800</td>\n",
       "      <td>WOW Make your own 'slickers' !</td>\n",
       "      <td>I just received my shipment and could hardly w...</td>\n",
       "    </tr>\n",
       "    <tr>\n",
       "      <th>28086</th>\n",
       "      <td>30629</td>\n",
       "      <td>B00008RCMI</td>\n",
       "      <td>A19E94CF5O1LY7</td>\n",
       "      <td>Andrew Arnold</td>\n",
       "      <td>0</td>\n",
       "      <td>0</td>\n",
       "      <td>1</td>\n",
       "      <td>1067040000</td>\n",
       "      <td>I've chewed this gum many times, but used?</td>\n",
       "      <td>Nothing against the product, but it does bothe...</td>\n",
       "    </tr>\n",
       "    <tr>\n",
       "      <th>28087</th>\n",
       "      <td>30630</td>\n",
       "      <td>B00008RCMI</td>\n",
       "      <td>A284C7M23F0APC</td>\n",
       "      <td>A. Mendoza</td>\n",
       "      <td>0</td>\n",
       "      <td>0</td>\n",
       "      <td>1</td>\n",
       "      <td>1067040000</td>\n",
       "      <td>Best sugarless gum ever!</td>\n",
       "      <td>I love this stuff. It is sugar-free so it does...</td>\n",
       "    </tr>\n",
       "  </tbody>\n",
       "</table>\n",
       "</div>"
      ],
      "text/plain": [
       "          Id   ProductId          UserId    ProfileName  HelpfulnessNumerator  \\\n",
       "70688  76882  B00002N8SM  A32DW342WBJ6BX    Buttersugar                     0   \n",
       "1146    1245  B00002Z754  A29Z5PI9BW2PU3         Robbie                     7   \n",
       "1145    1244  B00002Z754  A3B8RCEI0FXFI6      B G Chase                    10   \n",
       "28086  30629  B00008RCMI  A19E94CF5O1LY7  Andrew Arnold                     0   \n",
       "28087  30630  B00008RCMI  A284C7M23F0APC     A. Mendoza                     0   \n",
       "\n",
       "       HelpfulnessDenominator  Score        Time  \\\n",
       "70688                       0      1   948672000   \n",
       "1146                        7      1   961718400   \n",
       "1145                       10      1   962236800   \n",
       "28086                       0      1  1067040000   \n",
       "28087                       0      1  1067040000   \n",
       "\n",
       "                                          Summary  \\\n",
       "70688                      A sure death for flies   \n",
       "1146                                Great Product   \n",
       "1145               WOW Make your own 'slickers' !   \n",
       "28086  I've chewed this gum many times, but used?   \n",
       "28087                    Best sugarless gum ever!   \n",
       "\n",
       "                                                    Text  \n",
       "70688  I bought a few of these after my apartment was...  \n",
       "1146   This was a really good idea and the final prod...  \n",
       "1145   I just received my shipment and could hardly w...  \n",
       "28086  Nothing against the product, but it does bothe...  \n",
       "28087  I love this stuff. It is sugar-free so it does...  "
      ]
     },
     "execution_count": 10,
     "metadata": {},
     "output_type": "execute_result"
    }
   ],
   "source": [
    "sorted_data.head()\n"
   ]
  },
  {
   "cell_type": "code",
   "execution_count": 11,
   "metadata": {},
   "outputs": [
    {
     "data": {
      "text/plain": [
       "1    83876\n",
       "0    16124\n",
       "Name: Score, dtype: int64"
      ]
     },
     "execution_count": 11,
     "metadata": {},
     "output_type": "execute_result"
    }
   ],
   "source": [
    "sorted_data['Score'].value_counts()"
   ]
  },
  {
   "cell_type": "code",
   "execution_count": 12,
   "metadata": {},
   "outputs": [
    {
     "data": {
      "text/plain": [
       "(87775, 10)"
      ]
     },
     "execution_count": 12,
     "metadata": {},
     "output_type": "execute_result"
    }
   ],
   "source": [
    "#Deduplication of entries\n",
    "final=sorted_data.drop_duplicates(subset={\"UserId\",\"ProfileName\",\"Time\",\"Text\"}, keep='first', inplace=False)\n",
    "final.shape"
   ]
  },
  {
   "cell_type": "code",
   "execution_count": 13,
   "metadata": {},
   "outputs": [
    {
     "data": {
      "text/plain": [
       "1    73594\n",
       "0    14181\n",
       "Name: Score, dtype: int64"
      ]
     },
     "execution_count": 13,
     "metadata": {},
     "output_type": "execute_result"
    }
   ],
   "source": [
    "final['Score'].value_counts()"
   ]
  },
  {
   "cell_type": "code",
   "execution_count": 14,
   "metadata": {
    "scrolled": true
   },
   "outputs": [
    {
     "data": {
      "text/plain": [
       "87.775"
      ]
     },
     "execution_count": 14,
     "metadata": {},
     "output_type": "execute_result"
    }
   ],
   "source": [
    "#Checking to see how much % of data still remains\n",
    "(final['Id'].size*1.0)/(filtered_data['Id'].size*1.0)*100"
   ]
  },
  {
   "cell_type": "markdown",
   "metadata": {},
   "source": [
    "<b>Observation:-</b> It was also seen that in two rows given below the value of HelpfulnessNumerator is greater than HelpfulnessDenominator which is not practically possible hence these two rows too are removed from calcualtions"
   ]
  },
  {
   "cell_type": "code",
   "execution_count": 15,
   "metadata": {
    "scrolled": true
   },
   "outputs": [
    {
     "data": {
      "text/html": [
       "<div>\n",
       "<style>\n",
       "    .dataframe thead tr:only-child th {\n",
       "        text-align: right;\n",
       "    }\n",
       "\n",
       "    .dataframe thead th {\n",
       "        text-align: left;\n",
       "    }\n",
       "\n",
       "    .dataframe tbody tr th {\n",
       "        vertical-align: top;\n",
       "    }\n",
       "</style>\n",
       "<table border=\"1\" class=\"dataframe\">\n",
       "  <thead>\n",
       "    <tr style=\"text-align: right;\">\n",
       "      <th></th>\n",
       "      <th>Id</th>\n",
       "      <th>ProductId</th>\n",
       "      <th>UserId</th>\n",
       "      <th>ProfileName</th>\n",
       "      <th>HelpfulnessNumerator</th>\n",
       "      <th>HelpfulnessDenominator</th>\n",
       "      <th>Score</th>\n",
       "      <th>Time</th>\n",
       "      <th>Summary</th>\n",
       "      <th>Text</th>\n",
       "    </tr>\n",
       "  </thead>\n",
       "  <tbody>\n",
       "    <tr>\n",
       "      <th>0</th>\n",
       "      <td>64422</td>\n",
       "      <td>B000MIDROQ</td>\n",
       "      <td>A161DK06JJMCYF</td>\n",
       "      <td>J. E. Stephens \"Jeanne\"</td>\n",
       "      <td>3</td>\n",
       "      <td>1</td>\n",
       "      <td>5</td>\n",
       "      <td>1224892800</td>\n",
       "      <td>Bought This for My Son at College</td>\n",
       "      <td>My son loves spaghetti so I didn't hesitate or...</td>\n",
       "    </tr>\n",
       "    <tr>\n",
       "      <th>1</th>\n",
       "      <td>44737</td>\n",
       "      <td>B001EQ55RW</td>\n",
       "      <td>A2V0I904FH7ABY</td>\n",
       "      <td>Ram</td>\n",
       "      <td>3</td>\n",
       "      <td>2</td>\n",
       "      <td>4</td>\n",
       "      <td>1212883200</td>\n",
       "      <td>Pure cocoa taste with crunchy almonds inside</td>\n",
       "      <td>It was almost a 'love at first bite' - the per...</td>\n",
       "    </tr>\n",
       "  </tbody>\n",
       "</table>\n",
       "</div>"
      ],
      "text/plain": [
       "      Id   ProductId          UserId              ProfileName  \\\n",
       "0  64422  B000MIDROQ  A161DK06JJMCYF  J. E. Stephens \"Jeanne\"   \n",
       "1  44737  B001EQ55RW  A2V0I904FH7ABY                      Ram   \n",
       "\n",
       "   HelpfulnessNumerator  HelpfulnessDenominator  Score        Time  \\\n",
       "0                     3                       1      5  1224892800   \n",
       "1                     3                       2      4  1212883200   \n",
       "\n",
       "                                        Summary  \\\n",
       "0             Bought This for My Son at College   \n",
       "1  Pure cocoa taste with crunchy almonds inside   \n",
       "\n",
       "                                                Text  \n",
       "0  My son loves spaghetti so I didn't hesitate or...  \n",
       "1  It was almost a 'love at first bite' - the per...  "
      ]
     },
     "execution_count": 15,
     "metadata": {},
     "output_type": "execute_result"
    }
   ],
   "source": [
    "display= pd.read_sql_query(\"\"\"\n",
    "SELECT *\n",
    "FROM Reviews\n",
    "WHERE Score != 3 AND Id=44737 OR Id=64422\n",
    "ORDER BY ProductID\n",
    "\"\"\", con)\n",
    "\n",
    "display.head()"
   ]
  },
  {
   "cell_type": "code",
   "execution_count": 16,
   "metadata": {
    "collapsed": true
   },
   "outputs": [],
   "source": [
    "final=final[final.HelpfulnessNumerator<=final.HelpfulnessDenominator]"
   ]
  },
  {
   "cell_type": "code",
   "execution_count": 17,
   "metadata": {
    "scrolled": true
   },
   "outputs": [
    {
     "name": "stdout",
     "output_type": "stream",
     "text": [
      "(87773, 10)\n"
     ]
    },
    {
     "data": {
      "text/plain": [
       "1    73592\n",
       "0    14181\n",
       "Name: Score, dtype: int64"
      ]
     },
     "execution_count": 17,
     "metadata": {},
     "output_type": "execute_result"
    }
   ],
   "source": [
    "#Before starting the next phase of preprocessing lets see the number of entries left\n",
    "print(final.shape)\n",
    "\n",
    "#How many positive and negative reviews are present in our dataset?\n",
    "final['Score'].value_counts()"
   ]
  },
  {
   "cell_type": "code",
   "execution_count": 18,
   "metadata": {
    "collapsed": true
   },
   "outputs": [],
   "source": [
    "x=final.drop('Score',axis=1)\n",
    "y=final.filter(['Score'],axis=1)"
   ]
  },
  {
   "cell_type": "code",
   "execution_count": 19,
   "metadata": {
    "scrolled": true
   },
   "outputs": [
    {
     "data": {
      "text/plain": [
       "((87773, 9), (87773, 1))"
      ]
     },
     "execution_count": 19,
     "metadata": {},
     "output_type": "execute_result"
    }
   ],
   "source": [
    "x.shape,y.shape"
   ]
  },
  {
   "cell_type": "code",
   "execution_count": 20,
   "metadata": {
    "scrolled": false
   },
   "outputs": [
    {
     "data": {
      "text/plain": [
       "87773"
      ]
     },
     "execution_count": 20,
     "metadata": {},
     "output_type": "execute_result"
    }
   ],
   "source": [
    "len(x)"
   ]
  },
  {
   "cell_type": "code",
   "execution_count": 21,
   "metadata": {},
   "outputs": [
    {
     "data": {
      "text/plain": [
       "61441.1"
      ]
     },
     "execution_count": 21,
     "metadata": {},
     "output_type": "execute_result"
    }
   ],
   "source": [
    "87773*0.7"
   ]
  },
  {
   "cell_type": "code",
   "execution_count": 22,
   "metadata": {},
   "outputs": [
    {
     "data": {
      "text/plain": [
       "43008.7"
      ]
     },
     "execution_count": 22,
     "metadata": {},
     "output_type": "execute_result"
    }
   ],
   "source": [
    "61441*0.7"
   ]
  },
  {
   "cell_type": "code",
   "execution_count": null,
   "metadata": {
    "collapsed": true
   },
   "outputs": [],
   "source": []
  },
  {
   "cell_type": "markdown",
   "metadata": {},
   "source": [
    "### TIME BASE SPLITTING"
   ]
  },
  {
   "cell_type": "code",
   "execution_count": 23,
   "metadata": {},
   "outputs": [
    {
     "data": {
      "text/plain": [
       "22574.789999999997"
      ]
     },
     "execution_count": 23,
     "metadata": {},
     "output_type": "execute_result"
    }
   ],
   "source": [
    "32249.699999999997*0.7"
   ]
  },
  {
   "cell_type": "code",
   "execution_count": 24,
   "metadata": {
    "collapsed": true
   },
   "outputs": [],
   "source": [
    "x_tr=x[:43008]\n",
    "y_tr=y[:43008]\n",
    "x_cv=x[43008:61441]\n",
    "y_cv=y[43008:61441]\n",
    "x_test=x[61441:]\n",
    "y_test=y[61441:]"
   ]
  },
  {
   "cell_type": "code",
   "execution_count": 25,
   "metadata": {},
   "outputs": [
    {
     "data": {
      "text/plain": [
       "((43008, 9), (43008, 1))"
      ]
     },
     "execution_count": 25,
     "metadata": {},
     "output_type": "execute_result"
    }
   ],
   "source": [
    "x_tr.shape,y_tr.shape"
   ]
  },
  {
   "cell_type": "code",
   "execution_count": 26,
   "metadata": {},
   "outputs": [
    {
     "data": {
      "text/plain": [
       "1    36652\n",
       "0     6356\n",
       "Name: Score, dtype: int64"
      ]
     },
     "execution_count": 26,
     "metadata": {},
     "output_type": "execute_result"
    }
   ],
   "source": [
    "y_tr['Score'].value_counts()"
   ]
  },
  {
   "cell_type": "markdown",
   "metadata": {},
   "source": [
    "#  [3] Preprocessing"
   ]
  },
  {
   "cell_type": "markdown",
   "metadata": {},
   "source": [
    "## [3.1].  Preprocessing Review Text\n",
    "\n",
    "Now that we have finished deduplication our data requires some preprocessing before we go on further with analysis and making the prediction model.\n",
    "\n",
    "Hence in the Preprocessing phase we do the following in the order below:-\n",
    "\n",
    "1. Begin by removing the html tags\n",
    "2. Remove any punctuations or limited set of special characters like , or . or # etc.\n",
    "3. Check if the word is made up of english letters and is not alpha-numeric\n",
    "4. Check to see if the length of the word is greater than 2 (as it was researched that there is no adjective in 2-letters)\n",
    "5. Convert the word to lowercase\n",
    "6. Remove Stopwords\n",
    "7. Finally Snowball Stemming the word (it was obsereved to be better than Porter Stemming)<br>\n",
    "\n",
    "After which we collect the words used to describe positive and negative reviews"
   ]
  },
  {
   "cell_type": "code",
   "execution_count": 27,
   "metadata": {},
   "outputs": [
    {
     "name": "stdout",
     "output_type": "stream",
     "text": [
      "I bought a few of these after my apartment was infested with fruit flies. After only a few hours, the trap had &quot;attracted&quot; many flies and within a few days they were practically gone. This may not be a long term  solution, but if flies are driving you crazy, consider buying this. One  caution- the surface is very sticky, so try to avoid touching it.\n",
      "==================================================\n",
      "This is a very good bar. There are lots of nuts and different kinds of fruit, but there is a bit too much sweetener (honey, etc). Good for breakfast, or half of one as a snack to get me through to lunch/dinner.<br /><br />Great price! Cheaper than Kind bars, although not as many different kinds available.\n",
      "==================================================\n",
      "Taylor's of Hargate Irish Breakfast tea is the only way to start you day.  The flavor is robust without being overdone and offers the little caffine kick I know I need to jump-start my morning.  Taylor's Tea also is lovely in the afternoon with a little sweet something.  Fine tea.\n",
      "==================================================\n",
      "Great flavor and love the snap!  When your looking for something crunchy that isn't high in calories (a litle high in carbs though) these are amazing and you can have 17 crackers in a serving.  I was buying them at an natural health food store for $2.79 a package.  A much better deal for a case here on Amazon (about 1.00 less per package)\n",
      "==================================================\n"
     ]
    }
   ],
   "source": [
    "# printing some random reviews\n",
    "sent_0 = final['Text'].values[0]\n",
    "print(sent_0)\n",
    "print(\"=\"*50)\n",
    "\n",
    "sent_1000 = final['Text'].values[1000]\n",
    "print(sent_1000)\n",
    "print(\"=\"*50)\n",
    "\n",
    "sent_1500 = final['Text'].values[1500]\n",
    "print(sent_1500)\n",
    "print(\"=\"*50)\n",
    "\n",
    "sent_4900 = final['Text'].values[4900]\n",
    "print(sent_4900)\n",
    "print(\"=\"*50)"
   ]
  },
  {
   "cell_type": "code",
   "execution_count": 28,
   "metadata": {},
   "outputs": [
    {
     "name": "stdout",
     "output_type": "stream",
     "text": [
      "I bought a few of these after my apartment was infested with fruit flies. After only a few hours, the trap had &quot;attracted&quot; many flies and within a few days they were practically gone. This may not be a long term  solution, but if flies are driving you crazy, consider buying this. One  caution- the surface is very sticky, so try to avoid touching it.\n"
     ]
    }
   ],
   "source": [
    "# remove urls from text python: https://stackoverflow.com/a/40823105/4084039\n",
    "sent_0 = re.sub(r\"http\\S+\", \"\", sent_0)\n",
    "sent_1000 = re.sub(r\"http\\S+\", \"\", sent_1000)\n",
    "sent_150 = re.sub(r\"http\\S+\", \"\", sent_1500)\n",
    "sent_4900 = re.sub(r\"http\\S+\", \"\", sent_4900)\n",
    "\n",
    "print(sent_0)"
   ]
  },
  {
   "cell_type": "code",
   "execution_count": 29,
   "metadata": {},
   "outputs": [
    {
     "name": "stdout",
     "output_type": "stream",
     "text": [
      "I bought a few of these after my apartment was infested with fruit flies. After only a few hours, the trap had \"attracted\" many flies and within a few days they were practically gone. This may not be a long term  solution, but if flies are driving you crazy, consider buying this. One  caution- the surface is very sticky, so try to avoid touching it.\n",
      "==================================================\n",
      "This is a very good bar. There are lots of nuts and different kinds of fruit, but there is a bit too much sweetener (honey, etc). Good for breakfast, or half of one as a snack to get me through to lunch/dinner.Great price! Cheaper than Kind bars, although not as many different kinds available.\n",
      "==================================================\n",
      "Taylor's of Hargate Irish Breakfast tea is the only way to start you day.  The flavor is robust without being overdone and offers the little caffine kick I know I need to jump-start my morning.  Taylor's Tea also is lovely in the afternoon with a little sweet something.  Fine tea.\n",
      "==================================================\n",
      "Great flavor and love the snap!  When your looking for something crunchy that isn't high in calories (a litle high in carbs though) these are amazing and you can have 17 crackers in a serving.  I was buying them at an natural health food store for $2.79 a package.  A much better deal for a case here on Amazon (about 1.00 less per package)\n"
     ]
    }
   ],
   "source": [
    "# https://stackoverflow.com/questions/16206380/python-beautifulsoup-how-to-remove-all-tags-from-an-element\n",
    "from bs4 import BeautifulSoup\n",
    "\n",
    "soup = BeautifulSoup(sent_0, 'lxml')\n",
    "text = soup.get_text()\n",
    "print(text)\n",
    "print(\"=\"*50)\n",
    "\n",
    "soup = BeautifulSoup(sent_1000, 'lxml')\n",
    "text = soup.get_text()\n",
    "print(text)\n",
    "print(\"=\"*50)\n",
    "\n",
    "soup = BeautifulSoup(sent_1500, 'lxml')\n",
    "text = soup.get_text()\n",
    "print(text)\n",
    "print(\"=\"*50)\n",
    "\n",
    "soup = BeautifulSoup(sent_4900, 'lxml')\n",
    "text = soup.get_text()\n",
    "print(text)"
   ]
  },
  {
   "cell_type": "code",
   "execution_count": 30,
   "metadata": {
    "collapsed": true
   },
   "outputs": [],
   "source": [
    "# https://stackoverflow.com/a/47091490/4084039\n",
    "import re\n",
    "\n",
    "def decontracted(phrase):\n",
    "    # specific\n",
    "    phrase = re.sub(r\"won't\", \"will not\", phrase)\n",
    "    phrase = re.sub(r\"can\\'t\", \"can not\", phrase)\n",
    "\n",
    "    # general\n",
    "    phrase = re.sub(r\"n\\'t\", \" not\", phrase)\n",
    "    phrase = re.sub(r\"\\'re\", \" are\", phrase)\n",
    "    phrase = re.sub(r\"\\'s\", \" is\", phrase)\n",
    "    phrase = re.sub(r\"\\'d\", \" would\", phrase)\n",
    "    phrase = re.sub(r\"\\'ll\", \" will\", phrase)\n",
    "    phrase = re.sub(r\"\\'t\", \" not\", phrase)\n",
    "    phrase = re.sub(r\"\\'ve\", \" have\", phrase)\n",
    "    phrase = re.sub(r\"\\'m\", \" am\", phrase)\n",
    "    return phrase"
   ]
  },
  {
   "cell_type": "code",
   "execution_count": 31,
   "metadata": {},
   "outputs": [
    {
     "name": "stdout",
     "output_type": "stream",
     "text": [
      "Taylor is of Hargate Irish Breakfast tea is the only way to start you day.  The flavor is robust without being overdone and offers the little caffine kick I know I need to jump-start my morning.  Taylor is Tea also is lovely in the afternoon with a little sweet something.  Fine tea.\n",
      "==================================================\n"
     ]
    }
   ],
   "source": [
    "sent_1500 = decontracted(sent_1500)\n",
    "print(sent_1500)\n",
    "print(\"=\"*50)"
   ]
  },
  {
   "cell_type": "code",
   "execution_count": 32,
   "metadata": {},
   "outputs": [
    {
     "name": "stdout",
     "output_type": "stream",
     "text": [
      "I bought a few of these after my apartment was infested with fruit flies. After only a few hours, the trap had &quot;attracted&quot; many flies and within a few days they were practically gone. This may not be a long term  solution, but if flies are driving you crazy, consider buying this. One  caution- the surface is very sticky, so try to avoid touching it.\n"
     ]
    }
   ],
   "source": [
    "#remove words with numbers python: https://stackoverflow.com/a/18082370/4084039\n",
    "sent_0 = re.sub(\"\\S*\\d\\S*\", \"\", sent_0).strip()\n",
    "print(sent_0)"
   ]
  },
  {
   "cell_type": "code",
   "execution_count": 33,
   "metadata": {},
   "outputs": [
    {
     "name": "stdout",
     "output_type": "stream",
     "text": [
      "Taylor is of Hargate Irish Breakfast tea is the only way to start you day The flavor is robust without being overdone and offers the little caffine kick I know I need to jump start my morning Taylor is Tea also is lovely in the afternoon with a little sweet something Fine tea \n"
     ]
    }
   ],
   "source": [
    "#remove spacial character: https://stackoverflow.com/a/5843547/4084039\n",
    "sent_1500 = re.sub('[^A-Za-z0-9]+', ' ', sent_1500)\n",
    "print(sent_1500)"
   ]
  },
  {
   "cell_type": "code",
   "execution_count": 34,
   "metadata": {
    "collapsed": true
   },
   "outputs": [],
   "source": [
    "# https://gist.github.com/sebleier/554280\n",
    "# we are removing the words from the stop words list: 'no', 'nor', 'not'\n",
    "# <br /><br /> ==> after the above steps, we are getting \"br br\"\n",
    "# we are including them into stop words list\n",
    "# instead of <br /> if we have <br/> these tags would have revmoved in the 1st step\n",
    "\n",
    "stopwords= set(['br', 'the', 'i', 'me', 'my', 'myself', 'we', 'our', 'ours', 'ourselves', 'you', \"you're\", \"you've\",\\\n",
    "            \"you'll\", \"you'd\", 'your', 'yours', 'yourself', 'yourselves', 'he', 'him', 'his', 'himself', \\\n",
    "            'she', \"she's\", 'her', 'hers', 'herself', 'it', \"it's\", 'its', 'itself', 'they', 'them', 'their',\\\n",
    "            'theirs', 'themselves', 'what', 'which', 'who', 'whom', 'this', 'that', \"that'll\", 'these', 'those', \\\n",
    "            'am', 'is', 'are', 'was', 'were', 'be', 'been', 'being', 'have', 'has', 'had', 'having', 'do', 'does', \\\n",
    "            'did', 'doing', 'a', 'an', 'the', 'and', 'but', 'if', 'or', 'because', 'as', 'until', 'while', 'of', \\\n",
    "            'at', 'by', 'for', 'with', 'about', 'against', 'between', 'into', 'through', 'during', 'before', 'after',\\\n",
    "            'above', 'below', 'to', 'from', 'up', 'down', 'in', 'out', 'on', 'off', 'over', 'under', 'again', 'further',\\\n",
    "            'then', 'once', 'here', 'there', 'when', 'where', 'why', 'how', 'all', 'any', 'both', 'each', 'few', 'more',\\\n",
    "            'most', 'other', 'some', 'such', 'only', 'own', 'same', 'so', 'than', 'too', 'very', \\\n",
    "            's', 't', 'can', 'will', 'just', 'don', \"don't\", 'should', \"should've\", 'now', 'd', 'll', 'm', 'o', 're', \\\n",
    "            've', 'y', 'ain', 'aren', \"aren't\", 'couldn', \"couldn't\", 'didn', \"didn't\", 'doesn', \"doesn't\", 'hadn',\\\n",
    "            \"hadn't\", 'hasn', \"hasn't\", 'haven', \"haven't\", 'isn', \"isn't\", 'ma', 'mightn', \"mightn't\", 'mustn',\\\n",
    "            \"mustn't\", 'needn', \"needn't\", 'shan', \"shan't\", 'shouldn', \"shouldn't\", 'wasn', \"wasn't\", 'weren', \"weren't\", \\\n",
    "            'won', \"won't\", 'wouldn', \"wouldn't\"])"
   ]
  },
  {
   "cell_type": "markdown",
   "metadata": {},
   "source": [
    "#### PREPROCESSING OF TRAIN DATA"
   ]
  },
  {
   "cell_type": "code",
   "execution_count": 35,
   "metadata": {
    "scrolled": true
   },
   "outputs": [
    {
     "name": "stderr",
     "output_type": "stream",
     "text": [
      "100%|██████████████████████████████████████████████████████████████████████████| 43008/43008 [00:30<00:00, 1424.95it/s]\n"
     ]
    }
   ],
   "source": [
    "# Combining all the above stundents \n",
    "from tqdm import tqdm\n",
    "preprocessed_reviews = []\n",
    "# tqdm is for printing the status bar\n",
    "for sentance in tqdm(x_tr['Text'].values):\n",
    "    sentance = re.sub(r\"http\\S+\", \"\", sentance)\n",
    "    sentance = BeautifulSoup(sentance, 'lxml').get_text()\n",
    "    sentance = decontracted(sentance)\n",
    "    sentance = re.sub(\"\\S*\\d\\S*\", \"\", sentance).strip()\n",
    "    sentance = re.sub('[^A-Za-z]+', ' ', sentance)\n",
    "    # https://gist.github.com/sebleier/554280\n",
    "    sentance = ' '.join(e.lower() for e in sentance.split() if e.lower() not in stopwords)\n",
    "    preprocessed_reviews.append(sentance.strip())"
   ]
  },
  {
   "cell_type": "markdown",
   "metadata": {},
   "source": [
    "#### PREPROCESSING OF CV DATA"
   ]
  },
  {
   "cell_type": "code",
   "execution_count": 36,
   "metadata": {},
   "outputs": [
    {
     "name": "stderr",
     "output_type": "stream",
     "text": [
      "100%|██████████████████████████████████████████████████████████████████████████| 18433/18433 [00:15<00:00, 1193.65it/s]\n"
     ]
    }
   ],
   "source": [
    "from tqdm import tqdm\n",
    "preprocessed_reviews_cv = []\n",
    "# tqdm is for printing the status bar\n",
    "for sentance in tqdm(x_cv['Text'].values):\n",
    "    sentance = re.sub(r\"http\\S+\", \"\", sentance)\n",
    "    sentance = BeautifulSoup(sentance, 'lxml').get_text()\n",
    "    sentance = decontracted(sentance)\n",
    "    sentance = re.sub(\"\\S*\\d\\S*\", \"\", sentance).strip()\n",
    "    sentance = re.sub('[^A-Za-z]+', ' ', sentance)\n",
    "    # https://gist.github.com/sebleier/554280\n",
    "    sentance = ' '.join(e.lower() for e in sentance.split() if e.lower() not in stopwords)\n",
    "    preprocessed_reviews_cv.append(sentance.strip())"
   ]
  },
  {
   "cell_type": "markdown",
   "metadata": {},
   "source": [
    "#### PREPROCESSING OF TEST DATA"
   ]
  },
  {
   "cell_type": "code",
   "execution_count": 37,
   "metadata": {},
   "outputs": [
    {
     "name": "stderr",
     "output_type": "stream",
     "text": [
      "100%|██████████████████████████████████████████████████████████████████████████| 26332/26332 [00:21<00:00, 1215.91it/s]\n"
     ]
    }
   ],
   "source": [
    "from tqdm import tqdm\n",
    "preprocessed_reviews_test = []\n",
    "# tqdm is for printing the status bar\n",
    "for sentance in tqdm(x_test['Text'].values):\n",
    "    sentance = re.sub(r\"http\\S+\", \"\", sentance)\n",
    "    sentance = BeautifulSoup(sentance, 'lxml').get_text()\n",
    "    sentance = decontracted(sentance)\n",
    "    sentance = re.sub(\"\\S*\\d\\S*\", \"\", sentance).strip()\n",
    "    sentance = re.sub('[^A-Za-z]+', ' ', sentance)\n",
    "    # https://gist.github.com/sebleier/554280\n",
    "    sentance = ' '.join(e.lower() for e in sentance.split() if e.lower() not in stopwords)\n",
    "    preprocessed_reviews_test.append(sentance.strip())"
   ]
  },
  {
   "cell_type": "markdown",
   "metadata": {},
   "source": [
    "<h2><font color='red'>[3.2] Preprocessing Review Summary</font></h2>"
   ]
  },
  {
   "cell_type": "markdown",
   "metadata": {
    "collapsed": true
   },
   "source": [
    "## Similartly you can do preprocessing for review summary also."
   ]
  },
  {
   "cell_type": "markdown",
   "metadata": {},
   "source": [
    "# [4] Featurization"
   ]
  },
  {
   "cell_type": "markdown",
   "metadata": {},
   "source": [
    "## [4.1] BAG OF WORDS"
   ]
  },
  {
   "cell_type": "markdown",
   "metadata": {},
   "source": [
    "#### VECTORIZING FOR  TRAIN DATA IN BOW"
   ]
  },
  {
   "cell_type": "code",
   "execution_count": 226,
   "metadata": {
    "scrolled": true
   },
   "outputs": [
    {
     "name": "stdout",
     "output_type": "stream",
     "text": [
      "some feature names  ['aa', 'aaa', 'aaaa', 'aafco', 'ab', 'aback', 'abandon', 'abandoned', 'abbey', 'abby']\n",
      "==================================================\n",
      "the type of count vectorizer  <class 'scipy.sparse.csr.csr_matrix'>\n",
      "the shape of out text BOW vectorizer  (43008, 25000)\n",
      "the number of unique words  25000\n"
     ]
    }
   ],
   "source": [
    "#BoW\n",
    "count_vect = CountVectorizer(max_features=25000) #in scikit-learn\n",
    "count_vect.fit(preprocessed_reviews)\n",
    "print(\"some feature names \", count_vect.get_feature_names()[:10])\n",
    "print('='*50)\n",
    "\n",
    "final_counts = count_vect.fit_transform(preprocessed_reviews)\n",
    "print(\"the type of count vectorizer \",type(final_counts))\n",
    "print(\"the shape of out text BOW vectorizer \",final_counts.get_shape())\n",
    "print(\"the number of unique words \", final_counts.get_shape()[1])"
   ]
  },
  {
   "cell_type": "code",
   "execution_count": 227,
   "metadata": {},
   "outputs": [
    {
     "data": {
      "text/plain": [
       "25000"
      ]
     },
     "execution_count": 227,
     "metadata": {},
     "output_type": "execute_result"
    }
   ],
   "source": [
    "len(count_vect.get_feature_names())"
   ]
  },
  {
   "cell_type": "markdown",
   "metadata": {},
   "source": [
    "#### VECTORIZING FOR CV DATA IN BOW"
   ]
  },
  {
   "cell_type": "code",
   "execution_count": 228,
   "metadata": {},
   "outputs": [
    {
     "name": "stdout",
     "output_type": "stream",
     "text": [
      "some feature names  ['aa', 'aaa', 'aaaaa', 'aaaaaaaaaaaa', 'aaaaaaahhhhhh', 'aaaaaawwwwwwwwww', 'aaah', 'aaahs', 'aafco', 'aahs']\n",
      "==================================================\n",
      "the type of count vectorizer  <class 'scipy.sparse.csr.csr_matrix'>\n",
      "the shape of out text BOW vectorizer  (18433, 25000)\n",
      "the number of unique words  25000\n"
     ]
    }
   ],
   "source": [
    "#BoW\n",
    "count_vect.fit(preprocessed_reviews_cv)\n",
    "print(\"some feature names \", count_vect.get_feature_names()[:10])\n",
    "print('='*50)\n",
    "\n",
    "final_counts_cv = count_vect.transform(preprocessed_reviews_cv)\n",
    "print(\"the type of count vectorizer \",type(final_counts_cv))\n",
    "print(\"the shape of out text BOW vectorizer \",final_counts_cv.get_shape())\n",
    "print(\"the number of unique words \", final_counts_cv.get_shape()[1])"
   ]
  },
  {
   "cell_type": "markdown",
   "metadata": {},
   "source": [
    "#### VECTORIZING FOR TEST DATA IN BOW"
   ]
  },
  {
   "cell_type": "code",
   "execution_count": 229,
   "metadata": {
    "scrolled": true
   },
   "outputs": [
    {
     "name": "stdout",
     "output_type": "stream",
     "text": [
      "some feature names  ['aa', 'aaa', 'aaaa', 'aaah', 'aafco', 'aah', 'aahhhs', 'aamazon', 'aap', 'aarti']\n",
      "==================================================\n",
      "the type of count vectorizer  <class 'scipy.sparse.csr.csr_matrix'>\n",
      "the shape of out text BOW vectorizer  (26332, 25000)\n",
      "the number of unique words  25000\n"
     ]
    }
   ],
   "source": [
    " #in scikit-learn\n",
    "count_vect.fit(preprocessed_reviews_test)\n",
    "print(\"some feature names \", count_vect.get_feature_names()[:10])\n",
    "print('='*50)\n",
    "\n",
    "final_counts_test= count_vect.transform(preprocessed_reviews_test)\n",
    "print(\"the type of count vectorizer \",type(final_counts_test))\n",
    "print(\"the shape of out text BOW vectorizer \",final_counts_test.get_shape())\n",
    "print(\"the number of unique words \", final_counts_test.get_shape()[1])"
   ]
  },
  {
   "cell_type": "markdown",
   "metadata": {},
   "source": [
    "## [4.2] Bi-Grams and n-Grams."
   ]
  },
  {
   "cell_type": "code",
   "execution_count": 42,
   "metadata": {},
   "outputs": [
    {
     "name": "stdout",
     "output_type": "stream",
     "text": [
      "the type of count vectorizer  <class 'scipy.sparse.csr.csr_matrix'>\n",
      "the shape of out text BOW vectorizer  (43008, 5000)\n",
      "the number of unique words including both unigrams and bigrams  5000\n"
     ]
    }
   ],
   "source": [
    "#bi-gram, tri-gram and n-gram\n",
    "\n",
    "#removing stop words like \"not\" should be avoided before building n-grams\n",
    "# count_vect = CountVectorizer(ngram_range=(1,2))\n",
    "# please do read the CountVectorizer documentation http://scikit-learn.org/stable/modules/generated/sklearn.feature_extraction.text.CountVectorizer.html\n",
    "\n",
    "# you can choose these numebrs min_df=10, max_features=5000, of your choice\n",
    "count_vect = CountVectorizer(ngram_range=(1,2), min_df=10, max_features=5000)\n",
    "final_bigram_counts = count_vect.fit_transform(preprocessed_reviews)\n",
    "print(\"the type of count vectorizer \",type(final_bigram_counts))\n",
    "print(\"the shape of out text BOW vectorizer \",final_bigram_counts.get_shape())\n",
    "print(\"the number of unique words including both unigrams and bigrams \", final_bigram_counts.get_shape()[1])"
   ]
  },
  {
   "cell_type": "markdown",
   "metadata": {},
   "source": [
    "## [4.3] TF-IDF"
   ]
  },
  {
   "cell_type": "markdown",
   "metadata": {},
   "source": [
    "#### TF-IDF FOR TRAIN DATA"
   ]
  },
  {
   "cell_type": "code",
   "execution_count": 43,
   "metadata": {
    "scrolled": true
   },
   "outputs": [
    {
     "name": "stdout",
     "output_type": "stream",
     "text": [
      "some sample features(unique words in the corpus) ['ability', 'able', 'able buy', 'able eat', 'able enjoy', 'able find', 'able get', 'able make', 'able order', 'able purchase']\n",
      "==================================================\n",
      "the type of count vectorizer  <class 'scipy.sparse.csr.csr_matrix'>\n",
      "the shape of out text TFIDF vectorizer  (43008, 11200)\n",
      "the number of unique words including both unigrams and bigrams  11200\n"
     ]
    }
   ],
   "source": [
    "tf_idf_vect = TfidfVectorizer(ngram_range=(1,2), min_df=10,max_features=11200)\n",
    "tf_idf_vect.fit_transform(preprocessed_reviews)\n",
    "print(\"some sample features(unique words in the corpus)\",tf_idf_vect.get_feature_names()[0:10])\n",
    "print('='*50)\n",
    "\n",
    "final_tf_idf = tf_idf_vect.fit_transform(preprocessed_reviews)\n",
    "print(\"the type of count vectorizer \",type(final_tf_idf))\n",
    "print(\"the shape of out text TFIDF vectorizer \",final_tf_idf.get_shape())\n",
    "print(\"the number of unique words including both unigrams and bigrams \", final_tf_idf.get_shape()[1])"
   ]
  },
  {
   "cell_type": "markdown",
   "metadata": {},
   "source": [
    "#### TF-IDF FOR CV DATA"
   ]
  },
  {
   "cell_type": "code",
   "execution_count": 44,
   "metadata": {},
   "outputs": [
    {
     "name": "stdout",
     "output_type": "stream",
     "text": [
      "some sample features(unique words in the corpus) ['ability', 'able', 'able buy', 'able drink', 'able eat', 'able enjoy', 'able find', 'able get', 'able give', 'able make']\n",
      "==================================================\n",
      "the type of count vectorizer  <class 'scipy.sparse.csr.csr_matrix'>\n",
      "the shape of out text TFIDF vectorizer  (18433, 11200)\n",
      "the number of unique words including both unigrams and bigrams  11200\n"
     ]
    }
   ],
   "source": [
    "# tf_idf_vect = TfidfVectorizer(ngram_range=(1,2), min_df=10)\n",
    "tf_idf_vect.fit_transform(preprocessed_reviews_cv)\n",
    "print(\"some sample features(unique words in the corpus)\",tf_idf_vect.get_feature_names()[0:10])\n",
    "print('='*50)\n",
    "\n",
    "final_tf_idf_cv = tf_idf_vect.transform(preprocessed_reviews_cv)\n",
    "print(\"the type of count vectorizer \",type(final_tf_idf_cv))\n",
    "print(\"the shape of out text TFIDF vectorizer \",final_tf_idf_cv.get_shape())\n",
    "print(\"the number of unique words including both unigrams and bigrams \", final_tf_idf_cv.get_shape()[1])"
   ]
  },
  {
   "cell_type": "markdown",
   "metadata": {},
   "source": [
    "#### TF-IDF FOR TEST DATA"
   ]
  },
  {
   "cell_type": "code",
   "execution_count": 45,
   "metadata": {
    "scrolled": true
   },
   "outputs": [
    {
     "name": "stdout",
     "output_type": "stream",
     "text": [
      "some sample features(unique words in the corpus) ['ability', 'able', 'able buy', 'able drink', 'able eat', 'able find', 'able get', 'able give', 'able make', 'able order']\n",
      "==================================================\n",
      "the type of count vectorizer  <class 'scipy.sparse.csr.csr_matrix'>\n",
      "the shape of out text TFIDF vectorizer  (26332, 11200)\n",
      "the number of unique words including both unigrams and bigrams  11200\n"
     ]
    }
   ],
   "source": [
    "tf_idf_vect.fit_transform(preprocessed_reviews_test)\n",
    "print(\"some sample features(unique words in the corpus)\",tf_idf_vect.get_feature_names()[0:10])\n",
    "print('='*50)\n",
    "\n",
    "final_tf_idf_test = tf_idf_vect.transform(preprocessed_reviews_test)\n",
    "print(\"the type of count vectorizer \",type(final_tf_idf_test))\n",
    "print(\"the shape of out text TFIDF vectorizer \",final_tf_idf_test.get_shape())\n",
    "print(\"the number of unique words including both unigrams and bigrams \", final_tf_idf_test.get_shape()[1])"
   ]
  },
  {
   "cell_type": "markdown",
   "metadata": {},
   "source": [
    "## [4.4] Word2Vec"
   ]
  },
  {
   "cell_type": "markdown",
   "metadata": {},
   "source": [
    "#### w2v for TRAIN DATA"
   ]
  },
  {
   "cell_type": "code",
   "execution_count": 48,
   "metadata": {
    "collapsed": true
   },
   "outputs": [],
   "source": [
    "# Train your own Word2Vec model using your own text corpus\n",
    "i=0\n",
    "list_of_sentance=[]\n",
    "for sentance in preprocessed_reviews:\n",
    "    list_of_sentance.append(sentance.split())"
   ]
  },
  {
   "cell_type": "code",
   "execution_count": 49,
   "metadata": {
    "scrolled": true
   },
   "outputs": [
    {
     "name": "stdout",
     "output_type": "stream",
     "text": [
      "[('terrific', 0.8350422382354736), ('fantastic', 0.8281193971633911), ('good', 0.8171930909156799), ('awesome', 0.7914348840713501), ('excellent', 0.7859823703765869), ('wonderful', 0.7546094059944153), ('perfect', 0.7436407208442688), ('amazing', 0.7394184470176697), ('decent', 0.7117952108383179), ('nice', 0.6857017278671265)]\n",
      "==================================================\n",
      "[('greatest', 0.7948166131973267), ('best', 0.7719134092330933), ('softest', 0.7322706580162048), ('tastiest', 0.6805432438850403), ('closest', 0.6626341342926025), ('coolest', 0.6557625532150269), ('nastiest', 0.6032392382621765), ('experienced', 0.5989486575126648), ('tasted', 0.591541588306427), ('hardly', 0.5793027877807617)]\n"
     ]
    }
   ],
   "source": [
    "# Using Google News Word2Vectors\n",
    "\n",
    "# in this project we are using a pretrained model by google\n",
    "# its 3.3G file, once you load this into your memory \n",
    "# it occupies ~9Gb, so please do this step only if you have >12G of ram\n",
    "# we will provide a pickle file wich contains a dict , \n",
    "# and it contains all our courpus words as keys and  model[word] as values\n",
    "# To use this code-snippet, download \"GoogleNews-vectors-negative300.bin\" \n",
    "# from https://drive.google.com/file/d/0B7XkCwpI5KDYNlNUTTlSS21pQmM/edit\n",
    "# it's 1.9GB in size.\n",
    "\n",
    "\n",
    "# http://kavita-ganesan.com/gensim-word2vec-tutorial-starter-code/#.W17SRFAzZPY\n",
    "# you can comment this whole cell\n",
    "# or change these varible according to your need\n",
    "\n",
    "is_your_ram_gt_16g=False\n",
    "want_to_use_google_w2v = False\n",
    "want_to_train_w2v = True\n",
    "\n",
    "if want_to_train_w2v:\n",
    "    # min_count = 5 considers only words that occured atleast 5 times\n",
    "    w2v_model=Word2Vec(list_of_sentance,min_count=5,size=50, workers=4)\n",
    "    print(w2v_model.wv.most_similar('great'))\n",
    "    print('='*50)\n",
    "    print(w2v_model.wv.most_similar('worst'))\n",
    "    \n",
    "elif want_to_use_google_w2v and is_your_ram_gt_16g:\n",
    "    if os.path.isfile('GoogleNews-vectors-negative300.bin'):\n",
    "        w2v_model=KeyedVectors.load_word2vec_format('GoogleNews-vectors-negative300.bin', binary=True)\n",
    "        print(w2v_model.wv.most_similar('great'))\n",
    "        print(w2v_model.wv.most_similar('worst'))\n",
    "    else:\n",
    "        print(\"you don't have gogole's word2vec file, keep want_to_train_w2v = True, to train your own w2v \")"
   ]
  },
  {
   "cell_type": "code",
   "execution_count": 50,
   "metadata": {},
   "outputs": [
    {
     "name": "stdout",
     "output_type": "stream",
     "text": [
      "number of words that occured minimum 5 times  12482\n",
      "sample words  ['bought', 'apartment', 'infested', 'fruit', 'flies', 'hours', 'trap', 'attracted', 'many', 'within', 'days', 'practically', 'gone', 'may', 'not', 'long', 'term', 'solution', 'driving', 'crazy', 'consider', 'buying', 'one', 'caution', 'surface', 'sticky', 'try', 'avoid', 'touching', 'really', 'good', 'idea', 'final', 'product', 'outstanding', 'use', 'car', 'window', 'everybody', 'asks', 'made', 'two', 'thumbs', 'received', 'shipment', 'could', 'hardly', 'wait', 'love', 'call']\n"
     ]
    }
   ],
   "source": [
    "w2v_words = list(w2v_model.wv.vocab)\n",
    "print(\"number of words that occured minimum 5 times \",len(w2v_words))\n",
    "print(\"sample words \", w2v_words[0:50])"
   ]
  },
  {
   "cell_type": "markdown",
   "metadata": {},
   "source": [
    "#### w2v FOR CV DATA"
   ]
  },
  {
   "cell_type": "code",
   "execution_count": 51,
   "metadata": {
    "collapsed": true
   },
   "outputs": [],
   "source": [
    "i=0\n",
    "list_of_sentance_cv=[]\n",
    "for sentance in preprocessed_reviews_cv:\n",
    "    list_of_sentance_cv.append(sentance.split())"
   ]
  },
  {
   "cell_type": "code",
   "execution_count": 52,
   "metadata": {},
   "outputs": [
    {
     "name": "stdout",
     "output_type": "stream",
     "text": [
      "[('good', 0.8340001702308655), ('awesome', 0.7731835246086121), ('wonderful', 0.7658097147941589), ('excellent', 0.7578810453414917), ('amazing', 0.7502458691596985), ('fantastic', 0.7404148578643799), ('decent', 0.7005160450935364), ('perfect', 0.6855233907699585), ('especially', 0.6799713969230652), ('delicious', 0.6733118295669556)]\n",
      "==================================================\n",
      "[('world', 0.8634505271911621), ('particular', 0.8428287506103516), ('strongest', 0.8237842917442322), ('closest', 0.8235231637954712), ('mystic', 0.821534276008606), ('finest', 0.8193697333335876), ('smoothest', 0.818899393081665), ('tastiest', 0.8104625940322876), ('mate', 0.8043703436851501), ('ever', 0.8038710355758667)]\n"
     ]
    }
   ],
   "source": [
    "# Using Google News Word2Vectors\n",
    "\n",
    "# in this project we are using a pretrained model by google\n",
    "# its 3.3G file, once you load this into your memory \n",
    "# it occupies ~9Gb, so please do this step only if you have >12G of ram\n",
    "# we will provide a pickle file wich contains a dict , \n",
    "# and it contains all our courpus words as keys and  model[word] as values\n",
    "# To use this code-snippet, download \"GoogleNews-vectors-negative300.bin\" \n",
    "# from https://drive.google.com/file/d/0B7XkCwpI5KDYNlNUTTlSS21pQmM/edit\n",
    "# it's 1.9GB in size.\n",
    "\n",
    "\n",
    "# http://kavita-ganesan.com/gensim-word2vec-tutorial-starter-code/#.W17SRFAzZPY\n",
    "# you can comment this whole cell\n",
    "# or change these varible according to your need\n",
    "\n",
    "is_your_ram_gt_16g=False\n",
    "want_to_use_google_w2v = False\n",
    "want_to_train_w2v = True\n",
    "\n",
    "if want_to_train_w2v:\n",
    "    # min_count = 5 considers only words that occured atleast 5 times\n",
    "    w2v_model_cv=Word2Vec(list_of_sentance_cv,min_count=5,size=50, workers=4)\n",
    "    print(w2v_model_cv.wv.most_similar('great'))\n",
    "    print('='*50)\n",
    "    print(w2v_model_cv.wv.most_similar('worst'))\n",
    "    \n",
    "elif want_to_use_google_w2v and is_your_ram_gt_16g:\n",
    "    if os.path.isfile('GoogleNews-vectors-negative300.bin'):\n",
    "        w2v_model=KeyedVectors.load_word2vec_format('GoogleNews-vectors-negative300.bin', binary=True)\n",
    "        print(w2v_model.wv.most_similar('great'))\n",
    "        print(w2v_model.wv.most_similar('worst'))\n",
    "    else:\n",
    "        print(\"you don't have gogole's word2vec file, keep want_to_train_w2v = True, to train your own w2v \")"
   ]
  },
  {
   "cell_type": "code",
   "execution_count": 53,
   "metadata": {
    "scrolled": true
   },
   "outputs": [
    {
     "name": "stdout",
     "output_type": "stream",
     "text": [
      "number of words that occured minimum 5 times  8194\n",
      "sample words  ['first', 'time', 'tried', 'sauce', 'chinese', 'restaurant', 'right', 'amount', 'spice', 'wake', 'tastebuds', 'kick', 'flavor', 'dish', 'notch', 'enjoy', 'spicy', 'food', 'give', 'try', 'love', 'better', 'chocolate', 'graham', 'purchased', 'far', 'super', 'chocolatey', 'not', 'fake', 'tasting', 'kids', 'loved', 'thinking', 'ordered', 'cans', 'stuff', 'pantry', 'may', 'getting', 'tastes', 'like', 'well', 'use', 'words', 'would', 'let', 'say', 'no', 'character']\n"
     ]
    }
   ],
   "source": [
    "w2v_words_cv = list(w2v_model_cv.wv.vocab)\n",
    "print(\"number of words that occured minimum 5 times \",len(w2v_words_cv))\n",
    "print(\"sample words \", w2v_words_cv[0:50])"
   ]
  },
  {
   "cell_type": "markdown",
   "metadata": {},
   "source": [
    "#### w2v FOR TEST DATA"
   ]
  },
  {
   "cell_type": "code",
   "execution_count": 54,
   "metadata": {
    "collapsed": true
   },
   "outputs": [],
   "source": [
    "i=0\n",
    "list_of_sentance_test=[]\n",
    "for sentance in preprocessed_reviews_test:\n",
    "    list_of_sentance_test.append(sentance.split())"
   ]
  },
  {
   "cell_type": "code",
   "execution_count": 55,
   "metadata": {},
   "outputs": [
    {
     "name": "stdout",
     "output_type": "stream",
     "text": [
      "[('awesome', 0.8223050832748413), ('fantastic', 0.7911410331726074), ('excellent', 0.7854036688804626), ('wonderful', 0.7820543050765991), ('amazing', 0.7778383493423462), ('good', 0.7565739154815674), ('perfect', 0.741559624671936), ('terrific', 0.6804904937744141), ('delicious', 0.6694743633270264), ('outstanding', 0.6370902061462402)]\n",
      "==================================================\n",
      "[('awful', 0.796276867389679), ('closest', 0.7321670055389404), ('terrible', 0.7312929630279541), ('heard', 0.7292014956474304), ('best', 0.7184868454933167), ('nastiest', 0.7118735909461975), ('horrible', 0.7047098875045776), ('ever', 0.7038485407829285), ('smoothest', 0.699455738067627), ('greatest', 0.6994430422782898)]\n"
     ]
    }
   ],
   "source": [
    "# Using Google News Word2Vectors\n",
    "\n",
    "# in this project we are using a pretrained model by google\n",
    "# its 3.3G file, once you load this into your memory \n",
    "# it occupies ~9Gb, so please do this step only if you have >12G of ram\n",
    "# we will provide a pickle file wich contains a dict , \n",
    "# and it contains all our courpus words as keys and  model[word] as values\n",
    "# To use this code-snippet, download \"GoogleNews-vectors-negative300.bin\" \n",
    "# from https://drive.google.com/file/d/0B7XkCwpI5KDYNlNUTTlSS21pQmM/edit\n",
    "# it's 1.9GB in size.\n",
    "\n",
    "\n",
    "# http://kavita-ganesan.com/gensim-word2vec-tutorial-starter-code/#.W17SRFAzZPY\n",
    "# you can comment this whole cell\n",
    "# or change these varible according to your need\n",
    "\n",
    "is_your_ram_gt_16g=False\n",
    "want_to_use_google_w2v = False\n",
    "want_to_train_w2v = True\n",
    "\n",
    "if want_to_train_w2v:\n",
    "    # min_count = 5 considers only words that occured atleast 5 times\n",
    "    w2v_model_test=Word2Vec(list_of_sentance_test,min_count=5,size=50, workers=4)\n",
    "    print(w2v_model_test.wv.most_similar('great'))\n",
    "    print('='*50)\n",
    "    print(w2v_model_test.wv.most_similar('worst'))\n",
    "    \n",
    "elif want_to_use_google_w2v and is_your_ram_gt_16g:\n",
    "    if os.path.isfile('GoogleNews-vectors-negative300.bin'):\n",
    "        w2v_model=KeyedVectors.load_word2vec_format('GoogleNews-vectors-negative300.bin', binary=True)\n",
    "        print(w2v_model.wv.most_similar('great'))\n",
    "        print(w2v_model.wv.most_similar('worst'))\n",
    "    else:\n",
    "        print(\"you don't have gogole's word2vec file, keep want_to_train_w2v = True, to train your own w2v \")"
   ]
  },
  {
   "cell_type": "code",
   "execution_count": 56,
   "metadata": {
    "scrolled": true
   },
   "outputs": [
    {
     "name": "stdout",
     "output_type": "stream",
     "text": [
      "number of words that occured minimum 5 times  9855\n",
      "sample words  ['really', 'love', 'earths', 'best', 'used', 'eb', 'feed', 'little', 'one', 'cereal', 'great', 'except', 'would', 'switch', 'back', 'plain', 'flavor', 'box', 'done', 'banana', 'weird', 'smell', 'mixed', 'formula', 'similac', 'also', 'giving', 'every', 'bottle', 'constipate', 'baby', 'regular', 'not', 'much', 'always', 'liked', 'honey', 'thought', 'like', 'found', 'kellogg', 'version', 'better', 'os', 'slight', 'chemical', 'taste', 'crunchy', 'nuts', 'no']\n"
     ]
    }
   ],
   "source": [
    "w2v_words_test = list(w2v_model_test.wv.vocab)\n",
    "print(\"number of words that occured minimum 5 times \",len(w2v_words_test))\n",
    "print(\"sample words \", w2v_words_test[0:50])"
   ]
  },
  {
   "cell_type": "markdown",
   "metadata": {},
   "source": [
    "## [4.4.1] Converting text into vectors using Avg W2V, TFIDF-W2V"
   ]
  },
  {
   "cell_type": "markdown",
   "metadata": {},
   "source": [
    "### [4.4.1.1] Avg W2v"
   ]
  },
  {
   "cell_type": "markdown",
   "metadata": {},
   "source": [
    "#### Avg w2v for TRAIN DATA"
   ]
  },
  {
   "cell_type": "code",
   "execution_count": 57,
   "metadata": {},
   "outputs": [
    {
     "name": "stderr",
     "output_type": "stream",
     "text": [
      "100%|███████████████████████████████████████████████████████████████████████████| 43008/43008 [02:44<00:00, 260.85it/s]\n"
     ]
    },
    {
     "name": "stdout",
     "output_type": "stream",
     "text": [
      "43008\n",
      "50\n"
     ]
    }
   ],
   "source": [
    "# average Word2Vec\n",
    "# compute average word2vec for each review.\n",
    "sent_vectors = []; # the avg-w2v for each sentence/review is stored in this list\n",
    "for sent in tqdm(list_of_sentance): # for each review/sentence\n",
    "    sent_vec = np.zeros(50) # as word vectors are of zero length 50, you might need to change this to 300 if you use google's w2v\n",
    "    cnt_words =0; # num of words with a valid vector in the sentence/review\n",
    "    for word in sent: # for each word in a review/sentence\n",
    "        if word in w2v_words:\n",
    "            vec = w2v_model.wv[word]\n",
    "            sent_vec += vec\n",
    "            cnt_words += 1\n",
    "    if cnt_words != 0:\n",
    "        sent_vec /= cnt_words\n",
    "    sent_vectors.append(sent_vec)\n",
    "print(len(sent_vectors))\n",
    "print(len(sent_vectors[0]))"
   ]
  },
  {
   "cell_type": "markdown",
   "metadata": {},
   "source": [
    "#### Avg w2v FOR CV DATA "
   ]
  },
  {
   "cell_type": "code",
   "execution_count": 58,
   "metadata": {},
   "outputs": [
    {
     "name": "stderr",
     "output_type": "stream",
     "text": [
      "100%|███████████████████████████████████████████████████████████████████████████| 18433/18433 [00:46<00:00, 399.11it/s]\n"
     ]
    },
    {
     "name": "stdout",
     "output_type": "stream",
     "text": [
      "18433\n",
      "50\n"
     ]
    }
   ],
   "source": [
    "# average Word2Vec\n",
    "# compute average word2vec for each review.\n",
    "sent_vectors_cv = []; # the avg-w2v for each sentence/review is stored in this list\n",
    "for sent in tqdm(list_of_sentance_cv): # for each review/sentence\n",
    "    sent_vec = np.zeros(50) # as word vectors are of zero length 50, you might need to change this to 300 if you use google's w2v\n",
    "    cnt_words =0; # num of words with a valid vector in the sentence/review\n",
    "    for word in sent: # for each word in a review/sentence\n",
    "        if word in w2v_words_cv:\n",
    "            vec = w2v_model_cv.wv[word]\n",
    "            sent_vec += vec\n",
    "            cnt_words += 1\n",
    "    if cnt_words != 0:\n",
    "        sent_vec /= cnt_words\n",
    "    sent_vectors_cv.append(sent_vec)\n",
    "print(len(sent_vectors_cv))\n",
    "print(len(sent_vectors_cv[0]))"
   ]
  },
  {
   "cell_type": "markdown",
   "metadata": {},
   "source": [
    "#### Avg w2v FOR TEST DATA"
   ]
  },
  {
   "cell_type": "code",
   "execution_count": 59,
   "metadata": {},
   "outputs": [
    {
     "name": "stderr",
     "output_type": "stream",
     "text": [
      "100%|███████████████████████████████████████████████████████████████████████████| 26332/26332 [01:11<00:00, 369.43it/s]\n"
     ]
    },
    {
     "name": "stdout",
     "output_type": "stream",
     "text": [
      "26332\n",
      "50\n"
     ]
    }
   ],
   "source": [
    "# average Word2Vec\n",
    "# compute average word2vec for each review.\n",
    "sent_vectors_test = []; # the avg-w2v for each sentence/review is stored in this list\n",
    "for sent in tqdm(list_of_sentance_test): # for each review/sentence\n",
    "    sent_vec = np.zeros(50) # as word vectors are of zero length 50, you might need to change this to 300 if you use google's w2v\n",
    "    cnt_words =0; # num of words with a valid vector in the sentence/review\n",
    "    for word in sent: # for each word in a review/sentence\n",
    "        if word in w2v_words_test:\n",
    "            vec = w2v_model_test.wv[word]\n",
    "            sent_vec += vec\n",
    "            cnt_words += 1\n",
    "    if cnt_words != 0:\n",
    "        sent_vec /= cnt_words\n",
    "    sent_vectors_test.append(sent_vec)\n",
    "print(len(sent_vectors_test))\n",
    "print(len(sent_vectors_test[0]))"
   ]
  },
  {
   "cell_type": "markdown",
   "metadata": {},
   "source": [
    "### [4.4.1.2] TFIDF weighted W2v"
   ]
  },
  {
   "cell_type": "markdown",
   "metadata": {},
   "source": [
    "#### TFIDF weighted w2v for TRAIN DATA"
   ]
  },
  {
   "cell_type": "code",
   "execution_count": 60,
   "metadata": {
    "collapsed": true
   },
   "outputs": [],
   "source": [
    "# S = [\"abc def pqr\", \"def def def abc\", \"pqr pqr def\"]\n",
    "model = TfidfVectorizer()\n",
    "tf_idf_matrix = model.fit_transform(preprocessed_reviews)\n",
    "# we are converting a dictionary with word as a key, and the idf as a value\n",
    "dictionary = dict(zip(model.get_feature_names(), list(model.idf_)))"
   ]
  },
  {
   "cell_type": "code",
   "execution_count": 61,
   "metadata": {
    "scrolled": true
   },
   "outputs": [
    {
     "name": "stderr",
     "output_type": "stream",
     "text": [
      "100%|████████████████████████████████████████████████████████████████████████████| 43008/43008 [22:50<00:00, 36.56it/s]\n"
     ]
    }
   ],
   "source": [
    "# TF-IDF weighted Word2Vec\n",
    "tfidf_feat = model.get_feature_names() # tfidf words/col-names\n",
    "# final_tf_idf is the sparse matrix with row= sentence, col=word and cell_val = tfidf\n",
    "\n",
    "tfidf_sent_vectors = []; # the tfidf-w2v for each sentence/review is stored in this list\n",
    "row=0;\n",
    "for sent in tqdm(list_of_sentance): # for each review/sentence \n",
    "    sent_vec = np.zeros(50) # as word vectors are of zero length\n",
    "    weight_sum =0; # num of words with a valid vector in the sentence/review\n",
    "    for word in sent: # for each word in a review/sentence\n",
    "        if word in w2v_words and word in tfidf_feat:\n",
    "            vec = w2v_model.wv[word]\n",
    "#             tf_idf = tf_idf_matrix[row, tfidf_feat.index(word)]\n",
    "            # to reduce the computation we are \n",
    "            # dictionary[word] = idf value of word in whole courpus\n",
    "            # sent.count(word) = tf valeus of word in this review\n",
    "            tf_idf = dictionary[word]*(sent.count(word)/len(sent))\n",
    "            sent_vec += (vec * tf_idf)\n",
    "            weight_sum += tf_idf\n",
    "    if weight_sum != 0:\n",
    "        sent_vec /= weight_sum\n",
    "    tfidf_sent_vectors.append(sent_vec)\n",
    "    row += 1"
   ]
  },
  {
   "cell_type": "markdown",
   "metadata": {},
   "source": [
    "#### TFIDF weighted w2v for CV DATA"
   ]
  },
  {
   "cell_type": "code",
   "execution_count": 62,
   "metadata": {
    "collapsed": true
   },
   "outputs": [],
   "source": [
    "model_cv = TfidfVectorizer()\n",
    "tf_idf_matrix = model_cv.fit_transform(preprocessed_reviews_cv)\n",
    "# we are converting a dictionary with word as a key, and the idf as a value\n",
    "dictionary_cv = dict(zip(model_cv.get_feature_names(), list(model_cv.idf_)))"
   ]
  },
  {
   "cell_type": "code",
   "execution_count": 63,
   "metadata": {},
   "outputs": [
    {
     "name": "stderr",
     "output_type": "stream",
     "text": [
      "100%|████████████████████████████████████████████████████████████████████████████| 18433/18433 [07:06<00:00, 43.26it/s]\n"
     ]
    }
   ],
   "source": [
    "# TF-IDF weighted Word2Vec\n",
    "tfidf_feat_cv = model_cv.get_feature_names() # tfidf words/col-names\n",
    "# final_tf_idf is the sparse matrix with row= sentence, col=word and cell_val = tfidf\n",
    "\n",
    "tfidf_sent_vectors_cv = []; # the tfidf-w2v for each sentence/review is stored in this list\n",
    "row=0;\n",
    "for sent in tqdm(list_of_sentance_cv): # for each review/sentence \n",
    "    sent_vec = np.zeros(50) # as word vectors are of zero length\n",
    "    weight_sum =0; # num of words with a valid vector in the sentence/review\n",
    "    for word in sent: # for each word in a review/sentence\n",
    "        if word in w2v_words_cv and word in tfidf_feat_cv:\n",
    "            vec = w2v_model_cv.wv[word]\n",
    "#             tf_idf = tf_idf_matrix[row, tfidf_feat.index(word)]\n",
    "            # to reduce the computation we are \n",
    "            # dictionary[word] = idf value of word in whole courpus\n",
    "            # sent.count(word) = tf valeus of word in this review\n",
    "            tf_idf = dictionary_cv[word]*(sent.count(word)/len(sent))\n",
    "            sent_vec += (vec * tf_idf)\n",
    "            weight_sum += tf_idf\n",
    "    if weight_sum != 0:\n",
    "        sent_vec /= weight_sum\n",
    "    tfidf_sent_vectors_cv.append(sent_vec)\n",
    "    row += 1"
   ]
  },
  {
   "cell_type": "markdown",
   "metadata": {},
   "source": [
    "#### TFIDF weighted w2v for TEST DATA"
   ]
  },
  {
   "cell_type": "code",
   "execution_count": 64,
   "metadata": {
    "collapsed": true
   },
   "outputs": [],
   "source": [
    "model_test = TfidfVectorizer()\n",
    "tf_idf_matrix = model_test.fit_transform(preprocessed_reviews_cv)\n",
    "# we are converting a dictionary with word as a key, and the idf as a value\n",
    "dictionary_test = dict(zip(model_test.get_feature_names(), list(model_test.idf_)))"
   ]
  },
  {
   "cell_type": "code",
   "execution_count": 65,
   "metadata": {},
   "outputs": [
    {
     "name": "stderr",
     "output_type": "stream",
     "text": [
      "100%|████████████████████████████████████████████████████████████████████████████| 26332/26332 [07:34<00:00, 57.93it/s]\n"
     ]
    }
   ],
   "source": [
    "# TF-IDF weighted Word2Vec\n",
    "tfidf_feat_test = model_cv.get_feature_names() # tfidf words/col-names\n",
    "# final_tf_idf is the sparse matrix with row= sentence, col=word and cell_val = tfidf\n",
    "\n",
    "tfidf_sent_vectors_test = []; # the tfidf-w2v for each sentence/review is stored in this list\n",
    "row=0;\n",
    "for sent in tqdm(list_of_sentance_test): # for each review/sentence \n",
    "    sent_vec = np.zeros(50) # as word vectors are of zero length\n",
    "    weight_sum =0; # num of words with a valid vector in the sentence/review\n",
    "    for word in sent: # for each word in a review/sentence\n",
    "        if word in w2v_words_test and word in tfidf_feat_test:\n",
    "            vec = w2v_model_test.wv[word]\n",
    "#             tf_idf = tf_idf_matrix[row, tfidf_feat.index(word)]\n",
    "            # to reduce the computation we are \n",
    "            # dictionary[word] = idf value of word in whole courpus\n",
    "            # sent.count(word) = tf valeus of word in this review\n",
    "            tf_idf = dictionary_test[word]*(sent.count(word)/len(sent))\n",
    "            sent_vec += (vec * tf_idf)\n",
    "            weight_sum += tf_idf\n",
    "    if weight_sum != 0:\n",
    "        sent_vec /= weight_sum\n",
    "    tfidf_sent_vectors_test.append(sent_vec)\n",
    "    row += 1"
   ]
  },
  {
   "cell_type": "markdown",
   "metadata": {},
   "source": [
    "# [5] Assignment 5: Apply Logistic Regression"
   ]
  },
  {
   "cell_type": "markdown",
   "metadata": {},
   "source": [
    "<ol>\n",
    "    <li><strong>Apply Logistic Regression on these feature sets</strong>\n",
    "        <ul>\n",
    "            <li><font color='red'>SET 1:</font>Review text, preprocessed one converted into vectors using (BOW)</li>\n",
    "            <li><font color='red'>SET 2:</font>Review text, preprocessed one converted into vectors using (TFIDF)</li>\n",
    "            <li><font color='red'>SET 3:</font>Review text, preprocessed one converted into vectors using (AVG W2v)</li>\n",
    "            <li><font color='red'>SET 4:</font>Review text, preprocessed one converted into vectors using (TFIDF W2v)</li>\n",
    "        </ul>\n",
    "    </li>\n",
    "    <br>\n",
    "    <li><strong>Hyper paramter tuning (find best hyper parameters corresponding the algorithm that you choose)</strong>\n",
    "        <ul>\n",
    "    <li>Find the best hyper parameter which will give the maximum <a href='https://www.appliedaicourse.com/course/applied-ai-course-online/lessons/receiver-operating-characteristic-curve-roc-curve-and-auc-1/'>AUC</a> value</li>\n",
    "    <li>Find the best hyper paramter using k-fold cross validation or simple cross validation data</li>\n",
    "    <li>Use gridsearch cv or randomsearch cv or you can also write your own for loops to do this task of hyperparameter tuning</li>          \n",
    "        </ul>\n",
    "    </li>\n",
    "    <br>\n",
    "    <li><strong>Pertubation Test</strong>\n",
    "        <ul>\n",
    "    <li>Get the weights W after fit your model with the data X.</li>\n",
    "    <li>Add a noise to the X (X' = X + e) and get the new data set X' (if X is a sparse\n",
    "matrix, X.data+=e)</li>\n",
    "    <li>Fit the model again on data X' and get the weights W'</li>\n",
    "    <li>Add a small eps value(to eliminate the divisible by zero error) to W and W’ i.e\n",
    "W=W+10^-6 and W’ = W’+10^-6</li>\n",
    "    <li>Now find the % change between W and W' (| (W-W') / (W) |)*100)</li>\n",
    "    <li>Calculate the 0th, 10th, 20th, 30th, ...100th percentiles, and observe any sudden rise in the values of percentage_change_vector</li>\n",
    "    <li> Ex: consider your 99th percentile is 1.3 and your 100th percentiles are 34.6, there is sudden rise from 1.3 to 34.6, now calculate the 99.1, 99.2, 99.3,..., 100th percentile values and get the proper value after which there is sudden rise the values, assume it is 2.5</li>\n",
    "            <li> Print the feature names whose % change is more than a threshold x(in our example it's 2.5)</li>\n",
    "        </ul>\n",
    "    </li>\n",
    "    <br>\n",
    "    <li><strong>Sparsity</strong>\n",
    "        <ul>\n",
    "    <li>Calculate sparsity on weight vector obtained after using L1 regularization</li>\n",
    "        </ul>\n",
    "    </li>\n",
    "    <br><font color='red'>NOTE: Do sparsity and multicollinearity for any one of the vectorizers. Bow or tf-idf is recommended.</font>\n",
    "    <br>\n",
    "    <br>\n",
    "    <li><strong>Feature importance</strong>\n",
    "        <ul>\n",
    "    <li>Get top 10 important features for both positive and negative classes separately.</li>\n",
    "        </ul>\n",
    "    </li>\n",
    "    <br>\n",
    "    <li><strong>Feature engineering</strong>\n",
    "        <ul>\n",
    "    <li>To increase the performance of your model, you can also experiment with with feature engineering like :</li>\n",
    "            <ul>\n",
    "            <li>Taking length of reviews as another feature.</li>\n",
    "            <li>Considering some features from review summary as well.</li>\n",
    "        </ul>\n",
    "        </ul>\n",
    "    </li>\n",
    "    <br>\n",
    "    <li><strong>Representation of results</strong>\n",
    "        <ul>\n",
    "    <li>You need to plot the performance of model both on train data and cross validation data for each hyper parameter, like shown in the figure.\n",
    "    <img src='train_cv_auc.JPG' width=300px></li>\n",
    "    <li>Once after you found the best hyper parameter, you need to train your model with it, and find the AUC on test data and plot the ROC curve on both train and test.\n",
    "    <img src='train_test_auc.JPG' width=300px></li>\n",
    "    <li>Along with plotting ROC curve, you need to print the <a href='https://www.appliedaicourse.com/course/applied-ai-course-online/lessons/confusion-matrix-tpr-fpr-fnr-tnr-1/'>confusion matrix</a> with predicted and original labels of test data points. Please visualize your confusion matrices using <a href='https://seaborn.pydata.org/generated/seaborn.heatmap.html'>seaborn heatmaps.\n",
    "    <img src='confusion_matrix.png' width=300px></li>\n",
    "        </ul>\n",
    "    </li>\n",
    "    <br>\n",
    "    <li><strong>Conclusion</strong>\n",
    "        <ul>\n",
    "    <li>You need to summarize the results at the end of the notebook, summarize it in the table format. To print out a table please refer to this prettytable library<a href='http://zetcode.com/python/prettytable/'>  link</a> \n",
    "        <img src='summary.JPG' width=400px>\n",
    "    </li>\n",
    "        </ul>\n",
    "</ol>"
   ]
  },
  {
   "cell_type": "markdown",
   "metadata": {},
   "source": [
    "<h4><font color='red'>Note: Data Leakage</font></h4>\n",
    "\n",
    "1. There will be an issue of data-leakage if you vectorize the entire data and then split it into train/cv/test.\n",
    "2. To avoid the issue of data-leakag, make sure to split your data first and then vectorize it. \n",
    "3. While vectorizing your data, apply the method fit_transform() on you train data, and apply the method transform() on cv/test data.\n",
    "4. For more details please go through this <a href='https://soundcloud.com/applied-ai-course/leakage-bow-and-tfidf'>link.</a>"
   ]
  },
  {
   "cell_type": "markdown",
   "metadata": {},
   "source": [
    "# Applying Logistic Regression"
   ]
  },
  {
   "cell_type": "code",
   "execution_count": 46,
   "metadata": {},
   "outputs": [
    {
     "name": "stderr",
     "output_type": "stream",
     "text": [
      "C:\\Users\\Ankit Mishra\\Anaconda3\\lib\\site-packages\\sklearn\\cross_validation.py:41: DeprecationWarning: This module was deprecated in version 0.18 in favor of the model_selection module into which all the refactored classes and functions are moved. Also note that the interface of the new CV iterators are different from that of this module. This module will be removed in 0.20.\n",
      "  \"This module will be removed in 0.20.\", DeprecationWarning)\n",
      "C:\\Users\\Ankit Mishra\\Anaconda3\\lib\\site-packages\\sklearn\\grid_search.py:42: DeprecationWarning: This module was deprecated in version 0.18 in favor of the model_selection module into which all the refactored classes and functions are moved. This module will be removed in 0.20.\n",
      "  DeprecationWarning)\n"
     ]
    }
   ],
   "source": [
    "from sklearn.model_selection import train_test_split\n",
    "from sklearn.grid_search import GridSearchCV\n",
    "from sklearn.linear_model import LogisticRegression\n",
    "from sklearn import preprocessing"
   ]
  },
  {
   "cell_type": "markdown",
   "metadata": {},
   "source": [
    "## [5.1] Logistic Regression on BOW,<font color='red'> SET 1</font>"
   ]
  },
  {
   "cell_type": "markdown",
   "metadata": {},
   "source": [
    "### [5.1.1] Applying Logistic Regression with L1 regularization on BOW,<font color='red'> SET 1</font>"
   ]
  },
  {
   "cell_type": "markdown",
   "metadata": {},
   "source": [
    "#### [5.1.1.1] Calculating sparsity on weight vector obtained using L1 regularization on BOW,<font color='red'> SET 1</font>"
   ]
  },
  {
   "cell_type": "code",
   "execution_count": 47,
   "metadata": {
    "_uuid": "e9e108056ead182b9ccf7e3d15d95416b8f83e3c",
    "collapsed": true
   },
   "outputs": [],
   "source": [
    "c=[10**4,10**3,10**2,10**1,1,10**-1,10**-2,10**-3,10**-4]\n"
   ]
  },
  {
   "cell_type": "code",
   "execution_count": 48,
   "metadata": {
    "_uuid": "1da5b2da6cded97f5d5bfe318b388056fa219732",
    "scrolled": true
   },
   "outputs": [
    {
     "name": "stdout",
     "output_type": "stream",
     "text": [
      "10000\n",
      "1000\n",
      "100\n",
      "10\n",
      "1\n",
      "0.1\n",
      "0.01\n",
      "0.001\n",
      "0.0001\n"
     ]
    }
   ],
   "source": [
    "final_standr=preprocessing.normalize(final_counts)\n",
    "final_standr_cv=preprocessing.normalize(final_counts_cv)\n",
    "final_standr_test=preprocessing.normalize(final_counts_test)\n",
    "\n",
    "\n",
    "auc_cv=[]\n",
    "tpr_cv=[]\n",
    "fpr_cv=[]\n",
    "tpr_tr=[]\n",
    "fpr_tr=[]\n",
    "auc_tr=[]\n",
    "\n",
    "for i in c:\n",
    "    clf= LogisticRegression(penalty='l1',C=i)\n",
    "    # fitting the model on crossvalidation train\n",
    "    clf.fit(final_standr, y_tr)\n",
    "    \n",
    "    # predict the response on the crossvalidation train\n",
    "    pred = clf.predict_proba(final_standr_cv)[:,1]\n",
    "    fpr, tpr, thresholds = metrics.roc_curve(y_cv, pred)\n",
    "    auc=metrics.auc(fpr, tpr)\n",
    "    auc_cv.append(auc)\n",
    "    tpr_cv.append(tpr)\n",
    "    fpr_cv.append(fpr)\n",
    "    \n",
    "    # predict the response on the train\n",
    "    pred = clf.predict_proba(final_standr)[:,1]\n",
    "    fpr, tpr, thresholds = metrics.roc_curve(y_tr, pred)\n",
    "    auc=metrics.auc(fpr, tpr)\n",
    "    auc_tr.append(auc)\n",
    "    tpr_tr.append(tpr)\n",
    "    fpr_tr.append(fpr)\n",
    "    print(i)\n",
    "\n",
    "#AUC\n",
    "#  https://scikit-learn.org/stable/modules/generated/sklearn.metrics.auc.html\n",
    "    "
   ]
  },
  {
   "cell_type": "markdown",
   "metadata": {
    "_uuid": "19c86f26998a3e54b5ab2d5ef399f91a07f68f41"
   },
   "source": [
    "### The hyper paramter tuning(finding best C)"
   ]
  },
  {
   "cell_type": "code",
   "execution_count": 49,
   "metadata": {
    "collapsed": true
   },
   "outputs": [],
   "source": [
    "lamb=[0.0001,0.001,0.01,0.1,1,10,100,1000,10000]"
   ]
  },
  {
   "cell_type": "code",
   "execution_count": 50,
   "metadata": {
    "_uuid": "b836530336f1c36705e3c4938382b8ccc40ecbbc",
    "collapsed": true,
    "scrolled": true
   },
   "outputs": [],
   "source": [
    "data1={'c':c,'lambda':lamb,'auc_cv':auc_cv[:],'auc_tr':auc_tr[:]}\n",
    "data_f=pd.DataFrame(data1)"
   ]
  },
  {
   "cell_type": "markdown",
   "metadata": {
    "_uuid": "255e70604ef0241b2115327289c12a498997a986"
   },
   "source": [
    "#### MAXIMUM AUC OF CROSS VALIDATION\n",
    "     C=10"
   ]
  },
  {
   "cell_type": "code",
   "execution_count": 51,
   "metadata": {
    "_uuid": "16756b4cb7e76c68cad50be2e7d46e69970ea32d",
    "scrolled": false
   },
   "outputs": [
    {
     "data": {
      "text/html": [
       "<div>\n",
       "<style>\n",
       "    .dataframe thead tr:only-child th {\n",
       "        text-align: right;\n",
       "    }\n",
       "\n",
       "    .dataframe thead th {\n",
       "        text-align: left;\n",
       "    }\n",
       "\n",
       "    .dataframe tbody tr th {\n",
       "        vertical-align: top;\n",
       "    }\n",
       "</style>\n",
       "<table border=\"1\" class=\"dataframe\">\n",
       "  <thead>\n",
       "    <tr style=\"text-align: right;\">\n",
       "      <th></th>\n",
       "      <th>auc_cv</th>\n",
       "      <th>auc_tr</th>\n",
       "      <th>c</th>\n",
       "      <th>lambda</th>\n",
       "    </tr>\n",
       "  </thead>\n",
       "  <tbody>\n",
       "    <tr>\n",
       "      <th>3</th>\n",
       "      <td>0.544297</td>\n",
       "      <td>0.992216</td>\n",
       "      <td>10.0</td>\n",
       "      <td>0.1</td>\n",
       "    </tr>\n",
       "  </tbody>\n",
       "</table>\n",
       "</div>"
      ],
      "text/plain": [
       "     auc_cv    auc_tr     c  lambda\n",
       "3  0.544297  0.992216  10.0     0.1"
      ]
     },
     "execution_count": 51,
     "metadata": {},
     "output_type": "execute_result"
    }
   ],
   "source": [
    "data_f[data_f['auc_cv']==data_f['auc_cv'].max()]"
   ]
  },
  {
   "cell_type": "markdown",
   "metadata": {
    "_uuid": "bba46aab8acd3b10833f1e852b2207f56ad21733"
   },
   "source": [
    "### AREA UNDER CURVE Vs Neighbours PLOT FOR TRAIN AND TEST"
   ]
  },
  {
   "cell_type": "code",
   "execution_count": 52,
   "metadata": {
    "_uuid": "bdf9270ddc7f9ac8e3aae0b055f3527cc3b42af4",
    "scrolled": false
   },
   "outputs": [
    {
     "data": {
      "image/png": "[encoded data removed]",
      "text/plain": [
       "<matplotlib.figure.Figure at 0x22fab170>"
      ]
     },
     "metadata": {},
     "output_type": "display_data"
    }
   ],
   "source": [
    "plt.figure(figsize=(10,6))\n",
    "plt.plot(lamb,auc_tr,'b',label='TRAIN')\n",
    "plt.plot(lamb,auc_cv,'g',label='CROSS VALIDATION')\n",
    "plt.xlabel('lambda')\n",
    "plt.ylabel('AUC')\n",
    "plt.title('Area Under Curve')\n",
    "plt.grid()\n",
    "plt.legend()\n",
    "plt.show()"
   ]
  },
  {
   "cell_type": "code",
   "execution_count": 53,
   "metadata": {
    "_uuid": "efb93630d1dd2ee6ec47069e84e941756ffa74a7"
   },
   "outputs": [
    {
     "data": {
      "text/plain": [
       "0.48587984529041306"
      ]
     },
     "execution_count": 53,
     "metadata": {},
     "output_type": "execute_result"
    }
   ],
   "source": [
    "# TESTING THE MODEL ON TEST DATA\n",
    "clf_final = LogisticRegression(penalty='l1',C=10)\n",
    "clf_final.fit(final_standr, y_tr)\n",
    "pred_final = clf_final.predict_proba(final_standr_test)[:,1]\n",
    "fpr_f, tpr_f, thresholds_f = metrics.roc_curve(y_test, pred_final)\n",
    "auc_final = metrics.auc(fpr_f, tpr_f)\n",
    "auc_final"
   ]
  },
  {
   "cell_type": "code",
   "execution_count": 54,
   "metadata": {
    "_uuid": "6ddeeaf9d0fcd4cd6ac677a8343eff2ccd865d01"
   },
   "outputs": [
    {
     "data": {
      "text/plain": [
       "0.99221598502665564"
      ]
     },
     "execution_count": 54,
     "metadata": {},
     "output_type": "execute_result"
    }
   ],
   "source": [
    "# TESTING THE MODEL ON TRAIN DATA\n",
    "pred_train=clf_final.predict_proba(final_standr)[:,1]\n",
    "fpr_ft, tpr_ft, thresholds_ft=metrics.roc_curve(y_tr, pred_train)\n",
    "auc_finalt=metrics.auc(fpr_ft, tpr_ft)\n",
    "auc_finalt"
   ]
  },
  {
   "cell_type": "markdown",
   "metadata": {
    "_uuid": "b516caf038fbbc506702ac2a716dc293ef39bbbd"
   },
   "source": [
    "### ROC CURVE"
   ]
  },
  {
   "cell_type": "code",
   "execution_count": 55,
   "metadata": {
    "_uuid": "9779629031b5b079dc0fc12494b792fb7366e58f",
    "collapsed": true
   },
   "outputs": [],
   "source": [
    "y_a=[0,0.5,1]\n",
    "x_a=y_a"
   ]
  },
  {
   "cell_type": "code",
   "execution_count": 56,
   "metadata": {
    "_uuid": "44549168c2088d4a39dcdfa2d843c3f13d6eac90",
    "scrolled": false
   },
   "outputs": [
    {
     "data": {
      "image/png": "[encoded data removed]",
      "text/plain": [
       "<matplotlib.figure.Figure at 0x22fab570>"
      ]
     },
     "metadata": {},
     "output_type": "display_data"
    }
   ],
   "source": [
    "plt.figure(figsize=(15,10))\n",
    "plt.plot(fpr_f,tpr_f,'b',label='TEST')\n",
    "plt.plot(x_a,y_a,'--r')\n",
    "plt.plot(fpr_ft,tpr_ft,'g',label='TRAIN')\n",
    "plt.xlabel('tpr_f')\n",
    "plt.ylabel('fpr_f')\n",
    "plt.title('AUC ')\n",
    "plt.grid()\n",
    "plt.legend()\n",
    "plt.show()"
   ]
  },
  {
   "cell_type": "markdown",
   "metadata": {
    "_uuid": "bb1b9703925f588a3e8d33f25ca7e408d89ee0a9"
   },
   "source": [
    "### CONFUSION MATRIX"
   ]
  },
  {
   "cell_type": "code",
   "execution_count": 57,
   "metadata": {
    "_uuid": "536b403605690078952025907389eb004b030999",
    "collapsed": true
   },
   "outputs": [],
   "source": [
    "pred_final\n",
    "pred_final_class=[]\n",
    "for i in range(len(pred_final)):\n",
    "    if pred_final[i]>0.5:\n",
    "        pred_final_class.append(1)\n",
    "    elif pred_final[i]<0.5:\n",
    "            pred_final_class.append(0)\n",
    "    else:\n",
    "            pred_final_class.append(np.random(1,[0,1]))\n",
    "\n",
    "\n"
   ]
  },
  {
   "cell_type": "code",
   "execution_count": 58,
   "metadata": {
    "_uuid": "5a66042c6c9374dc11641ae913283511272b4888",
    "scrolled": true
   },
   "outputs": [
    {
     "data": {
      "text/plain": [
       "array([[  923,  3638],\n",
       "       [ 4657, 17114]], dtype=int64)"
      ]
     },
     "execution_count": 58,
     "metadata": {},
     "output_type": "execute_result"
    }
   ],
   "source": [
    "cm = confusion_matrix(y_test, pred_final_class)\n",
    "cm"
   ]
  },
  {
   "cell_type": "code",
   "execution_count": 59,
   "metadata": {
    "_uuid": "2fdbb3368eee62536010071515e4fedb99defef8"
   },
   "outputs": [
    {
     "data": {
      "text/plain": [
       "1    21771\n",
       "0     4561\n",
       "Name: Score, dtype: int64"
      ]
     },
     "execution_count": 59,
     "metadata": {},
     "output_type": "execute_result"
    }
   ],
   "source": [
    "y_test[\"Score\"].value_counts()"
   ]
  },
  {
   "cell_type": "code",
   "execution_count": 60,
   "metadata": {
    "_uuid": "d3d820a6a99a5923b68a9f3fec0258e6bd662fc5",
    "scrolled": false
   },
   "outputs": [
    {
     "data": {
      "image/png": "[encoded data removed]",
      "text/plain": [
       "<matplotlib.figure.Figure at 0x1f8ac550>"
      ]
     },
     "metadata": {},
     "output_type": "display_data"
    }
   ],
   "source": [
    "import seaborn as sns\n",
    "class_label = [\"negative\", \"positive\"]\n",
    "df_cm = pd.DataFrame(cm, index = class_label, columns = class_label)\n",
    "sns.heatmap(df_cm, annot = True, fmt = \"d\")\n",
    "plt.title(\"Confusiion Matrix\")\n",
    "plt.xlabel(\"Predicted Label\")\n",
    "plt.ylabel(\"True Label\")\n",
    "plt.show()"
   ]
  },
  {
   "cell_type": "markdown",
   "metadata": {
    "_uuid": "89878768564bbe87b7d83c8323c9b2b80d2eb472"
   },
   "source": [
    "## CONCLUSION"
   ]
  },
  {
   "cell_type": "code",
   "execution_count": 61,
   "metadata": {
    "_uuid": "953b0ccdc4c39d90a85023ee4ec3f409be901585"
   },
   "outputs": [
    {
     "name": "stdout",
     "output_type": "stream",
     "text": [
      "             precision    recall  f1-score   support\n",
      "\n",
      "          0       0.17      0.20      0.18      4561\n",
      "          1       0.82      0.79      0.80     21771\n",
      "\n",
      "avg / total       0.71      0.68      0.70     26332\n",
      "\n"
     ]
    }
   ],
   "source": [
    "from sklearn.metrics import classification_report\n",
    "print(classification_report(y_test, pred_final_class))"
   ]
  },
  {
   "cell_type": "markdown",
   "metadata": {
    "_uuid": "01b719b147d74f561a20202e48fa81d096be4a06"
   },
   "source": [
    "#### [5.1.1.1] Calculating sparsity on weight vector obtained using L1 regularization on BOW,<font color='red'> SET 1</font>"
   ]
  },
  {
   "cell_type": "code",
   "execution_count": 62,
   "metadata": {
    "_uuid": "db2f248878b88a70b990116d9403f9a9db9f1014"
   },
   "outputs": [
    {
     "name": "stdout",
     "output_type": "stream",
     "text": [
      "Out of (25000,) dimensions 4588 are zero\n"
     ]
    }
   ],
   "source": [
    "w=clf_final.coef_\n",
    "print(\"Out of {0} dimensions {1} are zero\".format(w[0].shape,np.count_nonzero(w)))\n"
   ]
  },
  {
   "cell_type": "markdown",
   "metadata": {
    "_uuid": "3103c71b7acac093486cf228aeab5c80c4333d90"
   },
   "source": [
    "### [5.1.2] Applying Logistic Regression with L2 regularization on BOW,<font color='red'> SET 1</font>"
   ]
  },
  {
   "cell_type": "code",
   "execution_count": 141,
   "metadata": {
    "_uuid": "e9e108056ead182b9ccf7e3d15d95416b8f83e3c",
    "collapsed": true
   },
   "outputs": [],
   "source": [
    "c=[10**4,10**3,10**2,10**1,1,10**-1,10**-2,10**-3,10**-4]\n"
   ]
  },
  {
   "cell_type": "code",
   "execution_count": 142,
   "metadata": {
    "_uuid": "1da5b2da6cded97f5d5bfe318b388056fa219732",
    "scrolled": true
   },
   "outputs": [
    {
     "name": "stdout",
     "output_type": "stream",
     "text": [
      "10000\n",
      "1000\n",
      "100\n",
      "10\n",
      "1\n",
      "0.1\n",
      "0.01\n",
      "0.001\n",
      "0.0001\n"
     ]
    }
   ],
   "source": [
    "final_standr=preprocessing.normalize(final_counts)\n",
    "final_standr_cv=preprocessing.normalize(final_counts_cv)\n",
    "final_standr_test=preprocessing.normalize(final_counts_test)\n",
    "\n",
    "\n",
    "auc_cv=[]\n",
    "tpr_cv=[]\n",
    "fpr_cv=[]\n",
    "tpr_tr=[]\n",
    "fpr_tr=[]\n",
    "auc_tr=[]\n",
    "\n",
    "for i in c:\n",
    "    clf= LogisticRegression(penalty='l2',C=i)\n",
    "    # fitting the model on crossvalidation train\n",
    "    clf.fit(final_standr, y_tr)\n",
    "    \n",
    "    # predict the response on the crossvalidation train\n",
    "    pred = clf.predict_proba(final_standr_cv)[:,1]\n",
    "    fpr, tpr, thresholds = metrics.roc_curve(y_cv, pred)\n",
    "    auc=metrics.auc(fpr, tpr)\n",
    "    auc_cv.append(auc)\n",
    "    tpr_cv.append(tpr)\n",
    "    fpr_cv.append(fpr)\n",
    "    \n",
    "    # predict the response on the train\n",
    "    pred = clf.predict_proba(final_standr)[:,1]\n",
    "    fpr, tpr, thresholds = metrics.roc_curve(y_tr, pred)\n",
    "    auc=metrics.auc(fpr, tpr)\n",
    "    auc_tr.append(auc)\n",
    "    tpr_tr.append(tpr)\n",
    "    fpr_tr.append(fpr)\n",
    "    print(i)\n",
    "\n",
    "#AUC\n",
    "#  https://scikit-learn.org/stable/modules/generated/sklearn.metrics.auc.html\n",
    "    "
   ]
  },
  {
   "cell_type": "markdown",
   "metadata": {
    "_uuid": "19c86f26998a3e54b5ab2d5ef399f91a07f68f41"
   },
   "source": [
    "### The hyper paramter tuning(finding best C)"
   ]
  },
  {
   "cell_type": "code",
   "execution_count": 143,
   "metadata": {
    "collapsed": true
   },
   "outputs": [],
   "source": [
    "lamb=[0.0001,0.001,0.01,0.1,1,10,100,1000,10000]"
   ]
  },
  {
   "cell_type": "code",
   "execution_count": 144,
   "metadata": {
    "_uuid": "b836530336f1c36705e3c4938382b8ccc40ecbbc",
    "collapsed": true,
    "scrolled": true
   },
   "outputs": [],
   "source": [
    "data1={'c':c,'lambda':lamb,'auc_cv':auc_cv[:],'auc_tr':auc_tr[:]}\n",
    "data_f=pd.DataFrame(data1)"
   ]
  },
  {
   "cell_type": "markdown",
   "metadata": {
    "_uuid": "255e70604ef0241b2115327289c12a498997a986"
   },
   "source": [
    "#### MAXIMUM AUC OF CROSS VALIDATION\n",
    "     C=100"
   ]
  },
  {
   "cell_type": "code",
   "execution_count": 145,
   "metadata": {
    "_uuid": "16756b4cb7e76c68cad50be2e7d46e69970ea32d",
    "scrolled": true
   },
   "outputs": [
    {
     "data": {
      "text/html": [
       "<div>\n",
       "<style>\n",
       "    .dataframe thead tr:only-child th {\n",
       "        text-align: right;\n",
       "    }\n",
       "\n",
       "    .dataframe thead th {\n",
       "        text-align: left;\n",
       "    }\n",
       "\n",
       "    .dataframe tbody tr th {\n",
       "        vertical-align: top;\n",
       "    }\n",
       "</style>\n",
       "<table border=\"1\" class=\"dataframe\">\n",
       "  <thead>\n",
       "    <tr style=\"text-align: right;\">\n",
       "      <th></th>\n",
       "      <th>auc_cv</th>\n",
       "      <th>auc_tr</th>\n",
       "      <th>c</th>\n",
       "      <th>lambda</th>\n",
       "    </tr>\n",
       "  </thead>\n",
       "  <tbody>\n",
       "    <tr>\n",
       "      <th>2</th>\n",
       "      <td>0.556109</td>\n",
       "      <td>0.996671</td>\n",
       "      <td>100.0</td>\n",
       "      <td>0.01</td>\n",
       "    </tr>\n",
       "  </tbody>\n",
       "</table>\n",
       "</div>"
      ],
      "text/plain": [
       "     auc_cv    auc_tr      c  lambda\n",
       "2  0.556109  0.996671  100.0    0.01"
      ]
     },
     "execution_count": 145,
     "metadata": {},
     "output_type": "execute_result"
    }
   ],
   "source": [
    "data_f[data_f['auc_cv']==data_f['auc_cv'].max()]"
   ]
  },
  {
   "cell_type": "markdown",
   "metadata": {
    "_uuid": "bba46aab8acd3b10833f1e852b2207f56ad21733"
   },
   "source": [
    "### AREA UNDER CURVE Vs Neighbours PLOT FOR TRAIN AND TEST"
   ]
  },
  {
   "cell_type": "code",
   "execution_count": 146,
   "metadata": {
    "_uuid": "bdf9270ddc7f9ac8e3aae0b055f3527cc3b42af4",
    "scrolled": false
   },
   "outputs": [
    {
     "data": {
      "image/png": "[encoded data removed]",
      "text/plain": [
       "<matplotlib.figure.Figure at 0x39774610>"
      ]
     },
     "metadata": {},
     "output_type": "display_data"
    }
   ],
   "source": [
    "plt.figure(figsize=(10,6))\n",
    "plt.plot(lamb,auc_tr,'b',label='TRAIN')\n",
    "plt.plot(lamb,auc_cv,'g',label='CROSS VALIDATION')\n",
    "plt.xlabel('lambda')\n",
    "plt.ylabel('AUC')\n",
    "plt.title('Area Under Curve')\n",
    "plt.grid()\n",
    "plt.legend()\n",
    "plt.show()"
   ]
  },
  {
   "cell_type": "code",
   "execution_count": 147,
   "metadata": {
    "_uuid": "efb93630d1dd2ee6ec47069e84e941756ffa74a7"
   },
   "outputs": [
    {
     "data": {
      "text/plain": [
       "0.48431782256499412"
      ]
     },
     "execution_count": 147,
     "metadata": {},
     "output_type": "execute_result"
    }
   ],
   "source": [
    "# TESTING THE MODEL ON TEST DATA\n",
    "clf_final = LogisticRegression(penalty='l2',C=100)\n",
    "clf_final.fit(final_standr, y_tr)\n",
    "pred_final = clf_final.predict_proba(final_standr_test)[:,1]\n",
    "fpr_f, tpr_f, thresholds_f = metrics.roc_curve(y_test, pred_final)\n",
    "auc_final = metrics.auc(fpr_f, tpr_f)\n",
    "auc_final"
   ]
  },
  {
   "cell_type": "code",
   "execution_count": 148,
   "metadata": {
    "_uuid": "6ddeeaf9d0fcd4cd6ac677a8343eff2ccd865d01"
   },
   "outputs": [
    {
     "data": {
      "text/plain": [
       "0.99667057165563167"
      ]
     },
     "execution_count": 148,
     "metadata": {},
     "output_type": "execute_result"
    }
   ],
   "source": [
    "# TESTING THE MODEL ON TRAIN DATA\n",
    "pred_train=clf_final.predict_proba(final_standr)[:,1]\n",
    "fpr_ft, tpr_ft, thresholds_ft=metrics.roc_curve(y_tr, pred_train)\n",
    "auc_finalt=metrics.auc(fpr_ft, tpr_ft)\n",
    "auc_finalt"
   ]
  },
  {
   "cell_type": "markdown",
   "metadata": {
    "_uuid": "b516caf038fbbc506702ac2a716dc293ef39bbbd"
   },
   "source": [
    "### ROC CURVE"
   ]
  },
  {
   "cell_type": "code",
   "execution_count": 149,
   "metadata": {
    "_uuid": "9779629031b5b079dc0fc12494b792fb7366e58f",
    "collapsed": true
   },
   "outputs": [],
   "source": [
    "y_a=[0,0.5,1]\n",
    "x_a=y_a"
   ]
  },
  {
   "cell_type": "code",
   "execution_count": 150,
   "metadata": {
    "_uuid": "44549168c2088d4a39dcdfa2d843c3f13d6eac90",
    "scrolled": false
   },
   "outputs": [
    {
     "data": {
      "image/png": "[encoded data removed]",
      "text/plain": [
       "<matplotlib.figure.Figure at 0x397744f0>"
      ]
     },
     "metadata": {},
     "output_type": "display_data"
    }
   ],
   "source": [
    "plt.figure(figsize=(15,10))\n",
    "plt.plot(fpr_f,tpr_f,'b',label='TEST')\n",
    "plt.plot(x_a,y_a,'--r')\n",
    "plt.plot(fpr_ft,tpr_ft,'g',label='TRAIN')\n",
    "plt.xlabel('tpr_f')\n",
    "plt.ylabel('fpr_f')\n",
    "plt.title('AUC ')\n",
    "plt.grid()\n",
    "plt.legend()\n",
    "plt.show()"
   ]
  },
  {
   "cell_type": "markdown",
   "metadata": {
    "_uuid": "bb1b9703925f588a3e8d33f25ca7e408d89ee0a9"
   },
   "source": [
    "### CONFUSION MATRIX"
   ]
  },
  {
   "cell_type": "code",
   "execution_count": 151,
   "metadata": {
    "_uuid": "536b403605690078952025907389eb004b030999",
    "collapsed": true
   },
   "outputs": [],
   "source": [
    "pred_final\n",
    "pred_final_class=[]\n",
    "for i in range(len(pred_final)):\n",
    "    if pred_final[i]>0.5:\n",
    "        pred_final_class.append(1)\n",
    "    elif pred_final[i]<0.5:\n",
    "            pred_final_class.append(0)\n",
    "    else:\n",
    "            pred_final_class.append(np.random(1,[0,1]))\n",
    "\n",
    "\n"
   ]
  },
  {
   "cell_type": "code",
   "execution_count": 152,
   "metadata": {
    "_uuid": "5a66042c6c9374dc11641ae913283511272b4888",
    "scrolled": true
   },
   "outputs": [
    {
     "data": {
      "text/plain": [
       "array([[  816,  3745],\n",
       "       [ 4240, 17531]], dtype=int64)"
      ]
     },
     "execution_count": 152,
     "metadata": {},
     "output_type": "execute_result"
    }
   ],
   "source": [
    "cm = confusion_matrix(y_test, pred_final_class)\n",
    "cm"
   ]
  },
  {
   "cell_type": "code",
   "execution_count": 153,
   "metadata": {
    "_uuid": "2fdbb3368eee62536010071515e4fedb99defef8"
   },
   "outputs": [
    {
     "data": {
      "text/plain": [
       "1    21771\n",
       "0     4561\n",
       "Name: Score, dtype: int64"
      ]
     },
     "execution_count": 153,
     "metadata": {},
     "output_type": "execute_result"
    }
   ],
   "source": [
    "y_test[\"Score\"].value_counts()"
   ]
  },
  {
   "cell_type": "code",
   "execution_count": 154,
   "metadata": {
    "_uuid": "d3d820a6a99a5923b68a9f3fec0258e6bd662fc5",
    "scrolled": false
   },
   "outputs": [
    {
     "data": {
      "image/png": "[encoded data removed]",
      "text/plain": [
       "<matplotlib.figure.Figure at 0x3975a6b0>"
      ]
     },
     "metadata": {},
     "output_type": "display_data"
    }
   ],
   "source": [
    "import seaborn as sns\n",
    "class_label = [\"negative\", \"positive\"]\n",
    "df_cm = pd.DataFrame(cm, index = class_label, columns = class_label)\n",
    "sns.heatmap(df_cm, annot = True, fmt = \"d\")\n",
    "plt.title(\"Confusiion Matrix\")\n",
    "plt.xlabel(\"Predicted Label\")\n",
    "plt.ylabel(\"True Label\")\n",
    "plt.show()"
   ]
  },
  {
   "cell_type": "markdown",
   "metadata": {
    "_uuid": "89878768564bbe87b7d83c8323c9b2b80d2eb472"
   },
   "source": [
    "## CONCLUSION"
   ]
  },
  {
   "cell_type": "code",
   "execution_count": 155,
   "metadata": {
    "_uuid": "953b0ccdc4c39d90a85023ee4ec3f409be901585"
   },
   "outputs": [
    {
     "name": "stdout",
     "output_type": "stream",
     "text": [
      "             precision    recall  f1-score   support\n",
      "\n",
      "          0       0.16      0.18      0.17      4561\n",
      "          1       0.82      0.81      0.81     21771\n",
      "\n",
      "avg / total       0.71      0.70      0.70     26332\n",
      "\n"
     ]
    }
   ],
   "source": [
    "from sklearn.metrics import classification_report\n",
    "print(classification_report(y_test, pred_final_class))"
   ]
  },
  {
   "cell_type": "markdown",
   "metadata": {
    "_uuid": "c4fc09d06f5e7855a44ff60e0e360e117344e513"
   },
   "source": [
    "#### [5.1.2.1] Performing pertubation test (multicollinearity check) on BOW,<font color='red'> SET 1</font>"
   ]
  },
  {
   "cell_type": "code",
   "execution_count": 156,
   "metadata": {
    "_uuid": "4a823f66388d95f7126532b492e2363417c1e3d4",
    "scrolled": false
   },
   "outputs": [
    {
     "data": {
      "text/plain": [
       "(43008, 25000)"
      ]
     },
     "execution_count": 156,
     "metadata": {},
     "output_type": "execute_result"
    }
   ],
   "source": [
    "w=clf_final.coef_\n",
    "final_standr.shape"
   ]
  },
  {
   "cell_type": "code",
   "execution_count": 157,
   "metadata": {
    "collapsed": true,
    "scrolled": false
   },
   "outputs": [],
   "source": [
    "final_standr_new=final_standr*0.9991029"
   ]
  },
  {
   "cell_type": "code",
   "execution_count": 158,
   "metadata": {
    "collapsed": true
   },
   "outputs": [],
   "source": [
    "clf_new=LogisticRegression(penalty='l2',C=100)\n",
    "clf_new.fit(final_standr_new,y_tr)\n",
    "w_new=clf_new.coef_"
   ]
  },
  {
   "cell_type": "code",
   "execution_count": 159,
   "metadata": {
    "collapsed": true
   },
   "outputs": [],
   "source": [
    "w=w+0.01\n",
    "w_new+=0.01"
   ]
  },
  {
   "cell_type": "code",
   "execution_count": 191,
   "metadata": {
    "collapsed": true
   },
   "outputs": [],
   "source": [
    "delt=abs((w-w_new)/w)*100\n",
    "delt1=np.sort(delt)\n",
    "delt_index=np.argsort(delt)"
   ]
  },
  {
   "cell_type": "code",
   "execution_count": 192,
   "metadata": {
    "scrolled": true
   },
   "outputs": [
    {
     "data": {
      "text/plain": [
       "array([  6.98487079e-06,   5.38671000e-02,   1.05303746e-01,\n",
       "         1.62128825e-01,   2.28836900e-01,   3.19437345e-01,\n",
       "         4.51108644e-01,   6.63132985e-01,   1.05058617e+00,\n",
       "         1.90656651e+00,   2.50440632e+03])"
      ]
     },
     "execution_count": 192,
     "metadata": {},
     "output_type": "execute_result"
    }
   ],
   "source": [
    "per=np.percentile(delt1,[0,10,20,30,40,50,60,70,80,90,100])\n",
    "per"
   ]
  },
  {
   "cell_type": "code",
   "execution_count": 216,
   "metadata": {},
   "outputs": [
    {
     "name": "stdout",
     "output_type": "stream",
     "text": [
      "Difference b/w 0 percentile and 10 percentile is [ 0.05386012]\n",
      "Difference b/w 10 percentile and 20 percentile is [ 0.05143665]\n",
      "Difference b/w 20 percentile and 30 percentile is [ 0.05682508]\n",
      "Difference b/w 30 percentile and 40 percentile is [ 0.06670808]\n",
      "Difference b/w 40 percentile and 50 percentile is [ 0.09060044]\n",
      "Difference b/w 50 percentile and 60 percentile is [ 0.1316713]\n",
      "Difference b/w 60 percentile and 70 percentile is [ 0.21202434]\n",
      "Difference b/w 70 percentile and 80 percentile is [ 0.38745319]\n",
      "Difference b/w 80 percentile and 90 percentile is [ 0.85598034]\n",
      "Difference b/w 90 percentile and 100 percentile is [ 2502.49974854]\n"
     ]
    }
   ],
   "source": [
    "for i in (np.arange(0,91,10)):\n",
    "    print('Difference b/w {0} percentile and {1} percentile is {2}'.format(i,i+10,abs(np.percentile(delt1,[i])-np.percentile(delt1,[i+10]))))"
   ]
  },
  {
   "cell_type": "code",
   "execution_count": 218,
   "metadata": {},
   "outputs": [
    {
     "name": "stdout",
     "output_type": "stream",
     "text": [
      "Difference b/w 91 percentile and 92 percentile is [ 0.17118464]\n",
      "Difference b/w 92 percentile and 93 percentile is [ 0.23902897]\n",
      "Difference b/w 93 percentile and 94 percentile is [ 0.29316643]\n",
      "Difference b/w 94 percentile and 95 percentile is [ 0.34754053]\n",
      "Difference b/w 95 percentile and 96 percentile is [ 0.4243606]\n",
      "Difference b/w 96 percentile and 97 percentile is [ 0.626559]\n",
      "Difference b/w 97 percentile and 98 percentile is [ 1.31844219]\n",
      "Difference b/w 98 percentile and 99 percentile is [ 3.7473898]\n",
      "Difference b/w 99 percentile and 100 percentile is [ 2495.16622992]\n"
     ]
    }
   ],
   "source": [
    "for i in (np.arange(91,100,1)):\n",
    "    print('Difference b/w {0} percentile and {1} percentile is {2}'.format(i,i+1,abs(np.percentile(delt1,[i])-np.percentile(delt1,[i+1])))) "
   ]
  },
  {
   "cell_type": "code",
   "execution_count": 230,
   "metadata": {
    "collapsed": true
   },
   "outputs": [],
   "source": [
    "features_name=count_vect.get_feature_names()"
   ]
  },
  {
   "cell_type": "code",
   "execution_count": 231,
   "metadata": {},
   "outputs": [
    {
     "data": {
      "text/plain": [
       "25000"
      ]
     },
     "execution_count": 231,
     "metadata": {},
     "output_type": "execute_result"
    }
   ],
   "source": [
    "len(features_name)"
   ]
  },
  {
   "cell_type": "code",
   "execution_count": 243,
   "metadata": {},
   "outputs": [
    {
     "data": {
      "text/plain": [
       "25000"
      ]
     },
     "execution_count": 243,
     "metadata": {},
     "output_type": "execute_result"
    }
   ],
   "source": [
    "len(delt[0])"
   ]
  },
  {
   "cell_type": "code",
   "execution_count": 264,
   "metadata": {
    "collapsed": true
   },
   "outputs": [],
   "source": [
    "multicollinearity=[]\n",
    "for i in range(len(delt[0])):\n",
    "    if delt[0][i]>  1:\n",
    "        multicollinearity.append(features_name[i])"
   ]
  },
  {
   "cell_type": "code",
   "execution_count": 265,
   "metadata": {},
   "outputs": [
    {
     "data": {
      "text/plain": [
       "5249"
      ]
     },
     "execution_count": 265,
     "metadata": {},
     "output_type": "execute_result"
    }
   ],
   "source": [
    "len(multicollinearity)"
   ]
  },
  {
   "cell_type": "markdown",
   "metadata": {},
   "source": [
    "#### out of 25000 features approximately 5250 features are multicollinear."
   ]
  },
  {
   "cell_type": "code",
   "execution_count": 271,
   "metadata": {},
   "outputs": [
    {
     "data": {
      "image/png": "[encoded data removed]",
      "text/plain": [
       "<matplotlib.figure.Figure at 0x2af94ff0>"
      ]
     },
     "metadata": {},
     "output_type": "display_data"
    }
   ],
   "source": [
    "plt.figure(figsize=(12,10))\n",
    "plt.plot(np.log(np.arange(0,25000,1)),np.log(delt1[0]),'--r',)\n",
    "plt.ylabel('log of features change %')\n",
    "plt.xlabel('log of features')\n",
    "plt.grid()\n",
    "plt.legend()\n",
    "plt.show()"
   ]
  },
  {
   "cell_type": "markdown",
   "metadata": {},
   "source": [
    "### [5.1.3] Feature Importance on BOW,<font color='red'> SET 1</font>"
   ]
  },
  {
   "cell_type": "code",
   "execution_count": 124,
   "metadata": {},
   "outputs": [
    {
     "data": {
      "text/plain": [
       "array([[18360, 14013, 22875, ..., 11597, 19552,  7684]], dtype=int32)"
      ]
     },
     "execution_count": 124,
     "metadata": {},
     "output_type": "execute_result"
    }
   ],
   "source": [
    "w_=np.argsort(w)\n",
    "w_"
   ]
  },
  {
   "cell_type": "code",
   "execution_count": 184,
   "metadata": {
    "collapsed": true
   },
   "outputs": [],
   "source": [
    "features_name=count_vect.get_feature_names()"
   ]
  },
  {
   "cell_type": "markdown",
   "metadata": {},
   "source": [
    "#### [5.1.3.1] Top 10 important features of positive class from<font color='red'> SET 1</font>"
   ]
  },
  {
   "cell_type": "code",
   "execution_count": 130,
   "metadata": {
    "scrolled": true
   },
   "outputs": [
    {
     "name": "stdout",
     "output_type": "stream",
     "text": [
      "ration   19.07711557690158\n",
      "promo   19.08713483134656\n",
      "closure   19.610330599443934\n",
      "tortilla   19.975027438995586\n",
      "fragrant   20.734955810991792\n",
      "worried   20.87708253735124\n",
      "amazingly   21.391737089365286\n",
      "spoke   21.58480692521135\n",
      "knocked   23.06366334648915\n",
      "skeptical   23.18107183348658\n",
      "estimation   32.790287933919366\n"
     ]
    }
   ],
   "source": [
    "for i in w_[0][-11:]:\n",
    "    print(\"{0}   {1}\".format(features_name[i],w[0][i]))\n",
    "    "
   ]
  },
  {
   "cell_type": "markdown",
   "metadata": {},
   "source": [
    "#### [5.1.3.2] Top 10 important features of negative class from<font color='red'> SET 1</font>"
   ]
  },
  {
   "cell_type": "code",
   "execution_count": 126,
   "metadata": {},
   "outputs": [
    {
     "name": "stdout",
     "output_type": "stream",
     "text": [
      "schar   -31.800205174129\n",
      "nurture   -30.84243584844363\n",
      "unappealing   -29.84838864638681\n",
      "robitussin   -29.17936792674869\n",
      "cascadian   -28.192590674339613\n",
      "unimpressed   -27.788479896654373\n",
      "revolting   -26.926777077564484\n",
      "sleepless   -26.65345572326757\n",
      "scanning   -24.6153631487074\n",
      "crunchie   -24.590931072540812\n"
     ]
    }
   ],
   "source": [
    "for i in w_[0][:10]:\n",
    "    print(\"{0}   {1}\".format(features_name[i],w[0][i]))\n",
    "    "
   ]
  },
  {
   "cell_type": "markdown",
   "metadata": {},
   "source": [
    "## [5.2] Logistic Regression on TFIDF,<font color='red'> SET 2</font>"
   ]
  },
  {
   "cell_type": "markdown",
   "metadata": {},
   "source": [
    "### [5.2.1] Applying Logistic Regression with L1 regularization on TFIDF,<font color='red'> SET 2</font>"
   ]
  },
  {
   "cell_type": "code",
   "execution_count": 136,
   "metadata": {
    "_uuid": "e9e108056ead182b9ccf7e3d15d95416b8f83e3c",
    "collapsed": true
   },
   "outputs": [],
   "source": [
    "c=[10**4,10**3,10**2,10**1,1,10**-1,10**-2,10**-3,10**-4]\n"
   ]
  },
  {
   "cell_type": "code",
   "execution_count": 137,
   "metadata": {
    "_uuid": "1da5b2da6cded97f5d5bfe318b388056fa219732",
    "scrolled": true
   },
   "outputs": [
    {
     "name": "stdout",
     "output_type": "stream",
     "text": [
      "10000\n",
      "1000\n",
      "100\n",
      "10\n",
      "1\n",
      "0.1\n",
      "0.01\n",
      "0.001\n",
      "0.0001\n"
     ]
    }
   ],
   "source": [
    "final_standr=preprocessing.normalize(final_tf_idf)\n",
    "final_standr_cv=preprocessing.normalize(final_tf_idf_cv)\n",
    "final_standr_test=preprocessing.normalize(final_tf_idf_test)\n",
    "\n",
    "\n",
    "auc_cv=[]\n",
    "tpr_cv=[]\n",
    "fpr_cv=[]\n",
    "tpr_tr=[]\n",
    "fpr_tr=[]\n",
    "auc_tr=[]\n",
    "\n",
    "for i in c:\n",
    "    clf= LogisticRegression(penalty='l1',C=i)\n",
    "    # fitting the model on crossvalidation train\n",
    "    clf.fit(final_standr, y_tr)\n",
    "    \n",
    "    # predict the response on the crossvalidation train\n",
    "    pred = clf.predict_proba(final_standr_cv)[:,1]\n",
    "    fpr, tpr, thresholds = metrics.roc_curve(y_cv, pred)\n",
    "    auc=metrics.auc(fpr, tpr)\n",
    "    auc_cv.append(auc)\n",
    "    tpr_cv.append(tpr)\n",
    "    fpr_cv.append(fpr)\n",
    "    \n",
    "    # predict the response on the train\n",
    "    pred = clf.predict_proba(final_standr)[:,1]\n",
    "    fpr, tpr, thresholds = metrics.roc_curve(y_tr, pred)\n",
    "    auc=metrics.auc(fpr, tpr)\n",
    "    auc_tr.append(auc)\n",
    "    tpr_tr.append(tpr)\n",
    "    fpr_tr.append(fpr)\n",
    "    print(i)\n",
    "\n",
    "#AUC\n",
    "#  https://scikit-learn.org/stable/modules/generated/sklearn.metrics.auc.html\n",
    "    "
   ]
  },
  {
   "cell_type": "markdown",
   "metadata": {
    "_uuid": "19c86f26998a3e54b5ab2d5ef399f91a07f68f41"
   },
   "source": [
    "### The hyper paramter tuning(finding best C)"
   ]
  },
  {
   "cell_type": "code",
   "execution_count": 138,
   "metadata": {
    "collapsed": true
   },
   "outputs": [],
   "source": [
    "lamb=[0.0001,0.001,0.01,0.1,1,10,100,1000,10000]"
   ]
  },
  {
   "cell_type": "code",
   "execution_count": 139,
   "metadata": {
    "_uuid": "b836530336f1c36705e3c4938382b8ccc40ecbbc",
    "collapsed": true,
    "scrolled": true
   },
   "outputs": [],
   "source": [
    "data1={'c':c,'lambda':lamb,'auc_cv':auc_cv[:],'auc_tr':auc_tr[:]}\n",
    "data_f=pd.DataFrame(data1)"
   ]
  },
  {
   "cell_type": "markdown",
   "metadata": {
    "_uuid": "255e70604ef0241b2115327289c12a498997a986"
   },
   "source": [
    "#### MAXIMUM AUC OF CROSS VALIDATION\n",
    "     C=1"
   ]
  },
  {
   "cell_type": "code",
   "execution_count": 140,
   "metadata": {
    "_uuid": "16756b4cb7e76c68cad50be2e7d46e69970ea32d",
    "scrolled": true
   },
   "outputs": [
    {
     "data": {
      "text/html": [
       "<div>\n",
       "<style>\n",
       "    .dataframe thead tr:only-child th {\n",
       "        text-align: right;\n",
       "    }\n",
       "\n",
       "    .dataframe thead th {\n",
       "        text-align: left;\n",
       "    }\n",
       "\n",
       "    .dataframe tbody tr th {\n",
       "        vertical-align: top;\n",
       "    }\n",
       "</style>\n",
       "<table border=\"1\" class=\"dataframe\">\n",
       "  <thead>\n",
       "    <tr style=\"text-align: right;\">\n",
       "      <th></th>\n",
       "      <th>auc_cv</th>\n",
       "      <th>auc_tr</th>\n",
       "      <th>c</th>\n",
       "      <th>lambda</th>\n",
       "    </tr>\n",
       "  </thead>\n",
       "  <tbody>\n",
       "    <tr>\n",
       "      <th>4</th>\n",
       "      <td>0.524079</td>\n",
       "      <td>0.966372</td>\n",
       "      <td>1.0</td>\n",
       "      <td>1.0</td>\n",
       "    </tr>\n",
       "  </tbody>\n",
       "</table>\n",
       "</div>"
      ],
      "text/plain": [
       "     auc_cv    auc_tr    c  lambda\n",
       "4  0.524079  0.966372  1.0     1.0"
      ]
     },
     "execution_count": 140,
     "metadata": {},
     "output_type": "execute_result"
    }
   ],
   "source": [
    "data_f[data_f['auc_cv']==data_f['auc_cv'].max()]"
   ]
  },
  {
   "cell_type": "markdown",
   "metadata": {
    "_uuid": "bba46aab8acd3b10833f1e852b2207f56ad21733"
   },
   "source": [
    "### AREA UNDER CURVE Vs Neighbours PLOT FOR TRAIN AND TEST"
   ]
  },
  {
   "cell_type": "code",
   "execution_count": 141,
   "metadata": {
    "_uuid": "bdf9270ddc7f9ac8e3aae0b055f3527cc3b42af4",
    "scrolled": false
   },
   "outputs": [
    {
     "data": {
      "image/png": "[encoded data removed]",
      "text/plain": [
       "<matplotlib.figure.Figure at 0x1d8dff90>"
      ]
     },
     "metadata": {},
     "output_type": "display_data"
    }
   ],
   "source": [
    "plt.figure(figsize=(10,6))\n",
    "plt.plot(lamb,auc_tr,'b',label='TRAIN')\n",
    "plt.plot(lamb,auc_cv,'g',label='CROSS VALIDATION')\n",
    "plt.xlabel('lambda')\n",
    "plt.ylabel('AUC')\n",
    "plt.title('Area Under Curve')\n",
    "plt.grid()\n",
    "plt.legend()\n",
    "plt.show()"
   ]
  },
  {
   "cell_type": "code",
   "execution_count": 142,
   "metadata": {
    "_uuid": "efb93630d1dd2ee6ec47069e84e941756ffa74a7"
   },
   "outputs": [
    {
     "data": {
      "text/plain": [
       "0.54645878858760355"
      ]
     },
     "execution_count": 142,
     "metadata": {},
     "output_type": "execute_result"
    }
   ],
   "source": [
    "# TESTING THE MODEL ON TEST DATA\n",
    "clf_final = LogisticRegression(penalty='l1',C=1)\n",
    "clf_final.fit(final_standr, y_tr)\n",
    "pred_final = clf_final.predict_proba(final_standr_test)[:,1]\n",
    "fpr_f, tpr_f, thresholds_f = metrics.roc_curve(y_test, pred_final)\n",
    "auc_final = metrics.auc(fpr_f, tpr_f)\n",
    "auc_final"
   ]
  },
  {
   "cell_type": "code",
   "execution_count": 143,
   "metadata": {
    "_uuid": "6ddeeaf9d0fcd4cd6ac677a8343eff2ccd865d01"
   },
   "outputs": [
    {
     "data": {
      "text/plain": [
       "0.96637170229382463"
      ]
     },
     "execution_count": 143,
     "metadata": {},
     "output_type": "execute_result"
    }
   ],
   "source": [
    "# TESTING THE MODEL ON TRAIN DATA\n",
    "pred_train=clf_final.predict_proba(final_standr)[:,1]\n",
    "fpr_ft, tpr_ft, thresholds_ft=metrics.roc_curve(y_tr, pred_train)\n",
    "auc_finalt=metrics.auc(fpr_ft, tpr_ft)\n",
    "auc_finalt"
   ]
  },
  {
   "cell_type": "markdown",
   "metadata": {
    "_uuid": "b516caf038fbbc506702ac2a716dc293ef39bbbd"
   },
   "source": [
    "### ROC CURVE"
   ]
  },
  {
   "cell_type": "code",
   "execution_count": 144,
   "metadata": {
    "_uuid": "9779629031b5b079dc0fc12494b792fb7366e58f",
    "collapsed": true
   },
   "outputs": [],
   "source": [
    "y_a=[0,0.5,1]\n",
    "x_a=y_a"
   ]
  },
  {
   "cell_type": "code",
   "execution_count": 145,
   "metadata": {
    "_uuid": "44549168c2088d4a39dcdfa2d843c3f13d6eac90",
    "scrolled": false
   },
   "outputs": [
    {
     "data": {
      "image/png": "[encoded data removed]",
      "text/plain": [
       "<matplotlib.figure.Figure at 0x1f283f10>"
      ]
     },
     "metadata": {},
     "output_type": "display_data"
    }
   ],
   "source": [
    "plt.figure(figsize=(15,10))\n",
    "plt.plot(fpr_f,tpr_f,'b',label='TEST')\n",
    "plt.plot(x_a,y_a,'--r')\n",
    "plt.plot(fpr_ft,tpr_ft,'g',label='TRAIN')\n",
    "plt.xlabel('tpr_f')\n",
    "plt.ylabel('fpr_f')\n",
    "plt.title('AUC ')\n",
    "plt.grid()\n",
    "plt.legend()\n",
    "plt.show()"
   ]
  },
  {
   "cell_type": "markdown",
   "metadata": {
    "_uuid": "bb1b9703925f588a3e8d33f25ca7e408d89ee0a9"
   },
   "source": [
    "### CONFUSION MATRIX"
   ]
  },
  {
   "cell_type": "code",
   "execution_count": 146,
   "metadata": {
    "_uuid": "536b403605690078952025907389eb004b030999",
    "collapsed": true
   },
   "outputs": [],
   "source": [
    "pred_final\n",
    "pred_final_class=[]\n",
    "for i in range(len(pred_final)):\n",
    "    if pred_final[i]>0.5:\n",
    "        pred_final_class.append(1)\n",
    "    elif pred_final[i]<0.5:\n",
    "            pred_final_class.append(0)\n",
    "    else:\n",
    "            pred_final_class.append(np.random(1,[0,1]))\n",
    "\n",
    "\n"
   ]
  },
  {
   "cell_type": "code",
   "execution_count": 147,
   "metadata": {
    "_uuid": "5a66042c6c9374dc11641ae913283511272b4888",
    "scrolled": true
   },
   "outputs": [
    {
     "data": {
      "text/plain": [
       "array([[  465,  4096],\n",
       "       [ 1487, 20284]], dtype=int64)"
      ]
     },
     "execution_count": 147,
     "metadata": {},
     "output_type": "execute_result"
    }
   ],
   "source": [
    "cm = confusion_matrix(y_test, pred_final_class)\n",
    "cm"
   ]
  },
  {
   "cell_type": "code",
   "execution_count": 148,
   "metadata": {
    "_uuid": "2fdbb3368eee62536010071515e4fedb99defef8"
   },
   "outputs": [
    {
     "data": {
      "text/plain": [
       "1    21771\n",
       "0     4561\n",
       "Name: Score, dtype: int64"
      ]
     },
     "execution_count": 148,
     "metadata": {},
     "output_type": "execute_result"
    }
   ],
   "source": [
    "y_test[\"Score\"].value_counts()"
   ]
  },
  {
   "cell_type": "code",
   "execution_count": 149,
   "metadata": {
    "_uuid": "d3d820a6a99a5923b68a9f3fec0258e6bd662fc5",
    "scrolled": false
   },
   "outputs": [
    {
     "data": {
      "image/png": "[encoded data removed]",
      "text/plain": [
       "<matplotlib.figure.Figure at 0x1f2d49b0>"
      ]
     },
     "metadata": {},
     "output_type": "display_data"
    }
   ],
   "source": [
    "import seaborn as sns\n",
    "class_label = [\"negative\", \"positive\"]\n",
    "df_cm = pd.DataFrame(cm, index = class_label, columns = class_label)\n",
    "sns.heatmap(df_cm, annot = True, fmt = \"d\")\n",
    "plt.title(\"Confusiion Matrix\")\n",
    "plt.xlabel(\"Predicted Label\")\n",
    "plt.ylabel(\"True Label\")\n",
    "plt.show()"
   ]
  },
  {
   "cell_type": "markdown",
   "metadata": {
    "_uuid": "89878768564bbe87b7d83c8323c9b2b80d2eb472"
   },
   "source": [
    "## CONCLUSION"
   ]
  },
  {
   "cell_type": "code",
   "execution_count": 150,
   "metadata": {
    "_uuid": "953b0ccdc4c39d90a85023ee4ec3f409be901585"
   },
   "outputs": [
    {
     "name": "stdout",
     "output_type": "stream",
     "text": [
      "             precision    recall  f1-score   support\n",
      "\n",
      "          0       0.24      0.10      0.14      4561\n",
      "          1       0.83      0.93      0.88     21771\n",
      "\n",
      "avg / total       0.73      0.79      0.75     26332\n",
      "\n"
     ]
    }
   ],
   "source": [
    "from sklearn.metrics import classification_report\n",
    "print(classification_report(y_test, pred_final_class))"
   ]
  },
  {
   "cell_type": "markdown",
   "metadata": {},
   "source": [
    "### [5.2.2] Applying Logistic Regression with L2 regularization on TFIDF,<font color='red'> SET 2</font>"
   ]
  },
  {
   "cell_type": "code",
   "execution_count": 151,
   "metadata": {
    "_uuid": "e9e108056ead182b9ccf7e3d15d95416b8f83e3c",
    "collapsed": true
   },
   "outputs": [],
   "source": [
    "c=[10**4,10**3,10**2,10**1,1,10**-1,10**-2,10**-3,10**-4]\n"
   ]
  },
  {
   "cell_type": "code",
   "execution_count": 152,
   "metadata": {
    "_uuid": "1da5b2da6cded97f5d5bfe318b388056fa219732",
    "scrolled": true
   },
   "outputs": [
    {
     "name": "stdout",
     "output_type": "stream",
     "text": [
      "10000\n",
      "1000\n",
      "100\n",
      "10\n",
      "1\n",
      "0.1\n",
      "0.01\n",
      "0.001\n",
      "0.0001\n"
     ]
    }
   ],
   "source": [
    "final_standr=preprocessing.normalize(final_tf_idf)\n",
    "final_standr_cv=preprocessing.normalize(final_tf_idf_cv)\n",
    "final_standr_test=preprocessing.normalize(final_tf_idf_test)\n",
    "\n",
    "\n",
    "auc_cv=[]\n",
    "tpr_cv=[]\n",
    "fpr_cv=[]\n",
    "tpr_tr=[]\n",
    "fpr_tr=[]\n",
    "auc_tr=[]\n",
    "\n",
    "for i in c:\n",
    "    clf= LogisticRegression(penalty='l2',C=i)\n",
    "    # fitting the model on crossvalidation train\n",
    "    clf.fit(final_standr, y_tr)\n",
    "    \n",
    "    # predict the response on the crossvalidation train\n",
    "    pred = clf.predict_proba(final_standr_cv)[:,1]\n",
    "    fpr, tpr, thresholds = metrics.roc_curve(y_cv, pred)\n",
    "    auc=metrics.auc(fpr, tpr)\n",
    "    auc_cv.append(auc)\n",
    "    tpr_cv.append(tpr)\n",
    "    fpr_cv.append(fpr)\n",
    "    \n",
    "    # predict the response on the train\n",
    "    pred = clf.predict_proba(final_standr)[:,1]\n",
    "    fpr, tpr, thresholds = metrics.roc_curve(y_tr, pred)\n",
    "    auc=metrics.auc(fpr, tpr)\n",
    "    auc_tr.append(auc)\n",
    "    tpr_tr.append(tpr)\n",
    "    fpr_tr.append(fpr)\n",
    "    print(i)\n",
    "\n",
    "#AUC\n",
    "#  https://scikit-learn.org/stable/modules/generated/sklearn.metrics.auc.html\n",
    "    "
   ]
  },
  {
   "cell_type": "markdown",
   "metadata": {
    "_uuid": "19c86f26998a3e54b5ab2d5ef399f91a07f68f41"
   },
   "source": [
    "### The hyper paramter tuning(finding best C)"
   ]
  },
  {
   "cell_type": "code",
   "execution_count": 153,
   "metadata": {
    "collapsed": true
   },
   "outputs": [],
   "source": [
    "lamb=[0.0001,0.001,0.01,0.1,1,10,100,1000,10000]"
   ]
  },
  {
   "cell_type": "code",
   "execution_count": 154,
   "metadata": {
    "_uuid": "b836530336f1c36705e3c4938382b8ccc40ecbbc",
    "collapsed": true,
    "scrolled": true
   },
   "outputs": [],
   "source": [
    "data1={'c':c,'lambda':lamb,'auc_cv':auc_cv[:],'auc_tr':auc_tr[:]}\n",
    "data_f=pd.DataFrame(data1)"
   ]
  },
  {
   "cell_type": "markdown",
   "metadata": {
    "_uuid": "255e70604ef0241b2115327289c12a498997a986"
   },
   "source": [
    "#### MAXIMUM AUC OF CROSS VALIDATION\n",
    "     C=0.01"
   ]
  },
  {
   "cell_type": "code",
   "execution_count": 155,
   "metadata": {
    "_uuid": "16756b4cb7e76c68cad50be2e7d46e69970ea32d",
    "scrolled": false
   },
   "outputs": [
    {
     "data": {
      "text/html": [
       "<div>\n",
       "<style>\n",
       "    .dataframe thead tr:only-child th {\n",
       "        text-align: right;\n",
       "    }\n",
       "\n",
       "    .dataframe thead th {\n",
       "        text-align: left;\n",
       "    }\n",
       "\n",
       "    .dataframe tbody tr th {\n",
       "        vertical-align: top;\n",
       "    }\n",
       "</style>\n",
       "<table border=\"1\" class=\"dataframe\">\n",
       "  <thead>\n",
       "    <tr style=\"text-align: right;\">\n",
       "      <th></th>\n",
       "      <th>auc_cv</th>\n",
       "      <th>auc_tr</th>\n",
       "      <th>c</th>\n",
       "      <th>lambda</th>\n",
       "    </tr>\n",
       "  </thead>\n",
       "  <tbody>\n",
       "    <tr>\n",
       "      <th>6</th>\n",
       "      <td>0.582029</td>\n",
       "      <td>0.920899</td>\n",
       "      <td>0.01</td>\n",
       "      <td>100.0</td>\n",
       "    </tr>\n",
       "  </tbody>\n",
       "</table>\n",
       "</div>"
      ],
      "text/plain": [
       "     auc_cv    auc_tr     c  lambda\n",
       "6  0.582029  0.920899  0.01   100.0"
      ]
     },
     "execution_count": 155,
     "metadata": {},
     "output_type": "execute_result"
    }
   ],
   "source": [
    "data_f[data_f['auc_cv']==data_f['auc_cv'].max()]"
   ]
  },
  {
   "cell_type": "markdown",
   "metadata": {
    "_uuid": "bba46aab8acd3b10833f1e852b2207f56ad21733"
   },
   "source": [
    "### AREA UNDER CURVE Vs Neighbours PLOT FOR TRAIN AND TEST"
   ]
  },
  {
   "cell_type": "code",
   "execution_count": 156,
   "metadata": {
    "_uuid": "bdf9270ddc7f9ac8e3aae0b055f3527cc3b42af4",
    "scrolled": false
   },
   "outputs": [
    {
     "data": {
      "image/png": "[encoded data removed]",
      "text/plain": [
       "<matplotlib.figure.Figure at 0x1f9e4f90>"
      ]
     },
     "metadata": {},
     "output_type": "display_data"
    }
   ],
   "source": [
    "plt.figure(figsize=(10,6))\n",
    "plt.plot(lamb,auc_tr,'b',label='TRAIN')\n",
    "plt.plot(lamb,auc_cv,'g',label='CROSS VALIDATION')\n",
    "plt.xlabel('lambda')\n",
    "plt.ylabel('AUC')\n",
    "plt.title('Area Under Curve')\n",
    "plt.grid()\n",
    "plt.legend()\n",
    "plt.show()"
   ]
  },
  {
   "cell_type": "code",
   "execution_count": 157,
   "metadata": {
    "_uuid": "efb93630d1dd2ee6ec47069e84e941756ffa74a7"
   },
   "outputs": [
    {
     "data": {
      "text/plain": [
       "0.59675363932261316"
      ]
     },
     "execution_count": 157,
     "metadata": {},
     "output_type": "execute_result"
    }
   ],
   "source": [
    "# TESTING THE MODEL ON TEST DATA\n",
    "clf_final = LogisticRegression(penalty='l2',C=0.01)\n",
    "clf_final.fit(final_standr, y_tr)\n",
    "pred_final = clf_final.predict_proba(final_standr_test)[:,1]\n",
    "fpr_f, tpr_f, thresholds_f = metrics.roc_curve(y_test, pred_final)\n",
    "auc_final = metrics.auc(fpr_f, tpr_f)\n",
    "auc_final"
   ]
  },
  {
   "cell_type": "code",
   "execution_count": 158,
   "metadata": {
    "_uuid": "6ddeeaf9d0fcd4cd6ac677a8343eff2ccd865d01"
   },
   "outputs": [
    {
     "data": {
      "text/plain": [
       "0.92089914087953395"
      ]
     },
     "execution_count": 158,
     "metadata": {},
     "output_type": "execute_result"
    }
   ],
   "source": [
    "# TESTING THE MODEL ON TRAIN DATA\n",
    "pred_train=clf_final.predict_proba(final_standr)[:,1]\n",
    "fpr_ft, tpr_ft, thresholds_ft=metrics.roc_curve(y_tr, pred_train)\n",
    "auc_finalt=metrics.auc(fpr_ft, tpr_ft)\n",
    "auc_finalt"
   ]
  },
  {
   "cell_type": "markdown",
   "metadata": {
    "_uuid": "b516caf038fbbc506702ac2a716dc293ef39bbbd"
   },
   "source": [
    "### ROC CURVE"
   ]
  },
  {
   "cell_type": "code",
   "execution_count": 159,
   "metadata": {
    "_uuid": "9779629031b5b079dc0fc12494b792fb7366e58f",
    "collapsed": true
   },
   "outputs": [],
   "source": [
    "y_a=[0,0.5,1]\n",
    "x_a=y_a"
   ]
  },
  {
   "cell_type": "code",
   "execution_count": 160,
   "metadata": {
    "_uuid": "44549168c2088d4a39dcdfa2d843c3f13d6eac90",
    "scrolled": false
   },
   "outputs": [
    {
     "data": {
      "image/png": "[encoded data removed]",
      "text/plain": [
       "<matplotlib.figure.Figure at 0x1f9e40b0>"
      ]
     },
     "metadata": {},
     "output_type": "display_data"
    }
   ],
   "source": [
    "plt.figure(figsize=(15,10))\n",
    "plt.plot(fpr_f,tpr_f,'b',label='TEST')\n",
    "plt.plot(x_a,y_a,'--r')\n",
    "plt.plot(fpr_ft,tpr_ft,'g',label='TRAIN')\n",
    "plt.xlabel('tpr_f')\n",
    "plt.ylabel('fpr_f')\n",
    "plt.title('AUC ')\n",
    "plt.grid()\n",
    "plt.legend()\n",
    "plt.show()"
   ]
  },
  {
   "cell_type": "markdown",
   "metadata": {
    "_uuid": "bb1b9703925f588a3e8d33f25ca7e408d89ee0a9"
   },
   "source": [
    "### CONFUSION MATRIX"
   ]
  },
  {
   "cell_type": "code",
   "execution_count": 161,
   "metadata": {
    "_uuid": "536b403605690078952025907389eb004b030999",
    "collapsed": true
   },
   "outputs": [],
   "source": [
    "pred_final\n",
    "pred_final_class=[]\n",
    "for i in range(len(pred_final)):\n",
    "    if pred_final[i]>0.5:\n",
    "        pred_final_class.append(1)\n",
    "    elif pred_final[i]<0.5:\n",
    "            pred_final_class.append(0)\n",
    "    else:\n",
    "            pred_final_class.append(np.random(1,[0,1]))\n",
    "\n",
    "\n"
   ]
  },
  {
   "cell_type": "code",
   "execution_count": 162,
   "metadata": {
    "_uuid": "5a66042c6c9374dc11641ae913283511272b4888",
    "scrolled": true
   },
   "outputs": [
    {
     "data": {
      "text/plain": [
       "array([[    0,  4561],\n",
       "       [    0, 21771]], dtype=int64)"
      ]
     },
     "execution_count": 162,
     "metadata": {},
     "output_type": "execute_result"
    }
   ],
   "source": [
    "cm = confusion_matrix(y_test, pred_final_class)\n",
    "cm"
   ]
  },
  {
   "cell_type": "code",
   "execution_count": 163,
   "metadata": {
    "_uuid": "2fdbb3368eee62536010071515e4fedb99defef8"
   },
   "outputs": [
    {
     "data": {
      "text/plain": [
       "1    21771\n",
       "0     4561\n",
       "Name: Score, dtype: int64"
      ]
     },
     "execution_count": 163,
     "metadata": {},
     "output_type": "execute_result"
    }
   ],
   "source": [
    "y_test[\"Score\"].value_counts()"
   ]
  },
  {
   "cell_type": "code",
   "execution_count": 164,
   "metadata": {
    "_uuid": "d3d820a6a99a5923b68a9f3fec0258e6bd662fc5",
    "scrolled": false
   },
   "outputs": [
    {
     "data": {
      "image/png": "[encoded data removed]",
      "text/plain": [
       "<matplotlib.figure.Figure at 0x1c0d5110>"
      ]
     },
     "metadata": {},
     "output_type": "display_data"
    }
   ],
   "source": [
    "import seaborn as sns\n",
    "class_label = [\"negative\", \"positive\"]\n",
    "df_cm = pd.DataFrame(cm, index = class_label, columns = class_label)\n",
    "sns.heatmap(df_cm, annot = True, fmt = \"d\")\n",
    "plt.title(\"Confusiion Matrix\")\n",
    "plt.xlabel(\"Predicted Label\")\n",
    "plt.ylabel(\"True Label\")\n",
    "plt.show()"
   ]
  },
  {
   "cell_type": "markdown",
   "metadata": {
    "_uuid": "89878768564bbe87b7d83c8323c9b2b80d2eb472"
   },
   "source": [
    "## CONCLUSION"
   ]
  },
  {
   "cell_type": "code",
   "execution_count": 165,
   "metadata": {
    "_uuid": "953b0ccdc4c39d90a85023ee4ec3f409be901585"
   },
   "outputs": [
    {
     "name": "stdout",
     "output_type": "stream",
     "text": [
      "             precision    recall  f1-score   support\n",
      "\n",
      "          0       0.00      0.00      0.00      4561\n",
      "          1       0.83      1.00      0.91     21771\n",
      "\n",
      "avg / total       0.68      0.83      0.75     26332\n",
      "\n"
     ]
    }
   ],
   "source": [
    "from sklearn.metrics import classification_report\n",
    "print(classification_report(y_test, pred_final_class))"
   ]
  },
  {
   "cell_type": "markdown",
   "metadata": {},
   "source": [
    "### [5.2.3] Feature Importance on TFIDF,<font color='red'> SET 2</font>"
   ]
  },
  {
   "cell_type": "code",
   "execution_count": 166,
   "metadata": {
    "collapsed": true
   },
   "outputs": [],
   "source": [
    "w=clf_final.coef_"
   ]
  },
  {
   "cell_type": "code",
   "execution_count": 167,
   "metadata": {
    "collapsed": true
   },
   "outputs": [],
   "source": [
    "w_=np.argsort(w)"
   ]
  },
  {
   "cell_type": "code",
   "execution_count": 168,
   "metadata": {
    "collapsed": true
   },
   "outputs": [],
   "source": [
    "features_name=tf_idf_vect.get_feature_names()"
   ]
  },
  {
   "cell_type": "code",
   "execution_count": 170,
   "metadata": {
    "scrolled": true
   },
   "outputs": [
    {
     "data": {
      "text/plain": [
       "(11200, 11200)"
      ]
     },
     "execution_count": 170,
     "metadata": {},
     "output_type": "execute_result"
    }
   ],
   "source": [
    "len(w_[0]),len(features_name)"
   ]
  },
  {
   "cell_type": "markdown",
   "metadata": {},
   "source": [
    "#### [5.2.3.1] Top 10 important features of positive class from<font color='red'> SET 2</font>"
   ]
  },
  {
   "cell_type": "code",
   "execution_count": 172,
   "metadata": {
    "scrolled": true
   },
   "outputs": [
    {
     "name": "stdout",
     "output_type": "stream",
     "text": [
      "smaller bags  0.2768062632845752\n",
      "favorite coffee  0.2944604148857168\n",
      "perk  0.30716906601192956\n",
      "find anywhere  0.31522428562411836\n",
      "love coconut  0.3419935603263664\n",
      "tea bag  0.3507716924998822\n",
      "department  0.3988208909412555\n",
      "gobble  0.42702409842846983\n",
      "best far  0.5082954454660278\n",
      "look elsewhere  0.5674282216625468\n",
      "grandson  0.8444191795983814\n"
     ]
    }
   ],
   "source": [
    "for i in w_[0][-11:]:\n",
    "    print('{0}  {1}'.format(features_name[i],w[0][i]))"
   ]
  },
  {
   "cell_type": "markdown",
   "metadata": {},
   "source": [
    "#### [5.2.3.2] Top 10 important features of negative class from<font color='red'> SET 2</font>"
   ]
  },
  {
   "cell_type": "code",
   "execution_count": 173,
   "metadata": {},
   "outputs": [
    {
     "name": "stdout",
     "output_type": "stream",
     "text": [
      "normally drink  -1.1388513854890905\n",
      "would add  -0.4755287453751979\n",
      "bag like  -0.4516757099120432\n",
      "moderate  -0.39319691773792054\n",
      "distance  -0.3741219310219249\n",
      "product easy  -0.36343281813779577\n",
      "would no  -0.3546125355298332\n",
      "not bought  -0.34594968078551414\n",
      "throughout  -0.3246569385053695\n",
      "taste awful  -0.3236656144229432\n"
     ]
    }
   ],
   "source": [
    "for i in w_[0][:10]:\n",
    "    print('{0}  {1}'.format(features_name[i],w[0][i]))"
   ]
  },
  {
   "cell_type": "markdown",
   "metadata": {},
   "source": [
    "## [5.3] Logistic Regression on AVG W2V,<font color='red'> SET 3</font>"
   ]
  },
  {
   "cell_type": "markdown",
   "metadata": {},
   "source": [
    "### [5.3.1] Applying Logistic Regression with L1 regularization on AVG W2V<font color='red'> SET 3</font>"
   ]
  },
  {
   "cell_type": "code",
   "execution_count": 211,
   "metadata": {
    "_uuid": "e9e108056ead182b9ccf7e3d15d95416b8f83e3c",
    "collapsed": true
   },
   "outputs": [],
   "source": [
    "c=[10**4,10**3,10**2,10**1,1,10**-1,10**-2,10**-3,10**-4]\n"
   ]
  },
  {
   "cell_type": "code",
   "execution_count": 226,
   "metadata": {
    "_uuid": "1da5b2da6cded97f5d5bfe318b388056fa219732",
    "scrolled": true
   },
   "outputs": [
    {
     "name": "stdout",
     "output_type": "stream",
     "text": [
      "10000\n",
      "1000\n",
      "100\n",
      "10\n",
      "1\n",
      "0.1\n",
      "0.01\n",
      "0.001\n",
      "0.0001\n"
     ]
    }
   ],
   "source": [
    "final_standr=preprocessing.normalize(sent_vectors)\n",
    "final_standr_cv=preprocessing.normalize(sent_vectors_cv)\n",
    "final_standr_test=preprocessing.normalize(sent_vectors_test)\n",
    "\n",
    "\n",
    "auc_cv=[]\n",
    "tpr_cv=[]\n",
    "fpr_cv=[]\n",
    "tpr_tr=[]\n",
    "fpr_tr=[]\n",
    "auc_tr=[]\n",
    "\n",
    "for i in c:\n",
    "    clf= LogisticRegression(penalty='l1',C=i)\n",
    "    # fitting the model on crossvalidation train\n",
    "    clf.fit(final_standr, y_tr)\n",
    "    \n",
    "    # predict the response on the crossvalidation train\n",
    "    pred = clf.predict_proba(final_standr_cv)[:,1]\n",
    "    fpr, tpr, thresholds = metrics.roc_curve(y_cv, pred)\n",
    "    auc=metrics.auc(fpr, tpr)\n",
    "    auc_cv.append(auc)\n",
    "    tpr_cv.append(tpr)\n",
    "    fpr_cv.append(fpr)\n",
    "    \n",
    "    # predict the response on the train\n",
    "    pred = clf.predict_proba(final_standr)[:,1]\n",
    "    fpr, tpr, thresholds = metrics.roc_curve(y_tr, pred)\n",
    "    auc=metrics.auc(fpr, tpr)\n",
    "    auc_tr.append(auc)\n",
    "    tpr_tr.append(tpr)\n",
    "    fpr_tr.append(fpr)\n",
    "    print(i)\n",
    "\n",
    "#AUC\n",
    "#  https://scikit-learn.org/stable/modules/generated/sklearn.metrics.auc.html\n",
    "    "
   ]
  },
  {
   "cell_type": "markdown",
   "metadata": {
    "_uuid": "19c86f26998a3e54b5ab2d5ef399f91a07f68f41"
   },
   "source": [
    "### The hyper paramter tuning(finding best C)"
   ]
  },
  {
   "cell_type": "code",
   "execution_count": 227,
   "metadata": {
    "collapsed": true
   },
   "outputs": [],
   "source": [
    "lamb=[0.0001,0.001,0.01,0.1,1,10,100,1000,10000]"
   ]
  },
  {
   "cell_type": "code",
   "execution_count": 228,
   "metadata": {
    "_uuid": "b836530336f1c36705e3c4938382b8ccc40ecbbc",
    "collapsed": true,
    "scrolled": true
   },
   "outputs": [],
   "source": [
    "data1={'c':c,'lambda':lamb,'auc_cv':auc_cv[:],'auc_tr':auc_tr[:]}\n",
    "data_f=pd.DataFrame(data1)"
   ]
  },
  {
   "cell_type": "markdown",
   "metadata": {
    "_uuid": "255e70604ef0241b2115327289c12a498997a986"
   },
   "source": [
    "#### MAXIMUM AUC OF CROSS VALIDATION\n",
    "     C=0.1"
   ]
  },
  {
   "cell_type": "code",
   "execution_count": 229,
   "metadata": {
    "_uuid": "16756b4cb7e76c68cad50be2e7d46e69970ea32d",
    "scrolled": false
   },
   "outputs": [
    {
     "data": {
      "text/html": [
       "<div>\n",
       "<style>\n",
       "    .dataframe thead tr:only-child th {\n",
       "        text-align: right;\n",
       "    }\n",
       "\n",
       "    .dataframe thead th {\n",
       "        text-align: left;\n",
       "    }\n",
       "\n",
       "    .dataframe tbody tr th {\n",
       "        vertical-align: top;\n",
       "    }\n",
       "</style>\n",
       "<table border=\"1\" class=\"dataframe\">\n",
       "  <thead>\n",
       "    <tr style=\"text-align: right;\">\n",
       "      <th></th>\n",
       "      <th>auc_cv</th>\n",
       "      <th>auc_tr</th>\n",
       "      <th>c</th>\n",
       "      <th>lambda</th>\n",
       "    </tr>\n",
       "  </thead>\n",
       "  <tbody>\n",
       "    <tr>\n",
       "      <th>5</th>\n",
       "      <td>0.812493</td>\n",
       "      <td>0.894938</td>\n",
       "      <td>0.1</td>\n",
       "      <td>10.0</td>\n",
       "    </tr>\n",
       "  </tbody>\n",
       "</table>\n",
       "</div>"
      ],
      "text/plain": [
       "     auc_cv    auc_tr    c  lambda\n",
       "5  0.812493  0.894938  0.1    10.0"
      ]
     },
     "execution_count": 229,
     "metadata": {},
     "output_type": "execute_result"
    }
   ],
   "source": [
    "data_f[data_f['auc_cv']==data_f['auc_cv'].max()]"
   ]
  },
  {
   "cell_type": "markdown",
   "metadata": {
    "_uuid": "bba46aab8acd3b10833f1e852b2207f56ad21733"
   },
   "source": [
    "### AREA UNDER CURVE Vs Neighbours PLOT FOR TRAIN AND TEST"
   ]
  },
  {
   "cell_type": "code",
   "execution_count": 230,
   "metadata": {
    "_uuid": "bdf9270ddc7f9ac8e3aae0b055f3527cc3b42af4",
    "scrolled": false
   },
   "outputs": [
    {
     "data": {
      "image/png": "[encoded data removed]",
      "text/plain": [
       "<matplotlib.figure.Figure at 0x36e57f90>"
      ]
     },
     "metadata": {},
     "output_type": "display_data"
    }
   ],
   "source": [
    "plt.figure(figsize=(10,6))\n",
    "plt.plot(lamb,auc_tr,'b',label='TRAIN')\n",
    "plt.plot(lamb,auc_cv,'g',label='CROSS VALIDATION')\n",
    "plt.xlabel('lambda')\n",
    "plt.ylabel('AUC')\n",
    "plt.title('Area Under Curve')\n",
    "plt.grid()\n",
    "plt.legend()\n",
    "plt.show()"
   ]
  },
  {
   "cell_type": "code",
   "execution_count": 231,
   "metadata": {
    "_uuid": "efb93630d1dd2ee6ec47069e84e941756ffa74a7"
   },
   "outputs": [
    {
     "data": {
      "text/plain": [
       "0.77071953581605168"
      ]
     },
     "execution_count": 231,
     "metadata": {},
     "output_type": "execute_result"
    }
   ],
   "source": [
    "# TESTING THE MODEL ON TEST DATA\n",
    "clf_final = LogisticRegression(penalty='l1',C=0.1)\n",
    "clf_final.fit(final_standr, y_tr)\n",
    "pred_final = clf_final.predict_proba(final_standr_test)[:,1]\n",
    "fpr_f, tpr_f, thresholds_f = metrics.roc_curve(y_test, pred_final)\n",
    "auc_final = metrics.auc(fpr_f, tpr_f)\n",
    "auc_final"
   ]
  },
  {
   "cell_type": "code",
   "execution_count": 232,
   "metadata": {
    "_uuid": "6ddeeaf9d0fcd4cd6ac677a8343eff2ccd865d01"
   },
   "outputs": [
    {
     "data": {
      "text/plain": [
       "0.89493649882860626"
      ]
     },
     "execution_count": 232,
     "metadata": {},
     "output_type": "execute_result"
    }
   ],
   "source": [
    "# TESTING THE MODEL ON TRAIN DATA\n",
    "pred_train=clf_final.predict_proba(final_standr)[:,1]\n",
    "fpr_ft, tpr_ft, thresholds_ft=metrics.roc_curve(y_tr, pred_train)\n",
    "auc_finalt=metrics.auc(fpr_ft, tpr_ft)\n",
    "auc_finalt"
   ]
  },
  {
   "cell_type": "markdown",
   "metadata": {
    "_uuid": "b516caf038fbbc506702ac2a716dc293ef39bbbd"
   },
   "source": [
    "### ROC CURVE"
   ]
  },
  {
   "cell_type": "code",
   "execution_count": 233,
   "metadata": {
    "_uuid": "9779629031b5b079dc0fc12494b792fb7366e58f",
    "collapsed": true
   },
   "outputs": [],
   "source": [
    "y_a=[0,0.5,1]\n",
    "x_a=y_a"
   ]
  },
  {
   "cell_type": "code",
   "execution_count": 234,
   "metadata": {
    "_uuid": "44549168c2088d4a39dcdfa2d843c3f13d6eac90",
    "scrolled": false
   },
   "outputs": [
    {
     "data": {
      "image/png": "[encoded data removed]",
      "text/plain": [
       "<matplotlib.figure.Figure at 0x36eadfd0>"
      ]
     },
     "metadata": {},
     "output_type": "display_data"
    }
   ],
   "source": [
    "plt.figure(figsize=(15,10))\n",
    "plt.plot(fpr_f,tpr_f,'b',label='TEST')\n",
    "plt.plot(x_a,y_a,'--r')\n",
    "plt.plot(fpr_ft,tpr_ft,'g',label='TRAIN')\n",
    "plt.xlabel('tpr_f')\n",
    "plt.ylabel('fpr_f')\n",
    "plt.title('AUC ')\n",
    "plt.grid()\n",
    "plt.legend()\n",
    "plt.show()"
   ]
  },
  {
   "cell_type": "markdown",
   "metadata": {
    "_uuid": "bb1b9703925f588a3e8d33f25ca7e408d89ee0a9"
   },
   "source": [
    "### CONFUSION MATRIX"
   ]
  },
  {
   "cell_type": "code",
   "execution_count": 235,
   "metadata": {
    "_uuid": "536b403605690078952025907389eb004b030999",
    "collapsed": true
   },
   "outputs": [],
   "source": [
    "pred_final\n",
    "pred_final_class=[]\n",
    "for i in range(len(pred_final)):\n",
    "    if pred_final[i]>0.5:\n",
    "        pred_final_class.append(1)\n",
    "    elif pred_final[i]<0.5:\n",
    "            pred_final_class.append(0)\n",
    "    else:\n",
    "            pred_final_class.append(np.random(1,[0,1]))\n",
    "\n",
    "\n"
   ]
  },
  {
   "cell_type": "code",
   "execution_count": 236,
   "metadata": {
    "_uuid": "5a66042c6c9374dc11641ae913283511272b4888",
    "scrolled": true
   },
   "outputs": [
    {
     "data": {
      "text/plain": [
       "array([[ 1167,  3394],\n",
       "       [ 1616, 20155]], dtype=int64)"
      ]
     },
     "execution_count": 236,
     "metadata": {},
     "output_type": "execute_result"
    }
   ],
   "source": [
    "cm = confusion_matrix(y_test, pred_final_class)\n",
    "cm"
   ]
  },
  {
   "cell_type": "code",
   "execution_count": 237,
   "metadata": {
    "_uuid": "2fdbb3368eee62536010071515e4fedb99defef8"
   },
   "outputs": [
    {
     "data": {
      "text/plain": [
       "1    21771\n",
       "0     4561\n",
       "Name: Score, dtype: int64"
      ]
     },
     "execution_count": 237,
     "metadata": {},
     "output_type": "execute_result"
    }
   ],
   "source": [
    "y_test[\"Score\"].value_counts()"
   ]
  },
  {
   "cell_type": "code",
   "execution_count": 238,
   "metadata": {
    "_uuid": "d3d820a6a99a5923b68a9f3fec0258e6bd662fc5",
    "scrolled": false
   },
   "outputs": [
    {
     "data": {
      "image/png": "[encoded data removed]",
      "text/plain": [
       "<matplotlib.figure.Figure at 0x488b7510>"
      ]
     },
     "metadata": {},
     "output_type": "display_data"
    }
   ],
   "source": [
    "import seaborn as sns\n",
    "class_label = [\"negative\", \"positive\"]\n",
    "df_cm = pd.DataFrame(cm, index = class_label, columns = class_label)\n",
    "sns.heatmap(df_cm, annot = True, fmt = \"d\")\n",
    "plt.title(\"Confusiion Matrix\")\n",
    "plt.xlabel(\"Predicted Label\")\n",
    "plt.ylabel(\"True Label\")\n",
    "plt.show()"
   ]
  },
  {
   "cell_type": "markdown",
   "metadata": {
    "_uuid": "89878768564bbe87b7d83c8323c9b2b80d2eb472"
   },
   "source": [
    "## CONCLUSION"
   ]
  },
  {
   "cell_type": "code",
   "execution_count": 239,
   "metadata": {
    "_uuid": "953b0ccdc4c39d90a85023ee4ec3f409be901585"
   },
   "outputs": [
    {
     "name": "stdout",
     "output_type": "stream",
     "text": [
      "             precision    recall  f1-score   support\n",
      "\n",
      "          0       0.42      0.26      0.32      4561\n",
      "          1       0.86      0.93      0.89     21771\n",
      "\n",
      "avg / total       0.78      0.81      0.79     26332\n",
      "\n"
     ]
    }
   ],
   "source": [
    "from sklearn.metrics import classification_report\n",
    "print(classification_report(y_test, pred_final_class))"
   ]
  },
  {
   "cell_type": "markdown",
   "metadata": {},
   "source": [
    "### [5.3.2] Applying Logistic Regression with L2 regularization on AVG W2V,<font color='red'> SET 3</font>"
   ]
  },
  {
   "cell_type": "code",
   "execution_count": 211,
   "metadata": {
    "_uuid": "e9e108056ead182b9ccf7e3d15d95416b8f83e3c",
    "collapsed": true
   },
   "outputs": [],
   "source": [
    "c=[10**4,10**3,10**2,10**1,1,10**-1,10**-2,10**-3,10**-4]\n"
   ]
  },
  {
   "cell_type": "code",
   "execution_count": 240,
   "metadata": {
    "_uuid": "1da5b2da6cded97f5d5bfe318b388056fa219732",
    "scrolled": true
   },
   "outputs": [
    {
     "name": "stdout",
     "output_type": "stream",
     "text": [
      "10000\n",
      "1000\n",
      "100\n",
      "10\n",
      "1\n",
      "0.1\n",
      "0.01\n",
      "0.001\n",
      "0.0001\n"
     ]
    }
   ],
   "source": [
    "final_standr=preprocessing.normalize(sent_vectors)\n",
    "final_standr_cv=preprocessing.normalize(sent_vectors_cv)\n",
    "final_standr_test=preprocessing.normalize(sent_vectors_test)\n",
    "\n",
    "\n",
    "auc_cv=[]\n",
    "tpr_cv=[]\n",
    "fpr_cv=[]\n",
    "tpr_tr=[]\n",
    "fpr_tr=[]\n",
    "auc_tr=[]\n",
    "\n",
    "for i in c:\n",
    "    clf= LogisticRegression(penalty='l2',C=i)\n",
    "    # fitting the model on crossvalidation train\n",
    "    clf.fit(final_standr, y_tr)\n",
    "    \n",
    "    # predict the response on the crossvalidation train\n",
    "    pred = clf.predict_proba(final_standr_cv)[:,1]\n",
    "    fpr, tpr, thresholds = metrics.roc_curve(y_cv, pred)\n",
    "    auc=metrics.auc(fpr, tpr)\n",
    "    auc_cv.append(auc)\n",
    "    tpr_cv.append(tpr)\n",
    "    fpr_cv.append(fpr)\n",
    "    \n",
    "    # predict the response on the train\n",
    "    pred = clf.predict_proba(final_standr)[:,1]\n",
    "    fpr, tpr, thresholds = metrics.roc_curve(y_tr, pred)\n",
    "    auc=metrics.auc(fpr, tpr)\n",
    "    auc_tr.append(auc)\n",
    "    tpr_tr.append(tpr)\n",
    "    fpr_tr.append(fpr)\n",
    "    print(i)\n",
    "\n",
    "#AUC\n",
    "#  https://scikit-learn.org/stable/modules/generated/sklearn.metrics.auc.html\n",
    "    "
   ]
  },
  {
   "cell_type": "markdown",
   "metadata": {
    "_uuid": "19c86f26998a3e54b5ab2d5ef399f91a07f68f41"
   },
   "source": [
    "### The hyper paramter tuning(finding best C)"
   ]
  },
  {
   "cell_type": "code",
   "execution_count": 241,
   "metadata": {
    "collapsed": true
   },
   "outputs": [],
   "source": [
    "lamb=[0.0001,0.001,0.01,0.1,1,10,100,1000,10000]"
   ]
  },
  {
   "cell_type": "code",
   "execution_count": 242,
   "metadata": {
    "_uuid": "b836530336f1c36705e3c4938382b8ccc40ecbbc",
    "collapsed": true,
    "scrolled": true
   },
   "outputs": [],
   "source": [
    "data1={'c':c,'lambda':lamb,'auc_cv':auc_cv[:],'auc_tr':auc_tr[:]}\n",
    "data_f=pd.DataFrame(data1)"
   ]
  },
  {
   "cell_type": "markdown",
   "metadata": {
    "_uuid": "255e70604ef0241b2115327289c12a498997a986"
   },
   "source": [
    "#### MAXIMUM AUC OF CROSS VALIDATION\n",
    "     C=0.01"
   ]
  },
  {
   "cell_type": "code",
   "execution_count": 243,
   "metadata": {
    "_uuid": "16756b4cb7e76c68cad50be2e7d46e69970ea32d",
    "scrolled": false
   },
   "outputs": [
    {
     "data": {
      "text/html": [
       "<div>\n",
       "<style>\n",
       "    .dataframe thead tr:only-child th {\n",
       "        text-align: right;\n",
       "    }\n",
       "\n",
       "    .dataframe thead th {\n",
       "        text-align: left;\n",
       "    }\n",
       "\n",
       "    .dataframe tbody tr th {\n",
       "        vertical-align: top;\n",
       "    }\n",
       "</style>\n",
       "<table border=\"1\" class=\"dataframe\">\n",
       "  <thead>\n",
       "    <tr style=\"text-align: right;\">\n",
       "      <th></th>\n",
       "      <th>auc_cv</th>\n",
       "      <th>auc_tr</th>\n",
       "      <th>c</th>\n",
       "      <th>lambda</th>\n",
       "    </tr>\n",
       "  </thead>\n",
       "  <tbody>\n",
       "    <tr>\n",
       "      <th>6</th>\n",
       "      <td>0.825043</td>\n",
       "      <td>0.889535</td>\n",
       "      <td>0.01</td>\n",
       "      <td>100.0</td>\n",
       "    </tr>\n",
       "  </tbody>\n",
       "</table>\n",
       "</div>"
      ],
      "text/plain": [
       "     auc_cv    auc_tr     c  lambda\n",
       "6  0.825043  0.889535  0.01   100.0"
      ]
     },
     "execution_count": 243,
     "metadata": {},
     "output_type": "execute_result"
    }
   ],
   "source": [
    "data_f[data_f['auc_cv']==data_f['auc_cv'].max()]"
   ]
  },
  {
   "cell_type": "markdown",
   "metadata": {
    "_uuid": "bba46aab8acd3b10833f1e852b2207f56ad21733"
   },
   "source": [
    "### AREA UNDER CURVE Vs Neighbours PLOT FOR TRAIN AND TEST"
   ]
  },
  {
   "cell_type": "code",
   "execution_count": 244,
   "metadata": {
    "_uuid": "bdf9270ddc7f9ac8e3aae0b055f3527cc3b42af4",
    "scrolled": false
   },
   "outputs": [
    {
     "data": {
      "image/png": "[encoded data removed]",
      "text/plain": [
       "<matplotlib.figure.Figure at 0x36f80ad0>"
      ]
     },
     "metadata": {},
     "output_type": "display_data"
    }
   ],
   "source": [
    "plt.figure(figsize=(10,6))\n",
    "plt.plot(lamb,auc_tr,'b',label='TRAIN')\n",
    "plt.plot(lamb,auc_cv,'g',label='CROSS VALIDATION')\n",
    "plt.xlabel('lambda')\n",
    "plt.ylabel('AUC')\n",
    "plt.title('Area Under Curve')\n",
    "plt.grid()\n",
    "plt.legend()\n",
    "plt.show()"
   ]
  },
  {
   "cell_type": "code",
   "execution_count": 247,
   "metadata": {
    "_uuid": "efb93630d1dd2ee6ec47069e84e941756ffa74a7"
   },
   "outputs": [
    {
     "data": {
      "text/plain": [
       "0.80079148191509419"
      ]
     },
     "execution_count": 247,
     "metadata": {},
     "output_type": "execute_result"
    }
   ],
   "source": [
    "# TESTING THE MODEL ON TEST DATA\n",
    "clf_final = LogisticRegression(penalty='l2',C=0.01)\n",
    "clf_final.fit(final_standr, y_tr)\n",
    "pred_final = clf_final.predict_proba(final_standr_test)[:,1]\n",
    "fpr_f, tpr_f, thresholds_f = metrics.roc_curve(y_test, pred_final)\n",
    "auc_final = metrics.auc(fpr_f, tpr_f)\n",
    "auc_final"
   ]
  },
  {
   "cell_type": "code",
   "execution_count": 248,
   "metadata": {
    "_uuid": "6ddeeaf9d0fcd4cd6ac677a8343eff2ccd865d01"
   },
   "outputs": [
    {
     "data": {
      "text/plain": [
       "0.88953455688585858"
      ]
     },
     "execution_count": 248,
     "metadata": {},
     "output_type": "execute_result"
    }
   ],
   "source": [
    "# TESTING THE MODEL ON TRAIN DATA\n",
    "pred_train=clf_final.predict_proba(final_standr)[:,1]\n",
    "fpr_ft, tpr_ft, thresholds_ft=metrics.roc_curve(y_tr, pred_train)\n",
    "auc_finalt=metrics.auc(fpr_ft, tpr_ft)\n",
    "auc_finalt"
   ]
  },
  {
   "cell_type": "markdown",
   "metadata": {
    "_uuid": "b516caf038fbbc506702ac2a716dc293ef39bbbd"
   },
   "source": [
    "### ROC CURVE"
   ]
  },
  {
   "cell_type": "code",
   "execution_count": 249,
   "metadata": {
    "_uuid": "9779629031b5b079dc0fc12494b792fb7366e58f",
    "collapsed": true
   },
   "outputs": [],
   "source": [
    "y_a=[0,0.5,1]\n",
    "x_a=y_a"
   ]
  },
  {
   "cell_type": "code",
   "execution_count": 250,
   "metadata": {
    "_uuid": "44549168c2088d4a39dcdfa2d843c3f13d6eac90",
    "scrolled": false
   },
   "outputs": [
    {
     "data": {
      "image/png": "[encoded data removed]",
      "text/plain": [
       "<matplotlib.figure.Figure at 0x36bc24b0>"
      ]
     },
     "metadata": {},
     "output_type": "display_data"
    }
   ],
   "source": [
    "plt.figure(figsize=(15,10))\n",
    "plt.plot(fpr_f,tpr_f,'b',label='TEST')\n",
    "plt.plot(x_a,y_a,'--r')\n",
    "plt.plot(fpr_ft,tpr_ft,'g',label='TRAIN')\n",
    "plt.xlabel('tpr_f')\n",
    "plt.ylabel('fpr_f')\n",
    "plt.title('AUC ')\n",
    "plt.grid()\n",
    "plt.legend()\n",
    "plt.show()"
   ]
  },
  {
   "cell_type": "markdown",
   "metadata": {
    "_uuid": "bb1b9703925f588a3e8d33f25ca7e408d89ee0a9"
   },
   "source": [
    "### CONFUSION MATRIX"
   ]
  },
  {
   "cell_type": "code",
   "execution_count": 251,
   "metadata": {
    "_uuid": "536b403605690078952025907389eb004b030999",
    "collapsed": true
   },
   "outputs": [],
   "source": [
    "pred_final\n",
    "pred_final_class=[]\n",
    "for i in range(len(pred_final)):\n",
    "    if pred_final[i]>0.5:\n",
    "        pred_final_class.append(1)\n",
    "    elif pred_final[i]<0.5:\n",
    "            pred_final_class.append(0)\n",
    "    else:\n",
    "            pred_final_class.append(np.random(1,[0,1]))\n",
    "\n",
    "\n"
   ]
  },
  {
   "cell_type": "code",
   "execution_count": 252,
   "metadata": {
    "_uuid": "5a66042c6c9374dc11641ae913283511272b4888",
    "scrolled": true
   },
   "outputs": [
    {
     "data": {
      "text/plain": [
       "array([[    9,  4552],\n",
       "       [    8, 21763]], dtype=int64)"
      ]
     },
     "execution_count": 252,
     "metadata": {},
     "output_type": "execute_result"
    }
   ],
   "source": [
    "cm = confusion_matrix(y_test, pred_final_class)\n",
    "cm"
   ]
  },
  {
   "cell_type": "code",
   "execution_count": 253,
   "metadata": {
    "_uuid": "2fdbb3368eee62536010071515e4fedb99defef8"
   },
   "outputs": [
    {
     "data": {
      "text/plain": [
       "1    21771\n",
       "0     4561\n",
       "Name: Score, dtype: int64"
      ]
     },
     "execution_count": 253,
     "metadata": {},
     "output_type": "execute_result"
    }
   ],
   "source": [
    "y_test[\"Score\"].value_counts()"
   ]
  },
  {
   "cell_type": "code",
   "execution_count": 254,
   "metadata": {
    "_uuid": "d3d820a6a99a5923b68a9f3fec0258e6bd662fc5",
    "scrolled": false
   },
   "outputs": [
    {
     "data": {
      "image/png": "[encoded data removed]",
      "text/plain": [
       "<matplotlib.figure.Figure at 0x36fbe0f0>"
      ]
     },
     "metadata": {},
     "output_type": "display_data"
    }
   ],
   "source": [
    "import seaborn as sns\n",
    "class_label = [\"negative\", \"positive\"]\n",
    "df_cm = pd.DataFrame(cm, index = class_label, columns = class_label)\n",
    "sns.heatmap(df_cm, annot = True, fmt = \"d\")\n",
    "plt.title(\"Confusiion Matrix\")\n",
    "plt.xlabel(\"Predicted Label\")\n",
    "plt.ylabel(\"True Label\")\n",
    "plt.show()"
   ]
  },
  {
   "cell_type": "markdown",
   "metadata": {
    "_uuid": "89878768564bbe87b7d83c8323c9b2b80d2eb472"
   },
   "source": [
    "## CONCLUSION"
   ]
  },
  {
   "cell_type": "code",
   "execution_count": 255,
   "metadata": {
    "_uuid": "953b0ccdc4c39d90a85023ee4ec3f409be901585"
   },
   "outputs": [
    {
     "name": "stdout",
     "output_type": "stream",
     "text": [
      "             precision    recall  f1-score   support\n",
      "\n",
      "          0       0.53      0.00      0.00      4561\n",
      "          1       0.83      1.00      0.91     21771\n",
      "\n",
      "avg / total       0.78      0.83      0.75     26332\n",
      "\n"
     ]
    }
   ],
   "source": [
    "from sklearn.metrics import classification_report\n",
    "print(classification_report(y_test, pred_final_class))"
   ]
  },
  {
   "cell_type": "markdown",
   "metadata": {},
   "source": [
    "## [5.4] Logistic Regression on TFIDF W2V,<font color='red'> SET 4</font>"
   ]
  },
  {
   "cell_type": "markdown",
   "metadata": {},
   "source": [
    "### [5.4.1] Applying Logistic Regression with L1 regularization on TFIDF W2V,<font color='red'> SET 4</font>"
   ]
  },
  {
   "cell_type": "code",
   "execution_count": 256,
   "metadata": {
    "_uuid": "e9e108056ead182b9ccf7e3d15d95416b8f83e3c",
    "collapsed": true
   },
   "outputs": [],
   "source": [
    "c=[10**4,10**3,10**2,10**1,1,10**-1,10**-2,10**-3,10**-4]\n"
   ]
  },
  {
   "cell_type": "code",
   "execution_count": 258,
   "metadata": {
    "_uuid": "1da5b2da6cded97f5d5bfe318b388056fa219732",
    "scrolled": true
   },
   "outputs": [
    {
     "name": "stdout",
     "output_type": "stream",
     "text": [
      "10000\n",
      "1000\n",
      "100\n",
      "10\n",
      "1\n",
      "0.1\n",
      "0.01\n",
      "0.001\n",
      "0.0001\n"
     ]
    }
   ],
   "source": [
    "final_standr=preprocessing.normalize(tfidf_sent_vectors)\n",
    "final_standr_cv=preprocessing.normalize(tfidf_sent_vectors_cv)\n",
    "final_standr_test=preprocessing.normalize(tfidf_sent_vectors_test)\n",
    "\n",
    "\n",
    "auc_cv=[]\n",
    "tpr_cv=[]\n",
    "fpr_cv=[]\n",
    "tpr_tr=[]\n",
    "fpr_tr=[]\n",
    "auc_tr=[]\n",
    "\n",
    "for i in c:\n",
    "    clf= LogisticRegression(penalty='l1',C=i)\n",
    "    # fitting the model on crossvalidation train\n",
    "    clf.fit(final_standr, y_tr)\n",
    "    \n",
    "    # predict the response on the crossvalidation train\n",
    "    pred = clf.predict_proba(final_standr_cv)[:,1]\n",
    "    fpr, tpr, thresholds = metrics.roc_curve(y_cv, pred)\n",
    "    auc=metrics.auc(fpr, tpr)\n",
    "    auc_cv.append(auc)\n",
    "    tpr_cv.append(tpr)\n",
    "    fpr_cv.append(fpr)\n",
    "    \n",
    "    # predict the response on the train\n",
    "    pred = clf.predict_proba(final_standr)[:,1]\n",
    "    fpr, tpr, thresholds = metrics.roc_curve(y_tr, pred)\n",
    "    auc=metrics.auc(fpr, tpr)\n",
    "    auc_tr.append(auc)\n",
    "    tpr_tr.append(tpr)\n",
    "    fpr_tr.append(fpr)\n",
    "    print(i)\n",
    "\n",
    "#AUC\n",
    "#  https://scikit-learn.org/stable/modules/generated/sklearn.metrics.auc.html\n",
    "    "
   ]
  },
  {
   "cell_type": "markdown",
   "metadata": {
    "_uuid": "19c86f26998a3e54b5ab2d5ef399f91a07f68f41"
   },
   "source": [
    "### The hyper paramter tuning(finding best C)"
   ]
  },
  {
   "cell_type": "code",
   "execution_count": 259,
   "metadata": {
    "collapsed": true
   },
   "outputs": [],
   "source": [
    "lamb=[0.0001,0.001,0.01,0.1,1,10,100,1000,10000]"
   ]
  },
  {
   "cell_type": "code",
   "execution_count": 260,
   "metadata": {
    "_uuid": "b836530336f1c36705e3c4938382b8ccc40ecbbc",
    "collapsed": true,
    "scrolled": true
   },
   "outputs": [],
   "source": [
    "data1={'c':c,'lambda':lamb,'auc_cv':auc_cv[:],'auc_tr':auc_tr[:]}\n",
    "data_f=pd.DataFrame(data1)"
   ]
  },
  {
   "cell_type": "markdown",
   "metadata": {
    "_uuid": "255e70604ef0241b2115327289c12a498997a986"
   },
   "source": [
    "#### MAXIMUM AUC OF CROSS VALIDATION\n",
    "     C=0.1"
   ]
  },
  {
   "cell_type": "code",
   "execution_count": 261,
   "metadata": {
    "_uuid": "16756b4cb7e76c68cad50be2e7d46e69970ea32d",
    "scrolled": false
   },
   "outputs": [
    {
     "data": {
      "text/html": [
       "<div>\n",
       "<style>\n",
       "    .dataframe thead tr:only-child th {\n",
       "        text-align: right;\n",
       "    }\n",
       "\n",
       "    .dataframe thead th {\n",
       "        text-align: left;\n",
       "    }\n",
       "\n",
       "    .dataframe tbody tr th {\n",
       "        vertical-align: top;\n",
       "    }\n",
       "</style>\n",
       "<table border=\"1\" class=\"dataframe\">\n",
       "  <thead>\n",
       "    <tr style=\"text-align: right;\">\n",
       "      <th></th>\n",
       "      <th>auc_cv</th>\n",
       "      <th>auc_tr</th>\n",
       "      <th>c</th>\n",
       "      <th>lambda</th>\n",
       "    </tr>\n",
       "  </thead>\n",
       "  <tbody>\n",
       "    <tr>\n",
       "      <th>5</th>\n",
       "      <td>0.79085</td>\n",
       "      <td>0.87249</td>\n",
       "      <td>0.1</td>\n",
       "      <td>10.0</td>\n",
       "    </tr>\n",
       "  </tbody>\n",
       "</table>\n",
       "</div>"
      ],
      "text/plain": [
       "    auc_cv   auc_tr    c  lambda\n",
       "5  0.79085  0.87249  0.1    10.0"
      ]
     },
     "execution_count": 261,
     "metadata": {},
     "output_type": "execute_result"
    }
   ],
   "source": [
    "data_f[data_f['auc_cv']==data_f['auc_cv'].max()]"
   ]
  },
  {
   "cell_type": "markdown",
   "metadata": {
    "_uuid": "bba46aab8acd3b10833f1e852b2207f56ad21733"
   },
   "source": [
    "### AREA UNDER CURVE Vs Neighbours PLOT FOR TRAIN AND TEST"
   ]
  },
  {
   "cell_type": "code",
   "execution_count": 262,
   "metadata": {
    "_uuid": "bdf9270ddc7f9ac8e3aae0b055f3527cc3b42af4",
    "scrolled": false
   },
   "outputs": [
    {
     "data": {
      "image/png": "[encoded data removed]",
      "text/plain": [
       "<matplotlib.figure.Figure at 0x36bc23f0>"
      ]
     },
     "metadata": {},
     "output_type": "display_data"
    }
   ],
   "source": [
    "plt.figure(figsize=(10,6))\n",
    "plt.plot(lamb,auc_tr,'b',label='TRAIN')\n",
    "plt.plot(lamb,auc_cv,'g',label='CROSS VALIDATION')\n",
    "plt.xlabel('lambda')\n",
    "plt.ylabel('AUC')\n",
    "plt.title('Area Under Curve')\n",
    "plt.grid()\n",
    "plt.legend()\n",
    "plt.show()"
   ]
  },
  {
   "cell_type": "code",
   "execution_count": 263,
   "metadata": {
    "_uuid": "efb93630d1dd2ee6ec47069e84e941756ffa74a7"
   },
   "outputs": [
    {
     "data": {
      "text/plain": [
       "0.74179010553646085"
      ]
     },
     "execution_count": 263,
     "metadata": {},
     "output_type": "execute_result"
    }
   ],
   "source": [
    "# TESTING THE MODEL ON TEST DATA\n",
    "clf_final = LogisticRegression(penalty='l1',C=0.1)\n",
    "clf_final.fit(final_standr, y_tr)\n",
    "pred_final = clf_final.predict_proba(final_standr_test)[:,1]\n",
    "fpr_f, tpr_f, thresholds_f = metrics.roc_curve(y_test, pred_final)\n",
    "auc_final = metrics.auc(fpr_f, tpr_f)\n",
    "auc_final"
   ]
  },
  {
   "cell_type": "code",
   "execution_count": 264,
   "metadata": {
    "_uuid": "6ddeeaf9d0fcd4cd6ac677a8343eff2ccd865d01"
   },
   "outputs": [
    {
     "data": {
      "text/plain": [
       "0.87248931696942189"
      ]
     },
     "execution_count": 264,
     "metadata": {},
     "output_type": "execute_result"
    }
   ],
   "source": [
    "# TESTING THE MODEL ON TRAIN DATA\n",
    "pred_train=clf_final.predict_proba(final_standr)[:,1]\n",
    "fpr_ft, tpr_ft, thresholds_ft=metrics.roc_curve(y_tr, pred_train)\n",
    "auc_finalt=metrics.auc(fpr_ft, tpr_ft)\n",
    "auc_finalt"
   ]
  },
  {
   "cell_type": "markdown",
   "metadata": {
    "_uuid": "b516caf038fbbc506702ac2a716dc293ef39bbbd"
   },
   "source": [
    "### ROC CURVE"
   ]
  },
  {
   "cell_type": "code",
   "execution_count": 265,
   "metadata": {
    "_uuid": "9779629031b5b079dc0fc12494b792fb7366e58f",
    "collapsed": true
   },
   "outputs": [],
   "source": [
    "y_a=[0,0.5,1]\n",
    "x_a=y_a"
   ]
  },
  {
   "cell_type": "code",
   "execution_count": 266,
   "metadata": {
    "_uuid": "44549168c2088d4a39dcdfa2d843c3f13d6eac90",
    "scrolled": false
   },
   "outputs": [
    {
     "data": {
      "image/png": "[encoded data removed]",
      "text/plain": [
       "<matplotlib.figure.Figure at 0x36cafab0>"
      ]
     },
     "metadata": {},
     "output_type": "display_data"
    }
   ],
   "source": [
    "plt.figure(figsize=(15,10))\n",
    "plt.plot(fpr_f,tpr_f,'b',label='TEST')\n",
    "plt.plot(x_a,y_a,'--r')\n",
    "plt.plot(fpr_ft,tpr_ft,'g',label='TRAIN')\n",
    "plt.xlabel('tpr_f')\n",
    "plt.ylabel('fpr_f')\n",
    "plt.title('AUC ')\n",
    "plt.grid()\n",
    "plt.legend()\n",
    "plt.show()"
   ]
  },
  {
   "cell_type": "markdown",
   "metadata": {
    "_uuid": "bb1b9703925f588a3e8d33f25ca7e408d89ee0a9"
   },
   "source": [
    "### CONFUSION MATRIX"
   ]
  },
  {
   "cell_type": "code",
   "execution_count": 267,
   "metadata": {
    "_uuid": "536b403605690078952025907389eb004b030999",
    "collapsed": true
   },
   "outputs": [],
   "source": [
    "pred_final\n",
    "pred_final_class=[]\n",
    "for i in range(len(pred_final)):\n",
    "    if pred_final[i]>0.5:\n",
    "        pred_final_class.append(1)\n",
    "    elif pred_final[i]<0.5:\n",
    "            pred_final_class.append(0)\n",
    "    else:\n",
    "            pred_final_class.append(np.random(1,[0,1]))\n",
    "\n",
    "\n"
   ]
  },
  {
   "cell_type": "code",
   "execution_count": 268,
   "metadata": {
    "_uuid": "5a66042c6c9374dc11641ae913283511272b4888",
    "scrolled": true
   },
   "outputs": [
    {
     "data": {
      "text/plain": [
       "array([[ 1309,  3252],\n",
       "       [ 2116, 19655]], dtype=int64)"
      ]
     },
     "execution_count": 268,
     "metadata": {},
     "output_type": "execute_result"
    }
   ],
   "source": [
    "cm = confusion_matrix(y_test, pred_final_class)\n",
    "cm"
   ]
  },
  {
   "cell_type": "code",
   "execution_count": 269,
   "metadata": {
    "_uuid": "2fdbb3368eee62536010071515e4fedb99defef8"
   },
   "outputs": [
    {
     "data": {
      "text/plain": [
       "1    21771\n",
       "0     4561\n",
       "Name: Score, dtype: int64"
      ]
     },
     "execution_count": 269,
     "metadata": {},
     "output_type": "execute_result"
    }
   ],
   "source": [
    "y_test[\"Score\"].value_counts()"
   ]
  },
  {
   "cell_type": "code",
   "execution_count": 270,
   "metadata": {
    "_uuid": "d3d820a6a99a5923b68a9f3fec0258e6bd662fc5",
    "scrolled": false
   },
   "outputs": [
    {
     "data": {
      "image/png": "[encoded data removed]",
      "text/plain": [
       "<matplotlib.figure.Figure at 0x36fbe5d0>"
      ]
     },
     "metadata": {},
     "output_type": "display_data"
    }
   ],
   "source": [
    "import seaborn as sns\n",
    "class_label = [\"negative\", \"positive\"]\n",
    "df_cm = pd.DataFrame(cm, index = class_label, columns = class_label)\n",
    "sns.heatmap(df_cm, annot = True, fmt = \"d\")\n",
    "plt.title(\"Confusiion Matrix\")\n",
    "plt.xlabel(\"Predicted Label\")\n",
    "plt.ylabel(\"True Label\")\n",
    "plt.show()"
   ]
  },
  {
   "cell_type": "markdown",
   "metadata": {
    "_uuid": "89878768564bbe87b7d83c8323c9b2b80d2eb472"
   },
   "source": [
    "## CONCLUSION"
   ]
  },
  {
   "cell_type": "code",
   "execution_count": 271,
   "metadata": {
    "_uuid": "953b0ccdc4c39d90a85023ee4ec3f409be901585"
   },
   "outputs": [
    {
     "name": "stdout",
     "output_type": "stream",
     "text": [
      "             precision    recall  f1-score   support\n",
      "\n",
      "          0       0.38      0.29      0.33      4561\n",
      "          1       0.86      0.90      0.88     21771\n",
      "\n",
      "avg / total       0.78      0.80      0.78     26332\n",
      "\n"
     ]
    }
   ],
   "source": [
    "from sklearn.metrics import classification_report\n",
    "print(classification_report(y_test, pred_final_class))"
   ]
  },
  {
   "cell_type": "markdown",
   "metadata": {},
   "source": [
    "### [5.4.2] Applying Logistic Regression with L2 regularization on TFIDF W2V,<font color='red'> SET 4</font>"
   ]
  },
  {
   "cell_type": "code",
   "execution_count": 256,
   "metadata": {
    "_uuid": "e9e108056ead182b9ccf7e3d15d95416b8f83e3c",
    "collapsed": true
   },
   "outputs": [],
   "source": [
    "c=[10**4,10**3,10**2,10**1,1,10**-1,10**-2,10**-3,10**-4]\n"
   ]
  },
  {
   "cell_type": "code",
   "execution_count": 305,
   "metadata": {
    "_uuid": "1da5b2da6cded97f5d5bfe318b388056fa219732",
    "scrolled": true
   },
   "outputs": [
    {
     "name": "stdout",
     "output_type": "stream",
     "text": [
      "10000\n",
      "1000\n",
      "100\n",
      "10\n",
      "1\n",
      "0.1\n",
      "0.01\n",
      "0.001\n",
      "0.0001\n"
     ]
    }
   ],
   "source": [
    "final_standr=preprocessing.normalize(tfidf_sent_vectors)\n",
    "final_standr_cv=preprocessing.normalize(tfidf_sent_vectors_cv)\n",
    "final_standr_test=preprocessing.normalize(tfidf_sent_vectors_test)\n",
    "\n",
    "\n",
    "auc_cv=[]\n",
    "tpr_cv=[]\n",
    "fpr_cv=[]\n",
    "tpr_tr=[]\n",
    "fpr_tr=[]\n",
    "auc_tr=[]\n",
    "\n",
    "for i in c:\n",
    "    clf= LogisticRegression(penalty='l2',C=i)\n",
    "    # fitting the model on crossvalidation train\n",
    "    clf.fit(final_standr, y_tr)\n",
    "    \n",
    "    # predict the response on the crossvalidation train\n",
    "    pred = clf.predict_proba(final_standr_cv)[:,1]\n",
    "    fpr, tpr, thresholds = metrics.roc_curve(y_cv, pred)\n",
    "    auc=metrics.auc(fpr, tpr)\n",
    "    auc_cv.append(auc)\n",
    "    tpr_cv.append(tpr)\n",
    "    fpr_cv.append(fpr)\n",
    "    \n",
    "    # predict the response on the train\n",
    "    pred = clf.predict_proba(final_standr)[:,1]\n",
    "    fpr, tpr, thresholds = metrics.roc_curve(y_tr, pred)\n",
    "    auc=metrics.auc(fpr, tpr)\n",
    "    auc_tr.append(auc)\n",
    "    tpr_tr.append(tpr)\n",
    "    fpr_tr.append(fpr)\n",
    "    print(i)\n",
    "\n",
    "#AUC\n",
    "#  https://scikit-learn.org/stable/modules/generated/sklearn.metrics.auc.html\n",
    "    "
   ]
  },
  {
   "cell_type": "markdown",
   "metadata": {
    "_uuid": "19c86f26998a3e54b5ab2d5ef399f91a07f68f41"
   },
   "source": [
    "### The hyper paramter tuning(finding best C)"
   ]
  },
  {
   "cell_type": "code",
   "execution_count": 306,
   "metadata": {
    "collapsed": true
   },
   "outputs": [],
   "source": [
    "lamb=[0.0001,0.001,0.01,0.1,1,10,100,1000,10000]"
   ]
  },
  {
   "cell_type": "code",
   "execution_count": 307,
   "metadata": {
    "_uuid": "b836530336f1c36705e3c4938382b8ccc40ecbbc",
    "collapsed": true,
    "scrolled": true
   },
   "outputs": [],
   "source": [
    "data1={'c':c,'lambda':lamb,'auc_cv':auc_cv[:],'auc_tr':auc_tr[:]}\n",
    "data_f=pd.DataFrame(data1)"
   ]
  },
  {
   "cell_type": "markdown",
   "metadata": {
    "_uuid": "255e70604ef0241b2115327289c12a498997a986"
   },
   "source": [
    "#### MAXIMUM AUC OF CROSS VALIDATION\n",
    "     C=0.1"
   ]
  },
  {
   "cell_type": "code",
   "execution_count": 308,
   "metadata": {
    "_uuid": "16756b4cb7e76c68cad50be2e7d46e69970ea32d",
    "scrolled": false
   },
   "outputs": [
    {
     "data": {
      "text/html": [
       "<div>\n",
       "<style>\n",
       "    .dataframe thead tr:only-child th {\n",
       "        text-align: right;\n",
       "    }\n",
       "\n",
       "    .dataframe thead th {\n",
       "        text-align: left;\n",
       "    }\n",
       "\n",
       "    .dataframe tbody tr th {\n",
       "        vertical-align: top;\n",
       "    }\n",
       "</style>\n",
       "<table border=\"1\" class=\"dataframe\">\n",
       "  <thead>\n",
       "    <tr style=\"text-align: right;\">\n",
       "      <th></th>\n",
       "      <th>auc_cv</th>\n",
       "      <th>auc_tr</th>\n",
       "      <th>c</th>\n",
       "      <th>lambda</th>\n",
       "    </tr>\n",
       "  </thead>\n",
       "  <tbody>\n",
       "    <tr>\n",
       "      <th>5</th>\n",
       "      <td>0.802003</td>\n",
       "      <td>0.872022</td>\n",
       "      <td>0.1</td>\n",
       "      <td>10.0</td>\n",
       "    </tr>\n",
       "  </tbody>\n",
       "</table>\n",
       "</div>"
      ],
      "text/plain": [
       "     auc_cv    auc_tr    c  lambda\n",
       "5  0.802003  0.872022  0.1    10.0"
      ]
     },
     "execution_count": 308,
     "metadata": {},
     "output_type": "execute_result"
    }
   ],
   "source": [
    "data_f[data_f['auc_cv']==data_f['auc_cv'].max()]"
   ]
  },
  {
   "cell_type": "markdown",
   "metadata": {
    "_uuid": "bba46aab8acd3b10833f1e852b2207f56ad21733"
   },
   "source": [
    "### AREA UNDER CURVE Vs Neighbours PLOT FOR TRAIN AND TEST"
   ]
  },
  {
   "cell_type": "code",
   "execution_count": 309,
   "metadata": {
    "_uuid": "bdf9270ddc7f9ac8e3aae0b055f3527cc3b42af4",
    "scrolled": false
   },
   "outputs": [
    {
     "data": {
      "image/png": "[encoded data removed]",
      "text/plain": [
       "<matplotlib.figure.Figure at 0x3b8d1c70>"
      ]
     },
     "metadata": {},
     "output_type": "display_data"
    }
   ],
   "source": [
    "plt.figure(figsize=(10,6))\n",
    "plt.plot(lamb,auc_tr,'b',label='TRAIN')\n",
    "plt.plot(lamb,auc_cv,'g',label='CROSS VALIDATION')\n",
    "plt.xlabel('lambda')\n",
    "plt.ylabel('AUC')\n",
    "plt.title('Area Under Curve')\n",
    "plt.grid()\n",
    "plt.legend()\n",
    "plt.show()"
   ]
  },
  {
   "cell_type": "code",
   "execution_count": 310,
   "metadata": {
    "_uuid": "efb93630d1dd2ee6ec47069e84e941756ffa74a7"
   },
   "outputs": [
    {
     "data": {
      "text/plain": [
       "0.76008145660741555"
      ]
     },
     "execution_count": 310,
     "metadata": {},
     "output_type": "execute_result"
    }
   ],
   "source": [
    "# TESTING THE MODEL ON TEST DATA\n",
    "clf_final = LogisticRegression(penalty='l2',C=0.1)\n",
    "clf_final.fit(final_standr, y_tr)\n",
    "pred_final = clf_final.predict_proba(final_standr_test)[:,1]\n",
    "fpr_f, tpr_f, thresholds_f = metrics.roc_curve(y_test, pred_final)\n",
    "auc_final = metrics.auc(fpr_f, tpr_f)\n",
    "auc_final"
   ]
  },
  {
   "cell_type": "code",
   "execution_count": 311,
   "metadata": {
    "_uuid": "6ddeeaf9d0fcd4cd6ac677a8343eff2ccd865d01"
   },
   "outputs": [
    {
     "data": {
      "text/plain": [
       "0.87202187213920979"
      ]
     },
     "execution_count": 311,
     "metadata": {},
     "output_type": "execute_result"
    }
   ],
   "source": [
    "# TESTING THE MODEL ON TRAIN DATA\n",
    "pred_train=clf_final.predict_proba(final_standr)[:,1]\n",
    "fpr_ft, tpr_ft, thresholds_ft=metrics.roc_curve(y_tr, pred_train)\n",
    "auc_finalt=metrics.auc(fpr_ft, tpr_ft)\n",
    "auc_finalt"
   ]
  },
  {
   "cell_type": "markdown",
   "metadata": {
    "_uuid": "b516caf038fbbc506702ac2a716dc293ef39bbbd"
   },
   "source": [
    "### ROC CURVE"
   ]
  },
  {
   "cell_type": "code",
   "execution_count": 312,
   "metadata": {
    "_uuid": "9779629031b5b079dc0fc12494b792fb7366e58f",
    "collapsed": true
   },
   "outputs": [],
   "source": [
    "y_a=[0,0.5,1]\n",
    "x_a=y_a"
   ]
  },
  {
   "cell_type": "code",
   "execution_count": 313,
   "metadata": {
    "_uuid": "44549168c2088d4a39dcdfa2d843c3f13d6eac90",
    "scrolled": false
   },
   "outputs": [
    {
     "data": {
      "image/png": "[encoded data removed]",
      "text/plain": [
       "<matplotlib.figure.Figure at 0x3b8d19f0>"
      ]
     },
     "metadata": {},
     "output_type": "display_data"
    }
   ],
   "source": [
    "plt.figure(figsize=(15,10))\n",
    "plt.plot(fpr_f,tpr_f,'b',label='TEST')\n",
    "plt.plot(x_a,y_a,'--r')\n",
    "plt.plot(fpr_ft,tpr_ft,'g',label='TRAIN')\n",
    "plt.xlabel('tpr_f')\n",
    "plt.ylabel('fpr_f')\n",
    "plt.title('AUC ')\n",
    "plt.grid()\n",
    "plt.legend()\n",
    "plt.show()"
   ]
  },
  {
   "cell_type": "markdown",
   "metadata": {
    "_uuid": "bb1b9703925f588a3e8d33f25ca7e408d89ee0a9"
   },
   "source": [
    "### CONFUSION MATRIX"
   ]
  },
  {
   "cell_type": "code",
   "execution_count": 314,
   "metadata": {
    "_uuid": "536b403605690078952025907389eb004b030999",
    "collapsed": true
   },
   "outputs": [],
   "source": [
    "pred_final\n",
    "pred_final_class=[]\n",
    "for i in range(len(pred_final)):\n",
    "    if pred_final[i]>0.5:\n",
    "        pred_final_class.append(1)\n",
    "    elif pred_final[i]<0.5:\n",
    "            pred_final_class.append(0)\n",
    "    else:\n",
    "            pred_final_class.append(np.random(1,[0,1]))\n",
    "\n",
    "\n"
   ]
  },
  {
   "cell_type": "code",
   "execution_count": 315,
   "metadata": {
    "_uuid": "5a66042c6c9374dc11641ae913283511272b4888",
    "scrolled": true
   },
   "outputs": [
    {
     "data": {
      "text/plain": [
       "array([[  733,  3828],\n",
       "       [  867, 20904]], dtype=int64)"
      ]
     },
     "execution_count": 315,
     "metadata": {},
     "output_type": "execute_result"
    }
   ],
   "source": [
    "cm = confusion_matrix(y_test, pred_final_class)\n",
    "cm"
   ]
  },
  {
   "cell_type": "code",
   "execution_count": 316,
   "metadata": {
    "_uuid": "2fdbb3368eee62536010071515e4fedb99defef8"
   },
   "outputs": [
    {
     "data": {
      "text/plain": [
       "1    21771\n",
       "0     4561\n",
       "Name: Score, dtype: int64"
      ]
     },
     "execution_count": 316,
     "metadata": {},
     "output_type": "execute_result"
    }
   ],
   "source": [
    "y_test[\"Score\"].value_counts()"
   ]
  },
  {
   "cell_type": "code",
   "execution_count": 317,
   "metadata": {
    "_uuid": "d3d820a6a99a5923b68a9f3fec0258e6bd662fc5",
    "scrolled": false
   },
   "outputs": [
    {
     "data": {
      "image/png": "[encoded data removed]",
      "text/plain": [
       "<matplotlib.figure.Figure at 0x488a46f0>"
      ]
     },
     "metadata": {},
     "output_type": "display_data"
    }
   ],
   "source": [
    "import seaborn as sns\n",
    "class_label = [\"negative\", \"positive\"]\n",
    "df_cm = pd.DataFrame(cm, index = class_label, columns = class_label)\n",
    "sns.heatmap(df_cm, annot = True, fmt = \"d\")\n",
    "plt.title(\"Confusiion Matrix\")\n",
    "plt.xlabel(\"Predicted Label\")\n",
    "plt.ylabel(\"True Label\")\n",
    "plt.show()"
   ]
  },
  {
   "cell_type": "markdown",
   "metadata": {
    "_uuid": "89878768564bbe87b7d83c8323c9b2b80d2eb472"
   },
   "source": [
    "## CONCLUSION"
   ]
  },
  {
   "cell_type": "code",
   "execution_count": 318,
   "metadata": {
    "_uuid": "953b0ccdc4c39d90a85023ee4ec3f409be901585"
   },
   "outputs": [
    {
     "name": "stdout",
     "output_type": "stream",
     "text": [
      "             precision    recall  f1-score   support\n",
      "\n",
      "          0       0.46      0.16      0.24      4561\n",
      "          1       0.85      0.96      0.90     21771\n",
      "\n",
      "avg / total       0.78      0.82      0.78     26332\n",
      "\n"
     ]
    }
   ],
   "source": [
    "from sklearn.metrics import classification_report\n",
    "print(classification_report(y_test, pred_final_class))"
   ]
  },
  {
   "cell_type": "markdown",
   "metadata": {},
   "source": [
    "# [6] Conclusions"
   ]
  },
  {
   "cell_type": "code",
   "execution_count": 319,
   "metadata": {
    "collapsed": true
   },
   "outputs": [],
   "source": [
    "from prettytable import PrettyTable\n",
    "    \n",
    "x = PrettyTable()\n",
    "\n",
    "x.field_names = [\"VECTORIZER\",\"REGULARIZER\", \"HYPERMETER  'LAMBDA' \", \"AUC\"]\n",
    "\n",
    "x.add_row([\"BOW\",'L1', 0.1, 0.48482])\n",
    "x.add_row([\"BOW\", 'L2',0.01, 0.48431])\n",
    "\n",
    "x.add_row([\"TFIDF\", 'L1',1 ,0.546472])\n",
    "x.add_row([\"TFIDF\", 'L2',100,0.59675364])\n",
    "\n",
    "x.add_row([\"AVG W2V\", 'L1', 10,0.77071954])\n",
    "x.add_row([\"AVG W2V\", 'L2',0.01,0.8007915])\n",
    "\n",
    "x.add_row([\"TFIDF W2V\", 'L1',10 , 0.741790106])\n",
    "x.add_row([\"TFIDF W2V\", 'L2',10 ,0.760081457])\n",
    "\n"
   ]
  },
  {
   "cell_type": "code",
   "execution_count": 320,
   "metadata": {
    "scrolled": false
   },
   "outputs": [
    {
     "name": "stdout",
     "output_type": "stream",
     "text": [
      "+------------+-------------+-----------------------+-------------+\n",
      "| VECTORIZER | REGULARIZER | HYPERMETER  'LAMBDA'  |     AUC     |\n",
      "+------------+-------------+-----------------------+-------------+\n",
      "|    BOW     |      L1     |          0.1          |   0.48482   |\n",
      "|    BOW     |      L2     |          0.01         |   0.48431   |\n",
      "|   TFIDF    |      L1     |           1           |   0.546472  |\n",
      "|   TFIDF    |      L2     |          100          |  0.59675364 |\n",
      "|  AVG W2V   |      L1     |           10          |  0.77071954 |\n",
      "|  AVG W2V   |      L2     |          0.01         |  0.8007915  |\n",
      "| TFIDF W2V  |      L1     |           10          | 0.741790106 |\n",
      "| TFIDF W2V  |      L2     |           10          | 0.760081457 |\n",
      "+------------+-------------+-----------------------+-------------+\n"
     ]
    }
   ],
   "source": [
    "print(x)"
   ]
  }
 ],
 "metadata": {
  "kernelspec": {
   "display_name": "Python 3",
   "language": "python",
   "name": "python3"
  },
  "language_info": {
   "codemirror_mode": {
    "name": "ipython",
    "version": 3
   },
   "file_extension": ".py",
   "mimetype": "text/x-python",
   "name": "python",
   "nbconvert_exporter": "python",
   "pygments_lexer": "ipython3",
   "version": "3.7.1"
  }
 },
 "nbformat": 4,
 "nbformat_minor": 2
}
