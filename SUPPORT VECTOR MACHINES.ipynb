{
 "cells": [
  {
   "cell_type": "markdown",
   "metadata": {
    "_uuid": "d0af16defdf421be20e2b5b591f448d594e19dc1"
   },
   "source": [
    "# Amazon Fine Food Reviews Analysis\n",
    "\n",
    "\n",
    "Data Source: https://www.kaggle.com/snap/amazon-fine-food-reviews <br>\n",
    "\n",
    "EDA: https://nycdatascience.com/blog/student-works/amazon-fine-foods-visualization/\n",
    "\n",
    "\n",
    "The Amazon Fine Food Reviews dataset consists of reviews of fine foods from Amazon.<br>\n",
    "\n",
    "Number of reviews: 568,454<br>\n",
    "Number of users: 256,059<br>\n",
    "Number of products: 74,258<br>\n",
    "Timespan: Oct 1999 - Oct 2012<br>\n",
    "Number of Attributes/Columns in data: 10 \n",
    "\n",
    "Attribute Information:\n",
    "\n",
    "1. Id\n",
    "2. ProductId - unique identifier for the product\n",
    "3. UserId - unqiue identifier for the user\n",
    "4. ProfileName\n",
    "5. HelpfulnessNumerator - number of users who found the review helpful\n",
    "6. HelpfulnessDenominator - number of users who indicated whether they found the review helpful or not\n",
    "7. Score - rating between 1 and 5\n",
    "8. Time - timestamp for the review\n",
    "9. Summary - brief summary of the review\n",
    "10. Text - text of the review\n",
    "\n",
    "\n",
    "#### Objective:\n",
    "Given a review, determine whether the review is positive (rating of 4 or 5) or negative (rating of 1 or 2).\n",
    "\n",
    "<br>\n",
    "[Q] How to determine if a review is positive or negative?<br>\n",
    "<br> \n",
    "[Ans] We could use Score/Rating. A rating of 4 or 5 can be cosnidered as a positive review. A rating of 1 or 2 can be considered as negative one. A review of rating 3 is considered nuetral and such reviews are ignored from our analysis. This is an approximate and proxy way of determining the polarity (positivity/negativity) of a review.\n",
    "\n",
    "\n"
   ]
  },
  {
   "cell_type": "markdown",
   "metadata": {
    "_uuid": "07a9d654d2a2b9eb39379f4aabc2036068451440"
   },
   "source": [
    "# [1]. Reading Data"
   ]
  },
  {
   "cell_type": "markdown",
   "metadata": {
    "_uuid": "3e2731f4325c79d0ead28d78e0584bcfad97d6ed"
   },
   "source": [
    "## [1.1] Loading the data\n",
    "\n",
    "The dataset is available in two forms\n",
    "1. .csv file\n",
    "2. SQLite Database\n",
    "\n",
    "In order to load the data, We have used the SQLITE dataset as it is easier to query the data and visualise the data efficiently.\n",
    "<br> \n",
    "\n",
    "Here as we only want to get the global sentiment of the recommendations (positive or negative), we will purposefully ignore all Scores equal to 3. If the score is above 3, then the recommendation wil be set to \"positive\". Otherwise, it will be set to \"negative\"."
   ]
  },
  {
   "cell_type": "code",
   "execution_count": 1,
   "metadata": {
    "_uuid": "46baa7fc5020efbc7dc9697d4be30df553b7f8b3"
   },
   "outputs": [],
   "source": [
    "%matplotlib inline\n",
    "import warnings\n",
    "warnings.filterwarnings(\"ignore\")\n",
    "\n",
    "\n",
    "import sqlite3\n",
    "import pandas as pd\n",
    "import numpy as np\n",
    "import nltk\n",
    "import string\n",
    "import matplotlib.pyplot as plt\n",
    "import seaborn as sns\n",
    "from sklearn.feature_extraction.text import TfidfTransformer\n",
    "from sklearn.feature_extraction.text import TfidfVectorizer\n",
    "\n",
    "from sklearn.feature_extraction.text import CountVectorizer\n",
    "from sklearn.metrics import confusion_matrix\n",
    "from sklearn import metrics\n",
    "from sklearn.metrics import roc_curve, auc\n",
    "from nltk.stem.porter import PorterStemmer\n",
    "\n",
    "import re\n",
    "# Tutorial about Python regular expressions: https://pymotw.com/2/re/\n",
    "import string\n",
    "from nltk.corpus import stopwords\n",
    "from nltk.stem import PorterStemmer\n",
    "from nltk.stem.wordnet import WordNetLemmatizer\n",
    "\n",
    "from gensim.models import Word2Vec\n",
    "from gensim.models import KeyedVectors\n",
    "import pickle\n",
    "\n",
    "from tqdm import tqdm\n",
    "import os\n"
   ]
  },
  {
   "cell_type": "code",
   "execution_count": 2,
   "metadata": {
    "_uuid": "a9f9d4181b33e7fc54041d2198216af38ceea6ab",
    "scrolled": false
   },
   "outputs": [
    {
     "name": "stdout",
     "output_type": "stream",
     "text": [
      "Number of data points in our data (50000, 10)\n"
     ]
    },
    {
     "data": {
      "text/html": [
       "<div>\n",
       "<style scoped>\n",
       "    .dataframe tbody tr th:only-of-type {\n",
       "        vertical-align: middle;\n",
       "    }\n",
       "\n",
       "    .dataframe tbody tr th {\n",
       "        vertical-align: top;\n",
       "    }\n",
       "\n",
       "    .dataframe thead th {\n",
       "        text-align: right;\n",
       "    }\n",
       "</style>\n",
       "<table border=\"1\" class=\"dataframe\">\n",
       "  <thead>\n",
       "    <tr style=\"text-align: right;\">\n",
       "      <th></th>\n",
       "      <th>Id</th>\n",
       "      <th>ProductId</th>\n",
       "      <th>UserId</th>\n",
       "      <th>ProfileName</th>\n",
       "      <th>HelpfulnessNumerator</th>\n",
       "      <th>HelpfulnessDenominator</th>\n",
       "      <th>Score</th>\n",
       "      <th>Time</th>\n",
       "      <th>Summary</th>\n",
       "      <th>Text</th>\n",
       "    </tr>\n",
       "  </thead>\n",
       "  <tbody>\n",
       "    <tr>\n",
       "      <th>0</th>\n",
       "      <td>1</td>\n",
       "      <td>B001E4KFG0</td>\n",
       "      <td>A3SGXH7AUHU8GW</td>\n",
       "      <td>delmartian</td>\n",
       "      <td>1</td>\n",
       "      <td>1</td>\n",
       "      <td>1</td>\n",
       "      <td>1303862400</td>\n",
       "      <td>Good Quality Dog Food</td>\n",
       "      <td>I have bought several of the Vitality canned d...</td>\n",
       "    </tr>\n",
       "    <tr>\n",
       "      <th>1</th>\n",
       "      <td>2</td>\n",
       "      <td>B00813GRG4</td>\n",
       "      <td>A1D87F6ZCVE5NK</td>\n",
       "      <td>dll pa</td>\n",
       "      <td>0</td>\n",
       "      <td>0</td>\n",
       "      <td>0</td>\n",
       "      <td>1346976000</td>\n",
       "      <td>Not as Advertised</td>\n",
       "      <td>Product arrived labeled as Jumbo Salted Peanut...</td>\n",
       "    </tr>\n",
       "    <tr>\n",
       "      <th>2</th>\n",
       "      <td>3</td>\n",
       "      <td>B000LQOCH0</td>\n",
       "      <td>ABXLMWJIXXAIN</td>\n",
       "      <td>Natalia Corres \"Natalia Corres\"</td>\n",
       "      <td>1</td>\n",
       "      <td>1</td>\n",
       "      <td>1</td>\n",
       "      <td>1219017600</td>\n",
       "      <td>\"Delight\" says it all</td>\n",
       "      <td>This is a confection that has been around a fe...</td>\n",
       "    </tr>\n",
       "  </tbody>\n",
       "</table>\n",
       "</div>"
      ],
      "text/plain": [
       "   Id   ProductId          UserId                      ProfileName  \\\n",
       "0   1  B001E4KFG0  A3SGXH7AUHU8GW                       delmartian   \n",
       "1   2  B00813GRG4  A1D87F6ZCVE5NK                           dll pa   \n",
       "2   3  B000LQOCH0   ABXLMWJIXXAIN  Natalia Corres \"Natalia Corres\"   \n",
       "\n",
       "   HelpfulnessNumerator  HelpfulnessDenominator  Score        Time  \\\n",
       "0                     1                       1      1  1303862400   \n",
       "1                     0                       0      0  1346976000   \n",
       "2                     1                       1      1  1219017600   \n",
       "\n",
       "                 Summary                                               Text  \n",
       "0  Good Quality Dog Food  I have bought several of the Vitality canned d...  \n",
       "1      Not as Advertised  Product arrived labeled as Jumbo Salted Peanut...  \n",
       "2  \"Delight\" says it all  This is a confection that has been around a fe...  "
      ]
     },
     "execution_count": 2,
     "metadata": {},
     "output_type": "execute_result"
    }
   ],
   "source": [
    "# using SQLite Table to read data.\n",
    "con = sqlite3.connect('database.sqlite') \n",
    "\n",
    "# filtering only positive and negative reviews i.e. \n",
    "# not taking into consideration those reviews with Score=3\n",
    "# SELECT * FROM Reviews WHERE Score != 3 LIMIT 500000, will give top 500000 data points\n",
    "# you can change the number to any other number based on your computing power\n",
    "\n",
    "filtered_data = pd.read_sql_query(\"\"\" SELECT * FROM Reviews WHERE Score != 3 LIMIT 50000\"\"\", con) \n",
    "\n",
    "# Give reviews with Score>3 a positive rating(1), and reviews with a score<3 a negative rating(0).\n",
    "def partition(x):\n",
    "    if x < 3:\n",
    "        return 0\n",
    "    return 1\n",
    "\n",
    "#changing reviews with score less than 3 to be positive and vice-versa\n",
    "actualScore = filtered_data['Score']\n",
    "positiveNegative = actualScore.map(partition) \n",
    "filtered_data['Score'] = positiveNegative\n",
    "print(\"Number of data points in our data\", filtered_data.shape)\n",
    "filtered_data.head(3)"
   ]
  },
  {
   "cell_type": "markdown",
   "metadata": {
    "_uuid": "f4c90304e96e42ad2c45950431780f346d746f1b"
   },
   "source": [
    "### FEATURES OF DATA "
   ]
  },
  {
   "cell_type": "code",
   "execution_count": 3,
   "metadata": {
    "_uuid": "2717c52e75af79605b0971ae164f7faee13f3eaf"
   },
   "outputs": [
    {
     "data": {
      "text/plain": [
       "Index(['Id', 'ProductId', 'UserId', 'ProfileName', 'HelpfulnessNumerator',\n",
       "       'HelpfulnessDenominator', 'Score', 'Time', 'Summary', 'Text'],\n",
       "      dtype='object')"
      ]
     },
     "execution_count": 3,
     "metadata": {},
     "output_type": "execute_result"
    }
   ],
   "source": [
    "filtered_data.columns"
   ]
  },
  {
   "cell_type": "code",
   "execution_count": 4,
   "metadata": {
    "_uuid": "682ebe24c8f1bc744b68d83857c386bd560fa53d"
   },
   "outputs": [],
   "source": [
    "display = pd.read_sql_query(\"\"\"\n",
    "SELECT UserId, ProductId, ProfileName, Time, Score, Text, COUNT(*)\n",
    "FROM Reviews\n",
    "GROUP BY UserId\n",
    "HAVING COUNT(*)>1\n",
    "\"\"\", con)"
   ]
  },
  {
   "cell_type": "code",
   "execution_count": 5,
   "metadata": {
    "_uuid": "f421cc133cbc852ec5476e9b8692143a975ca581",
    "scrolled": false
   },
   "outputs": [
    {
     "name": "stdout",
     "output_type": "stream",
     "text": [
      "(80668, 7)\n"
     ]
    },
    {
     "data": {
      "text/html": [
       "<div>\n",
       "<style scoped>\n",
       "    .dataframe tbody tr th:only-of-type {\n",
       "        vertical-align: middle;\n",
       "    }\n",
       "\n",
       "    .dataframe tbody tr th {\n",
       "        vertical-align: top;\n",
       "    }\n",
       "\n",
       "    .dataframe thead th {\n",
       "        text-align: right;\n",
       "    }\n",
       "</style>\n",
       "<table border=\"1\" class=\"dataframe\">\n",
       "  <thead>\n",
       "    <tr style=\"text-align: right;\">\n",
       "      <th></th>\n",
       "      <th>UserId</th>\n",
       "      <th>ProductId</th>\n",
       "      <th>ProfileName</th>\n",
       "      <th>Time</th>\n",
       "      <th>Score</th>\n",
       "      <th>Text</th>\n",
       "      <th>COUNT(*)</th>\n",
       "    </tr>\n",
       "  </thead>\n",
       "  <tbody>\n",
       "    <tr>\n",
       "      <th>0</th>\n",
       "      <td>#oc-R115TNMSPFT9I7</td>\n",
       "      <td>B005ZBZLT4</td>\n",
       "      <td>Breyton</td>\n",
       "      <td>1331510400</td>\n",
       "      <td>2</td>\n",
       "      <td>Overall its just OK when considering the price...</td>\n",
       "      <td>2</td>\n",
       "    </tr>\n",
       "    <tr>\n",
       "      <th>1</th>\n",
       "      <td>#oc-R11D9D7SHXIJB9</td>\n",
       "      <td>B005HG9ESG</td>\n",
       "      <td>Louis E. Emory \"hoppy\"</td>\n",
       "      <td>1342396800</td>\n",
       "      <td>5</td>\n",
       "      <td>My wife has recurring extreme muscle spasms, u...</td>\n",
       "      <td>3</td>\n",
       "    </tr>\n",
       "    <tr>\n",
       "      <th>2</th>\n",
       "      <td>#oc-R11DNU2NBKQ23Z</td>\n",
       "      <td>B005ZBZLT4</td>\n",
       "      <td>Kim Cieszykowski</td>\n",
       "      <td>1348531200</td>\n",
       "      <td>1</td>\n",
       "      <td>This coffee is horrible and unfortunately not ...</td>\n",
       "      <td>2</td>\n",
       "    </tr>\n",
       "    <tr>\n",
       "      <th>3</th>\n",
       "      <td>#oc-R11O5J5ZVQE25C</td>\n",
       "      <td>B005HG9ESG</td>\n",
       "      <td>Penguin Chick</td>\n",
       "      <td>1346889600</td>\n",
       "      <td>5</td>\n",
       "      <td>This will be the bottle that you grab from the...</td>\n",
       "      <td>3</td>\n",
       "    </tr>\n",
       "    <tr>\n",
       "      <th>4</th>\n",
       "      <td>#oc-R12KPBODL2B5ZD</td>\n",
       "      <td>B007OSBEV0</td>\n",
       "      <td>Christopher P. Presta</td>\n",
       "      <td>1348617600</td>\n",
       "      <td>1</td>\n",
       "      <td>I didnt like this coffee. Instead of telling y...</td>\n",
       "      <td>2</td>\n",
       "    </tr>\n",
       "  </tbody>\n",
       "</table>\n",
       "</div>"
      ],
      "text/plain": [
       "               UserId   ProductId             ProfileName        Time  Score  \\\n",
       "0  #oc-R115TNMSPFT9I7  B005ZBZLT4                 Breyton  1331510400      2   \n",
       "1  #oc-R11D9D7SHXIJB9  B005HG9ESG  Louis E. Emory \"hoppy\"  1342396800      5   \n",
       "2  #oc-R11DNU2NBKQ23Z  B005ZBZLT4        Kim Cieszykowski  1348531200      1   \n",
       "3  #oc-R11O5J5ZVQE25C  B005HG9ESG           Penguin Chick  1346889600      5   \n",
       "4  #oc-R12KPBODL2B5ZD  B007OSBEV0   Christopher P. Presta  1348617600      1   \n",
       "\n",
       "                                                Text  COUNT(*)  \n",
       "0  Overall its just OK when considering the price...         2  \n",
       "1  My wife has recurring extreme muscle spasms, u...         3  \n",
       "2  This coffee is horrible and unfortunately not ...         2  \n",
       "3  This will be the bottle that you grab from the...         3  \n",
       "4  I didnt like this coffee. Instead of telling y...         2  "
      ]
     },
     "execution_count": 5,
     "metadata": {},
     "output_type": "execute_result"
    }
   ],
   "source": [
    "print(display.shape)\n",
    "display.head()"
   ]
  },
  {
   "cell_type": "code",
   "execution_count": 6,
   "metadata": {
    "_uuid": "8904aae6a6e7c3def02a00a07aa0424b0d750db4",
    "scrolled": true
   },
   "outputs": [
    {
     "data": {
      "text/html": [
       "<div>\n",
       "<style scoped>\n",
       "    .dataframe tbody tr th:only-of-type {\n",
       "        vertical-align: middle;\n",
       "    }\n",
       "\n",
       "    .dataframe tbody tr th {\n",
       "        vertical-align: top;\n",
       "    }\n",
       "\n",
       "    .dataframe thead th {\n",
       "        text-align: right;\n",
       "    }\n",
       "</style>\n",
       "<table border=\"1\" class=\"dataframe\">\n",
       "  <thead>\n",
       "    <tr style=\"text-align: right;\">\n",
       "      <th></th>\n",
       "      <th>UserId</th>\n",
       "      <th>ProductId</th>\n",
       "      <th>ProfileName</th>\n",
       "      <th>Time</th>\n",
       "      <th>Score</th>\n",
       "      <th>Text</th>\n",
       "      <th>COUNT(*)</th>\n",
       "    </tr>\n",
       "  </thead>\n",
       "  <tbody>\n",
       "    <tr>\n",
       "      <th>80638</th>\n",
       "      <td>AZY10LLTJ71NX</td>\n",
       "      <td>B001ATMQK2</td>\n",
       "      <td>undertheshrine \"undertheshrine\"</td>\n",
       "      <td>1296691200</td>\n",
       "      <td>5</td>\n",
       "      <td>I bought this 6 pack because for the price tha...</td>\n",
       "      <td>5</td>\n",
       "    </tr>\n",
       "  </tbody>\n",
       "</table>\n",
       "</div>"
      ],
      "text/plain": [
       "              UserId   ProductId                      ProfileName        Time  \\\n",
       "80638  AZY10LLTJ71NX  B001ATMQK2  undertheshrine \"undertheshrine\"  1296691200   \n",
       "\n",
       "       Score                                               Text  COUNT(*)  \n",
       "80638      5  I bought this 6 pack because for the price tha...         5  "
      ]
     },
     "execution_count": 6,
     "metadata": {},
     "output_type": "execute_result"
    }
   ],
   "source": [
    "display[display['UserId']=='AZY10LLTJ71NX']"
   ]
  },
  {
   "cell_type": "code",
   "execution_count": 7,
   "metadata": {
    "_uuid": "af566a69aaac0a9c20332ccff048d3d83be0a9bf"
   },
   "outputs": [
    {
     "data": {
      "text/plain": [
       "393063"
      ]
     },
     "execution_count": 7,
     "metadata": {},
     "output_type": "execute_result"
    }
   ],
   "source": [
    "display['COUNT(*)'].sum()"
   ]
  },
  {
   "cell_type": "markdown",
   "metadata": {
    "_uuid": "395692b42f9e8e7593770307c9676b90e2934ba6"
   },
   "source": [
    "#  [2] Exploratory Data Analysis"
   ]
  },
  {
   "cell_type": "markdown",
   "metadata": {
    "_uuid": "1517e04c7680a6aa5e0b45389300e00a08954701"
   },
   "source": [
    "## [2.1] Data Cleaning: Deduplication\n",
    "\n",
    "It is observed (as shown in the table below) that the reviews data had many duplicate entries. Hence it was necessary to remove duplicates in order to get unbiased results for the analysis of the data.  Following is an example:"
   ]
  },
  {
   "cell_type": "code",
   "execution_count": 8,
   "metadata": {
    "_uuid": "a5df497f64d06e78eb9f389127e86cd6ad936f6b",
    "scrolled": false
   },
   "outputs": [
    {
     "data": {
      "text/html": [
       "<div>\n",
       "<style scoped>\n",
       "    .dataframe tbody tr th:only-of-type {\n",
       "        vertical-align: middle;\n",
       "    }\n",
       "\n",
       "    .dataframe tbody tr th {\n",
       "        vertical-align: top;\n",
       "    }\n",
       "\n",
       "    .dataframe thead th {\n",
       "        text-align: right;\n",
       "    }\n",
       "</style>\n",
       "<table border=\"1\" class=\"dataframe\">\n",
       "  <thead>\n",
       "    <tr style=\"text-align: right;\">\n",
       "      <th></th>\n",
       "      <th>Id</th>\n",
       "      <th>ProductId</th>\n",
       "      <th>UserId</th>\n",
       "      <th>ProfileName</th>\n",
       "      <th>HelpfulnessNumerator</th>\n",
       "      <th>HelpfulnessDenominator</th>\n",
       "      <th>Score</th>\n",
       "      <th>Time</th>\n",
       "      <th>Summary</th>\n",
       "      <th>Text</th>\n",
       "    </tr>\n",
       "  </thead>\n",
       "  <tbody>\n",
       "    <tr>\n",
       "      <th>0</th>\n",
       "      <td>78445</td>\n",
       "      <td>B000HDL1RQ</td>\n",
       "      <td>AR5J8UI46CURR</td>\n",
       "      <td>Geetha Krishnan</td>\n",
       "      <td>2</td>\n",
       "      <td>2</td>\n",
       "      <td>5</td>\n",
       "      <td>1199577600</td>\n",
       "      <td>LOACKER QUADRATINI VANILLA WAFERS</td>\n",
       "      <td>DELICIOUS WAFERS. I FIND THAT EUROPEAN WAFERS ...</td>\n",
       "    </tr>\n",
       "    <tr>\n",
       "      <th>1</th>\n",
       "      <td>138317</td>\n",
       "      <td>B000HDOPYC</td>\n",
       "      <td>AR5J8UI46CURR</td>\n",
       "      <td>Geetha Krishnan</td>\n",
       "      <td>2</td>\n",
       "      <td>2</td>\n",
       "      <td>5</td>\n",
       "      <td>1199577600</td>\n",
       "      <td>LOACKER QUADRATINI VANILLA WAFERS</td>\n",
       "      <td>DELICIOUS WAFERS. I FIND THAT EUROPEAN WAFERS ...</td>\n",
       "    </tr>\n",
       "    <tr>\n",
       "      <th>2</th>\n",
       "      <td>138277</td>\n",
       "      <td>B000HDOPYM</td>\n",
       "      <td>AR5J8UI46CURR</td>\n",
       "      <td>Geetha Krishnan</td>\n",
       "      <td>2</td>\n",
       "      <td>2</td>\n",
       "      <td>5</td>\n",
       "      <td>1199577600</td>\n",
       "      <td>LOACKER QUADRATINI VANILLA WAFERS</td>\n",
       "      <td>DELICIOUS WAFERS. I FIND THAT EUROPEAN WAFERS ...</td>\n",
       "    </tr>\n",
       "    <tr>\n",
       "      <th>3</th>\n",
       "      <td>73791</td>\n",
       "      <td>B000HDOPZG</td>\n",
       "      <td>AR5J8UI46CURR</td>\n",
       "      <td>Geetha Krishnan</td>\n",
       "      <td>2</td>\n",
       "      <td>2</td>\n",
       "      <td>5</td>\n",
       "      <td>1199577600</td>\n",
       "      <td>LOACKER QUADRATINI VANILLA WAFERS</td>\n",
       "      <td>DELICIOUS WAFERS. I FIND THAT EUROPEAN WAFERS ...</td>\n",
       "    </tr>\n",
       "    <tr>\n",
       "      <th>4</th>\n",
       "      <td>155049</td>\n",
       "      <td>B000PAQ75C</td>\n",
       "      <td>AR5J8UI46CURR</td>\n",
       "      <td>Geetha Krishnan</td>\n",
       "      <td>2</td>\n",
       "      <td>2</td>\n",
       "      <td>5</td>\n",
       "      <td>1199577600</td>\n",
       "      <td>LOACKER QUADRATINI VANILLA WAFERS</td>\n",
       "      <td>DELICIOUS WAFERS. I FIND THAT EUROPEAN WAFERS ...</td>\n",
       "    </tr>\n",
       "  </tbody>\n",
       "</table>\n",
       "</div>"
      ],
      "text/plain": [
       "       Id   ProductId         UserId      ProfileName  HelpfulnessNumerator  \\\n",
       "0   78445  B000HDL1RQ  AR5J8UI46CURR  Geetha Krishnan                     2   \n",
       "1  138317  B000HDOPYC  AR5J8UI46CURR  Geetha Krishnan                     2   \n",
       "2  138277  B000HDOPYM  AR5J8UI46CURR  Geetha Krishnan                     2   \n",
       "3   73791  B000HDOPZG  AR5J8UI46CURR  Geetha Krishnan                     2   \n",
       "4  155049  B000PAQ75C  AR5J8UI46CURR  Geetha Krishnan                     2   \n",
       "\n",
       "   HelpfulnessDenominator  Score        Time  \\\n",
       "0                       2      5  1199577600   \n",
       "1                       2      5  1199577600   \n",
       "2                       2      5  1199577600   \n",
       "3                       2      5  1199577600   \n",
       "4                       2      5  1199577600   \n",
       "\n",
       "                             Summary  \\\n",
       "0  LOACKER QUADRATINI VANILLA WAFERS   \n",
       "1  LOACKER QUADRATINI VANILLA WAFERS   \n",
       "2  LOACKER QUADRATINI VANILLA WAFERS   \n",
       "3  LOACKER QUADRATINI VANILLA WAFERS   \n",
       "4  LOACKER QUADRATINI VANILLA WAFERS   \n",
       "\n",
       "                                                Text  \n",
       "0  DELICIOUS WAFERS. I FIND THAT EUROPEAN WAFERS ...  \n",
       "1  DELICIOUS WAFERS. I FIND THAT EUROPEAN WAFERS ...  \n",
       "2  DELICIOUS WAFERS. I FIND THAT EUROPEAN WAFERS ...  \n",
       "3  DELICIOUS WAFERS. I FIND THAT EUROPEAN WAFERS ...  \n",
       "4  DELICIOUS WAFERS. I FIND THAT EUROPEAN WAFERS ...  "
      ]
     },
     "execution_count": 8,
     "metadata": {},
     "output_type": "execute_result"
    }
   ],
   "source": [
    "display= pd.read_sql_query(\"\"\"\n",
    "SELECT *\n",
    "FROM Reviews\n",
    "WHERE Score != 3 AND UserId=\"AR5J8UI46CURR\"\n",
    "ORDER BY ProductID\n",
    "\"\"\", con)\n",
    "display.head()"
   ]
  },
  {
   "cell_type": "markdown",
   "metadata": {
    "_uuid": "33310cb688a43bf179116ccf404fc6ebf0148441"
   },
   "source": [
    "As it can be seen above that same user has multiple reviews with same values for HelpfulnessNumerator, HelpfulnessDenominator, Score, Time, Summary and Text and on doing analysis it was found that <br>\n",
    "<br> \n",
    "ProductId=B000HDOPZG was Loacker Quadratini Vanilla Wafer Cookies, 8.82-Ounce Packages (Pack of 8)<br>\n",
    "<br> \n",
    "ProductId=B000HDL1RQ was Loacker Quadratini Lemon Wafer Cookies, 8.82-Ounce Packages (Pack of 8) and so on<br>\n",
    "\n",
    "It was inferred after analysis that reviews with same parameters other than ProductId belonged to the same product just having different flavour or quantity. Hence in order to reduce redundancy it was decided to eliminate the rows having same parameters.<br>\n",
    "\n",
    "The method used for the same was that we first sort the data according to ProductId and then just keep the first similar product review and delelte the others. for eg. in the above just the review for ProductId=B000HDL1RQ remains. This method ensures that there is only one representative for each product and deduplication without sorting would lead to possibility of different representatives still existing for the same product."
   ]
  },
  {
   "cell_type": "code",
   "execution_count": 9,
   "metadata": {
    "_uuid": "2410ee728ea452f96b98e5b9321363f02827d921"
   },
   "outputs": [],
   "source": [
    "#Sorting data according to SCORE in ascending order\n",
    "# sorted_data=filtered_data.sort_values('Score', axis=0, ascending=True, inplace=False, kind='quicksort', na_position='last')"
   ]
  },
  {
   "cell_type": "code",
   "execution_count": 10,
   "metadata": {
    "_uuid": "4913ce55ad43244d123291725fd148ae2c8f8010"
   },
   "outputs": [
    {
     "data": {
      "text/plain": [
       "1    41788\n",
       "0     8212\n",
       "Name: Score, dtype: int64"
      ]
     },
     "execution_count": 10,
     "metadata": {},
     "output_type": "execute_result"
    }
   ],
   "source": [
    "filtered_data['Score'].value_counts()"
   ]
  },
  {
   "cell_type": "code",
   "execution_count": 11,
   "metadata": {
    "_uuid": "e8b6aafa9112d12b4b90f1458889763f48298b5d"
   },
   "outputs": [],
   "source": [
    "#Sorting data according to TIME in ascending order\n",
    "sorted_data=filtered_data.sort_values('Time', axis=0, ascending=True, inplace=False, kind='quicksort', na_position='last')"
   ]
  },
  {
   "cell_type": "code",
   "execution_count": 12,
   "metadata": {
    "_uuid": "3f2b18364973531f0d208427975c5e08d0b72ea5",
    "scrolled": false
   },
   "outputs": [
    {
     "data": {
      "text/html": [
       "<div>\n",
       "<style scoped>\n",
       "    .dataframe tbody tr th:only-of-type {\n",
       "        vertical-align: middle;\n",
       "    }\n",
       "\n",
       "    .dataframe tbody tr th {\n",
       "        vertical-align: top;\n",
       "    }\n",
       "\n",
       "    .dataframe thead th {\n",
       "        text-align: right;\n",
       "    }\n",
       "</style>\n",
       "<table border=\"1\" class=\"dataframe\">\n",
       "  <thead>\n",
       "    <tr style=\"text-align: right;\">\n",
       "      <th></th>\n",
       "      <th>Id</th>\n",
       "      <th>ProductId</th>\n",
       "      <th>UserId</th>\n",
       "      <th>ProfileName</th>\n",
       "      <th>HelpfulnessNumerator</th>\n",
       "      <th>HelpfulnessDenominator</th>\n",
       "      <th>Score</th>\n",
       "      <th>Time</th>\n",
       "      <th>Summary</th>\n",
       "      <th>Text</th>\n",
       "    </tr>\n",
       "  </thead>\n",
       "  <tbody>\n",
       "    <tr>\n",
       "      <th>1146</th>\n",
       "      <td>1245</td>\n",
       "      <td>B00002Z754</td>\n",
       "      <td>A29Z5PI9BW2PU3</td>\n",
       "      <td>Robbie</td>\n",
       "      <td>7</td>\n",
       "      <td>7</td>\n",
       "      <td>1</td>\n",
       "      <td>961718400</td>\n",
       "      <td>Great Product</td>\n",
       "      <td>This was a really good idea and the final prod...</td>\n",
       "    </tr>\n",
       "    <tr>\n",
       "      <th>1145</th>\n",
       "      <td>1244</td>\n",
       "      <td>B00002Z754</td>\n",
       "      <td>A3B8RCEI0FXFI6</td>\n",
       "      <td>B G Chase</td>\n",
       "      <td>10</td>\n",
       "      <td>10</td>\n",
       "      <td>1</td>\n",
       "      <td>962236800</td>\n",
       "      <td>WOW Make your own 'slickers' !</td>\n",
       "      <td>I just received my shipment and could hardly w...</td>\n",
       "    </tr>\n",
       "    <tr>\n",
       "      <th>28087</th>\n",
       "      <td>30630</td>\n",
       "      <td>B00008RCMI</td>\n",
       "      <td>A284C7M23F0APC</td>\n",
       "      <td>A. Mendoza</td>\n",
       "      <td>0</td>\n",
       "      <td>0</td>\n",
       "      <td>1</td>\n",
       "      <td>1067040000</td>\n",
       "      <td>Best sugarless gum ever!</td>\n",
       "      <td>I love this stuff. It is sugar-free so it does...</td>\n",
       "    </tr>\n",
       "    <tr>\n",
       "      <th>28086</th>\n",
       "      <td>30629</td>\n",
       "      <td>B00008RCMI</td>\n",
       "      <td>A19E94CF5O1LY7</td>\n",
       "      <td>Andrew Arnold</td>\n",
       "      <td>0</td>\n",
       "      <td>0</td>\n",
       "      <td>1</td>\n",
       "      <td>1067040000</td>\n",
       "      <td>I've chewed this gum many times, but used?</td>\n",
       "      <td>Nothing against the product, but it does bothe...</td>\n",
       "    </tr>\n",
       "    <tr>\n",
       "      <th>38740</th>\n",
       "      <td>42069</td>\n",
       "      <td>B0000EIEQU</td>\n",
       "      <td>A1YMJX4YWCE6P4</td>\n",
       "      <td>Jim Carson \"http://www.jimcarson.com\"</td>\n",
       "      <td>12</td>\n",
       "      <td>12</td>\n",
       "      <td>1</td>\n",
       "      <td>1067558400</td>\n",
       "      <td>These limes rule!</td>\n",
       "      <td>Fresh limes are underappreciated, but a joy to...</td>\n",
       "    </tr>\n",
       "  </tbody>\n",
       "</table>\n",
       "</div>"
      ],
      "text/plain": [
       "          Id   ProductId          UserId  \\\n",
       "1146    1245  B00002Z754  A29Z5PI9BW2PU3   \n",
       "1145    1244  B00002Z754  A3B8RCEI0FXFI6   \n",
       "28087  30630  B00008RCMI  A284C7M23F0APC   \n",
       "28086  30629  B00008RCMI  A19E94CF5O1LY7   \n",
       "38740  42069  B0000EIEQU  A1YMJX4YWCE6P4   \n",
       "\n",
       "                                 ProfileName  HelpfulnessNumerator  \\\n",
       "1146                                  Robbie                     7   \n",
       "1145                               B G Chase                    10   \n",
       "28087                             A. Mendoza                     0   \n",
       "28086                          Andrew Arnold                     0   \n",
       "38740  Jim Carson \"http://www.jimcarson.com\"                    12   \n",
       "\n",
       "       HelpfulnessDenominator  Score        Time  \\\n",
       "1146                        7      1   961718400   \n",
       "1145                       10      1   962236800   \n",
       "28087                       0      1  1067040000   \n",
       "28086                       0      1  1067040000   \n",
       "38740                      12      1  1067558400   \n",
       "\n",
       "                                          Summary  \\\n",
       "1146                                Great Product   \n",
       "1145               WOW Make your own 'slickers' !   \n",
       "28087                    Best sugarless gum ever!   \n",
       "28086  I've chewed this gum many times, but used?   \n",
       "38740                           These limes rule!   \n",
       "\n",
       "                                                    Text  \n",
       "1146   This was a really good idea and the final prod...  \n",
       "1145   I just received my shipment and could hardly w...  \n",
       "28087  I love this stuff. It is sugar-free so it does...  \n",
       "28086  Nothing against the product, but it does bothe...  \n",
       "38740  Fresh limes are underappreciated, but a joy to...  "
      ]
     },
     "execution_count": 12,
     "metadata": {},
     "output_type": "execute_result"
    }
   ],
   "source": [
    "sorted_data.head()\n"
   ]
  },
  {
   "cell_type": "code",
   "execution_count": 13,
   "metadata": {
    "_uuid": "eacbf9a0d146431b823e9f63e71a068a34cf59b7"
   },
   "outputs": [
    {
     "data": {
      "text/plain": [
       "1    41788\n",
       "0     8212\n",
       "Name: Score, dtype: int64"
      ]
     },
     "execution_count": 13,
     "metadata": {},
     "output_type": "execute_result"
    }
   ],
   "source": [
    "sorted_data['Score'].value_counts()"
   ]
  },
  {
   "cell_type": "code",
   "execution_count": 14,
   "metadata": {
    "_uuid": "30443f0b8903f562782da64f907d0ed5d16b9e29"
   },
   "outputs": [
    {
     "data": {
      "text/plain": [
       "(46072, 10)"
      ]
     },
     "execution_count": 14,
     "metadata": {},
     "output_type": "execute_result"
    }
   ],
   "source": [
    "#Deduplication of entries\n",
    "final=sorted_data.drop_duplicates(subset={\"UserId\",\"ProfileName\",\"Time\",\"Text\"}, keep='first', inplace=False)\n",
    "final.shape"
   ]
  },
  {
   "cell_type": "code",
   "execution_count": 15,
   "metadata": {
    "_uuid": "c86178175c0f159fa4c408ab9542dc4b1e6d4bd8"
   },
   "outputs": [
    {
     "data": {
      "text/plain": [
       "1    38480\n",
       "0     7592\n",
       "Name: Score, dtype: int64"
      ]
     },
     "execution_count": 15,
     "metadata": {},
     "output_type": "execute_result"
    }
   ],
   "source": [
    "final['Score'].value_counts()"
   ]
  },
  {
   "cell_type": "code",
   "execution_count": 16,
   "metadata": {
    "_uuid": "502ffa6bebd36b9f156b71c49cad259de35ea43b",
    "scrolled": true
   },
   "outputs": [
    {
     "data": {
      "text/plain": [
       "92.144"
      ]
     },
     "execution_count": 16,
     "metadata": {},
     "output_type": "execute_result"
    }
   ],
   "source": [
    "#Checking to see how much % of data still remains\n",
    "(final['Id'].size*1.0)/(filtered_data['Id'].size*1.0)*100"
   ]
  },
  {
   "cell_type": "markdown",
   "metadata": {
    "_uuid": "f427e035c3f008beda8676b8731aeed18eab465f"
   },
   "source": [
    "<b>Observation:-</b> It was also seen that in two rows given below the value of HelpfulnessNumerator is greater than HelpfulnessDenominator which is not practically possible hence these two rows too are removed from calcualtions"
   ]
  },
  {
   "cell_type": "code",
   "execution_count": 17,
   "metadata": {
    "_uuid": "bbd3ba13f6ce41d4bbba2c497677a76c8a3e1f6d",
    "scrolled": true
   },
   "outputs": [
    {
     "data": {
      "text/html": [
       "<div>\n",
       "<style scoped>\n",
       "    .dataframe tbody tr th:only-of-type {\n",
       "        vertical-align: middle;\n",
       "    }\n",
       "\n",
       "    .dataframe tbody tr th {\n",
       "        vertical-align: top;\n",
       "    }\n",
       "\n",
       "    .dataframe thead th {\n",
       "        text-align: right;\n",
       "    }\n",
       "</style>\n",
       "<table border=\"1\" class=\"dataframe\">\n",
       "  <thead>\n",
       "    <tr style=\"text-align: right;\">\n",
       "      <th></th>\n",
       "      <th>Id</th>\n",
       "      <th>ProductId</th>\n",
       "      <th>UserId</th>\n",
       "      <th>ProfileName</th>\n",
       "      <th>HelpfulnessNumerator</th>\n",
       "      <th>HelpfulnessDenominator</th>\n",
       "      <th>Score</th>\n",
       "      <th>Time</th>\n",
       "      <th>Summary</th>\n",
       "      <th>Text</th>\n",
       "    </tr>\n",
       "  </thead>\n",
       "  <tbody>\n",
       "    <tr>\n",
       "      <th>0</th>\n",
       "      <td>64422</td>\n",
       "      <td>B000MIDROQ</td>\n",
       "      <td>A161DK06JJMCYF</td>\n",
       "      <td>J. E. Stephens \"Jeanne\"</td>\n",
       "      <td>3</td>\n",
       "      <td>1</td>\n",
       "      <td>5</td>\n",
       "      <td>1224892800</td>\n",
       "      <td>Bought This for My Son at College</td>\n",
       "      <td>My son loves spaghetti so I didn't hesitate or...</td>\n",
       "    </tr>\n",
       "    <tr>\n",
       "      <th>1</th>\n",
       "      <td>44737</td>\n",
       "      <td>B001EQ55RW</td>\n",
       "      <td>A2V0I904FH7ABY</td>\n",
       "      <td>Ram</td>\n",
       "      <td>3</td>\n",
       "      <td>2</td>\n",
       "      <td>4</td>\n",
       "      <td>1212883200</td>\n",
       "      <td>Pure cocoa taste with crunchy almonds inside</td>\n",
       "      <td>It was almost a 'love at first bite' - the per...</td>\n",
       "    </tr>\n",
       "  </tbody>\n",
       "</table>\n",
       "</div>"
      ],
      "text/plain": [
       "      Id   ProductId          UserId              ProfileName  \\\n",
       "0  64422  B000MIDROQ  A161DK06JJMCYF  J. E. Stephens \"Jeanne\"   \n",
       "1  44737  B001EQ55RW  A2V0I904FH7ABY                      Ram   \n",
       "\n",
       "   HelpfulnessNumerator  HelpfulnessDenominator  Score        Time  \\\n",
       "0                     3                       1      5  1224892800   \n",
       "1                     3                       2      4  1212883200   \n",
       "\n",
       "                                        Summary  \\\n",
       "0             Bought This for My Son at College   \n",
       "1  Pure cocoa taste with crunchy almonds inside   \n",
       "\n",
       "                                                Text  \n",
       "0  My son loves spaghetti so I didn't hesitate or...  \n",
       "1  It was almost a 'love at first bite' - the per...  "
      ]
     },
     "execution_count": 17,
     "metadata": {},
     "output_type": "execute_result"
    }
   ],
   "source": [
    "display= pd.read_sql_query(\"\"\"\n",
    "SELECT *\n",
    "FROM Reviews\n",
    "WHERE Score != 3 AND Id=44737 OR Id=64422\n",
    "ORDER BY ProductID\n",
    "\"\"\", con)\n",
    "\n",
    "display.head()"
   ]
  },
  {
   "cell_type": "code",
   "execution_count": 18,
   "metadata": {
    "_uuid": "3e2f32a506631b563323b704cf3958a864b83ef0"
   },
   "outputs": [],
   "source": [
    "final=final[final.HelpfulnessNumerator<=final.HelpfulnessDenominator]"
   ]
  },
  {
   "cell_type": "code",
   "execution_count": 19,
   "metadata": {
    "_uuid": "25c8d59ae4476a7969ab7a2e2e92cc83a1bf43c8",
    "scrolled": true
   },
   "outputs": [
    {
     "name": "stdout",
     "output_type": "stream",
     "text": [
      "(46071, 10)\n"
     ]
    },
    {
     "data": {
      "text/plain": [
       "1    38479\n",
       "0     7592\n",
       "Name: Score, dtype: int64"
      ]
     },
     "execution_count": 19,
     "metadata": {},
     "output_type": "execute_result"
    }
   ],
   "source": [
    "#Before starting the next phase of preprocessing lets see the number of entries left\n",
    "print(final.shape)\n",
    "\n",
    "#How many positive and negative reviews are present in our dataset?\n",
    "final['Score'].value_counts()"
   ]
  },
  {
   "cell_type": "code",
   "execution_count": 20,
   "metadata": {
    "_uuid": "7a58edb5ae948097cd1f90efc0797fe863093e18"
   },
   "outputs": [],
   "source": [
    "x=final.drop('Score',axis=1)\n",
    "y=final.filter(['Score'],axis=1)"
   ]
  },
  {
   "cell_type": "code",
   "execution_count": 21,
   "metadata": {
    "_uuid": "35cdf0ec9b2a38cfc7400f7bc382ee7c3c8115ea",
    "scrolled": true
   },
   "outputs": [
    {
     "data": {
      "text/plain": [
       "((46071, 9), (46071, 1))"
      ]
     },
     "execution_count": 21,
     "metadata": {},
     "output_type": "execute_result"
    }
   ],
   "source": [
    "x.shape,y.shape"
   ]
  },
  {
   "cell_type": "code",
   "execution_count": 22,
   "metadata": {
    "_uuid": "c6bcc9dfa710d14ba9c7cfbcd5789f80bf8c0083",
    "scrolled": false
   },
   "outputs": [
    {
     "data": {
      "text/plain": [
       "46071"
      ]
     },
     "execution_count": 22,
     "metadata": {},
     "output_type": "execute_result"
    }
   ],
   "source": [
    "len(x)"
   ]
  },
  {
   "cell_type": "code",
   "execution_count": 23,
   "metadata": {
    "_uuid": "16694732c0f757fa2ced0c96a842c901f13c3a56"
   },
   "outputs": [
    {
     "data": {
      "text/plain": [
       "32249.699999999997"
      ]
     },
     "execution_count": 23,
     "metadata": {},
     "output_type": "execute_result"
    }
   ],
   "source": [
    "0.7*46071"
   ]
  },
  {
   "cell_type": "markdown",
   "metadata": {
    "_uuid": "19344da79047c7b883a97ee6dc5269fc3e24409b"
   },
   "source": [
    "### TIME BASE SPLITTING"
   ]
  },
  {
   "cell_type": "code",
   "execution_count": 24,
   "metadata": {
    "_uuid": "449fbacbb18a001eff2836525a4240159551fda4"
   },
   "outputs": [
    {
     "data": {
      "text/plain": [
       "22574.789999999997"
      ]
     },
     "execution_count": 24,
     "metadata": {},
     "output_type": "execute_result"
    }
   ],
   "source": [
    "32249.699999999997*0.7"
   ]
  },
  {
   "cell_type": "code",
   "execution_count": 25,
   "metadata": {
    "_uuid": "7ac2c81249b91d33cd6cd82122c13a0ff05ae7bb"
   },
   "outputs": [],
   "source": [
    "x_tr=x[:22574]\n",
    "y_tr=y[:22574]\n",
    "x_cv=x[22574:32249]\n",
    "y_cv=y[22574:32249]\n",
    "x_test=x[32249:]\n",
    "y_test=y[32249:]"
   ]
  },
  {
   "cell_type": "code",
   "execution_count": 26,
   "metadata": {
    "_uuid": "95dbda74797ec1ab2b808a174a776178a9165f2a"
   },
   "outputs": [
    {
     "data": {
      "text/plain": [
       "((22574, 9), (22574, 1))"
      ]
     },
     "execution_count": 26,
     "metadata": {},
     "output_type": "execute_result"
    }
   ],
   "source": [
    "x_tr.shape,y_tr.shape"
   ]
  },
  {
   "cell_type": "code",
   "execution_count": 27,
   "metadata": {
    "_uuid": "592bb2a6fb774c6bf83cfb2461083b4046a49520"
   },
   "outputs": [],
   "source": [
    "x_ker=x[:40000]\n",
    "y_ker=y[:40000]"
   ]
  },
  {
   "cell_type": "code",
   "execution_count": 28,
   "metadata": {
    "_uuid": "2b04bf9747d8b8e499815a9df8dfd3ab74a605ed"
   },
   "outputs": [
    {
     "data": {
      "text/plain": [
       "28000.0"
      ]
     },
     "execution_count": 28,
     "metadata": {},
     "output_type": "execute_result"
    }
   ],
   "source": [
    "40000*0.7"
   ]
  },
  {
   "cell_type": "code",
   "execution_count": 29,
   "metadata": {
    "_uuid": "f35cbe282381ef7298bfdd7c14cd902dfec75743"
   },
   "outputs": [
    {
     "data": {
      "text/plain": [
       "19600.0"
      ]
     },
     "execution_count": 29,
     "metadata": {},
     "output_type": "execute_result"
    }
   ],
   "source": [
    "28000*0.7"
   ]
  },
  {
   "cell_type": "code",
   "execution_count": 30,
   "metadata": {
    "_uuid": "6599c7f64a7ac1d7a457daf1e9a032f4e32462c8"
   },
   "outputs": [],
   "source": [
    "x_ker_tr=x_ker[:19600]\n",
    "y_ker_tr=y_ker[:19600]\n",
    "x_ker_cv=x_ker[19600:28000]\n",
    "y_ker_cv=y_ker[19600:28000]\n",
    "x_ker_test=x_ker[28000:]\n",
    "y_ker_test=y_ker[28000:]"
   ]
  },
  {
   "cell_type": "code",
   "execution_count": 31,
   "metadata": {
    "_uuid": "0b6f9af14795222689055a740161a716dc5f56ab"
   },
   "outputs": [
    {
     "data": {
      "text/plain": [
       "1    19232\n",
       "0     3342\n",
       "Name: Score, dtype: int64"
      ]
     },
     "execution_count": 31,
     "metadata": {},
     "output_type": "execute_result"
    }
   ],
   "source": [
    "y_tr['Score'].value_counts()"
   ]
  },
  {
   "cell_type": "markdown",
   "metadata": {
    "_uuid": "ef334e7137ba5b557f612e7e7c2eedb6c207ca04"
   },
   "source": [
    "#  [3] Preprocessing"
   ]
  },
  {
   "cell_type": "markdown",
   "metadata": {
    "_uuid": "02673331c2a15d63d3089528c488c2741eabf3af"
   },
   "source": [
    "## [3.1].  Preprocessing Review Text\n",
    "\n",
    "Now that we have finished deduplication our data requires some preprocessing before we go on further with analysis and making the prediction model.\n",
    "\n",
    "Hence in the Preprocessing phase we do the following in the order below:-\n",
    "\n",
    "1. Begin by removing the html tags\n",
    "2. Remove any punctuations or limited set of special characters like , or . or # etc.\n",
    "3. Check if the word is made up of english letters and is not alpha-numeric\n",
    "4. Check to see if the length of the word is greater than 2 (as it was researched that there is no adjective in 2-letters)\n",
    "5. Convert the word to lowercase\n",
    "6. Remove Stopwords\n",
    "7. Finally Snowball Stemming the word (it was obsereved to be better than Porter Stemming)<br>\n",
    "\n",
    "After which we collect the words used to describe positive and negative reviews"
   ]
  },
  {
   "cell_type": "code",
   "execution_count": 32,
   "metadata": {
    "_uuid": "1525756c13828079b78884fb5ee9a93b6b26e90b"
   },
   "outputs": [
    {
     "name": "stdout",
     "output_type": "stream",
     "text": [
      "This was a really good idea and the final product is outstanding. I use the decals on my car window and everybody asks where i bought the decals i made.  Two thumbs up!\n",
      "==================================================\n",
      "If your trying to do a low carb product.  This works out great.  There are receipies on tova's website on how to make poundcake, pancakes, and a variety of other items.  They turn out pretty great.<br /><br />Try it.  It's a great product.<br /><br /> ~Donna\n",
      "==================================================\n",
      "The orange and lemon peels make this tea very hippy.  Despite  the initial oohing and ahing over the pretty blue flowers, this is a regrettable purchase.  I was hoping for a stronger bergamot component than Twinings' Earl Grey but instead I got something that seems very herbal.  Blech.  I disagree with the positive reviews.\n",
      "==================================================\n",
      "I tried to change my review to 4 stars, but I don't seem able to do that.  These are 3 oz cans of 4 different flavors of fish based catfood.  Chicken and rabbit are often more recommended for cats.  The first ingredient is fish broth, making it somewhat high in moisture.  I've heard that cats often need more water than they drink, so I'd assume its a good thing to get more moisture down them, but this is an expensive way to do it (you could just add a little water to their food).  The good news is that there appears to be no grains in the ingredient list, looks like almost all meat based (except for the usual additives).  The grains in most catfoods are thought to not be good for the cats.  This catfood is not cheap, but it appears to be a better than usual cat food.\n",
      "==================================================\n"
     ]
    }
   ],
   "source": [
    "# printing some random reviews\n",
    "sent_0 = final['Text'].values[0]\n",
    "print(sent_0)\n",
    "print(\"=\"*50)\n",
    "\n",
    "sent_1000 = final['Text'].values[1000]\n",
    "print(sent_1000)\n",
    "print(\"=\"*50)\n",
    "\n",
    "sent_1500 = final['Text'].values[1500]\n",
    "print(sent_1500)\n",
    "print(\"=\"*50)\n",
    "\n",
    "sent_4900 = final['Text'].values[4900]\n",
    "print(sent_4900)\n",
    "print(\"=\"*50)"
   ]
  },
  {
   "cell_type": "code",
   "execution_count": 33,
   "metadata": {
    "_uuid": "d878cb3769859f1e4f2ed74544b0e1b796c928ef"
   },
   "outputs": [
    {
     "name": "stdout",
     "output_type": "stream",
     "text": [
      "This was a really good idea and the final product is outstanding. I use the decals on my car window and everybody asks where i bought the decals i made.  Two thumbs up!\n"
     ]
    }
   ],
   "source": [
    "# remove urls from text python: https://stackoverflow.com/a/40823105/4084039\n",
    "sent_0 = re.sub(r\"http\\S+\", \"\", sent_0)\n",
    "sent_1000 = re.sub(r\"http\\S+\", \"\", sent_1000)\n",
    "sent_150 = re.sub(r\"http\\S+\", \"\", sent_1500)\n",
    "sent_4900 = re.sub(r\"http\\S+\", \"\", sent_4900)\n",
    "\n",
    "print(sent_0)"
   ]
  },
  {
   "cell_type": "code",
   "execution_count": 34,
   "metadata": {
    "_uuid": "cd71451a6ed21de51cbb458bf4ab3d0dd8b0698b"
   },
   "outputs": [
    {
     "name": "stdout",
     "output_type": "stream",
     "text": [
      "This was a really good idea and the final product is outstanding. I use the decals on my car window and everybody asks where i bought the decals i made.  Two thumbs up!\n",
      "==================================================\n",
      "If your trying to do a low carb product.  This works out great.  There are receipies on tova's website on how to make poundcake, pancakes, and a variety of other items.  They turn out pretty great.Try it.  It's a great product. ~Donna\n",
      "==================================================\n",
      "The orange and lemon peels make this tea very hippy.  Despite  the initial oohing and ahing over the pretty blue flowers, this is a regrettable purchase.  I was hoping for a stronger bergamot component than Twinings' Earl Grey but instead I got something that seems very herbal.  Blech.  I disagree with the positive reviews.\n",
      "==================================================\n",
      "I tried to change my review to 4 stars, but I don't seem able to do that.  These are 3 oz cans of 4 different flavors of fish based catfood.  Chicken and rabbit are often more recommended for cats.  The first ingredient is fish broth, making it somewhat high in moisture.  I've heard that cats often need more water than they drink, so I'd assume its a good thing to get more moisture down them, but this is an expensive way to do it (you could just add a little water to their food).  The good news is that there appears to be no grains in the ingredient list, looks like almost all meat based (except for the usual additives).  The grains in most catfoods are thought to not be good for the cats.  This catfood is not cheap, but it appears to be a better than usual cat food.\n"
     ]
    }
   ],
   "source": [
    "# https://stackoverflow.com/questions/16206380/python-beautifulsoup-how-to-remove-all-tags-from-an-element\n",
    "from bs4 import BeautifulSoup\n",
    "\n",
    "soup = BeautifulSoup(sent_0, 'lxml')\n",
    "text = soup.get_text()\n",
    "print(text)\n",
    "print(\"=\"*50)\n",
    "\n",
    "soup = BeautifulSoup(sent_1000, 'lxml')\n",
    "text = soup.get_text()\n",
    "print(text)\n",
    "print(\"=\"*50)\n",
    "\n",
    "soup = BeautifulSoup(sent_1500, 'lxml')\n",
    "text = soup.get_text()\n",
    "print(text)\n",
    "print(\"=\"*50)\n",
    "\n",
    "soup = BeautifulSoup(sent_4900, 'lxml')\n",
    "text = soup.get_text()\n",
    "print(text)"
   ]
  },
  {
   "cell_type": "code",
   "execution_count": 35,
   "metadata": {
    "_uuid": "a016a511b6230916ac661443e7fb536acb664eae"
   },
   "outputs": [],
   "source": [
    "# https://stackoverflow.com/a/47091490/4084039\n",
    "import re\n",
    "\n",
    "def decontracted(phrase):\n",
    "    # specific\n",
    "    phrase = re.sub(r\"won't\", \"will not\", phrase)\n",
    "    phrase = re.sub(r\"can\\'t\", \"can not\", phrase)\n",
    "\n",
    "    # general\n",
    "    phrase = re.sub(r\"n\\'t\", \" not\", phrase)\n",
    "    phrase = re.sub(r\"\\'re\", \" are\", phrase)\n",
    "    phrase = re.sub(r\"\\'s\", \" is\", phrase)\n",
    "    phrase = re.sub(r\"\\'d\", \" would\", phrase)\n",
    "    phrase = re.sub(r\"\\'ll\", \" will\", phrase)\n",
    "    phrase = re.sub(r\"\\'t\", \" not\", phrase)\n",
    "    phrase = re.sub(r\"\\'ve\", \" have\", phrase)\n",
    "    phrase = re.sub(r\"\\'m\", \" am\", phrase)\n",
    "    return phrase"
   ]
  },
  {
   "cell_type": "code",
   "execution_count": 36,
   "metadata": {
    "_uuid": "1a1068e3176ddd0bb8455b2b4a7bf5fa750e72f1"
   },
   "outputs": [
    {
     "name": "stdout",
     "output_type": "stream",
     "text": [
      "The orange and lemon peels make this tea very hippy.  Despite  the initial oohing and ahing over the pretty blue flowers, this is a regrettable purchase.  I was hoping for a stronger bergamot component than Twinings' Earl Grey but instead I got something that seems very herbal.  Blech.  I disagree with the positive reviews.\n",
      "==================================================\n"
     ]
    }
   ],
   "source": [
    "sent_1500 = decontracted(sent_1500)\n",
    "print(sent_1500)\n",
    "print(\"=\"*50)"
   ]
  },
  {
   "cell_type": "code",
   "execution_count": 37,
   "metadata": {
    "_uuid": "1e649ef6115c8da6c5c5031d4ab61e68ad14e790"
   },
   "outputs": [
    {
     "name": "stdout",
     "output_type": "stream",
     "text": [
      "This was a really good idea and the final product is outstanding. I use the decals on my car window and everybody asks where i bought the decals i made.  Two thumbs up!\n"
     ]
    }
   ],
   "source": [
    "#remove words with numbers python: https://stackoverflow.com/a/18082370/4084039\n",
    "sent_0 = re.sub(\"\\S*\\d\\S*\", \"\", sent_0).strip()\n",
    "print(sent_0)"
   ]
  },
  {
   "cell_type": "code",
   "execution_count": 38,
   "metadata": {
    "_uuid": "c35f1a2fb7c89d3cf4251e71881027be34f21abd"
   },
   "outputs": [
    {
     "name": "stdout",
     "output_type": "stream",
     "text": [
      "The orange and lemon peels make this tea very hippy Despite the initial oohing and ahing over the pretty blue flowers this is a regrettable purchase I was hoping for a stronger bergamot component than Twinings Earl Grey but instead I got something that seems very herbal Blech I disagree with the positive reviews \n"
     ]
    }
   ],
   "source": [
    "#remove spacial character: https://stackoverflow.com/a/5843547/4084039\n",
    "sent_1500 = re.sub('[^A-Za-z0-9]+', ' ', sent_1500)\n",
    "print(sent_1500)"
   ]
  },
  {
   "cell_type": "code",
   "execution_count": 39,
   "metadata": {
    "_uuid": "bf2b2db350f7b12ef7663505a88c52960d7f5d1d"
   },
   "outputs": [],
   "source": [
    "# https://gist.github.com/sebleier/554280\n",
    "# we are removing the words from the stop words list: 'no', 'nor', 'not'\n",
    "# <br /><br /> ==> after the above steps, we are getting \"br br\"\n",
    "# we are including them into stop words list\n",
    "# instead of <br /> if we have <br/> these tags would have revmoved in the 1st step\n",
    "\n",
    "stopwords= set(['br', 'the', 'i', 'me', 'my', 'myself', 'we', 'our', 'ours', 'ourselves', 'you', \"you're\", \"you've\",\\\n",
    "            \"you'll\", \"you'd\", 'your', 'yours', 'yourself', 'yourselves', 'he', 'him', 'his', 'himself', \\\n",
    "            'she', \"she's\", 'her', 'hers', 'herself', 'it', \"it's\", 'its', 'itself', 'they', 'them', 'their',\\\n",
    "            'theirs', 'themselves', 'what', 'which', 'who', 'whom', 'this', 'that', \"that'll\", 'these', 'those', \\\n",
    "            'am', 'is', 'are', 'was', 'were', 'be', 'been', 'being', 'have', 'has', 'had', 'having', 'do', 'does', \\\n",
    "            'did', 'doing', 'a', 'an', 'the', 'and', 'but', 'if', 'or', 'because', 'as', 'until', 'while', 'of', \\\n",
    "            'at', 'by', 'for', 'with', 'about', 'against', 'between', 'into', 'through', 'during', 'before', 'after',\\\n",
    "            'above', 'below', 'to', 'from', 'up', 'down', 'in', 'out', 'on', 'off', 'over', 'under', 'again', 'further',\\\n",
    "            'then', 'once', 'here', 'there', 'when', 'where', 'why', 'how', 'all', 'any', 'both', 'each', 'few', 'more',\\\n",
    "            'most', 'other', 'some', 'such', 'only', 'own', 'same', 'so', 'than', 'too', 'very', \\\n",
    "            's', 't', 'can', 'will', 'just', 'don', \"don't\", 'should', \"should've\", 'now', 'd', 'll', 'm', 'o', 're', \\\n",
    "            've', 'y', 'ain', 'aren', \"aren't\", 'couldn', \"couldn't\", 'didn', \"didn't\", 'doesn', \"doesn't\", 'hadn',\\\n",
    "            \"hadn't\", 'hasn', \"hasn't\", 'haven', \"haven't\", 'isn', \"isn't\", 'ma', 'mightn', \"mightn't\", 'mustn',\\\n",
    "            \"mustn't\", 'needn', \"needn't\", 'shan', \"shan't\", 'shouldn', \"shouldn't\", 'wasn', \"wasn't\", 'weren', \"weren't\", \\\n",
    "            'won', \"won't\", 'wouldn', \"wouldn't\"])"
   ]
  },
  {
   "cell_type": "markdown",
   "metadata": {
    "_uuid": "d8e0bdfd2aeab6ebd88f87fa5d1fd50bdb84a3f8"
   },
   "source": [
    "#### PREPROCESSING OF TRAIN DATA"
   ]
  },
  {
   "cell_type": "code",
   "execution_count": 40,
   "metadata": {
    "_uuid": "41e183e5747f5d3a68742fdd83186a8d1a39571d"
   },
   "outputs": [],
   "source": [
    "def prepro(x):\n",
    "    # Combining all the above stundents \n",
    "    from tqdm import tqdm\n",
    "    preprocessed_reviews = []\n",
    "    # tqdm is for printing the status bar\n",
    "    for sentance in tqdm(x['Text'].values):\n",
    "        sentance = re.sub(r\"http\\S+\", \"\", sentance)\n",
    "        sentance = BeautifulSoup(sentance, 'lxml').get_text()\n",
    "        sentance = decontracted(sentance)\n",
    "        sentance = re.sub(\"\\S*\\d\\S*\", \"\", sentance).strip()\n",
    "        sentance = re.sub('[^A-Za-z]+', ' ', sentance)\n",
    "        # https://gist.github.com/sebleier/554280\n",
    "        sentance = ' '.join(e.lower() for e in sentance.split() if e.lower() not in stopwords)\n",
    "        preprocessed_reviews.append(sentance.strip())\n",
    "    return preprocessed_reviews"
   ]
  },
  {
   "cell_type": "markdown",
   "metadata": {
    "_uuid": "795f087e8c33452b529e45af73c29acbf944ce4a"
   },
   "source": [
    "### PREPROCESSING TRAIN DATA"
   ]
  },
  {
   "cell_type": "code",
   "execution_count": 41,
   "metadata": {
    "_uuid": "2e9be943818a95ba123d318ec9285890b242365f"
   },
   "outputs": [
    {
     "name": "stderr",
     "output_type": "stream",
     "text": [
      "100%|██████████████████████████████████████████████████████████████████████████| 22574/22574 [00:12<00:00, 1862.61it/s]\n"
     ]
    }
   ],
   "source": [
    "preprocessed_reviews=prepro(x_tr)"
   ]
  },
  {
   "cell_type": "markdown",
   "metadata": {
    "_uuid": "fac198f50d7432c5945c3e9d8f7124a5618eb7c2"
   },
   "source": [
    "### PREPROCESSING CV DATA"
   ]
  },
  {
   "cell_type": "code",
   "execution_count": 42,
   "metadata": {
    "_uuid": "4280f3dc18f27d5ffd3cab490b3d055a567caad7"
   },
   "outputs": [
    {
     "name": "stderr",
     "output_type": "stream",
     "text": [
      "100%|████████████████████████████████████████████████████████████████████████████| 9675/9675 [00:05<00:00, 1843.57it/s]\n"
     ]
    }
   ],
   "source": [
    "preprocessed_reviews_cv=prepro(x_cv)"
   ]
  },
  {
   "cell_type": "markdown",
   "metadata": {
    "_uuid": "94390ad295e56f3bf4d1006c5ac10c7d5de7210e"
   },
   "source": [
    "### PREPROCESSING TEST DATA"
   ]
  },
  {
   "cell_type": "code",
   "execution_count": 43,
   "metadata": {
    "_uuid": "0220e6dffc05038400c50ccdd3366d47a578f5c9"
   },
   "outputs": [
    {
     "name": "stderr",
     "output_type": "stream",
     "text": [
      "100%|██████████████████████████████████████████████████████████████████████████| 13822/13822 [00:07<00:00, 1858.50it/s]\n"
     ]
    }
   ],
   "source": [
    "preprocessed_reviews_test=prepro(x_test)"
   ]
  },
  {
   "cell_type": "markdown",
   "metadata": {
    "_uuid": "6fa293bf39c2bd7894a69cda9cc1ce6ae34c765f"
   },
   "source": [
    "### PREPROCESSING KERNEL TRAIN DATA"
   ]
  },
  {
   "cell_type": "code",
   "execution_count": 44,
   "metadata": {
    "_uuid": "ade5b906a717e363fa2de7e081fbd6e2f78d8408",
    "scrolled": true
   },
   "outputs": [
    {
     "name": "stderr",
     "output_type": "stream",
     "text": [
      "100%|██████████████████████████████████████████████████████████████████████████| 19600/19600 [00:10<00:00, 1854.53it/s]\n"
     ]
    }
   ],
   "source": [
    "preprocessed_reviews_ker_tr=prepro(x_ker_tr)"
   ]
  },
  {
   "cell_type": "markdown",
   "metadata": {
    "_uuid": "26329e05d50ddc35c66e61b20b132485433a2fd4"
   },
   "source": [
    "### PREPROCESSING KERNEL CV DATA"
   ]
  },
  {
   "cell_type": "code",
   "execution_count": 45,
   "metadata": {
    "_uuid": "adefd57989b31187b2c19c29555fce9db388b632",
    "scrolled": true
   },
   "outputs": [
    {
     "name": "stderr",
     "output_type": "stream",
     "text": [
      "100%|████████████████████████████████████████████████████████████████████████████| 8400/8400 [00:04<00:00, 1903.81it/s]\n"
     ]
    }
   ],
   "source": [
    "preprocessed_reviews_ker_cv=prepro(x_ker_cv)"
   ]
  },
  {
   "cell_type": "markdown",
   "metadata": {
    "_uuid": "afc2bb870cc9c7b5867b9f9938684f122798c9d5"
   },
   "source": [
    "### PREPROCESSING KERNEL TEST DATA"
   ]
  },
  {
   "cell_type": "code",
   "execution_count": 46,
   "metadata": {
    "_uuid": "2fcb406b4107d8391c3cb18cf27cc77be0b0da9a"
   },
   "outputs": [
    {
     "name": "stderr",
     "output_type": "stream",
     "text": [
      "100%|██████████████████████████████████████████████████████████████████████████| 12000/12000 [00:06<00:00, 1979.25it/s]\n"
     ]
    }
   ],
   "source": [
    "preprocessed_reviews_ker_test=prepro(x_ker_test)"
   ]
  },
  {
   "cell_type": "markdown",
   "metadata": {
    "_uuid": "6c767940bce6e335fb6e37f91db5f2a85816ae96"
   },
   "source": [
    "<h2><font color='red'>[3.2] Preprocessing Review Summary</font></h2>"
   ]
  },
  {
   "cell_type": "markdown",
   "metadata": {
    "_uuid": "520c563cd1a0989e6d4f71c63e967df8e8acc5a9",
    "collapsed": true
   },
   "source": [
    "## Similartly you can do preprocessing for review summary also."
   ]
  },
  {
   "cell_type": "markdown",
   "metadata": {
    "_uuid": "9cbe6b17ce497e13e9cbec1631a054122c63a63c"
   },
   "source": [
    "# [4] Featurization"
   ]
  },
  {
   "cell_type": "markdown",
   "metadata": {
    "_uuid": "601e7c3f97ddd8c064001d3e827710950dd41c70"
   },
   "source": [
    "## [4.1] BAG OF WORDS"
   ]
  },
  {
   "cell_type": "markdown",
   "metadata": {
    "_uuid": "402991df943d95fa95aa0a9ac7f6897defedad79"
   },
   "source": [
    "# FOR LINEAR SVM"
   ]
  },
  {
   "cell_type": "markdown",
   "metadata": {
    "_uuid": "5ab6ab1f127a4dd370085e438000747aadd7b44a"
   },
   "source": [
    "#### VECTORIZING FOR  TRAIN DATA IN BOW"
   ]
  },
  {
   "cell_type": "code",
   "execution_count": 47,
   "metadata": {
    "_uuid": "8f3ae38dd5a3a3b9bc2b1fd10400ea129d257034",
    "scrolled": false
   },
   "outputs": [
    {
     "name": "stdout",
     "output_type": "stream",
     "text": [
      "some feature names  ['aa', 'aaaa', 'aaaaaaaaaaaaaaa', 'aaaaah', 'aaaand', 'aachen', 'aadp', 'aaf', 'aafco', 'aahing']\n",
      "==================================================\n",
      "the type of count vectorizer  <class 'scipy.sparse.csr.csr_matrix'>\n",
      "the shape of out text BOW vectorizer  (22574, 18420)\n",
      "the number of unique words  18420\n"
     ]
    }
   ],
   "source": [
    "#BoW\n",
    "count_vect = CountVectorizer(max_features=18420) #in scikit-learn\n",
    "count_vect.fit(preprocessed_reviews)\n",
    "print(\"some feature names \", count_vect.get_feature_names()[:10])\n",
    "print('='*50)\n",
    "\n",
    "final_counts = count_vect.fit_transform(preprocessed_reviews)\n",
    "print(\"the type of count vectorizer \",type(final_counts))\n",
    "print(\"the shape of out text BOW vectorizer \",final_counts.get_shape())\n",
    "print(\"the number of unique words \", final_counts.get_shape()[1])"
   ]
  },
  {
   "cell_type": "markdown",
   "metadata": {
    "_uuid": "253287d11f38a90e4716be7d82db021884b8e508"
   },
   "source": [
    "#### VECTORIZING FOR CV DATA IN BOW"
   ]
  },
  {
   "cell_type": "code",
   "execution_count": 48,
   "metadata": {
    "_uuid": "8feb9ed7cedd44742e980bc6637f097cb8c8196b"
   },
   "outputs": [
    {
     "name": "stdout",
     "output_type": "stream",
     "text": [
      "some feature names  ['aa', 'aaa', 'aaaaa', 'aaaaaaaaaaaa', 'aaaaaaahhhhhh', 'aaaaaawwwwwwwwww', 'aaah', 'aahs', 'aarthur', 'aback']\n",
      "==================================================\n",
      "the type of count vectorizer  <class 'scipy.sparse.csr.csr_matrix'>\n",
      "the shape of out text BOW vectorizer  (9675, 18420)\n",
      "the number of unique words  18420\n"
     ]
    }
   ],
   "source": [
    "#BoW\n",
    "count_vect.fit(preprocessed_reviews_cv)\n",
    "print(\"some feature names \", count_vect.get_feature_names()[:10])\n",
    "print('='*50)\n",
    "\n",
    "final_counts_cv = count_vect.transform(preprocessed_reviews_cv)\n",
    "print(\"the type of count vectorizer \",type(final_counts_cv))\n",
    "print(\"the shape of out text BOW vectorizer \",final_counts_cv.get_shape())\n",
    "print(\"the number of unique words \", final_counts_cv.get_shape()[1])"
   ]
  },
  {
   "cell_type": "markdown",
   "metadata": {
    "_uuid": "7bf34c560867d4add29d60031c081eb0b65a8d52"
   },
   "source": [
    "#### VECTORIZING FOR TEST DATA IN BOW"
   ]
  },
  {
   "cell_type": "code",
   "execution_count": 49,
   "metadata": {
    "_uuid": "6c28d253b7642caa790710c69e04bd6a68333c4e",
    "scrolled": true
   },
   "outputs": [
    {
     "name": "stdout",
     "output_type": "stream",
     "text": [
      "some feature names  ['aa', 'aaa', 'aaaa', 'aafco', 'aah', 'aahhhs', 'aback', 'abandoned', 'abates', 'abb']\n",
      "==================================================\n",
      "the type of count vectorizer  <class 'scipy.sparse.csr.csr_matrix'>\n",
      "the shape of out text BOW vectorizer  (13822, 18420)\n",
      "the number of unique words  18420\n"
     ]
    }
   ],
   "source": [
    " #in scikit-learn\n",
    "count_vect.fit(preprocessed_reviews_test)\n",
    "print(\"some feature names \", count_vect.get_feature_names()[:10])\n",
    "print('='*50)\n",
    "\n",
    "final_counts_test= count_vect.transform(preprocessed_reviews_test)\n",
    "print(\"the type of count vectorizer \",type(final_counts_test))\n",
    "print(\"the shape of out text BOW vectorizer \",final_counts_test.get_shape())\n",
    "print(\"the number of unique words \", final_counts_test.get_shape()[1])"
   ]
  },
  {
   "cell_type": "markdown",
   "metadata": {
    "_uuid": "70f13f1442ff3668576d66528d3d5886a07335ef"
   },
   "source": [
    "## FOR KERNEL SVM"
   ]
  },
  {
   "cell_type": "markdown",
   "metadata": {
    "_uuid": "3ba9cf76105b3954e7272a358ae99aa184b0ba7f"
   },
   "source": [
    "#### VECTORIZING FOR  TRAIN DATA IN BOW"
   ]
  },
  {
   "cell_type": "code",
   "execution_count": 50,
   "metadata": {
    "_uuid": "736c9d29213b486afb5324914256b049dfb8c7e6",
    "scrolled": true
   },
   "outputs": [
    {
     "name": "stdout",
     "output_type": "stream",
     "text": [
      "some feature names  ['able', 'absolutely', 'actually', 'add', 'added', 'aftertaste', 'ago', 'almonds', 'almost', 'also']\n",
      "==================================================\n",
      "the type of count vectorizer  <class 'scipy.sparse.csr.csr_matrix'>\n",
      "the shape of out text BOW vectorizer  (19600, 500)\n",
      "the number of unique words  500\n"
     ]
    }
   ],
   "source": [
    "#BoW\n",
    "count_vect_ker= CountVectorizer(min_df=10,max_features=500) #in scikit-learn\n",
    "count_vect_ker.fit(preprocessed_reviews_ker_tr)\n",
    "print(\"some feature names \", count_vect_ker.get_feature_names()[:10])\n",
    "print('='*50)\n",
    "\n",
    "final_counts_ker = count_vect_ker.fit_transform(preprocessed_reviews_ker_tr)\n",
    "print(\"the type of count vectorizer \",type(final_counts_ker))\n",
    "print(\"the shape of out text BOW vectorizer \",final_counts_ker.get_shape())\n",
    "print(\"the number of unique words \", final_counts_ker.get_shape()[1])"
   ]
  },
  {
   "cell_type": "markdown",
   "metadata": {
    "_uuid": "2e43013c6aa52ee8342a734355ddf9333dd550e8"
   },
   "source": [
    "#### VECTORIZING FOR CV DATA IN BOW"
   ]
  },
  {
   "cell_type": "code",
   "execution_count": 51,
   "metadata": {
    "_uuid": "075c6db8d6a70d62e16f48cf807a7becbd9e9fef"
   },
   "outputs": [
    {
     "name": "stdout",
     "output_type": "stream",
     "text": [
      "some feature names  ['able', 'absolutely', 'acid', 'actually', 'add', 'added', 'adding', 'aftertaste', 'ago', 'almost']\n",
      "==================================================\n",
      "the type of count vectorizer  <class 'scipy.sparse.csr.csr_matrix'>\n",
      "the shape of out text BOW vectorizer  (8400, 500)\n",
      "the number of unique words  500\n"
     ]
    }
   ],
   "source": [
    "#BoW\n",
    "count_vect_ker.fit(preprocessed_reviews_ker_cv)\n",
    "print(\"some feature names \", count_vect_ker.get_feature_names()[:10])\n",
    "print('='*50)\n",
    "\n",
    "final_counts_cv_ker = count_vect_ker.transform(preprocessed_reviews_ker_cv)\n",
    "print(\"the type of count vectorizer \",type(final_counts_cv_ker))\n",
    "print(\"the shape of out text BOW vectorizer \",final_counts_cv_ker.get_shape())\n",
    "print(\"the number of unique words \", final_counts_cv_ker.get_shape()[1])"
   ]
  },
  {
   "cell_type": "markdown",
   "metadata": {
    "_uuid": "59da17dd749906e1cd31a8b9e4afd1e8cb349726"
   },
   "source": [
    "#### VECTORIZING FOR TEST DATA IN BOW"
   ]
  },
  {
   "cell_type": "code",
   "execution_count": 52,
   "metadata": {
    "_uuid": "17e423029e8125d8e7f20548c0f5495841c7bb15",
    "scrolled": true
   },
   "outputs": [
    {
     "name": "stdout",
     "output_type": "stream",
     "text": [
      "some feature names  ['able', 'absolutely', 'actually', 'add', 'added', 'adding', 'aftertaste', 'ago', 'almonds', 'almost']\n",
      "==================================================\n",
      "the type of count vectorizer  <class 'scipy.sparse.csr.csr_matrix'>\n",
      "the shape of out text BOW vectorizer  (12000, 500)\n",
      "the number of unique words  500\n"
     ]
    }
   ],
   "source": [
    " #in scikit-learn\n",
    "count_vect_ker.fit(preprocessed_reviews_ker_test)\n",
    "print(\"some feature names \", count_vect_ker.get_feature_names()[:10])\n",
    "print('='*50)\n",
    "\n",
    "final_counts_test_ker= count_vect_ker.transform(preprocessed_reviews_ker_test)\n",
    "print(\"the type of count vectorizer \",type(final_counts_test_ker))\n",
    "print(\"the shape of out text BOW vectorizer \",final_counts_test_ker.get_shape())\n",
    "print(\"the number of unique words \", final_counts_test_ker.get_shape()[1])"
   ]
  },
  {
   "cell_type": "markdown",
   "metadata": {
    "_uuid": "65b4459945c9d0f545b1b2fc93f6b9ba6f13b41a"
   },
   "source": [
    "## [4.2] Bi-Grams and n-Grams."
   ]
  },
  {
   "cell_type": "code",
   "execution_count": 53,
   "metadata": {
    "_uuid": "f0925ecbdf017eb216638185a065ac57f7372021"
   },
   "outputs": [
    {
     "name": "stdout",
     "output_type": "stream",
     "text": [
      "the type of count vectorizer  <class 'scipy.sparse.csr.csr_matrix'>\n",
      "the shape of out text BOW vectorizer  (22574, 5000)\n",
      "the number of unique words including both unigrams and bigrams  5000\n"
     ]
    }
   ],
   "source": [
    "#bi-gram, tri-gram and n-gram\n",
    "\n",
    "#removing stop words like \"not\" should be avoided before building n-grams\n",
    "# count_vect = CountVectorizer(ngram_range=(1,2))\n",
    "# please do read the CountVectorizer documentation http://scikit-learn.org/stable/modules/generated/sklearn.feature_extraction.text.CountVectorizer.html\n",
    "\n",
    "# you can choose these numebrs min_df=10, max_features=5000, of your choice\n",
    "count_vect = CountVectorizer(ngram_range=(1,2), min_df=10, max_features=5000)\n",
    "final_bigram_counts = count_vect.fit_transform(preprocessed_reviews)\n",
    "print(\"the type of count vectorizer \",type(final_bigram_counts))\n",
    "print(\"the shape of out text BOW vectorizer \",final_bigram_counts.get_shape())\n",
    "print(\"the number of unique words including both unigrams and bigrams \", final_bigram_counts.get_shape()[1])"
   ]
  },
  {
   "cell_type": "markdown",
   "metadata": {
    "_uuid": "012d18901c936b8cf9287bed4fc0639b6bf5f00b"
   },
   "source": [
    "## [4.3] TF-IDF"
   ]
  },
  {
   "cell_type": "markdown",
   "metadata": {
    "_uuid": "1b89b890a999e14bb111594a2e0a0b98b4ac2a19"
   },
   "source": [
    "## LINEAR SVM"
   ]
  },
  {
   "cell_type": "markdown",
   "metadata": {
    "_uuid": "44fcf1a565644f01990104925a6bd669db0ac5b8"
   },
   "source": [
    "#### TF-IDF FOR TRAIN DATA"
   ]
  },
  {
   "cell_type": "code",
   "execution_count": 54,
   "metadata": {
    "_uuid": "1781cdad44f3cd1fd617f6d8a73446016e82994c",
    "scrolled": true
   },
   "outputs": [
    {
     "name": "stdout",
     "output_type": "stream",
     "text": [
      "some sample features(unique words in the corpus) ['ability', 'able', 'able buy', 'able find', 'able get', 'able order', 'absolute', 'absolute favorite', 'absolutely', 'absolutely best']\n",
      "==================================================\n",
      "the type of count vectorizer  <class 'scipy.sparse.csr.csr_matrix'>\n",
      "the shape of out text TFIDF vectorizer  (22574, 5990)\n",
      "the number of unique words including both unigrams and bigrams  5990\n"
     ]
    }
   ],
   "source": [
    "tf_idf_vect = TfidfVectorizer(ngram_range=(1,2), min_df=10,max_features=5990)\n",
    "tf_idf_vect.fit_transform(preprocessed_reviews)\n",
    "print(\"some sample features(unique words in the corpus)\",tf_idf_vect.get_feature_names()[0:10])\n",
    "print('='*50)\n",
    "\n",
    "final_tf_idf = tf_idf_vect.fit_transform(preprocessed_reviews)\n",
    "print(\"the type of count vectorizer \",type(final_tf_idf))\n",
    "print(\"the shape of out text TFIDF vectorizer \",final_tf_idf.get_shape())\n",
    "print(\"the number of unique words including both unigrams and bigrams \", final_tf_idf.get_shape()[1])"
   ]
  },
  {
   "cell_type": "markdown",
   "metadata": {
    "_uuid": "e60cddb811a1dcca68371b32326ba219d1abfc18"
   },
   "source": [
    "#### TF-IDF FOR CV DATA"
   ]
  },
  {
   "cell_type": "code",
   "execution_count": 55,
   "metadata": {
    "_uuid": "f90271f7c48d7761f3c4fe6087dd828ec37e3491"
   },
   "outputs": [
    {
     "name": "stdout",
     "output_type": "stream",
     "text": [
      "some sample features(unique words in the corpus) ['ability', 'able', 'able buy', 'able drink', 'able eat', 'able find', 'able get', 'able make', 'able order', 'able use']\n",
      "==================================================\n",
      "the type of count vectorizer  <class 'scipy.sparse.csr.csr_matrix'>\n",
      "the shape of out text TFIDF vectorizer  (9675, 5990)\n",
      "the number of unique words including both unigrams and bigrams  5990\n"
     ]
    }
   ],
   "source": [
    "# tf_idf_vect = TfidfVectorizer(ngram_range=(1,2), min_df=10)\n",
    "tf_idf_vect.fit_transform(preprocessed_reviews_cv)\n",
    "print(\"some sample features(unique words in the corpus)\",tf_idf_vect.get_feature_names()[0:10])\n",
    "print('='*50)\n",
    "\n",
    "final_tf_idf_cv = tf_idf_vect.transform(preprocessed_reviews_cv)\n",
    "print(\"the type of count vectorizer \",type(final_tf_idf_cv))\n",
    "print(\"the shape of out text TFIDF vectorizer \",final_tf_idf_cv.get_shape())\n",
    "print(\"the number of unique words including both unigrams and bigrams \", final_tf_idf_cv.get_shape()[1])"
   ]
  },
  {
   "cell_type": "markdown",
   "metadata": {
    "_uuid": "891d263595cadc2570021446f7a99d68724395ad"
   },
   "source": [
    "#### TF-IDF FOR TEST DATA"
   ]
  },
  {
   "cell_type": "code",
   "execution_count": 56,
   "metadata": {
    "_uuid": "1e1db38dcac31480926c76ef54a9a56f5156114e",
    "scrolled": true
   },
   "outputs": [
    {
     "name": "stdout",
     "output_type": "stream",
     "text": [
      "some sample features(unique words in the corpus) ['able', 'able buy', 'able eat', 'able find', 'able get', 'absolute', 'absolute best', 'absolute favorite', 'absolutely', 'absolutely best']\n",
      "==================================================\n",
      "the type of count vectorizer  <class 'scipy.sparse.csr.csr_matrix'>\n",
      "the shape of out text TFIDF vectorizer  (13822, 5990)\n",
      "the number of unique words including both unigrams and bigrams  5990\n"
     ]
    }
   ],
   "source": [
    "tf_idf_vect.fit_transform(preprocessed_reviews_test)\n",
    "print(\"some sample features(unique words in the corpus)\",tf_idf_vect.get_feature_names()[0:10])\n",
    "print('='*50)\n",
    "\n",
    "final_tf_idf_test = tf_idf_vect.transform(preprocessed_reviews_test)\n",
    "print(\"the type of count vectorizer \",type(final_tf_idf_test))\n",
    "print(\"the shape of out text TFIDF vectorizer \",final_tf_idf_test.get_shape())\n",
    "print(\"the number of unique words including both unigrams and bigrams \", final_tf_idf_test.get_shape()[1])"
   ]
  },
  {
   "cell_type": "markdown",
   "metadata": {
    "_uuid": "84c8dfc724766e2c81279002a2bc2558e5e181b5"
   },
   "source": [
    "## KERNEL SVM"
   ]
  },
  {
   "cell_type": "code",
   "execution_count": 57,
   "metadata": {
    "_uuid": "8e5716174be988bc0f90acfcbda74899af2c24bd",
    "scrolled": true
   },
   "outputs": [
    {
     "name": "stdout",
     "output_type": "stream",
     "text": [
      "some sample features(unique words in the corpus) ['able', 'absolutely', 'actually', 'add', 'added', 'aftertaste', 'ago', 'almonds', 'almost', 'also']\n",
      "==================================================\n",
      "the type of count vectorizer  <class 'scipy.sparse.csr.csr_matrix'>\n",
      "the shape of out text TFIDF vectorizer  (19600, 500)\n",
      "the number of unique words including both unigrams and bigrams  500\n"
     ]
    }
   ],
   "source": [
    "tf_idf_vect_ker = TfidfVectorizer(ngram_range=(1,2), min_df=10,max_features=500)\n",
    "tf_idf_vect_ker.fit_transform(preprocessed_reviews_ker_tr)\n",
    "print(\"some sample features(unique words in the corpus)\",tf_idf_vect_ker.get_feature_names()[0:10])\n",
    "print('='*50)\n",
    "\n",
    "final_tf_idf_ker = tf_idf_vect_ker.fit_transform(preprocessed_reviews_ker_tr)\n",
    "print(\"the type of count vectorizer \",type(final_tf_idf_ker))\n",
    "print(\"the shape of out text TFIDF vectorizer \",final_tf_idf_ker.get_shape())\n",
    "print(\"the number of unique words including both unigrams and bigrams \", final_tf_idf_ker.get_shape()[1])"
   ]
  },
  {
   "cell_type": "markdown",
   "metadata": {
    "_uuid": "c6e649673705340d06492d633377b4cb8bbe02e4"
   },
   "source": [
    "#### TF-IDF FOR CV DATA"
   ]
  },
  {
   "cell_type": "code",
   "execution_count": 58,
   "metadata": {
    "_uuid": "d33264eb60ee767b34dcb5c2a92015f5f2df4795"
   },
   "outputs": [
    {
     "name": "stdout",
     "output_type": "stream",
     "text": [
      "some sample features(unique words in the corpus) ['able', 'absolutely', 'acid', 'actually', 'add', 'added', 'adding', 'aftertaste', 'ago', 'almost']\n",
      "==================================================\n",
      "the type of count vectorizer  <class 'scipy.sparse.csr.csr_matrix'>\n",
      "the shape of out text TFIDF vectorizer  (8400, 500)\n",
      "the number of unique words including both unigrams and bigrams  500\n"
     ]
    }
   ],
   "source": [
    "# tf_idf_vect = TfidfVectorizer(ngram_range=(1,2), min_df=10)\n",
    "tf_idf_vect_ker.fit_transform(preprocessed_reviews_ker_cv)\n",
    "print(\"some sample features(unique words in the corpus)\",tf_idf_vect_ker.get_feature_names()[0:10])\n",
    "print('='*50)\n",
    "\n",
    "final_tf_idf_cv_ker = tf_idf_vect_ker.transform(preprocessed_reviews_ker_cv)\n",
    "print(\"the type of count vectorizer \",type(final_tf_idf_cv_ker))\n",
    "print(\"the shape of out text TFIDF vectorizer \",final_tf_idf_cv_ker.get_shape())\n",
    "print(\"the number of unique words including both unigrams and bigrams \", final_tf_idf_cv_ker.get_shape()[1])"
   ]
  },
  {
   "cell_type": "markdown",
   "metadata": {
    "_uuid": "4cf2f7a00be7146f108e66db5279ae0d5a479ee5"
   },
   "source": [
    "#### TF-IDF FOR TEST DATA"
   ]
  },
  {
   "cell_type": "code",
   "execution_count": 59,
   "metadata": {
    "_uuid": "86d07da08f65cd7006c12f05156efe4eb2c63314"
   },
   "outputs": [
    {
     "name": "stdout",
     "output_type": "stream",
     "text": [
      "some sample features(unique words in the corpus) ['able', 'absolutely', 'actually', 'add', 'added', 'aftertaste', 'ago', 'almonds', 'almost', 'also']\n",
      "==================================================\n",
      "the type of count vectorizer  <class 'scipy.sparse.csr.csr_matrix'>\n",
      "the shape of out text TFIDF vectorizer  (12000, 500)\n",
      "the number of unique words including both unigrams and bigrams  500\n"
     ]
    }
   ],
   "source": [
    "tf_idf_vect_ker.fit_transform(preprocessed_reviews_ker_test)\n",
    "print(\"some sample features(unique words in the corpus)\",tf_idf_vect_ker.get_feature_names()[0:10])\n",
    "print('='*50)\n",
    "\n",
    "final_tf_idf_test_ker = tf_idf_vect_ker.transform(preprocessed_reviews_ker_test)\n",
    "print(\"the type of count vectorizer \",type(final_tf_idf_test_ker))\n",
    "print(\"the shape of out text TFIDF vectorizer \",final_tf_idf_test_ker.get_shape())\n",
    "print(\"the number of unique words including both unigrams and bigrams \", final_tf_idf_test_ker.get_shape()[1])"
   ]
  },
  {
   "cell_type": "markdown",
   "metadata": {
    "_uuid": "a72b9ccfd485fe8157b60d4ea77edb961941add6"
   },
   "source": [
    "## [4.4] Word2Vec"
   ]
  },
  {
   "cell_type": "markdown",
   "metadata": {
    "_uuid": "3f5aa10d3d03348d9197e0a4674246994dd9a7bf"
   },
   "source": [
    "#### w2v for TRAIN DATA"
   ]
  },
  {
   "cell_type": "code",
   "execution_count": 60,
   "metadata": {
    "_uuid": "c19b9eb84f8acf51e30039509fcbf2cb6a268f4e"
   },
   "outputs": [],
   "source": [
    "# Train your own Word2Vec model using your own text corpus\n",
    "i=0\n",
    "list_of_sentance=[]\n",
    "for sentance in preprocessed_reviews:\n",
    "    list_of_sentance.append(sentance.split())"
   ]
  },
  {
   "cell_type": "code",
   "execution_count": 61,
   "metadata": {
    "_uuid": "cd6d319e6109c3feee03cf0bd1b99bc930ecc248",
    "scrolled": true
   },
   "outputs": [
    {
     "name": "stdout",
     "output_type": "stream",
     "text": [
      "[('awesome', 0.8097169399261475), ('fantastic', 0.7998897433280945), ('good', 0.7975150346755981), ('excellent', 0.7899484634399414), ('terrific', 0.7849385738372803), ('wonderful', 0.7690883278846741), ('perfect', 0.7659608125686646), ('amazing', 0.7048388719558716), ('decent', 0.6845704317092896), ('satisfied', 0.6685174107551575)]\n",
      "==================================================\n",
      "[('ive', 0.8017846345901489), ('best', 0.7953061461448669), ('tastiest', 0.7877910137176514), ('sampled', 0.7383346557617188), ('nastiest', 0.73429274559021), ('eaten', 0.7111603021621704), ('closest', 0.7109853029251099), ('hooked', 0.7103910446166992), ('encountered', 0.6979016065597534), ('beer', 0.6953872442245483)]\n"
     ]
    }
   ],
   "source": [
    "# Using Google News Word2Vectors\n",
    "\n",
    "# in this project we are using a pretrained model by google\n",
    "# its 3.3G file, once you load this into your memory \n",
    "# it occupies ~9Gb, so please do this step only if you have >12G of ram\n",
    "# we will provide a pickle file wich contains a dict , \n",
    "# and it contains all our courpus words as keys and  model[word] as values\n",
    "# To use this code-snippet, download \"GoogleNews-vectors-negative300.bin\" \n",
    "# from https://drive.google.com/file/d/0B7XkCwpI5KDYNlNUTTlSS21pQmM/edit\n",
    "# it's 1.9GB in size.\n",
    "\n",
    "\n",
    "# http://kavita-ganesan.com/gensim-word2vec-tutorial-starter-code/#.W17SRFAzZPY\n",
    "# you can comment this whole cell\n",
    "# or change these varible according to your need\n",
    "\n",
    "is_your_ram_gt_16g=False\n",
    "want_to_use_google_w2v = False\n",
    "want_to_train_w2v = True\n",
    "\n",
    "if want_to_train_w2v:\n",
    "    # min_count = 5 considers only words that occured atleast 5 times\n",
    "    w2v_model=Word2Vec(list_of_sentance,min_count=5,size=50, workers=4)\n",
    "    print(w2v_model.wv.most_similar('great'))\n",
    "    print('='*50)\n",
    "    print(w2v_model.wv.most_similar('worst'))\n",
    "    \n",
    "elif want_to_use_google_w2v and is_your_ram_gt_16g:\n",
    "    if os.path.isfile('GoogleNews-vectors-negative300.bin'):\n",
    "        w2v_model=KeyedVectors.load_word2vec_format('GoogleNews-vectors-negative300.bin', binary=True)\n",
    "        print(w2v_model.wv.most_similar('great'))\n",
    "        print(w2v_model.wv.most_similar('worst'))\n",
    "    else:\n",
    "        print(\"you don't have gogole's word2vec file, keep want_to_train_w2v = True, to train your own w2v \")"
   ]
  },
  {
   "cell_type": "code",
   "execution_count": 62,
   "metadata": {
    "_uuid": "e6320698f1fd1771a1d41c5cab1d83f70da522ce"
   },
   "outputs": [
    {
     "name": "stdout",
     "output_type": "stream",
     "text": [
      "number of words that occured minimum 5 times  9130\n",
      "sample words  ['really', 'good', 'idea', 'final', 'product', 'outstanding', 'use', 'car', 'window', 'everybody', 'asks', 'bought', 'made', 'two', 'thumbs', 'received', 'shipment', 'could', 'hardly', 'wait', 'try', 'love', 'call', 'instead', 'stickers', 'removed', 'easily', 'daughter', 'designed', 'signs', 'printed', 'reverse', 'windows', 'beautifully', 'print', 'shop', 'program', 'going', 'lot', 'fun', 'everywhere', 'like', 'tv', 'computer', 'stuff', 'sugar', 'free', 'not', 'rot', 'gums']\n"
     ]
    }
   ],
   "source": [
    "w2v_words = list(w2v_model.wv.vocab)\n",
    "print(\"number of words that occured minimum 5 times \",len(w2v_words))\n",
    "print(\"sample words \", w2v_words[0:50])"
   ]
  },
  {
   "cell_type": "markdown",
   "metadata": {
    "_uuid": "4221fa5fd8e22038ff0a1f250346bcefbde4fa04"
   },
   "source": [
    "#### w2v FOR CV DATA"
   ]
  },
  {
   "cell_type": "code",
   "execution_count": 63,
   "metadata": {
    "_uuid": "121616babeac685047e42613f4d162be119a2907"
   },
   "outputs": [],
   "source": [
    "\n",
    "i=0\n",
    "list_of_sentance_cv=[]\n",
    "for sentance in preprocessed_reviews_cv:\n",
    "    list_of_sentance_cv.append(sentance.split())"
   ]
  },
  {
   "cell_type": "code",
   "execution_count": 64,
   "metadata": {
    "_uuid": "bd3a44832397535fe429507dbc0e36f418547b79"
   },
   "outputs": [
    {
     "name": "stdout",
     "output_type": "stream",
     "text": [
      "[('excellent', 0.8669454455375671), ('good', 0.8494023084640503), ('makes', 0.8051506280899048), ('well', 0.7669053077697754), ('overall', 0.7641651034355164), ('fantastic', 0.761696457862854), ('awesome', 0.7582005858421326), ('right', 0.7565374970436096), ('works', 0.7521684765815735), ('decent', 0.7504843473434448)]\n",
      "==================================================\n",
      "[('favorites', 0.9824845790863037), ('personal', 0.9819837808609009), ('vita', 0.9815971851348877), ('hands', 0.9809101223945618), ('cherry', 0.9806168079376221), ('mate', 0.9805591106414795), ('blueberry', 0.9804791808128357), ('eggnog', 0.9797982573509216), ('beverages', 0.9772326350212097), ('finest', 0.9770099520683289)]\n"
     ]
    }
   ],
   "source": [
    "# Using Google News Word2Vectors\n",
    "\n",
    "# in this project we are using a pretrained model by google\n",
    "# its 3.3G file, once you load this into your memory \n",
    "# it occupies ~9Gb, so please do this step only if you have >12G of ram\n",
    "# we will provide a pickle file wich contains a dict , \n",
    "# and it contains all our courpus words as keys and  model[word] as values\n",
    "# To use this code-snippet, download \"GoogleNews-vectors-negative300.bin\" \n",
    "# from https://drive.google.com/file/d/0B7XkCwpI5KDYNlNUTTlSS21pQmM/edit\n",
    "# it's 1.9GB in size.\n",
    "\n",
    "\n",
    "# http://kavita-ganesan.com/gensim-word2vec-tutorial-starter-code/#.W17SRFAzZPY\n",
    "# you can comment this whole cell\n",
    "# or change these varible according to your need\n",
    "\n",
    "is_your_ram_gt_16g=False\n",
    "want_to_use_google_w2v = False\n",
    "want_to_train_w2v = True\n",
    "\n",
    "if want_to_train_w2v:\n",
    "    # min_count = 5 considers only words that occured atleast 5 times\n",
    "    w2v_model_cv=Word2Vec(list_of_sentance_cv,min_count=5,size=50, workers=4)\n",
    "    print(w2v_model_cv.wv.most_similar('great'))\n",
    "    print('='*50)\n",
    "    print(w2v_model_cv.wv.most_similar('worst'))\n",
    "    \n",
    "elif want_to_use_google_w2v and is_your_ram_gt_16g:\n",
    "    if os.path.isfile('GoogleNews-vectors-negative300.bin'):\n",
    "        w2v_model=KeyedVectors.load_word2vec_format('GoogleNews-vectors-negative300.bin', binary=True)\n",
    "        print(w2v_model.wv.most_similar('great'))\n",
    "        print(w2v_model.wv.most_similar('worst'))\n",
    "    else:\n",
    "        print(\"you don't have gogole's word2vec file, keep want_to_train_w2v = True, to train your own w2v \")"
   ]
  },
  {
   "cell_type": "code",
   "execution_count": 65,
   "metadata": {
    "_uuid": "c889b96f5d506b795be572fd166f2e0b1abb5bdc",
    "scrolled": true
   },
   "outputs": [
    {
     "name": "stdout",
     "output_type": "stream",
     "text": [
      "number of words that occured minimum 5 times  5730\n",
      "sample words  ['put', 'efficient', 'use', 'researching', 'best', 'organic', 'cat', 'food', 'price', 'found', 'delighted', 'one', 'thing', 'always', 'signed', 'auto', 'ship', 'service', 'stated', 'would', 'able', 'change', 'frequency', 'order', 'time', 'love', 'saves', 'receive', 'free', 'shipping', 'errands', 'especially', 'seemingly', 'endless', 'fabulous', 'idea', 'running', 'scary', 'midnight', 'realize', 'master', 'learned', 'people', 'dogs', 'cats', 'true', 'though', 'remain', 'charge', 'also']\n"
     ]
    }
   ],
   "source": [
    "w2v_words_cv = list(w2v_model_cv.wv.vocab)\n",
    "print(\"number of words that occured minimum 5 times \",len(w2v_words_cv))\n",
    "print(\"sample words \", w2v_words_cv[0:50])"
   ]
  },
  {
   "cell_type": "markdown",
   "metadata": {
    "_uuid": "d892e6666210cc7d34b95823bef16db65603b6d0"
   },
   "source": [
    "#### w2v FOR TEST DATA"
   ]
  },
  {
   "cell_type": "code",
   "execution_count": 66,
   "metadata": {
    "_uuid": "5e64ac781220ac1f689b3e84ba92fff06f2c1260"
   },
   "outputs": [],
   "source": [
    "i=0\n",
    "list_of_sentance_test=[]\n",
    "for sentance in preprocessed_reviews_test:\n",
    "    list_of_sentance_test.append(sentance.split())"
   ]
  },
  {
   "cell_type": "code",
   "execution_count": 67,
   "metadata": {
    "_uuid": "5c1a2fed7ec29b49ea1e9d5f48fa19be0f00faa6"
   },
   "outputs": [
    {
     "name": "stdout",
     "output_type": "stream",
     "text": [
      "[('excellent', 0.846183180809021), ('good', 0.8266117572784424), ('amazing', 0.7669278979301453), ('awesome', 0.7319532632827759), ('fantastic', 0.7222875952720642), ('wonderful', 0.7191231846809387), ('delicious', 0.7073187828063965), ('super', 0.6862500905990601), ('love', 0.6776154041290283), ('well', 0.673266589641571)]\n",
      "==================================================\n",
      "[('smoothest', 0.9292718768119812), ('compare', 0.9289912581443787), ('dave', 0.9238349199295044), ('name', 0.9229879975318909), ('remember', 0.9221051931381226), ('concentrates', 0.9214602708816528), ('duplicate', 0.9208076596260071), ('admit', 0.9203765392303467), ('fillings', 0.9193471074104309), ('maria', 0.9185217618942261)]\n"
     ]
    }
   ],
   "source": [
    "# Using Google News Word2Vectors\n",
    "\n",
    "# in this project we are using a pretrained model by google\n",
    "# its 3.3G file, once you load this into your memory \n",
    "# it occupies ~9Gb, so please do this step only if you have >12G of ram\n",
    "# we will provide a pickle file wich contains a dict , \n",
    "# and it contains all our courpus words as keys and  model[word] as values\n",
    "# To use this code-snippet, download \"GoogleNews-vectors-negative300.bin\" \n",
    "# from https://drive.google.com/file/d/0B7XkCwpI5KDYNlNUTTlSS21pQmM/edit\n",
    "# it's 1.9GB in size.\n",
    "\n",
    "\n",
    "# http://kavita-ganesan.com/gensim-word2vec-tutorial-starter-code/#.W17SRFAzZPY\n",
    "# you can comment this whole cell\n",
    "# or change these varible according to your need\n",
    "\n",
    "is_your_ram_gt_16g=False\n",
    "want_to_use_google_w2v = False\n",
    "want_to_train_w2v = True\n",
    "\n",
    "if want_to_train_w2v:\n",
    "    # min_count = 5 considers only words that occured atleast 5 times\n",
    "    w2v_model_test=Word2Vec(list_of_sentance_test,min_count=5,size=50, workers=4)\n",
    "    print(w2v_model_test.wv.most_similar('great'))\n",
    "    print('='*50)\n",
    "    print(w2v_model_test.wv.most_similar('worst'))\n",
    "    \n",
    "elif want_to_use_google_w2v and is_your_ram_gt_16g:\n",
    "    if os.path.isfile('GoogleNews-vectors-negative300.bin'):\n",
    "        w2v_model=KeyedVectors.load_word2vec_format('GoogleNews-vectors-negative300.bin', binary=True)\n",
    "        print(w2v_model.wv.most_similar('great'))\n",
    "        print(w2v_model.wv.most_similar('worst'))\n",
    "    else:\n",
    "        print(\"you don't have gogole's word2vec file, keep want_to_train_w2v = True, to train your own w2v \")"
   ]
  },
  {
   "cell_type": "code",
   "execution_count": 68,
   "metadata": {
    "_uuid": "293b91898efd05eb793e705d85379b09b6f4da9b",
    "scrolled": false
   },
   "outputs": [
    {
     "name": "stdout",
     "output_type": "stream",
     "text": [
      "number of words that occured minimum 5 times  6980\n",
      "sample words  ['orange', 'peels', 'great', 'tasting', 'love', 'honey', 'added', 'used', 'baking', 'snacking', 'avoderm', 'best', 'dog', 'food', 'found', 'tried', 'many', 'brands', 'last', 'years', 'large', 'dogs', 'keep', 'fit', 'help', 'senior', 'blend', 'bought', 'local', 'grocery', 'store', 'wish', 'would', 'read', 'review', 'first', 'positive', 'hold', 'together', 'well', 'look', 'like', 'muffin', 'negative', 'bitter', 'could', 'barely', 'finish', 'half', 'recently']\n"
     ]
    }
   ],
   "source": [
    "w2v_words_test = list(w2v_model_test.wv.vocab)\n",
    "print(\"number of words that occured minimum 5 times \",len(w2v_words_test))\n",
    "print(\"sample words \", w2v_words_test[0:50])"
   ]
  },
  {
   "cell_type": "markdown",
   "metadata": {
    "_uuid": "f8dcbac64b1f19ea6e6cbef618817a976476b457"
   },
   "source": [
    "### FOR KERNEL SVM\n"
   ]
  },
  {
   "cell_type": "code",
   "execution_count": 69,
   "metadata": {
    "_uuid": "c19b9eb84f8acf51e30039509fcbf2cb6a268f4e"
   },
   "outputs": [],
   "source": [
    "# Train your own Word2Vec model using your own text corpus\n",
    "i=0\n",
    "list_of_sentance_ker=[]\n",
    "for sentance in preprocessed_reviews_ker_tr:\n",
    "    list_of_sentance_ker.append(sentance.split())"
   ]
  },
  {
   "cell_type": "code",
   "execution_count": 70,
   "metadata": {
    "_uuid": "cd6d319e6109c3feee03cf0bd1b99bc930ecc248",
    "scrolled": true
   },
   "outputs": [
    {
     "name": "stdout",
     "output_type": "stream",
     "text": [
      "[('good', 0.8170279860496521), ('awesome', 0.8031275272369385), ('fantastic', 0.8004112839698792), ('excellent', 0.800104022026062), ('wonderful', 0.7980159521102905), ('perfect', 0.7598353624343872), ('decent', 0.7313312292098999), ('delicious', 0.7253332138061523), ('terrific', 0.7174073457717896), ('amazing', 0.7136910557746887)]\n",
      "==================================================\n",
      "[('ive', 0.823634922504425), ('tastiest', 0.8183972835540771), ('sampled', 0.8073025941848755), ('best', 0.8070061802864075), ('encountered', 0.790328860282898), ('greatest', 0.7897909879684448), ('hottest', 0.789413571357727), ('hooked', 0.7886714339256287), ('closest', 0.7757998108863831), ('eaten', 0.7539447546005249)]\n"
     ]
    }
   ],
   "source": [
    "# Using Google News Word2Vectors\n",
    "\n",
    "# in this project we are using a pretrained model by google\n",
    "# its 3.3G file, once you load this into your memory \n",
    "# it occupies ~9Gb, so please do this step only if you have >12G of ram\n",
    "# we will provide a pickle file wich contains a dict , \n",
    "# and it contains all our courpus words as keys and  model[word] as values\n",
    "# To use this code-snippet, download \"GoogleNews-vectors-negative300.bin\" \n",
    "# from https://drive.google.com/file/d/0B7XkCwpI5KDYNlNUTTlSS21pQmM/edit\n",
    "# it's 1.9GB in size.\n",
    "\n",
    "\n",
    "# http://kavita-ganesan.com/gensim-word2vec-tutorial-starter-code/#.W17SRFAzZPY\n",
    "# you can comment this whole cell\n",
    "# or change these varible according to your need\n",
    "\n",
    "is_your_ram_gt_16g=False\n",
    "want_to_use_google_w2v = False\n",
    "want_to_train_w2v = True\n",
    "\n",
    "if want_to_train_w2v:\n",
    "    # min_count = 5 considers only words that occured atleast 5 times\n",
    "    w2v_model_ker=Word2Vec(list_of_sentance_ker,min_count=5,size=50, workers=4)\n",
    "    print(w2v_model_ker.wv.most_similar('great'))\n",
    "    print('='*50)\n",
    "    print(w2v_model_ker.wv.most_similar('worst'))\n",
    "    \n",
    "elif want_to_use_google_w2v and is_your_ram_gt_16g:\n",
    "    if os.path.isfile('GoogleNews-vectors-negative300.bin'):\n",
    "        w2v_model=KeyedVectors.load_word2vec_format('GoogleNews-vectors-negative300.bin', binary=True)\n",
    "        print(w2v_model.wv.most_similar('great'))\n",
    "        print(w2v_model.wv.most_similar('worst'))\n",
    "    else:\n",
    "        print(\"you don't have gogole's word2vec file, keep want_to_train_w2v = True, to train your own w2v \")"
   ]
  },
  {
   "cell_type": "code",
   "execution_count": 71,
   "metadata": {
    "_uuid": "e6320698f1fd1771a1d41c5cab1d83f70da522ce"
   },
   "outputs": [
    {
     "name": "stdout",
     "output_type": "stream",
     "text": [
      "number of words that occured minimum 5 times  8501\n",
      "sample words  ['really', 'good', 'idea', 'final', 'product', 'outstanding', 'use', 'car', 'window', 'everybody', 'asks', 'bought', 'made', 'two', 'thumbs', 'received', 'shipment', 'could', 'hardly', 'wait', 'try', 'love', 'call', 'instead', 'stickers', 'removed', 'easily', 'daughter', 'designed', 'signs', 'printed', 'reverse', 'windows', 'beautifully', 'print', 'shop', 'program', 'going', 'lot', 'fun', 'everywhere', 'like', 'tv', 'computer', 'stuff', 'sugar', 'free', 'not', 'rot', 'gums']\n"
     ]
    }
   ],
   "source": [
    "w2v_words_ker = list(w2v_model_ker.wv.vocab)\n",
    "print(\"number of words that occured minimum 5 times \",len(w2v_words_ker))\n",
    "print(\"sample words \", w2v_words_ker[0:50])"
   ]
  },
  {
   "cell_type": "markdown",
   "metadata": {
    "_uuid": "4221fa5fd8e22038ff0a1f250346bcefbde4fa04"
   },
   "source": [
    "#### w2v FOR CV DATA"
   ]
  },
  {
   "cell_type": "code",
   "execution_count": 72,
   "metadata": {
    "_uuid": "121616babeac685047e42613f4d162be119a2907"
   },
   "outputs": [],
   "source": [
    "i=0\n",
    "list_of_sentance_cv_ker=[]\n",
    "for sentance in preprocessed_reviews_ker_cv:\n",
    "    list_of_sentance_cv_ker.append(sentance.split())"
   ]
  },
  {
   "cell_type": "code",
   "execution_count": 73,
   "metadata": {
    "_uuid": "bd3a44832397535fe429507dbc0e36f418547b79"
   },
   "outputs": [
    {
     "name": "stdout",
     "output_type": "stream",
     "text": [
      "[('excellent', 0.8719509840011597), ('good', 0.8643816709518433), ('makes', 0.8382137417793274), ('fantastic', 0.8201830387115479), ('overall', 0.816028892993927), ('value', 0.8155813217163086), ('tasteful', 0.8047893047332764), ('right', 0.7998217344284058), ('amazing', 0.7774211168289185), ('outstanding', 0.7760794162750244)]\n",
      "==================================================\n",
      "[('popular', 0.9938234090805054), ('pu', 0.9925667643547058), ('cappuccino', 0.9909967184066772), ('er', 0.9909411668777466), ('cola', 0.9901368618011475), ('absolute', 0.9901279807090759), ('midnight', 0.9896441102027893), ('served', 0.9895060062408447), ('blends', 0.9889463186264038), ('emerald', 0.9886804819107056)]\n"
     ]
    }
   ],
   "source": [
    "# Using Google News Word2Vectors\n",
    "\n",
    "# in this project we are using a pretrained model by google\n",
    "# its 3.3G file, once you load this into your memory \n",
    "# it occupies ~9Gb, so please do this step only if you have >12G of ram\n",
    "# we will provide a pickle file wich contains a dict , \n",
    "# and it contains all our courpus words as keys and  model[word] as values\n",
    "# To use this code-snippet, download \"GoogleNews-vectors-negative300.bin\" \n",
    "# from https://drive.google.com/file/d/0B7XkCwpI5KDYNlNUTTlSS21pQmM/edit\n",
    "# it's 1.9GB in size.\n",
    "\n",
    "\n",
    "# http://kavita-ganesan.com/gensim-word2vec-tutorial-starter-code/#.W17SRFAzZPY\n",
    "# you can comment this whole cell\n",
    "# or change these varible according to your need\n",
    "\n",
    "is_your_ram_gt_16g=False\n",
    "want_to_use_google_w2v = False\n",
    "want_to_train_w2v = True\n",
    "\n",
    "if want_to_train_w2v:\n",
    "    # min_count = 5 considers only words that occured atleast 5 times\n",
    "    w2v_model_cv_ker=Word2Vec(list_of_sentance_cv_ker,min_count=5,size=50, workers=4)\n",
    "    print(w2v_model_cv_ker.wv.most_similar('great'))\n",
    "    print('='*50)\n",
    "    print(w2v_model_cv_ker.wv.most_similar('worst'))\n",
    "    \n",
    "elif want_to_use_google_w2v and is_your_ram_gt_16g:\n",
    "    if os.path.isfile('GoogleNews-vectors-negative300.bin'):\n",
    "        w2v_model=KeyedVectors.load_word2vec_format('GoogleNews-vectors-negative300.bin', binary=True)\n",
    "        print(w2v_model.wv.most_similar('great'))\n",
    "        print(w2v_model.wv.most_similar('worst'))\n",
    "    else:\n",
    "        print(\"you don't have gogole's word2vec file, keep want_to_train_w2v = True, to train your own w2v \")"
   ]
  },
  {
   "cell_type": "code",
   "execution_count": 74,
   "metadata": {
    "_uuid": "c889b96f5d506b795be572fd166f2e0b1abb5bdc",
    "scrolled": true
   },
   "outputs": [
    {
     "name": "stdout",
     "output_type": "stream",
     "text": [
      "number of words that occured minimum 5 times  5495\n",
      "sample words  ['ordered', 'tea', 'excited', 'thought', 'finally', 'found', 'equal', 'another', 'brand', 'rose', 'individual', 'bags', 'loose', 'quality', 'along', 'anticipated', 'light', 'delicate', 'taste', 'would', 'hoped', 'sadly', 'mistaken', 'opened', 'hit', 'sweet', 'syrupy', 'cotton', 'candy', 'like', 'smell', 'coming', 'bag', 'not', 'good', 'scent', 'determine', 'steeped', 'recommended', 'tablespoons', 'amount', 'time', 'indicated', 'tried', 'overpowering', 'gave', 'bitter', 'reminiscent', 'previous', 'experience']\n"
     ]
    }
   ],
   "source": [
    "w2v_words_cv_ker= list(w2v_model_cv_ker.wv.vocab)\n",
    "print(\"number of words that occured minimum 5 times \",len(w2v_words_cv_ker))\n",
    "print(\"sample words \", w2v_words_cv_ker[0:50])"
   ]
  },
  {
   "cell_type": "markdown",
   "metadata": {
    "_uuid": "d892e6666210cc7d34b95823bef16db65603b6d0"
   },
   "source": [
    "#### w2v FOR TEST DATA"
   ]
  },
  {
   "cell_type": "code",
   "execution_count": 75,
   "metadata": {
    "_uuid": "5e64ac781220ac1f689b3e84ba92fff06f2c1260"
   },
   "outputs": [],
   "source": [
    "i=0\n",
    "list_of_sentance_test_ker=[]\n",
    "for sentance in preprocessed_reviews_ker_test:\n",
    "    list_of_sentance_test_ker.append(sentance.split())"
   ]
  },
  {
   "cell_type": "code",
   "execution_count": 76,
   "metadata": {
    "_uuid": "5c1a2fed7ec29b49ea1e9d5f48fa19be0f00faa6"
   },
   "outputs": [
    {
     "name": "stdout",
     "output_type": "stream",
     "text": [
      "[('good', 0.8551160097122192), ('excellent', 0.8533438444137573), ('amazing', 0.7495375871658325), ('awesome', 0.7477109432220459), ('well', 0.7118093967437744), ('wonderful', 0.7038278579711914), ('decent', 0.702526330947876), ('makes', 0.6874515414237976), ('unbeatable', 0.6658475995063782), ('quick', 0.6609251499176025)]\n",
      "==================================================\n",
      "[('ive', 0.9385446310043335), ('textures', 0.9372638463973999), ('kinds', 0.9347732663154602), ('compares', 0.9341492652893066), ('world', 0.9318863153457642), ('claimed', 0.9314832091331482), ('nip', 0.9284759759902954), ('particular', 0.9275521039962769), ('mate', 0.9264660477638245), ('altoids', 0.9253639578819275)]\n"
     ]
    }
   ],
   "source": [
    "# Using Google News Word2Vectors\n",
    "\n",
    "# in this project we are using a pretrained model by google\n",
    "# its 3.3G file, once you load this into your memory \n",
    "# it occupies ~9Gb, so please do this step only if you have >12G of ram\n",
    "# we will provide a pickle file wich contains a dict , \n",
    "# and it contains all our courpus words as keys and  model[word] as values\n",
    "# To use this code-snippet, download \"GoogleNews-vectors-negative300.bin\" \n",
    "# from https://drive.google.com/file/d/0B7XkCwpI5KDYNlNUTTlSS21pQmM/edit\n",
    "# it's 1.9GB in size.\n",
    "\n",
    "\n",
    "# http://kavita-ganesan.com/gensim-word2vec-tutorial-starter-code/#.W17SRFAzZPY\n",
    "# you can comment this whole cell\n",
    "# or change these varible according to your need\n",
    "\n",
    "is_your_ram_gt_16g=False\n",
    "want_to_use_google_w2v = False\n",
    "want_to_train_w2v = True\n",
    "\n",
    "if want_to_train_w2v:\n",
    "    # min_count = 5 considers only words that occured atleast 5 times\n",
    "    w2v_model_test_ker=Word2Vec(list_of_sentance_test_ker,min_count=5,size=50, workers=4)\n",
    "    print(w2v_model_test_ker.wv.most_similar('great'))\n",
    "    print('='*50)\n",
    "    print(w2v_model_test_ker.wv.most_similar('worst'))\n",
    "    \n",
    "elif want_to_use_google_w2v and is_your_ram_gt_16g:\n",
    "    if os.path.isfile('GoogleNews-vectors-negative300.bin'):\n",
    "        w2v_model=KeyedVectors.load_word2vec_format('GoogleNews-vectors-negative300.bin', binary=True)\n",
    "        print(w2v_model.wv.most_similar('great'))\n",
    "        print(w2v_model.wv.most_similar('worst'))\n",
    "    else:\n",
    "        print(\"you don't have gogole's word2vec file, keep want_to_train_w2v = True, to train your own w2v \")"
   ]
  },
  {
   "cell_type": "code",
   "execution_count": 77,
   "metadata": {
    "_uuid": "293b91898efd05eb793e705d85379b09b6f4da9b",
    "scrolled": true
   },
   "outputs": [
    {
     "name": "stdout",
     "output_type": "stream",
     "text": [
      "number of words that occured minimum 5 times  6517\n",
      "sample words  ['honest', 'drinking', 'tea', 'life', 'not', 'started', 'pg', 'tips', 'rate', 'worlds', 'best', 'ever', 'go', 'always', 'box', 'case', 'tried', 'lipton', 'omg', 'like', 'dish', 'water', 'want', 'cuppa', 'satisfy', 'thirst', 'worst', 'sure', 'hit', 'everywhere', 'first', 'sip', 'last', 'product', 'suggests', 'european', 'heritage', 'deep', 'southern', 'france', 'seem', 'making', 'calories', 'keurig', 'chai', 'latte', 'actually', 'tastes', 'pretty', 'good']\n"
     ]
    }
   ],
   "source": [
    "w2v_words_test_ker = list(w2v_model_test_ker.wv.vocab)\n",
    "print(\"number of words that occured minimum 5 times \",len(w2v_words_test_ker))\n",
    "print(\"sample words \", w2v_words_test_ker[0:50])"
   ]
  },
  {
   "cell_type": "markdown",
   "metadata": {
    "_uuid": "0d403d72029e2a01075957050f66eda3703291b6"
   },
   "source": [
    "## [4.4.1] Converting text into vectors using Avg W2V, TFIDF-W2V"
   ]
  },
  {
   "cell_type": "markdown",
   "metadata": {
    "_uuid": "4ee2ffc4374e0cbccae2a6873f271efae68f6f98"
   },
   "source": [
    "### [4.4.1.1] Avg W2v"
   ]
  },
  {
   "cell_type": "code",
   "execution_count": 78,
   "metadata": {
    "_uuid": "e5dce54516f43318729c6580231b7a26d9272b85"
   },
   "outputs": [],
   "source": [
    "def avgw2v(list_of_sentance,w2v_words,w2v_model):\n",
    "    # average Word2Vec\n",
    "    # compute average word2vec for each review.\n",
    "    sent_vectors = []; # the avg-w2v for each sentence/review is stored in this list\n",
    "    for sent in tqdm(list_of_sentance): # for each review/sentence\n",
    "        sent_vec = np.zeros(50) # as word vectors are of zero length 50, you might need to change this to 300 if you use google's w2v\n",
    "        cnt_words =0; # num of words with a valid vector in the sentence/review\n",
    "        for word in sent: # for each word in a review/sentence\n",
    "            if word in w2v_words:\n",
    "                vec = w2v_model.wv[word]\n",
    "                sent_vec += vec\n",
    "                cnt_words += 1\n",
    "        if cnt_words != 0:\n",
    "            sent_vec /= cnt_words\n",
    "        sent_vectors.append(sent_vec)\n",
    "    print(len(sent_vectors))\n",
    "    print(len(sent_vectors[0]))\n",
    "    return sent_vectors"
   ]
  },
  {
   "cell_type": "code",
   "execution_count": 79,
   "metadata": {
    "_uuid": "b4ff0515f7633aa7d3b69326c5943210ce5fb05c"
   },
   "outputs": [
    {
     "name": "stderr",
     "output_type": "stream",
     "text": [
      "100%|███████████████████████████████████████████████████████████████████████████| 22574/22574 [01:04<00:00, 351.17it/s]\n"
     ]
    },
    {
     "name": "stdout",
     "output_type": "stream",
     "text": [
      "22574\n",
      "50\n"
     ]
    }
   ],
   "source": [
    "sent_vectors=avgw2v(list_of_sentance,w2v_words,w2v_model)"
   ]
  },
  {
   "cell_type": "code",
   "execution_count": 80,
   "metadata": {
    "_uuid": "9a634d860991336ced25c471f7c499fb8f127346"
   },
   "outputs": [
    {
     "name": "stderr",
     "output_type": "stream",
     "text": [
      "100%|█████████████████████████████████████████████████████████████████████████████| 9675/9675 [00:16<00:00, 574.63it/s]\n"
     ]
    },
    {
     "name": "stdout",
     "output_type": "stream",
     "text": [
      "9675\n",
      "50\n"
     ]
    }
   ],
   "source": [
    "sent_vectors_cv=avgw2v(list_of_sentance_cv,w2v_words_cv,w2v_model_cv)"
   ]
  },
  {
   "cell_type": "code",
   "execution_count": 81,
   "metadata": {
    "_uuid": "36d60e39f98491a468581d4929585375d0e39141",
    "scrolled": true
   },
   "outputs": [
    {
     "name": "stderr",
     "output_type": "stream",
     "text": [
      "100%|███████████████████████████████████████████████████████████████████████████| 13822/13822 [00:23<00:00, 584.59it/s]\n"
     ]
    },
    {
     "name": "stdout",
     "output_type": "stream",
     "text": [
      "13822\n",
      "50\n"
     ]
    }
   ],
   "source": [
    "sent_vectors_test=avgw2v(list_of_sentance_test,w2v_words_test,w2v_model_test)"
   ]
  },
  {
   "cell_type": "code",
   "execution_count": 82,
   "metadata": {
    "_uuid": "e2daa28be0a397afc42af6123acbf1586fbf8c0e"
   },
   "outputs": [
    {
     "name": "stderr",
     "output_type": "stream",
     "text": [
      "100%|███████████████████████████████████████████████████████████████████████████| 19600/19600 [00:40<00:00, 482.03it/s]\n"
     ]
    },
    {
     "name": "stdout",
     "output_type": "stream",
     "text": [
      "19600\n",
      "50\n"
     ]
    }
   ],
   "source": [
    "sent_vectors_ker=avgw2v(list_of_sentance_ker,w2v_words_ker,w2v_model_ker)"
   ]
  },
  {
   "cell_type": "code",
   "execution_count": 83,
   "metadata": {
    "_uuid": "1b7c5a8f00174d11a55d3c840daa7d5235adf2b6"
   },
   "outputs": [
    {
     "name": "stderr",
     "output_type": "stream",
     "text": [
      "100%|█████████████████████████████████████████████████████████████████████████████| 8400/8400 [00:11<00:00, 740.76it/s]\n"
     ]
    },
    {
     "name": "stdout",
     "output_type": "stream",
     "text": [
      "8400\n",
      "50\n"
     ]
    }
   ],
   "source": [
    "sent_vectors_cv_ker=avgw2v(list_of_sentance_cv_ker,w2v_words_cv_ker,w2v_model_cv_ker)"
   ]
  },
  {
   "cell_type": "code",
   "execution_count": 84,
   "metadata": {
    "_uuid": "f576ee8b934c4007cc67664e811f5aaf64e8a0bb"
   },
   "outputs": [
    {
     "name": "stderr",
     "output_type": "stream",
     "text": [
      "100%|███████████████████████████████████████████████████████████████████████████| 12000/12000 [00:20<00:00, 587.29it/s]\n"
     ]
    },
    {
     "name": "stdout",
     "output_type": "stream",
     "text": [
      "12000\n",
      "50\n"
     ]
    }
   ],
   "source": [
    "sent_vectors_test_ker=avgw2v(list_of_sentance_test_ker,w2v_words_test_ker,w2v_model_test_ker)"
   ]
  },
  {
   "cell_type": "markdown",
   "metadata": {
    "_uuid": "bee4439ca42de5c4e7d2c34df2de575b379401d2"
   },
   "source": [
    "### [4.4.1.2] TFIDF weighted W2v"
   ]
  },
  {
   "cell_type": "markdown",
   "metadata": {
    "_uuid": "e477577d6a7d36181f1fb9d1bd78040a9d0f86e9"
   },
   "source": [
    "#### TFIDF weighted w2v for TRAIN DATA"
   ]
  },
  {
   "cell_type": "code",
   "execution_count": 85,
   "metadata": {
    "_uuid": "bb93209fc8e834d67c2cd014e606357998a7fa7c",
    "scrolled": true
   },
   "outputs": [],
   "source": [
    "def tfidfwei_w2v(preprocessed_reviews,list_of_sentance,w2v_words,w2v_model):\n",
    "    # S = [\"abc def pqr\", \"def def def abc\", \"pqr pqr def\"]\n",
    "    model = TfidfVectorizer()\n",
    "    tf_idf_matrix = model.fit_transform(preprocessed_reviews)\n",
    "    # we are converting a dictionary with word as a key, and the idf as a value\n",
    "    dictionary = dict(zip(model.get_feature_names(), list(model.idf_)))\n",
    "    # TF-IDF weighted Word2Vec\n",
    "    tfidf_feat = model.get_feature_names() # tfidf words/col-names\n",
    "    # final_tf_idf is the sparse matrix with row= sentence, col=word and cell_val = tfidf\n",
    "\n",
    "\n",
    "\n",
    "    tfidf_sent_vectors = []; # the tfidf-w2v for each sentence/review is stored in this list\n",
    "    row=0;\n",
    "    for sent in tqdm(list_of_sentance): # for each review/sentence \n",
    "        sent_vec = np.zeros(50) # as word vectors are of zero length\n",
    "        weight_sum =0; # num of words with a valid vector in the sentence/review\n",
    "        for word in sent: # for each word in a review/sentence\n",
    "            if word in w2v_words and word in tfidf_feat:\n",
    "                vec = w2v_model.wv[word]\n",
    "                #tf_idf = tf_idf_matrix[row, tfidf_feat.index(word)]\n",
    "                # to reduce the computation we are \n",
    "                # dictionary[word] = idf value of word in whole courpus\n",
    "                # sent.count(word) = tf valeus of word in this review\n",
    "                tf_idf = dictionary[word]*(sent.count(word)/len(sent))\n",
    "                sent_vec += (vec * tf_idf)\n",
    "                weight_sum += tf_idf\n",
    "        if weight_sum != 0:\n",
    "            sent_vec /= weight_sum\n",
    "        tfidf_sent_vectors.append(sent_vec)\n",
    "        row += 1\n",
    "    return tfidf_sent_vectors,model"
   ]
  },
  {
   "cell_type": "code",
   "execution_count": 86,
   "metadata": {},
   "outputs": [],
   "source": [
    "def tfidfwei_w2v1(model,preprocessed_reviews,list_of_sentance,w2v_words,w2v_model):\n",
    "    # S = [\"abc def pqr\", \"def def def abc\", \"pqr pqr def\"]\n",
    "    tf_idf_matrix = model.transform(preprocessed_reviews)\n",
    "    # we are converting a dictionary with word as a key, and the idf as a value\n",
    "    dictionary = dict(zip(model.get_feature_names(), list(model.idf_)))\n",
    "    # TF-IDF weighted Word2Vec\n",
    "    tfidf_feat = model.get_feature_names() # tfidf words/col-names\n",
    "    # final_tf_idf is the sparse matrix with row= sentence, col=word and cell_val = tfidf\n",
    "\n",
    "\n",
    "\n",
    "    tfidf_sent_vectors = []; # the tfidf-w2v for each sentence/review is stored in this list\n",
    "    row=0;\n",
    "    for sent in tqdm(list_of_sentance): # for each review/sentence \n",
    "        sent_vec = np.zeros(50) # as word vectors are of zero length\n",
    "        weight_sum =0; # num of words with a valid vector in the sentence/review\n",
    "        for word in sent: # for each word in a review/sentence\n",
    "            if word in w2v_words and word in tfidf_feat:\n",
    "                vec = w2v_model.wv[word]\n",
    "                #tf_idf = tf_idf_matrix[row, tfidf_feat.index(word)]\n",
    "                # to reduce the computation we are \n",
    "                # dictionary[word] = idf value of word in whole courpus\n",
    "                # sent.count(word) = tf valeus of word in this review\n",
    "                tf_idf = dictionary[word]*(sent.count(word)/len(sent))\n",
    "                sent_vec += (vec * tf_idf)\n",
    "                weight_sum += tf_idf\n",
    "        if weight_sum != 0:\n",
    "            sent_vec /= weight_sum\n",
    "        tfidf_sent_vectors.append(sent_vec)\n",
    "        row += 1\n",
    "    return tfidf_sent_vectors"
   ]
  },
  {
   "cell_type": "code",
   "execution_count": 87,
   "metadata": {
    "_uuid": "67e766f1382ca0055039d74de19f04c3a99b3b48",
    "scrolled": true
   },
   "outputs": [
    {
     "name": "stderr",
     "output_type": "stream",
     "text": [
      "100%|████████████████████████████████████████████████████████████████████████████| 22574/22574 [09:08<00:00, 33.79it/s]\n"
     ]
    }
   ],
   "source": [
    "tfidf_sent_vectors,model=tfidfwei_w2v(preprocessed_reviews,list_of_sentance,w2v_words,w2v_model)"
   ]
  },
  {
   "cell_type": "code",
   "execution_count": 88,
   "metadata": {
    "_uuid": "1e73b72b7fc8237d22892e8cd3662a01a694887a",
    "scrolled": true
   },
   "outputs": [
    {
     "name": "stderr",
     "output_type": "stream",
     "text": [
      "100%|██████████████████████████████████████████████████████████████████████████████| 9675/9675 [03:27<00:00, 46.55it/s]\n"
     ]
    }
   ],
   "source": [
    "tfidf_sent_vectors_cv=tfidfwei_w2v1(model,preprocessed_reviews_cv,list_of_sentance_cv,w2v_words_cv,w2v_model_cv)"
   ]
  },
  {
   "cell_type": "code",
   "execution_count": 89,
   "metadata": {
    "_uuid": "29ff507b81664e3405326528d62924af70b40564",
    "scrolled": true
   },
   "outputs": [
    {
     "name": "stderr",
     "output_type": "stream",
     "text": [
      "100%|████████████████████████████████████████████████████████████████████████████| 13822/13822 [05:10<00:00, 44.51it/s]\n"
     ]
    }
   ],
   "source": [
    "tfidf_sent_vectors_test=tfidfwei_w2v1(model,preprocessed_reviews_test,list_of_sentance_test,w2v_words_test,w2v_model_test)"
   ]
  },
  {
   "cell_type": "code",
   "execution_count": 90,
   "metadata": {
    "_uuid": "d9af9f8f860d98858ab8591f586ee3747df63fa0",
    "scrolled": true
   },
   "outputs": [
    {
     "name": "stderr",
     "output_type": "stream",
     "text": [
      "100%|████████████████████████████████████████████████████████████████████████████| 19600/19600 [07:19<00:00, 36.40it/s]\n"
     ]
    }
   ],
   "source": [
    "tfidf_sent_vectors_ker,model=tfidfwei_w2v(preprocessed_reviews_ker_tr,list_of_sentance_ker,w2v_words_ker,w2v_model_ker)"
   ]
  },
  {
   "cell_type": "code",
   "execution_count": 91,
   "metadata": {
    "_uuid": "8da507f265e0250f3ea648bea8055d78d03eddd8",
    "scrolled": true
   },
   "outputs": [
    {
     "name": "stderr",
     "output_type": "stream",
     "text": [
      "100%|██████████████████████████████████████████████████████████████████████████████| 8400/8400 [03:06<00:00, 44.99it/s]\n"
     ]
    }
   ],
   "source": [
    "tfidf_sent_vectors_ker_cv=tfidfwei_w2v1(model,preprocessed_reviews_ker_cv,list_of_sentance_cv_ker,w2v_words_cv_ker,w2v_model_cv_ker)"
   ]
  },
  {
   "cell_type": "code",
   "execution_count": 92,
   "metadata": {
    "_uuid": "6f497d144ac49c58243e990badfcebca48e9c56a"
   },
   "outputs": [
    {
     "name": "stderr",
     "output_type": "stream",
     "text": [
      "100%|████████████████████████████████████████████████████████████████████████████| 12000/12000 [04:13<00:00, 47.26it/s]\n"
     ]
    }
   ],
   "source": [
    "tfidf_sent_vectors_ker_test=tfidfwei_w2v1(model,preprocessed_reviews_ker_test,list_of_sentance_test_ker,w2v_words_test_ker,w2v_model_test_ker)"
   ]
  },
  {
   "cell_type": "markdown",
   "metadata": {
    "_uuid": "051a37abd337e2d4974f08e12d372f8ceee9c4cd"
   },
   "source": [
    "# [5] Assignment 7: SVM"
   ]
  },
  {
   "cell_type": "markdown",
   "metadata": {
    "_uuid": "3fc1a1dbe5c81897fc42b6445fd945436559cf25"
   },
   "source": [
    "<ol>\n",
    "    <li><strong>Apply SVM on these feature sets</strong>\n",
    "        <ul>\n",
    "            <li><font color='red'>SET 1:</font>Review text, preprocessed one converted into vectors using (BOW)</li>\n",
    "            <li><font color='red'>SET 2:</font>Review text, preprocessed one converted into vectors using (TFIDF)</li>\n",
    "            <li><font color='red'>SET 3:</font>Review text, preprocessed one converted into vectors using (AVG W2v)</li>\n",
    "            <li><font color='red'>SET 4:</font>Review text, preprocessed one converted into vectors using (TFIDF W2v)</li>\n",
    "        </ul>\n",
    "    </li>\n",
    "    <br>\n",
    "    <li><strong>Procedure</strong>\n",
    "        <ul>\n",
    "    <li>You need to work with 2 versions of SVM\n",
    "        <ul><li>Linear kernel</li>\n",
    "            <li>RBF kernel</li></ul>\n",
    "    <li>When you are working with linear kernel, use SGDClassifier’ with hinge loss because it is computationally less expensive.</li>\n",
    "    <li>When you are working with ‘SGDClassifier’ with hinge loss and trying to find the AUC\n",
    "        score, you would have to use <a href='https://scikit-learn.org/stable/modules/generated/sklearn.calibration.CalibratedClassifierCV.html'>CalibratedClassifierCV</a></li>\n",
    "    <li>Similarly, like kdtree of knn, when you are working with RBF kernel it's better to reduce\n",
    "the number of dimensions. You can put min_df = 10, max_features = 500 and consider a sample size of 40k points.</li>                \n",
    "        </ul>\n",
    "    </li>\n",
    "    <br>\n",
    "    <li><strong>Hyper paramter tuning (find best alpha in range [10^-4 to 10^4], and the best penalty among 'l1', 'l2')</strong>\n",
    "        <ul>\n",
    "    <li>Find the best hyper parameter which will give the maximum <a href='https://www.appliedaicourse.com/course/applied-ai-course-online/lessons/receiver-operating-characteristic-curve-roc-curve-and-auc-1/'>AUC</a> value</li>\n",
    "    <li>Find the best hyper paramter using k-fold cross validation or simple cross validation data</li>\n",
    "    <li>Use gridsearch cv or randomsearch cv or you can also write your own for loops to do this task of hyperparameter tuning</li>          \n",
    "        </ul>\n",
    "    </li>\n",
    "    <br>\n",
    "    <li><strong>Feature importance</strong>\n",
    "        <ul>\n",
    "    <li>When you are working on the linear kernel with BOW or TFIDF please print the top 10 best\n",
    "features for each of the positive and negative classes.</li>\n",
    "        </ul>\n",
    "    </li>\n",
    "    <br>\n",
    "    <li><strong>Feature engineering</strong>\n",
    "        <ul>\n",
    "    <li>To increase the performance of your model, you can also experiment with with feature engineering like :</li>\n",
    "            <ul>\n",
    "            <li>Taking length of reviews as another feature.</li>\n",
    "            <li>Considering some features from review summary as well.</li>\n",
    "        </ul>\n",
    "        </ul>\n",
    "    </li>\n",
    "    <br>\n",
    "    <li><strong>Representation of results</strong>\n",
    "        <ul>\n",
    "    <li>You need to plot the performance of model both on train data and cross validation data for each hyper parameter, like shown in the figure.\n",
    "    <img src='train_cv_auc.JPG' width=300px></li>\n",
    "    <li>Once after you found the best hyper parameter, you need to train your model with it, and find the AUC on test data and plot the ROC curve on both train and test.\n",
    "    <img src='train_test_auc.JPG' width=300px></li>\n",
    "    <li>Along with plotting ROC curve, you need to print the <a href='https://www.appliedaicourse.com/course/applied-ai-course-online/lessons/confusion-matrix-tpr-fpr-fnr-tnr-1/'>confusion matrix</a> with predicted and original labels of test data points. Please visualize your confusion matrices using <a href='https://seaborn.pydata.org/generated/seaborn.heatmap.html'>seaborn heatmaps.\n",
    "    <img src='confusion_matrix.png' width=300px></li>\n",
    "        </ul>\n",
    "    </li>\n",
    "    <br>\n",
    "    <li><strong>Conclusion</strong>\n",
    "        <ul>\n",
    "    <li>You need to summarize the results at the end of the notebook, summarize it in the table format. To print out a table please refer to this prettytable library<a href='http://zetcode.com/python/prettytable/'>  link</a> \n",
    "        <img src='summary.JPG' width=400px>\n",
    "    </li>\n",
    "        </ul>\n",
    "</ol>"
   ]
  },
  {
   "cell_type": "markdown",
   "metadata": {
    "_uuid": "27e8fe6f1d2091ddac350221569ff48cdde046af"
   },
   "source": [
    "<h4><font color='red'>Note: Data Leakage</font></h4>\n",
    "\n",
    "1. There will be an issue of data-leakage if you vectorize the entire data and then split it into train/cv/test.\n",
    "2. To avoid the issue of data-leakag, make sure to split your data first and then vectorize it. \n",
    "3. While vectorizing your data, apply the method fit_transform() on you train data, and apply the method transform() on cv/test data.\n",
    "4. For more details please go through this <a href='https://soundcloud.com/applied-ai-course/leakage-bow-and-tfidf'>link.</a>"
   ]
  },
  {
   "cell_type": "markdown",
   "metadata": {
    "_uuid": "477cf4ec0d4eb7200b8d48bdbe63f3681e168513"
   },
   "source": [
    "# Applying SVM"
   ]
  },
  {
   "cell_type": "markdown",
   "metadata": {
    "_uuid": "7e08e317c520fc1ec33ff693102cf49662de63fd"
   },
   "source": [
    "## [5.1] Linear SVM"
   ]
  },
  {
   "cell_type": "markdown",
   "metadata": {
    "_uuid": "413431f1367ae69de097b4da7c55b87ea8357d6d"
   },
   "source": [
    "### [5.1.1] Applying Linear SVM on BOW,<font color='red'> SET 1</font>"
   ]
  },
  {
   "cell_type": "code",
   "execution_count": 93,
   "metadata": {
    "_uuid": "645b3e21c3f69be68dbc0fcc0159f0e8ed4dfaac",
    "scrolled": false
   },
   "outputs": [
    {
     "name": "stderr",
     "output_type": "stream",
     "text": [
      "C:\\Users\\Ankit Mishra\\Anaconda3\\lib\\site-packages\\sklearn\\utils\\validation.py:761: DataConversionWarning: A column-vector y was passed when a 1d array was expected. Please change the shape of y to (n_samples, ), for example using ravel().\n",
      "  y = column_or_1d(y, warn=True)\n"
     ]
    },
    {
     "name": "stdout",
     "output_type": "stream",
     "text": [
      "10000\n"
     ]
    },
    {
     "name": "stderr",
     "output_type": "stream",
     "text": [
      "C:\\Users\\Ankit Mishra\\Anaconda3\\lib\\site-packages\\sklearn\\utils\\validation.py:761: DataConversionWarning: A column-vector y was passed when a 1d array was expected. Please change the shape of y to (n_samples, ), for example using ravel().\n",
      "  y = column_or_1d(y, warn=True)\n"
     ]
    },
    {
     "name": "stdout",
     "output_type": "stream",
     "text": [
      "1000\n"
     ]
    },
    {
     "name": "stderr",
     "output_type": "stream",
     "text": [
      "C:\\Users\\Ankit Mishra\\Anaconda3\\lib\\site-packages\\sklearn\\utils\\validation.py:761: DataConversionWarning: A column-vector y was passed when a 1d array was expected. Please change the shape of y to (n_samples, ), for example using ravel().\n",
      "  y = column_or_1d(y, warn=True)\n"
     ]
    },
    {
     "name": "stdout",
     "output_type": "stream",
     "text": [
      "100\n"
     ]
    },
    {
     "name": "stderr",
     "output_type": "stream",
     "text": [
      "C:\\Users\\Ankit Mishra\\Anaconda3\\lib\\site-packages\\sklearn\\utils\\validation.py:761: DataConversionWarning: A column-vector y was passed when a 1d array was expected. Please change the shape of y to (n_samples, ), for example using ravel().\n",
      "  y = column_or_1d(y, warn=True)\n"
     ]
    },
    {
     "name": "stdout",
     "output_type": "stream",
     "text": [
      "10\n"
     ]
    },
    {
     "name": "stderr",
     "output_type": "stream",
     "text": [
      "C:\\Users\\Ankit Mishra\\Anaconda3\\lib\\site-packages\\sklearn\\utils\\validation.py:761: DataConversionWarning: A column-vector y was passed when a 1d array was expected. Please change the shape of y to (n_samples, ), for example using ravel().\n",
      "  y = column_or_1d(y, warn=True)\n"
     ]
    },
    {
     "name": "stdout",
     "output_type": "stream",
     "text": [
      "1\n"
     ]
    },
    {
     "name": "stderr",
     "output_type": "stream",
     "text": [
      "C:\\Users\\Ankit Mishra\\Anaconda3\\lib\\site-packages\\sklearn\\utils\\validation.py:761: DataConversionWarning: A column-vector y was passed when a 1d array was expected. Please change the shape of y to (n_samples, ), for example using ravel().\n",
      "  y = column_or_1d(y, warn=True)\n"
     ]
    },
    {
     "name": "stdout",
     "output_type": "stream",
     "text": [
      "0.1\n"
     ]
    },
    {
     "name": "stderr",
     "output_type": "stream",
     "text": [
      "C:\\Users\\Ankit Mishra\\Anaconda3\\lib\\site-packages\\sklearn\\utils\\validation.py:761: DataConversionWarning: A column-vector y was passed when a 1d array was expected. Please change the shape of y to (n_samples, ), for example using ravel().\n",
      "  y = column_or_1d(y, warn=True)\n"
     ]
    },
    {
     "name": "stdout",
     "output_type": "stream",
     "text": [
      "0.01\n"
     ]
    },
    {
     "name": "stderr",
     "output_type": "stream",
     "text": [
      "C:\\Users\\Ankit Mishra\\Anaconda3\\lib\\site-packages\\sklearn\\utils\\validation.py:761: DataConversionWarning: A column-vector y was passed when a 1d array was expected. Please change the shape of y to (n_samples, ), for example using ravel().\n",
      "  y = column_or_1d(y, warn=True)\n"
     ]
    },
    {
     "name": "stdout",
     "output_type": "stream",
     "text": [
      "0.001\n"
     ]
    },
    {
     "name": "stderr",
     "output_type": "stream",
     "text": [
      "C:\\Users\\Ankit Mishra\\Anaconda3\\lib\\site-packages\\sklearn\\utils\\validation.py:761: DataConversionWarning: A column-vector y was passed when a 1d array was expected. Please change the shape of y to (n_samples, ), for example using ravel().\n",
      "  y = column_or_1d(y, warn=True)\n"
     ]
    },
    {
     "name": "stdout",
     "output_type": "stream",
     "text": [
      "0.0001\n"
     ]
    }
   ],
   "source": [
    "from sklearn.linear_model import SGDClassifier\n",
    "from sklearn.calibration import CalibratedClassifierCV\n",
    "\n",
    "c=[10**4,10**3,10**2,10**1,1,10**-1,10**-2,10**-3,10**-4]\n",
    "\n",
    "auc_cv=[]\n",
    "tpr_cv=[]\n",
    "fpr_cv=[]\n",
    "tpr_tr=[]\n",
    "fpr_tr=[]\n",
    "auc_tr=[]\n",
    "\n",
    "for i in c:\n",
    "    clf= SGDClassifier(loss='hinge',alpha=i,class_weight='balanced')\n",
    "    calibrated_clf = CalibratedClassifierCV(clf, method='sigmoid')\n",
    "    # fitting the model on crossvalidation train\n",
    "    calibrated_clf.fit(final_counts, y_tr)\n",
    "    \n",
    "    # predict the response on the crossvalidation train\n",
    "    pred = calibrated_clf.predict_proba(final_counts_cv)[:,1]\n",
    "    fpr, tpr, thresholds = metrics.roc_curve(y_cv, pred)\n",
    "    auc=metrics.auc(fpr, tpr)\n",
    "    auc_cv.append(auc)\n",
    "    tpr_cv.append(tpr)\n",
    "    fpr_cv.append(fpr)\n",
    "    \n",
    "    # predict the response on the train\n",
    "    pred = calibrated_clf.predict_proba(final_counts)[:,1]\n",
    "    fpr, tpr, thresholds = metrics.roc_curve(y_tr, pred)\n",
    "    auc=metrics.auc(fpr, tpr)\n",
    "    auc_tr.append(auc)\n",
    "    tpr_tr.append(tpr)\n",
    "    fpr_tr.append(fpr)\n",
    "    print(i)\n"
   ]
  },
  {
   "cell_type": "code",
   "execution_count": 94,
   "metadata": {
    "_uuid": "97dc3264df81b589e270464be713d1a5f06e0118"
   },
   "outputs": [],
   "source": [
    "lamb=[0.0001,0.001,0.01,0.1,1,10,100,1000,10000]"
   ]
  },
  {
   "cell_type": "code",
   "execution_count": 95,
   "metadata": {
    "_uuid": "d2bbd1263f6e339918d16b80db8a0527e94ad299"
   },
   "outputs": [],
   "source": [
    "data1={'alpha':c,'auc_cv':auc_cv[:],'auc_tr':auc_tr[:]}\n",
    "data_f=pd.DataFrame(data1)"
   ]
  },
  {
   "cell_type": "markdown",
   "metadata": {
    "_uuid": "255e70604ef0241b2115327289c12a498997a986"
   },
   "source": [
    "#### MAXIMUM AUC OF CROSS VALIDATION\n",
    "   alpha=10000"
   ]
  },
  {
   "cell_type": "code",
   "execution_count": 96,
   "metadata": {
    "_uuid": "16756b4cb7e76c68cad50be2e7d46e69970ea32d",
    "scrolled": true
   },
   "outputs": [
    {
     "data": {
      "text/html": [
       "<div>\n",
       "<style scoped>\n",
       "    .dataframe tbody tr th:only-of-type {\n",
       "        vertical-align: middle;\n",
       "    }\n",
       "\n",
       "    .dataframe tbody tr th {\n",
       "        vertical-align: top;\n",
       "    }\n",
       "\n",
       "    .dataframe thead th {\n",
       "        text-align: right;\n",
       "    }\n",
       "</style>\n",
       "<table border=\"1\" class=\"dataframe\">\n",
       "  <thead>\n",
       "    <tr style=\"text-align: right;\">\n",
       "      <th></th>\n",
       "      <th>alpha</th>\n",
       "      <th>auc_cv</th>\n",
       "      <th>auc_tr</th>\n",
       "    </tr>\n",
       "  </thead>\n",
       "  <tbody>\n",
       "    <tr>\n",
       "      <th>0</th>\n",
       "      <td>10000.0</td>\n",
       "      <td>0.525467</td>\n",
       "      <td>0.749607</td>\n",
       "    </tr>\n",
       "    <tr>\n",
       "      <th>1</th>\n",
       "      <td>1000.0</td>\n",
       "      <td>0.525467</td>\n",
       "      <td>0.749607</td>\n",
       "    </tr>\n",
       "    <tr>\n",
       "      <th>2</th>\n",
       "      <td>100.0</td>\n",
       "      <td>0.525467</td>\n",
       "      <td>0.749607</td>\n",
       "    </tr>\n",
       "  </tbody>\n",
       "</table>\n",
       "</div>"
      ],
      "text/plain": [
       "     alpha    auc_cv    auc_tr\n",
       "0  10000.0  0.525467  0.749607\n",
       "1   1000.0  0.525467  0.749607\n",
       "2    100.0  0.525467  0.749607"
      ]
     },
     "execution_count": 96,
     "metadata": {},
     "output_type": "execute_result"
    }
   ],
   "source": [
    "data_f[data_f['auc_cv']==data_f['auc_cv'].max()]"
   ]
  },
  {
   "cell_type": "markdown",
   "metadata": {
    "_uuid": "bba46aab8acd3b10833f1e852b2207f56ad21733"
   },
   "source": [
    "### AREA UNDER CURVE Vs Neighbours PLOT FOR TRAIN AND TEST"
   ]
  },
  {
   "cell_type": "code",
   "execution_count": 131,
   "metadata": {
    "_uuid": "bdf9270ddc7f9ac8e3aae0b055f3527cc3b42af4",
    "scrolled": false
   },
   "outputs": [
    {
     "data": {
      "image/png": "[encoded data removed]",
      "text/plain": [
       "<Figure size 720x432 with 1 Axes>"
      ]
     },
     "metadata": {
      "needs_background": "light"
     },
     "output_type": "display_data"
    }
   ],
   "source": [
    "plt.figure(figsize=(10,6))\n",
    "plt.plot(np.log10(lamb),auc_tr,'b',label='TRAIN')\n",
    "plt.plot(np.log10(lamb),auc_cv,'g',label='CROSS VALIDATION')\n",
    "plt.xlabel('log of alpha')\n",
    "plt.ylabel('AUC')\n",
    "plt.title('Area Under Curve')\n",
    "plt.grid()\n",
    "plt.legend()\n",
    "plt.show()"
   ]
  },
  {
   "cell_type": "code",
   "execution_count": 121,
   "metadata": {},
   "outputs": [
    {
     "data": {
      "text/html": [
       "<div>\n",
       "<style scoped>\n",
       "    .dataframe tbody tr th:only-of-type {\n",
       "        vertical-align: middle;\n",
       "    }\n",
       "\n",
       "    .dataframe tbody tr th {\n",
       "        vertical-align: top;\n",
       "    }\n",
       "\n",
       "    .dataframe thead th {\n",
       "        text-align: right;\n",
       "    }\n",
       "</style>\n",
       "<table border=\"1\" class=\"dataframe\">\n",
       "  <thead>\n",
       "    <tr style=\"text-align: right;\">\n",
       "      <th></th>\n",
       "      <th>alpha</th>\n",
       "      <th>auc_cv</th>\n",
       "      <th>auc_tr</th>\n",
       "    </tr>\n",
       "  </thead>\n",
       "  <tbody>\n",
       "    <tr>\n",
       "      <th>0</th>\n",
       "      <td>10000.0000</td>\n",
       "      <td>0.525467</td>\n",
       "      <td>0.749607</td>\n",
       "    </tr>\n",
       "    <tr>\n",
       "      <th>1</th>\n",
       "      <td>1000.0000</td>\n",
       "      <td>0.525467</td>\n",
       "      <td>0.749607</td>\n",
       "    </tr>\n",
       "    <tr>\n",
       "      <th>2</th>\n",
       "      <td>100.0000</td>\n",
       "      <td>0.525467</td>\n",
       "      <td>0.749607</td>\n",
       "    </tr>\n",
       "    <tr>\n",
       "      <th>3</th>\n",
       "      <td>10.0000</td>\n",
       "      <td>0.525348</td>\n",
       "      <td>0.749663</td>\n",
       "    </tr>\n",
       "    <tr>\n",
       "      <th>4</th>\n",
       "      <td>1.0000</td>\n",
       "      <td>0.507507</td>\n",
       "      <td>0.800189</td>\n",
       "    </tr>\n",
       "    <tr>\n",
       "      <th>5</th>\n",
       "      <td>0.1000</td>\n",
       "      <td>0.510501</td>\n",
       "      <td>0.897451</td>\n",
       "    </tr>\n",
       "    <tr>\n",
       "      <th>6</th>\n",
       "      <td>0.0100</td>\n",
       "      <td>0.490750</td>\n",
       "      <td>0.957218</td>\n",
       "    </tr>\n",
       "    <tr>\n",
       "      <th>7</th>\n",
       "      <td>0.0010</td>\n",
       "      <td>0.489045</td>\n",
       "      <td>0.982967</td>\n",
       "    </tr>\n",
       "    <tr>\n",
       "      <th>8</th>\n",
       "      <td>0.0001</td>\n",
       "      <td>0.470955</td>\n",
       "      <td>0.982934</td>\n",
       "    </tr>\n",
       "  </tbody>\n",
       "</table>\n",
       "</div>"
      ],
      "text/plain": [
       "        alpha    auc_cv    auc_tr\n",
       "0  10000.0000  0.525467  0.749607\n",
       "1   1000.0000  0.525467  0.749607\n",
       "2    100.0000  0.525467  0.749607\n",
       "3     10.0000  0.525348  0.749663\n",
       "4      1.0000  0.507507  0.800189\n",
       "5      0.1000  0.510501  0.897451\n",
       "6      0.0100  0.490750  0.957218\n",
       "7      0.0010  0.489045  0.982967\n",
       "8      0.0001  0.470955  0.982934"
      ]
     },
     "execution_count": 121,
     "metadata": {},
     "output_type": "execute_result"
    }
   ],
   "source": [
    "data_f"
   ]
  },
  {
   "cell_type": "markdown",
   "metadata": {},
   "source": [
    "#### TAKEN THE VALUE OF LAPHA AS 10000 BUT IT IS BIASED TOWARDS 1 "
   ]
  },
  {
   "cell_type": "code",
   "execution_count": 138,
   "metadata": {
    "_uuid": "efb93630d1dd2ee6ec47069e84e941756ffa74a7"
   },
   "outputs": [
    {
     "name": "stderr",
     "output_type": "stream",
     "text": [
      "C:\\Users\\Ankit Mishra\\Anaconda3\\lib\\site-packages\\sklearn\\utils\\validation.py:761: DataConversionWarning: A column-vector y was passed when a 1d array was expected. Please change the shape of y to (n_samples, ), for example using ravel().\n",
      "  y = column_or_1d(y, warn=True)\n"
     ]
    },
    {
     "data": {
      "text/plain": [
       "0.5315062505509636"
      ]
     },
     "execution_count": 138,
     "metadata": {},
     "output_type": "execute_result"
    }
   ],
   "source": [
    "# TESTING THE MODEL ON TEST DATA\n",
    "clf= SGDClassifier(loss='hinge',alpha=100)\n",
    "calibrated_clf = CalibratedClassifierCV(clf, method='sigmoid')\n",
    "calibrated_clf.fit(final_counts, y_tr)\n",
    "\n",
    "\n",
    "pred_final = calibrated_clf.predict_proba(final_counts_test)[:,1]\n",
    "fpr_f, tpr_f, thresholds_f = metrics.roc_curve(y_test, pred_final)\n",
    "auc_final = metrics.auc(fpr_f, tpr_f)\n",
    "auc_final"
   ]
  },
  {
   "cell_type": "code",
   "execution_count": 139,
   "metadata": {
    "_uuid": "6ddeeaf9d0fcd4cd6ac677a8343eff2ccd865d01"
   },
   "outputs": [
    {
     "data": {
      "text/plain": [
       "0.5658199610712646"
      ]
     },
     "execution_count": 139,
     "metadata": {},
     "output_type": "execute_result"
    }
   ],
   "source": [
    "# TESTING THE MODEL ON TRAIN DATA\n",
    "pred_train=calibrated_clf.predict_proba(final_counts)[:,1]\n",
    "fpr_ft, tpr_ft, thresholds_ft=metrics.roc_curve(y_tr, pred_train)\n",
    "auc_finalt=metrics.auc(fpr_ft, tpr_ft)\n",
    "auc_finalt"
   ]
  },
  {
   "cell_type": "markdown",
   "metadata": {
    "_uuid": "b516caf038fbbc506702ac2a716dc293ef39bbbd"
   },
   "source": [
    "### ROC CURVE"
   ]
  },
  {
   "cell_type": "code",
   "execution_count": 140,
   "metadata": {
    "_uuid": "9779629031b5b079dc0fc12494b792fb7366e58f"
   },
   "outputs": [],
   "source": [
    "y_a=[0,0.5,1]\n",
    "x_a=y_a"
   ]
  },
  {
   "cell_type": "code",
   "execution_count": 141,
   "metadata": {
    "_uuid": "44549168c2088d4a39dcdfa2d843c3f13d6eac90",
    "scrolled": false
   },
   "outputs": [
    {
     "data": {
      "image/png": "[encoded data removed]",
      "text/plain": [
       "<Figure size 1080x720 with 1 Axes>"
      ]
     },
     "metadata": {
      "needs_background": "light"
     },
     "output_type": "display_data"
    }
   ],
   "source": [
    "plt.figure(figsize=(15,10))\n",
    "plt.plot(fpr_f,tpr_f,'b',label='TEST')\n",
    "plt.plot(x_a,y_a,'--r')\n",
    "plt.plot(fpr_ft,tpr_ft,'g',label='TRAIN')\n",
    "plt.xlabel('tpr_f')\n",
    "plt.ylabel('fpr_f')\n",
    "plt.title('AUC ')\n",
    "plt.grid()\n",
    "plt.legend()\n",
    "plt.show()"
   ]
  },
  {
   "cell_type": "markdown",
   "metadata": {
    "_uuid": "bb1b9703925f588a3e8d33f25ca7e408d89ee0a9"
   },
   "source": [
    "### CONFUSION MATRIX"
   ]
  },
  {
   "cell_type": "code",
   "execution_count": 142,
   "metadata": {
    "_uuid": "536b403605690078952025907389eb004b030999"
   },
   "outputs": [],
   "source": [
    "pred_final\n",
    "pred_final_class=[]\n",
    "for i in range(len(pred_final)):\n",
    "    if pred_final[i]>0.5:\n",
    "        pred_final_class.append(1)\n",
    "    elif pred_final[i]<0.5:\n",
    "            pred_final_class.append(0)\n",
    "    else:\n",
    "#             pred_final_class.append(1)\n",
    "            pred_final_class.append(np.random([0,1]))\n",
    "\n",
    "\n"
   ]
  },
  {
   "cell_type": "code",
   "execution_count": 143,
   "metadata": {
    "_uuid": "5a66042c6c9374dc11641ae913283511272b4888",
    "scrolled": true
   },
   "outputs": [
    {
     "data": {
      "text/plain": [
       "array([[    0,  2532],\n",
       "       [    0, 11290]], dtype=int64)"
      ]
     },
     "execution_count": 143,
     "metadata": {},
     "output_type": "execute_result"
    }
   ],
   "source": [
    "cm = confusion_matrix(y_test, pred_final_class)\n",
    "cm"
   ]
  },
  {
   "cell_type": "code",
   "execution_count": 144,
   "metadata": {
    "_uuid": "2fdbb3368eee62536010071515e4fedb99defef8"
   },
   "outputs": [
    {
     "data": {
      "text/plain": [
       "1    11290\n",
       "0     2532\n",
       "Name: Score, dtype: int64"
      ]
     },
     "execution_count": 144,
     "metadata": {},
     "output_type": "execute_result"
    }
   ],
   "source": [
    "y_test[\"Score\"].value_counts()"
   ]
  },
  {
   "cell_type": "code",
   "execution_count": 137,
   "metadata": {
    "_uuid": "d3d820a6a99a5923b68a9f3fec0258e6bd662fc5",
    "scrolled": false
   },
   "outputs": [
    {
     "data": {
      "image/png": "[encoded data removed]",
      "text/plain": [
       "<Figure size 432x288 with 2 Axes>"
      ]
     },
     "metadata": {
      "needs_background": "light"
     },
     "output_type": "display_data"
    }
   ],
   "source": [
    "import seaborn as sns\n",
    "class_label = [\"negative\", \"positive\"]\n",
    "df_cm = pd.DataFrame(cm, index = class_label, columns = class_label)\n",
    "sns.heatmap(df_cm, annot = True, fmt = \"d\")\n",
    "plt.title(\"Confusiion Matrix\")\n",
    "plt.xlabel(\"Predicted Label\")\n",
    "plt.ylabel(\"True Label\")\n",
    "plt.show()"
   ]
  },
  {
   "cell_type": "markdown",
   "metadata": {
    "_uuid": "89878768564bbe87b7d83c8323c9b2b80d2eb472"
   },
   "source": [
    "## CONCLUSION"
   ]
  },
  {
   "cell_type": "code",
   "execution_count": 114,
   "metadata": {
    "_uuid": "953b0ccdc4c39d90a85023ee4ec3f409be901585"
   },
   "outputs": [
    {
     "name": "stdout",
     "output_type": "stream",
     "text": [
      "              precision    recall  f1-score   support\n",
      "\n",
      "           0       0.25      0.03      0.05      2532\n",
      "           1       0.82      0.98      0.89     11290\n",
      "\n",
      "   micro avg       0.81      0.81      0.81     13822\n",
      "   macro avg       0.54      0.51      0.47     13822\n",
      "weighted avg       0.72      0.81      0.74     13822\n",
      "\n"
     ]
    }
   ],
   "source": [
    "from sklearn.metrics import classification_report\n",
    "print(classification_report(y_test, pred_final_class))"
   ]
  },
  {
   "cell_type": "markdown",
   "metadata": {},
   "source": [
    "### Feature Importance on BOW,<font color='red'> SET 1</font>"
   ]
  },
  {
   "cell_type": "code",
   "execution_count": 115,
   "metadata": {},
   "outputs": [
    {
     "name": "stderr",
     "output_type": "stream",
     "text": [
      "C:\\Users\\Ankit Mishra\\Anaconda3\\lib\\site-packages\\sklearn\\utils\\validation.py:761: DataConversionWarning: A column-vector y was passed when a 1d array was expected. Please change the shape of y to (n_samples, ), for example using ravel().\n",
      "  y = column_or_1d(y, warn=True)\n"
     ]
    },
    {
     "data": {
      "text/plain": [
       "SGDClassifier(alpha=1000, average=False, class_weight=None,\n",
       "       early_stopping=False, epsilon=0.1, eta0=0.0, fit_intercept=True,\n",
       "       l1_ratio=0.15, learning_rate='optimal', loss='hinge', max_iter=None,\n",
       "       n_iter=None, n_iter_no_change=5, n_jobs=None, penalty='l2',\n",
       "       power_t=0.5, random_state=None, shuffle=True, tol=None,\n",
       "       validation_fraction=0.1, verbose=0, warm_start=False)"
      ]
     },
     "execution_count": 115,
     "metadata": {},
     "output_type": "execute_result"
    }
   ],
   "source": [
    "from sklearn.linear_model import SGDClassifier\n",
    "clf= SGDClassifier(loss='hinge',alpha=1000)\n",
    "clf.fit(final_counts, y_tr)"
   ]
  },
  {
   "cell_type": "code",
   "execution_count": 116,
   "metadata": {
    "scrolled": true
   },
   "outputs": [],
   "source": [
    "w=clf.coef_"
   ]
  },
  {
   "cell_type": "code",
   "execution_count": 197,
   "metadata": {
    "collapsed": true
   },
   "outputs": [],
   "source": [
    "w_=np.argsort(w)"
   ]
  },
  {
   "cell_type": "code",
   "execution_count": 198,
   "metadata": {
    "collapsed": true
   },
   "outputs": [],
   "source": [
    "features_name=count_vect.get_feature_names()"
   ]
  },
  {
   "cell_type": "markdown",
   "metadata": {},
   "source": [
    "#### Top 10 important features of positive class from<font color='red'> SET 1</font>"
   ]
  },
  {
   "cell_type": "code",
   "execution_count": 199,
   "metadata": {},
   "outputs": [
    {
     "name": "stdout",
     "output_type": "stream",
     "text": [
      "exited   0.0001411370633772643\n",
      "companyis   0.00015801503611634723\n",
      "thermite   0.0001640397192988026\n",
      "evenovershadows   0.00016514719782498885\n",
      "lawsuit   0.00018791695632337744\n",
      "oquendo   0.0002034216556899895\n",
      "thing   0.00021959084217232496\n",
      "flexible   0.0002600359579485586\n",
      "kibbles   0.0002682755981834161\n",
      "fish   0.00027660383670031894\n",
      "nirvana   0.0005577261857876789\n"
     ]
    }
   ],
   "source": [
    "for i in w_[0][-11:]:\n",
    "    print(\"{0}   {1}\".format(features_name[i],w[0][i]))"
   ]
  },
  {
   "cell_type": "markdown",
   "metadata": {},
   "source": [
    "#### Top 10 important features of negative class from<font color='red'> SET 1</font>"
   ]
  },
  {
   "cell_type": "code",
   "execution_count": 200,
   "metadata": {},
   "outputs": [
    {
     "name": "stdout",
     "output_type": "stream",
     "text": [
      "woke   -5.050102079412199e-06\n",
      "glitter   -3.9426235532253094e-06\n",
      "avg   -3.012341591228328e-06\n",
      "repulsed   -3.0123415912283268e-06\n",
      "tombstone   -2.8351450270384233e-06\n",
      "ritz   -2.7465467449434715e-06\n",
      "tight   -2.3478544755161892e-06\n",
      "designated   -2.037760488183861e-06\n",
      "detergent   -1.8605639239939586e-06\n",
      "designates   -1.6833673598040625e-06\n"
     ]
    }
   ],
   "source": [
    "for i in w_[0][:10]:\n",
    "    print(\"{0}   {1}\".format(features_name[i],w[0][i]))\n",
    "    "
   ]
  },
  {
   "cell_type": "markdown",
   "metadata": {
    "_uuid": "653b2b56ac300d5d488e600174d67929774d1e3e"
   },
   "source": [
    "### [5.1.2] Applying Linear SVM on TFIDF,<font color='red'> SET 2</font>"
   ]
  },
  {
   "cell_type": "code",
   "execution_count": 145,
   "metadata": {
    "_uuid": "a2053a0800fc532a4d222daac3cf9945dac7eee6",
    "scrolled": false
   },
   "outputs": [
    {
     "name": "stderr",
     "output_type": "stream",
     "text": [
      "C:\\Users\\Ankit Mishra\\Anaconda3\\lib\\site-packages\\sklearn\\utils\\validation.py:761: DataConversionWarning: A column-vector y was passed when a 1d array was expected. Please change the shape of y to (n_samples, ), for example using ravel().\n",
      "  y = column_or_1d(y, warn=True)\n"
     ]
    },
    {
     "name": "stdout",
     "output_type": "stream",
     "text": [
      "10000\n"
     ]
    },
    {
     "name": "stderr",
     "output_type": "stream",
     "text": [
      "C:\\Users\\Ankit Mishra\\Anaconda3\\lib\\site-packages\\sklearn\\utils\\validation.py:761: DataConversionWarning: A column-vector y was passed when a 1d array was expected. Please change the shape of y to (n_samples, ), for example using ravel().\n",
      "  y = column_or_1d(y, warn=True)\n"
     ]
    },
    {
     "name": "stdout",
     "output_type": "stream",
     "text": [
      "1000\n"
     ]
    },
    {
     "name": "stderr",
     "output_type": "stream",
     "text": [
      "C:\\Users\\Ankit Mishra\\Anaconda3\\lib\\site-packages\\sklearn\\utils\\validation.py:761: DataConversionWarning: A column-vector y was passed when a 1d array was expected. Please change the shape of y to (n_samples, ), for example using ravel().\n",
      "  y = column_or_1d(y, warn=True)\n"
     ]
    },
    {
     "name": "stdout",
     "output_type": "stream",
     "text": [
      "100\n"
     ]
    },
    {
     "name": "stderr",
     "output_type": "stream",
     "text": [
      "C:\\Users\\Ankit Mishra\\Anaconda3\\lib\\site-packages\\sklearn\\utils\\validation.py:761: DataConversionWarning: A column-vector y was passed when a 1d array was expected. Please change the shape of y to (n_samples, ), for example using ravel().\n",
      "  y = column_or_1d(y, warn=True)\n"
     ]
    },
    {
     "name": "stdout",
     "output_type": "stream",
     "text": [
      "10\n"
     ]
    },
    {
     "name": "stderr",
     "output_type": "stream",
     "text": [
      "C:\\Users\\Ankit Mishra\\Anaconda3\\lib\\site-packages\\sklearn\\utils\\validation.py:761: DataConversionWarning: A column-vector y was passed when a 1d array was expected. Please change the shape of y to (n_samples, ), for example using ravel().\n",
      "  y = column_or_1d(y, warn=True)\n"
     ]
    },
    {
     "name": "stdout",
     "output_type": "stream",
     "text": [
      "1\n"
     ]
    },
    {
     "name": "stderr",
     "output_type": "stream",
     "text": [
      "C:\\Users\\Ankit Mishra\\Anaconda3\\lib\\site-packages\\sklearn\\utils\\validation.py:761: DataConversionWarning: A column-vector y was passed when a 1d array was expected. Please change the shape of y to (n_samples, ), for example using ravel().\n",
      "  y = column_or_1d(y, warn=True)\n"
     ]
    },
    {
     "name": "stdout",
     "output_type": "stream",
     "text": [
      "0.1\n"
     ]
    },
    {
     "name": "stderr",
     "output_type": "stream",
     "text": [
      "C:\\Users\\Ankit Mishra\\Anaconda3\\lib\\site-packages\\sklearn\\utils\\validation.py:761: DataConversionWarning: A column-vector y was passed when a 1d array was expected. Please change the shape of y to (n_samples, ), for example using ravel().\n",
      "  y = column_or_1d(y, warn=True)\n"
     ]
    },
    {
     "name": "stdout",
     "output_type": "stream",
     "text": [
      "0.01\n"
     ]
    },
    {
     "name": "stderr",
     "output_type": "stream",
     "text": [
      "C:\\Users\\Ankit Mishra\\Anaconda3\\lib\\site-packages\\sklearn\\utils\\validation.py:761: DataConversionWarning: A column-vector y was passed when a 1d array was expected. Please change the shape of y to (n_samples, ), for example using ravel().\n",
      "  y = column_or_1d(y, warn=True)\n"
     ]
    },
    {
     "name": "stdout",
     "output_type": "stream",
     "text": [
      "0.001\n"
     ]
    },
    {
     "name": "stderr",
     "output_type": "stream",
     "text": [
      "C:\\Users\\Ankit Mishra\\Anaconda3\\lib\\site-packages\\sklearn\\utils\\validation.py:761: DataConversionWarning: A column-vector y was passed when a 1d array was expected. Please change the shape of y to (n_samples, ), for example using ravel().\n",
      "  y = column_or_1d(y, warn=True)\n"
     ]
    },
    {
     "name": "stdout",
     "output_type": "stream",
     "text": [
      "0.0001\n"
     ]
    }
   ],
   "source": [
    "from sklearn.linear_model import SGDClassifier\n",
    "from sklearn.calibration import CalibratedClassifierCV\n",
    "\n",
    "c=[10**4,10**3,10**2,10**1,1,10**-1,10**-2,10**-3,10**-4]\n",
    "\n",
    "auc_cv=[]\n",
    "tpr_cv=[]\n",
    "fpr_cv=[]\n",
    "tpr_tr=[]\n",
    "fpr_tr=[]\n",
    "auc_tr=[]\n",
    "\n",
    "for i in c:\n",
    "    clf= SGDClassifier(loss='hinge',alpha=i)\n",
    "    calibrated_clf = CalibratedClassifierCV(clf, method='sigmoid')\n",
    "    # fitting the model on crossvalidation train\n",
    "    calibrated_clf.fit(final_tf_idf, y_tr)\n",
    "    \n",
    "    # predict the response on the crossvalidation train\n",
    "    pred = calibrated_clf.predict_proba(final_tf_idf_cv)[:,1]\n",
    "    fpr, tpr, thresholds = metrics.roc_curve(y_cv, pred)\n",
    "    auc=metrics.auc(fpr, tpr)\n",
    "    auc_cv.append(auc)\n",
    "    tpr_cv.append(tpr)\n",
    "    fpr_cv.append(fpr)\n",
    "    \n",
    "    # predict the response on the train\n",
    "    pred = calibrated_clf.predict_proba(final_tf_idf)[:,1]\n",
    "    fpr, tpr, thresholds = metrics.roc_curve(y_tr, pred)\n",
    "    auc=metrics.auc(fpr, tpr)\n",
    "    auc_tr.append(auc)\n",
    "    tpr_tr.append(tpr)\n",
    "    fpr_tr.append(fpr)\n",
    "    print(i)\n"
   ]
  },
  {
   "cell_type": "code",
   "execution_count": 146,
   "metadata": {
    "_uuid": "0edddb2c4f7e31b21a7bbf19501d2b3cfa894433"
   },
   "outputs": [],
   "source": [
    "data1={'alpha':c,'auc_cv':auc_cv[:],'auc_tr':auc_tr[:]}\n",
    "data_f=pd.DataFrame(data1)"
   ]
  },
  {
   "cell_type": "markdown",
   "metadata": {
    "_uuid": "255e70604ef0241b2115327289c12a498997a986"
   },
   "source": [
    "#### MAXIMUM AUC OF CROSS VALIDATION\n",
    "     aplha=0.001"
   ]
  },
  {
   "cell_type": "code",
   "execution_count": 147,
   "metadata": {
    "_uuid": "16756b4cb7e76c68cad50be2e7d46e69970ea32d",
    "scrolled": true
   },
   "outputs": [
    {
     "data": {
      "text/html": [
       "<div>\n",
       "<style scoped>\n",
       "    .dataframe tbody tr th:only-of-type {\n",
       "        vertical-align: middle;\n",
       "    }\n",
       "\n",
       "    .dataframe tbody tr th {\n",
       "        vertical-align: top;\n",
       "    }\n",
       "\n",
       "    .dataframe thead th {\n",
       "        text-align: right;\n",
       "    }\n",
       "</style>\n",
       "<table border=\"1\" class=\"dataframe\">\n",
       "  <thead>\n",
       "    <tr style=\"text-align: right;\">\n",
       "      <th></th>\n",
       "      <th>alpha</th>\n",
       "      <th>auc_cv</th>\n",
       "      <th>auc_tr</th>\n",
       "    </tr>\n",
       "  </thead>\n",
       "  <tbody>\n",
       "    <tr>\n",
       "      <th>7</th>\n",
       "      <td>0.001</td>\n",
       "      <td>0.569488</td>\n",
       "      <td>0.966863</td>\n",
       "    </tr>\n",
       "  </tbody>\n",
       "</table>\n",
       "</div>"
      ],
      "text/plain": [
       "   alpha    auc_cv    auc_tr\n",
       "7  0.001  0.569488  0.966863"
      ]
     },
     "execution_count": 147,
     "metadata": {},
     "output_type": "execute_result"
    }
   ],
   "source": [
    "data_f[data_f['auc_cv']==data_f['auc_cv'].max()]"
   ]
  },
  {
   "cell_type": "markdown",
   "metadata": {
    "_uuid": "bba46aab8acd3b10833f1e852b2207f56ad21733"
   },
   "source": [
    "### AREA UNDER CURVE Vs Neighbours PLOT FOR TRAIN AND TEST"
   ]
  },
  {
   "cell_type": "code",
   "execution_count": 148,
   "metadata": {
    "_uuid": "bdf9270ddc7f9ac8e3aae0b055f3527cc3b42af4",
    "scrolled": false
   },
   "outputs": [
    {
     "data": {
      "image/png": "[encoded data removed]",
      "text/plain": [
       "<Figure size 720x432 with 1 Axes>"
      ]
     },
     "metadata": {
      "needs_background": "light"
     },
     "output_type": "display_data"
    }
   ],
   "source": [
    "plt.figure(figsize=(10,6))\n",
    "plt.plot(np.log(lamb),auc_tr,'b',label='TRAIN')\n",
    "plt.plot(np.log(lamb),auc_cv,'g',label='CROSS VALIDATION')\n",
    "plt.xlabel('log of alpha')\n",
    "plt.ylabel('AUC')\n",
    "plt.title('Area Under Curve')\n",
    "plt.grid()\n",
    "plt.legend()\n",
    "plt.show()"
   ]
  },
  {
   "cell_type": "code",
   "execution_count": 149,
   "metadata": {},
   "outputs": [
    {
     "data": {
      "text/html": [
       "<div>\n",
       "<style scoped>\n",
       "    .dataframe tbody tr th:only-of-type {\n",
       "        vertical-align: middle;\n",
       "    }\n",
       "\n",
       "    .dataframe tbody tr th {\n",
       "        vertical-align: top;\n",
       "    }\n",
       "\n",
       "    .dataframe thead th {\n",
       "        text-align: right;\n",
       "    }\n",
       "</style>\n",
       "<table border=\"1\" class=\"dataframe\">\n",
       "  <thead>\n",
       "    <tr style=\"text-align: right;\">\n",
       "      <th></th>\n",
       "      <th>alpha</th>\n",
       "      <th>auc_cv</th>\n",
       "      <th>auc_tr</th>\n",
       "    </tr>\n",
       "  </thead>\n",
       "  <tbody>\n",
       "    <tr>\n",
       "      <th>0</th>\n",
       "      <td>10000.0000</td>\n",
       "      <td>0.507913</td>\n",
       "      <td>0.603006</td>\n",
       "    </tr>\n",
       "    <tr>\n",
       "      <th>1</th>\n",
       "      <td>1000.0000</td>\n",
       "      <td>0.507913</td>\n",
       "      <td>0.603006</td>\n",
       "    </tr>\n",
       "    <tr>\n",
       "      <th>2</th>\n",
       "      <td>100.0000</td>\n",
       "      <td>0.507913</td>\n",
       "      <td>0.603006</td>\n",
       "    </tr>\n",
       "    <tr>\n",
       "      <th>3</th>\n",
       "      <td>10.0000</td>\n",
       "      <td>0.507913</td>\n",
       "      <td>0.603006</td>\n",
       "    </tr>\n",
       "    <tr>\n",
       "      <th>4</th>\n",
       "      <td>1.0000</td>\n",
       "      <td>0.507913</td>\n",
       "      <td>0.603006</td>\n",
       "    </tr>\n",
       "    <tr>\n",
       "      <th>5</th>\n",
       "      <td>0.1000</td>\n",
       "      <td>0.507912</td>\n",
       "      <td>0.603036</td>\n",
       "    </tr>\n",
       "    <tr>\n",
       "      <th>6</th>\n",
       "      <td>0.0100</td>\n",
       "      <td>0.567550</td>\n",
       "      <td>0.967666</td>\n",
       "    </tr>\n",
       "    <tr>\n",
       "      <th>7</th>\n",
       "      <td>0.0010</td>\n",
       "      <td>0.569488</td>\n",
       "      <td>0.966863</td>\n",
       "    </tr>\n",
       "    <tr>\n",
       "      <th>8</th>\n",
       "      <td>0.0001</td>\n",
       "      <td>0.554355</td>\n",
       "      <td>0.979017</td>\n",
       "    </tr>\n",
       "  </tbody>\n",
       "</table>\n",
       "</div>"
      ],
      "text/plain": [
       "        alpha    auc_cv    auc_tr\n",
       "0  10000.0000  0.507913  0.603006\n",
       "1   1000.0000  0.507913  0.603006\n",
       "2    100.0000  0.507913  0.603006\n",
       "3     10.0000  0.507913  0.603006\n",
       "4      1.0000  0.507913  0.603006\n",
       "5      0.1000  0.507912  0.603036\n",
       "6      0.0100  0.567550  0.967666\n",
       "7      0.0010  0.569488  0.966863\n",
       "8      0.0001  0.554355  0.979017"
      ]
     },
     "execution_count": 149,
     "metadata": {},
     "output_type": "execute_result"
    }
   ],
   "source": [
    "data_f"
   ]
  },
  {
   "cell_type": "code",
   "execution_count": 156,
   "metadata": {
    "_uuid": "efb93630d1dd2ee6ec47069e84e941756ffa74a7"
   },
   "outputs": [
    {
     "name": "stderr",
     "output_type": "stream",
     "text": [
      "C:\\Users\\Ankit Mishra\\Anaconda3\\lib\\site-packages\\sklearn\\utils\\validation.py:761: DataConversionWarning: A column-vector y was passed when a 1d array was expected. Please change the shape of y to (n_samples, ), for example using ravel().\n",
      "  y = column_or_1d(y, warn=True)\n"
     ]
    },
    {
     "data": {
      "text/plain": [
       "0.6638521346604036"
      ]
     },
     "execution_count": 156,
     "metadata": {},
     "output_type": "execute_result"
    }
   ],
   "source": [
    "# TESTING THE MODEL ON TEST DATA\n",
    "from sklearn.linear_model import SGDClassifier\n",
    "from sklearn.calibration import CalibratedClassifierCV\n",
    "\n",
    "clf= SGDClassifier(loss='hinge',alpha=0.01)\n",
    "calibrated_clf = CalibratedClassifierCV(clf, method='sigmoid')\n",
    "calibrated_clf.fit(final_tf_idf, y_tr)\n",
    "pred_final = calibrated_clf.predict_proba(final_tf_idf_test)[:,1]\n",
    "fpr_f, tpr_f, thresholds_f = metrics.roc_curve(y_test, pred_final)\n",
    "auc_final = metrics.auc(fpr_f, tpr_f)\n",
    "auc_final"
   ]
  },
  {
   "cell_type": "code",
   "execution_count": 157,
   "metadata": {
    "_uuid": "6ddeeaf9d0fcd4cd6ac677a8343eff2ccd865d01"
   },
   "outputs": [
    {
     "data": {
      "text/plain": [
       "0.967695005879887"
      ]
     },
     "execution_count": 157,
     "metadata": {},
     "output_type": "execute_result"
    }
   ],
   "source": [
    "# TESTING THE MODEL ON TRAIN DATA\n",
    "pred_train=calibrated_clf.predict_proba(final_tf_idf)[:,1]\n",
    "fpr_ft, tpr_ft, thresholds_ft=metrics.roc_curve(y_tr, pred_train)\n",
    "auc_finalt=metrics.auc(fpr_ft, tpr_ft)\n",
    "auc_finalt"
   ]
  },
  {
   "cell_type": "markdown",
   "metadata": {
    "_uuid": "b516caf038fbbc506702ac2a716dc293ef39bbbd"
   },
   "source": [
    "### ROC CURVE"
   ]
  },
  {
   "cell_type": "code",
   "execution_count": 158,
   "metadata": {
    "_uuid": "9779629031b5b079dc0fc12494b792fb7366e58f"
   },
   "outputs": [],
   "source": [
    "y_a=[0,0.5,1]\n",
    "x_a=y_a"
   ]
  },
  {
   "cell_type": "code",
   "execution_count": 159,
   "metadata": {
    "_uuid": "44549168c2088d4a39dcdfa2d843c3f13d6eac90",
    "scrolled": false
   },
   "outputs": [
    {
     "data": {
      "image/png": "[encoded data removed]",
      "text/plain": [
       "<Figure size 1080x720 with 1 Axes>"
      ]
     },
     "metadata": {
      "needs_background": "light"
     },
     "output_type": "display_data"
    }
   ],
   "source": [
    "plt.figure(figsize=(15,10))\n",
    "plt.plot(fpr_f,tpr_f,'b',label='TEST')\n",
    "plt.plot(x_a,y_a,'--r')\n",
    "plt.plot(fpr_ft,tpr_ft,'g',label='TRAIN')\n",
    "plt.xlabel('tpr_f')\n",
    "plt.ylabel('fpr_f')\n",
    "plt.title('AUC ')\n",
    "plt.grid()\n",
    "plt.legend()\n",
    "plt.show()"
   ]
  },
  {
   "cell_type": "markdown",
   "metadata": {
    "_uuid": "bb1b9703925f588a3e8d33f25ca7e408d89ee0a9"
   },
   "source": [
    "### CONFUSION MATRIX"
   ]
  },
  {
   "cell_type": "code",
   "execution_count": 160,
   "metadata": {
    "_uuid": "536b403605690078952025907389eb004b030999"
   },
   "outputs": [],
   "source": [
    "pred_final\n",
    "pred_final_class=[]\n",
    "for i in range(len(pred_final)):\n",
    "    if pred_final[i]>0.5:\n",
    "        pred_final_class.append(1)\n",
    "    elif pred_final[i]<0.5:\n",
    "            pred_final_class.append(0)\n",
    "    else:\n",
    "            pred_final_class.append(np.random(1,[0,1]))\n",
    "\n",
    "\n"
   ]
  },
  {
   "cell_type": "code",
   "execution_count": 161,
   "metadata": {
    "_uuid": "5a66042c6c9374dc11641ae913283511272b4888",
    "scrolled": true
   },
   "outputs": [
    {
     "data": {
      "text/plain": [
       "array([[  486,  2046],\n",
       "       [  693, 10597]], dtype=int64)"
      ]
     },
     "execution_count": 161,
     "metadata": {},
     "output_type": "execute_result"
    }
   ],
   "source": [
    "cm = confusion_matrix(y_test, pred_final_class)\n",
    "cm"
   ]
  },
  {
   "cell_type": "code",
   "execution_count": 162,
   "metadata": {
    "_uuid": "2fdbb3368eee62536010071515e4fedb99defef8"
   },
   "outputs": [
    {
     "data": {
      "text/plain": [
       "1    11290\n",
       "0     2532\n",
       "Name: Score, dtype: int64"
      ]
     },
     "execution_count": 162,
     "metadata": {},
     "output_type": "execute_result"
    }
   ],
   "source": [
    "y_test[\"Score\"].value_counts()"
   ]
  },
  {
   "cell_type": "code",
   "execution_count": 163,
   "metadata": {
    "_uuid": "d3d820a6a99a5923b68a9f3fec0258e6bd662fc5",
    "scrolled": false
   },
   "outputs": [
    {
     "data": {
      "image/png": "[encoded data removed]",
      "text/plain": [
       "<Figure size 432x288 with 2 Axes>"
      ]
     },
     "metadata": {
      "needs_background": "light"
     },
     "output_type": "display_data"
    }
   ],
   "source": [
    "import seaborn as sns\n",
    "class_label = [\"negative\", \"positive\"]\n",
    "df_cm = pd.DataFrame(cm, index = class_label, columns = class_label)\n",
    "sns.heatmap(df_cm, annot = True, fmt = \"d\")\n",
    "plt.title(\"Confusiion Matrix\")\n",
    "plt.xlabel(\"Predicted Label\")\n",
    "plt.ylabel(\"True Label\")\n",
    "plt.show()"
   ]
  },
  {
   "cell_type": "markdown",
   "metadata": {
    "_uuid": "89878768564bbe87b7d83c8323c9b2b80d2eb472"
   },
   "source": [
    "## CONCLUSION"
   ]
  },
  {
   "cell_type": "code",
   "execution_count": 164,
   "metadata": {
    "_uuid": "953b0ccdc4c39d90a85023ee4ec3f409be901585"
   },
   "outputs": [
    {
     "name": "stdout",
     "output_type": "stream",
     "text": [
      "              precision    recall  f1-score   support\n",
      "\n",
      "           0       0.41      0.19      0.26      2532\n",
      "           1       0.84      0.94      0.89     11290\n",
      "\n",
      "   micro avg       0.80      0.80      0.80     13822\n",
      "   macro avg       0.63      0.57      0.57     13822\n",
      "weighted avg       0.76      0.80      0.77     13822\n",
      "\n"
     ]
    }
   ],
   "source": [
    "from sklearn.metrics import classification_report\n",
    "print(classification_report(y_test, pred_final_class))"
   ]
  },
  {
   "cell_type": "markdown",
   "metadata": {},
   "source": [
    "### Feature Importance on TFIDF,<font color='red'> SET 2</font>"
   ]
  },
  {
   "cell_type": "code",
   "execution_count": 58,
   "metadata": {},
   "outputs": [
    {
     "data": {
      "text/plain": [
       "SGDClassifier(alpha=0.001, average=False, class_weight=None, epsilon=0.1,\n",
       "       eta0=0.0, fit_intercept=True, l1_ratio=0.15,\n",
       "       learning_rate='optimal', loss='hinge', max_iter=None, n_iter=None,\n",
       "       n_jobs=1, penalty='l2', power_t=0.5, random_state=None,\n",
       "       shuffle=True, tol=None, verbose=0, warm_start=False)"
      ]
     },
     "execution_count": 58,
     "metadata": {},
     "output_type": "execute_result"
    }
   ],
   "source": [
    "from sklearn.linear_model import SGDClassifier\n",
    "clf= SGDClassifier(loss='hinge',alpha=0.001)\n",
    "clf.fit(final_tf_idf, y_tr)"
   ]
  },
  {
   "cell_type": "code",
   "execution_count": 59,
   "metadata": {
    "collapsed": true,
    "scrolled": true
   },
   "outputs": [],
   "source": [
    "w=clf.coef_"
   ]
  },
  {
   "cell_type": "code",
   "execution_count": 60,
   "metadata": {
    "collapsed": true
   },
   "outputs": [],
   "source": [
    "w_=np.argsort(w)"
   ]
  },
  {
   "cell_type": "code",
   "execution_count": 61,
   "metadata": {
    "collapsed": true
   },
   "outputs": [],
   "source": [
    "features_name=count_vect.get_feature_names()"
   ]
  },
  {
   "cell_type": "markdown",
   "metadata": {},
   "source": [
    "#### Top 10 important features of positive class from<font color='red'> SET 2</font>"
   ]
  },
  {
   "cell_type": "code",
   "execution_count": 62,
   "metadata": {},
   "outputs": [
    {
     "name": "stdout",
     "output_type": "stream",
     "text": [
      "clicker   0.30769277054895044\n",
      "beheaded   0.31492674033176227\n",
      "cheesecake   0.31998610261576216\n",
      "dysfunctional   0.33622115038697814\n",
      "consisting   0.3383943033927569\n",
      "cheating   0.37715918436952556\n",
      "coatings   0.40267451891965594\n",
      "awesomely   0.45388058615797827\n",
      "agreeable   0.4570663890722345\n",
      "bottles   0.47871566166329366\n",
      "brazilian   0.5748713331196078\n"
     ]
    }
   ],
   "source": [
    "for i in w_[0][-11:]:\n",
    "    print(\"{0}   {1}\".format(features_name[i],w[0][i]))"
   ]
  },
  {
   "cell_type": "markdown",
   "metadata": {},
   "source": [
    "#### Top 10 important features of negative class from<font color='red'> SET 2</font>"
   ]
  },
  {
   "cell_type": "code",
   "execution_count": 63,
   "metadata": {},
   "outputs": [
    {
     "name": "stdout",
     "output_type": "stream",
     "text": [
      "easier   -0.9408833796317975\n",
      "cabernet   -0.8068011282452342\n",
      "balanced   -0.7395085124704477\n",
      "advanced   -0.6869036356822764\n",
      "disguises   -0.6570596946215869\n",
      "cnn   -0.6265660800306233\n",
      "crunchy   -0.6215259402327683\n",
      "disagreement   -0.6111071182164813\n",
      "drinkable   -0.5958174097797918\n",
      "comes   -0.5828611939833354\n"
     ]
    }
   ],
   "source": [
    "for i in w_[0][:10]:\n",
    "    print(\"{0}   {1}\".format(features_name[i],w[0][i]))"
   ]
  },
  {
   "cell_type": "markdown",
   "metadata": {
    "_uuid": "35fdcefc7626721318fa6a2f51929f72ee3704ac"
   },
   "source": [
    "### [5.1.3]  Applying Linear SVM on AVG W2V,<font color='red'> SET 3</font>"
   ]
  },
  {
   "cell_type": "code",
   "execution_count": 165,
   "metadata": {
    "_uuid": "c8bfe5f4bf3ec0f2f04aeb776a3247f017e3a826",
    "scrolled": false
   },
   "outputs": [
    {
     "name": "stderr",
     "output_type": "stream",
     "text": [
      "C:\\Users\\Ankit Mishra\\Anaconda3\\lib\\site-packages\\sklearn\\utils\\validation.py:761: DataConversionWarning: A column-vector y was passed when a 1d array was expected. Please change the shape of y to (n_samples, ), for example using ravel().\n",
      "  y = column_or_1d(y, warn=True)\n"
     ]
    },
    {
     "name": "stdout",
     "output_type": "stream",
     "text": [
      "10000\n"
     ]
    },
    {
     "name": "stderr",
     "output_type": "stream",
     "text": [
      "C:\\Users\\Ankit Mishra\\Anaconda3\\lib\\site-packages\\sklearn\\utils\\validation.py:761: DataConversionWarning: A column-vector y was passed when a 1d array was expected. Please change the shape of y to (n_samples, ), for example using ravel().\n",
      "  y = column_or_1d(y, warn=True)\n"
     ]
    },
    {
     "name": "stdout",
     "output_type": "stream",
     "text": [
      "1000\n"
     ]
    },
    {
     "name": "stderr",
     "output_type": "stream",
     "text": [
      "C:\\Users\\Ankit Mishra\\Anaconda3\\lib\\site-packages\\sklearn\\utils\\validation.py:761: DataConversionWarning: A column-vector y was passed when a 1d array was expected. Please change the shape of y to (n_samples, ), for example using ravel().\n",
      "  y = column_or_1d(y, warn=True)\n"
     ]
    },
    {
     "name": "stdout",
     "output_type": "stream",
     "text": [
      "100\n"
     ]
    },
    {
     "name": "stderr",
     "output_type": "stream",
     "text": [
      "C:\\Users\\Ankit Mishra\\Anaconda3\\lib\\site-packages\\sklearn\\utils\\validation.py:761: DataConversionWarning: A column-vector y was passed when a 1d array was expected. Please change the shape of y to (n_samples, ), for example using ravel().\n",
      "  y = column_or_1d(y, warn=True)\n"
     ]
    },
    {
     "name": "stdout",
     "output_type": "stream",
     "text": [
      "10\n"
     ]
    },
    {
     "name": "stderr",
     "output_type": "stream",
     "text": [
      "C:\\Users\\Ankit Mishra\\Anaconda3\\lib\\site-packages\\sklearn\\utils\\validation.py:761: DataConversionWarning: A column-vector y was passed when a 1d array was expected. Please change the shape of y to (n_samples, ), for example using ravel().\n",
      "  y = column_or_1d(y, warn=True)\n"
     ]
    },
    {
     "name": "stdout",
     "output_type": "stream",
     "text": [
      "1\n"
     ]
    },
    {
     "name": "stderr",
     "output_type": "stream",
     "text": [
      "C:\\Users\\Ankit Mishra\\Anaconda3\\lib\\site-packages\\sklearn\\utils\\validation.py:761: DataConversionWarning: A column-vector y was passed when a 1d array was expected. Please change the shape of y to (n_samples, ), for example using ravel().\n",
      "  y = column_or_1d(y, warn=True)\n"
     ]
    },
    {
     "name": "stdout",
     "output_type": "stream",
     "text": [
      "0.1\n"
     ]
    },
    {
     "name": "stderr",
     "output_type": "stream",
     "text": [
      "C:\\Users\\Ankit Mishra\\Anaconda3\\lib\\site-packages\\sklearn\\utils\\validation.py:761: DataConversionWarning: A column-vector y was passed when a 1d array was expected. Please change the shape of y to (n_samples, ), for example using ravel().\n",
      "  y = column_or_1d(y, warn=True)\n"
     ]
    },
    {
     "name": "stdout",
     "output_type": "stream",
     "text": [
      "0.01\n"
     ]
    },
    {
     "name": "stderr",
     "output_type": "stream",
     "text": [
      "C:\\Users\\Ankit Mishra\\Anaconda3\\lib\\site-packages\\sklearn\\utils\\validation.py:761: DataConversionWarning: A column-vector y was passed when a 1d array was expected. Please change the shape of y to (n_samples, ), for example using ravel().\n",
      "  y = column_or_1d(y, warn=True)\n"
     ]
    },
    {
     "name": "stdout",
     "output_type": "stream",
     "text": [
      "0.001\n"
     ]
    },
    {
     "name": "stderr",
     "output_type": "stream",
     "text": [
      "C:\\Users\\Ankit Mishra\\Anaconda3\\lib\\site-packages\\sklearn\\utils\\validation.py:761: DataConversionWarning: A column-vector y was passed when a 1d array was expected. Please change the shape of y to (n_samples, ), for example using ravel().\n",
      "  y = column_or_1d(y, warn=True)\n"
     ]
    },
    {
     "name": "stdout",
     "output_type": "stream",
     "text": [
      "0.0001\n"
     ]
    }
   ],
   "source": [
    "from sklearn.linear_model import SGDClassifier\n",
    "from sklearn.calibration import CalibratedClassifierCV\n",
    "\n",
    "c=[10**4,10**3,10**2,10**1,1,10**-1,10**-2,10**-3,10**-4]\n",
    "\n",
    "auc_cv=[]\n",
    "tpr_cv=[]\n",
    "fpr_cv=[]\n",
    "tpr_tr=[]\n",
    "fpr_tr=[]\n",
    "auc_tr=[]\n",
    "\n",
    "for i in c:\n",
    "    clf= SGDClassifier(loss='hinge',alpha=i)\n",
    "    calibrated_clf = CalibratedClassifierCV(clf, method='sigmoid')\n",
    "    # fitting the model on crossvalidation train\n",
    "    calibrated_clf.fit(sent_vectors, y_tr)\n",
    "    \n",
    "    # predict the response on the crossvalidation train\n",
    "    pred = calibrated_clf.predict_proba(sent_vectors_cv)[:,1]\n",
    "    fpr, tpr, thresholds = metrics.roc_curve(y_cv, pred)\n",
    "    auc=metrics.auc(fpr, tpr)\n",
    "    auc_cv.append(auc)\n",
    "    tpr_cv.append(tpr)\n",
    "    fpr_cv.append(fpr)\n",
    "    \n",
    "    # predict the response on the train\n",
    "    pred = calibrated_clf.predict_proba(sent_vectors)[:,1]\n",
    "    fpr, tpr, thresholds = metrics.roc_curve(y_tr, pred)\n",
    "    auc=metrics.auc(fpr, tpr)\n",
    "    auc_tr.append(auc)\n",
    "    tpr_tr.append(tpr)\n",
    "    fpr_tr.append(fpr)\n",
    "    print(i)\n"
   ]
  },
  {
   "cell_type": "code",
   "execution_count": 166,
   "metadata": {
    "_uuid": "86352d1f3630aa4affba006b6fa1de5d8c01a49c"
   },
   "outputs": [],
   "source": [
    "data1={'alpha':c,'auc_cv':auc_cv[:],'auc_tr':auc_tr[:]}\n",
    "data_f=pd.DataFrame(data1)"
   ]
  },
  {
   "cell_type": "markdown",
   "metadata": {
    "_uuid": "255e70604ef0241b2115327289c12a498997a986"
   },
   "source": [
    "#### MAXIMUM AUC OF CROSS VALIDATION\n",
    "     aplha=0.1"
   ]
  },
  {
   "cell_type": "code",
   "execution_count": 203,
   "metadata": {
    "_uuid": "16756b4cb7e76c68cad50be2e7d46e69970ea32d",
    "scrolled": true
   },
   "outputs": [
    {
     "data": {
      "text/html": [
       "<div>\n",
       "<style>\n",
       "    .dataframe thead tr:only-child th {\n",
       "        text-align: right;\n",
       "    }\n",
       "\n",
       "    .dataframe thead th {\n",
       "        text-align: left;\n",
       "    }\n",
       "\n",
       "    .dataframe tbody tr th {\n",
       "        vertical-align: top;\n",
       "    }\n",
       "</style>\n",
       "<table border=\"1\" class=\"dataframe\">\n",
       "  <thead>\n",
       "    <tr style=\"text-align: right;\">\n",
       "      <th></th>\n",
       "      <th>alpha</th>\n",
       "      <th>auc_cv</th>\n",
       "      <th>auc_tr</th>\n",
       "    </tr>\n",
       "  </thead>\n",
       "  <tbody>\n",
       "    <tr>\n",
       "      <th>5</th>\n",
       "      <td>0.1</td>\n",
       "      <td>0.77998</td>\n",
       "      <td>0.874989</td>\n",
       "    </tr>\n",
       "  </tbody>\n",
       "</table>\n",
       "</div>"
      ],
      "text/plain": [
       "   alpha   auc_cv    auc_tr\n",
       "5    0.1  0.77998  0.874989"
      ]
     },
     "execution_count": 203,
     "metadata": {},
     "output_type": "execute_result"
    }
   ],
   "source": [
    "data_f[data_f['auc_cv']==data_f['auc_cv'].max()]"
   ]
  },
  {
   "cell_type": "markdown",
   "metadata": {
    "_uuid": "bba46aab8acd3b10833f1e852b2207f56ad21733"
   },
   "source": [
    "### AREA UNDER CURVE Vs Neighbours PLOT FOR TRAIN AND TEST"
   ]
  },
  {
   "cell_type": "code",
   "execution_count": 205,
   "metadata": {
    "_uuid": "bdf9270ddc7f9ac8e3aae0b055f3527cc3b42af4",
    "scrolled": false
   },
   "outputs": [
    {
     "data": {
      "image/png": "[encoded data removed]",
      "text/plain": [
       "<matplotlib.figure.Figure at 0x21f49850>"
      ]
     },
     "metadata": {},
     "output_type": "display_data"
    }
   ],
   "source": [
    "plt.figure(figsize=(10,6))\n",
    "plt.plot(np.log(lamb),auc_tr,'b',label='TRAIN')\n",
    "plt.plot(np.log(lamb),auc_cv,'g',label='CROSS VALIDATION')\n",
    "plt.xlabel('log of alpha')\n",
    "plt.ylabel('AUC')\n",
    "plt.title('Area Under Curve')\n",
    "plt.grid()\n",
    "plt.legend()\n",
    "plt.show()"
   ]
  },
  {
   "cell_type": "code",
   "execution_count": 206,
   "metadata": {
    "_uuid": "efb93630d1dd2ee6ec47069e84e941756ffa74a7"
   },
   "outputs": [
    {
     "data": {
      "text/plain": [
       "0.83084735054718561"
      ]
     },
     "execution_count": 206,
     "metadata": {},
     "output_type": "execute_result"
    }
   ],
   "source": [
    "# TESTING THE MODEL ON TEST DATA\n",
    "clf= SGDClassifier(loss='hinge',alpha=.1)\n",
    "calibrated_clf = CalibratedClassifierCV(clf, method='sigmoid')\n",
    "calibrated_clf.fit(sent_vectors, y_tr)\n",
    "pred_final = calibrated_clf.predict_proba(sent_vectors_test)[:,1]\n",
    "fpr_f, tpr_f, thresholds_f = metrics.roc_curve(y_test, pred_final)\n",
    "auc_final = metrics.auc(fpr_f, tpr_f)\n",
    "auc_final"
   ]
  },
  {
   "cell_type": "code",
   "execution_count": 207,
   "metadata": {
    "_uuid": "6ddeeaf9d0fcd4cd6ac677a8343eff2ccd865d01"
   },
   "outputs": [
    {
     "data": {
      "text/plain": [
       "0.87653520874843549"
      ]
     },
     "execution_count": 207,
     "metadata": {},
     "output_type": "execute_result"
    }
   ],
   "source": [
    "# TESTING THE MODEL ON TRAIN DATA\n",
    "pred_train=calibrated_clf.predict_proba(sent_vectors)[:,1]\n",
    "fpr_ft, tpr_ft, thresholds_ft=metrics.roc_curve(y_tr, pred_train)\n",
    "auc_finalt=metrics.auc(fpr_ft, tpr_ft)\n",
    "auc_finalt"
   ]
  },
  {
   "cell_type": "markdown",
   "metadata": {
    "_uuid": "b516caf038fbbc506702ac2a716dc293ef39bbbd"
   },
   "source": [
    "### ROC CURVE"
   ]
  },
  {
   "cell_type": "code",
   "execution_count": 208,
   "metadata": {
    "_uuid": "9779629031b5b079dc0fc12494b792fb7366e58f",
    "collapsed": true
   },
   "outputs": [],
   "source": [
    "y_a=[0,0.5,1]\n",
    "x_a=y_a"
   ]
  },
  {
   "cell_type": "code",
   "execution_count": 209,
   "metadata": {
    "_uuid": "44549168c2088d4a39dcdfa2d843c3f13d6eac90",
    "scrolled": false
   },
   "outputs": [
    {
     "data": {
      "image/png": "[encoded data removed]",
      "text/plain": [
       "<matplotlib.figure.Figure at 0x21f49ff0>"
      ]
     },
     "metadata": {},
     "output_type": "display_data"
    }
   ],
   "source": [
    "plt.figure(figsize=(15,10))\n",
    "plt.plot(fpr_f,tpr_f,'b',label='TEST')\n",
    "plt.plot(x_a,y_a,'--r')\n",
    "plt.plot(fpr_ft,tpr_ft,'g',label='TRAIN')\n",
    "plt.xlabel('tpr_f')\n",
    "plt.ylabel('fpr_f')\n",
    "plt.title('AUC ')\n",
    "plt.grid()\n",
    "plt.legend()\n",
    "plt.show()"
   ]
  },
  {
   "cell_type": "markdown",
   "metadata": {
    "_uuid": "bb1b9703925f588a3e8d33f25ca7e408d89ee0a9"
   },
   "source": [
    "### CONFUSION MATRIX"
   ]
  },
  {
   "cell_type": "code",
   "execution_count": 210,
   "metadata": {
    "_uuid": "536b403605690078952025907389eb004b030999",
    "collapsed": true
   },
   "outputs": [],
   "source": [
    "pred_final\n",
    "pred_final_class=[]\n",
    "for i in range(len(pred_final)):\n",
    "    if pred_final[i]>0.5:\n",
    "        pred_final_class.append(1)\n",
    "    elif pred_final[i]<0.5:\n",
    "            pred_final_class.append(0)\n",
    "    else:\n",
    "            pred_final_class.append(np.random(1,[0,1]))\n",
    "\n",
    "\n"
   ]
  },
  {
   "cell_type": "code",
   "execution_count": 211,
   "metadata": {
    "_uuid": "5a66042c6c9374dc11641ae913283511272b4888",
    "scrolled": true
   },
   "outputs": [
    {
     "data": {
      "text/plain": [
       "array([[  528,  2004],\n",
       "       [  302, 10988]], dtype=int64)"
      ]
     },
     "execution_count": 211,
     "metadata": {},
     "output_type": "execute_result"
    }
   ],
   "source": [
    "cm = confusion_matrix(y_test, pred_final_class)\n",
    "cm"
   ]
  },
  {
   "cell_type": "code",
   "execution_count": 212,
   "metadata": {
    "_uuid": "2fdbb3368eee62536010071515e4fedb99defef8"
   },
   "outputs": [
    {
     "data": {
      "text/plain": [
       "1    11290\n",
       "0     2532\n",
       "Name: Score, dtype: int64"
      ]
     },
     "execution_count": 212,
     "metadata": {},
     "output_type": "execute_result"
    }
   ],
   "source": [
    "y_test[\"Score\"].value_counts()"
   ]
  },
  {
   "cell_type": "code",
   "execution_count": 213,
   "metadata": {
    "_uuid": "d3d820a6a99a5923b68a9f3fec0258e6bd662fc5",
    "scrolled": false
   },
   "outputs": [
    {
     "data": {
      "image/png": "[encoded data removed]",
      "text/plain": [
       "<matplotlib.figure.Figure at 0x21deb470>"
      ]
     },
     "metadata": {},
     "output_type": "display_data"
    }
   ],
   "source": [
    "import seaborn as sns\n",
    "class_label = [\"negative\", \"positive\"]\n",
    "df_cm = pd.DataFrame(cm, index = class_label, columns = class_label)\n",
    "sns.heatmap(df_cm, annot = True, fmt = \"d\")\n",
    "plt.title(\"Confusiion Matrix\")\n",
    "plt.xlabel(\"Predicted Label\")\n",
    "plt.ylabel(\"True Label\")\n",
    "plt.show()"
   ]
  },
  {
   "cell_type": "markdown",
   "metadata": {
    "_uuid": "89878768564bbe87b7d83c8323c9b2b80d2eb472"
   },
   "source": [
    "## CONCLUSION"
   ]
  },
  {
   "cell_type": "code",
   "execution_count": 214,
   "metadata": {
    "_uuid": "953b0ccdc4c39d90a85023ee4ec3f409be901585"
   },
   "outputs": [
    {
     "name": "stdout",
     "output_type": "stream",
     "text": [
      "             precision    recall  f1-score   support\n",
      "\n",
      "          0       0.64      0.21      0.31      2532\n",
      "          1       0.85      0.97      0.91     11290\n",
      "\n",
      "avg / total       0.81      0.83      0.80     13822\n",
      "\n"
     ]
    }
   ],
   "source": [
    "from sklearn.metrics import classification_report\n",
    "print(classification_report(y_test, pred_final_class))"
   ]
  },
  {
   "cell_type": "markdown",
   "metadata": {
    "_uuid": "be168fa670dff8a2cf835cf807991a3ef4cf1afc"
   },
   "source": [
    "### [5.1.4]  Applying Linear SVM on TFIDF W2V,<font color='red'> SET 4</font>"
   ]
  },
  {
   "cell_type": "code",
   "execution_count": 122,
   "metadata": {
    "_uuid": "e6efd468cf22dabb2621d4766716dfdcc6a4fd4d",
    "scrolled": false
   },
   "outputs": [
    {
     "name": "stdout",
     "output_type": "stream",
     "text": [
      "10000\n",
      "1000\n",
      "100\n",
      "10\n",
      "1\n",
      "0.1\n",
      "0.01\n",
      "0.001\n",
      "0.0001\n"
     ]
    }
   ],
   "source": [
    "from sklearn.linear_model import SGDClassifier\n",
    "from sklearn.calibration import CalibratedClassifierCV\n",
    "\n",
    "c=[10**4,10**3,10**2,10**1,1,10**-1,10**-2,10**-3,10**-4]\n",
    "\n",
    "auc_cv=[]\n",
    "tpr_cv=[]\n",
    "fpr_cv=[]\n",
    "tpr_tr=[]\n",
    "fpr_tr=[]\n",
    "auc_tr=[]\n",
    "\n",
    "for i in c:\n",
    "    clf= SGDClassifier(loss='hinge',alpha=i)\n",
    "    calibrated_clf = CalibratedClassifierCV(clf, method='sigmoid')\n",
    "    # fitting the model on crossvalidation train\n",
    "    calibrated_clf.fit(tfidf_sent_vectors, y_tr)\n",
    "    \n",
    "    # predict the response on the crossvalidation train\n",
    "    pred = calibrated_clf.predict_proba(tfidf_sent_vectors_cv)[:,1]\n",
    "    fpr, tpr, thresholds = metrics.roc_curve(y_cv, pred)\n",
    "    auc=metrics.auc(fpr, tpr)\n",
    "    auc_cv.append(auc)\n",
    "    tpr_cv.append(tpr)\n",
    "    fpr_cv.append(fpr)\n",
    "    \n",
    "    # predict the response on the train\n",
    "    pred = calibrated_clf.predict_proba(tfidf_sent_vectors)[:,1]\n",
    "    fpr, tpr, thresholds = metrics.roc_curve(y_tr, pred)\n",
    "    auc=metrics.auc(fpr, tpr)\n",
    "    auc_tr.append(auc)\n",
    "    tpr_tr.append(tpr)\n",
    "    fpr_tr.append(fpr)\n",
    "    print(i)\n"
   ]
  },
  {
   "cell_type": "code",
   "execution_count": 123,
   "metadata": {
    "_uuid": "97dc3264df81b589e270464be713d1a5f06e0118",
    "collapsed": true
   },
   "outputs": [],
   "source": [
    "lamb=[0.0001,0.001,0.01,0.1,1,10,100,1000,10000]"
   ]
  },
  {
   "cell_type": "code",
   "execution_count": 124,
   "metadata": {
    "_uuid": "502ae1c93bb80bafa0904716395f6f6fd826d9ee",
    "collapsed": true
   },
   "outputs": [],
   "source": [
    "data1={'alpha':c,'auc_cv':auc_cv[:],'auc_tr':auc_tr[:]}\n",
    "data_f=pd.DataFrame(data1)"
   ]
  },
  {
   "cell_type": "markdown",
   "metadata": {
    "_uuid": "255e70604ef0241b2115327289c12a498997a986"
   },
   "source": [
    "#### MAXIMUM AUC OF CROSS VALIDATION\n",
    "     aplha=1"
   ]
  },
  {
   "cell_type": "code",
   "execution_count": 125,
   "metadata": {
    "_uuid": "16756b4cb7e76c68cad50be2e7d46e69970ea32d",
    "scrolled": true
   },
   "outputs": [
    {
     "data": {
      "text/html": [
       "<div>\n",
       "<style>\n",
       "    .dataframe thead tr:only-child th {\n",
       "        text-align: right;\n",
       "    }\n",
       "\n",
       "    .dataframe thead th {\n",
       "        text-align: left;\n",
       "    }\n",
       "\n",
       "    .dataframe tbody tr th {\n",
       "        vertical-align: top;\n",
       "    }\n",
       "</style>\n",
       "<table border=\"1\" class=\"dataframe\">\n",
       "  <thead>\n",
       "    <tr style=\"text-align: right;\">\n",
       "      <th></th>\n",
       "      <th>alpha</th>\n",
       "      <th>auc_cv</th>\n",
       "      <th>auc_tr</th>\n",
       "    </tr>\n",
       "  </thead>\n",
       "  <tbody>\n",
       "    <tr>\n",
       "      <th>4</th>\n",
       "      <td>1.0</td>\n",
       "      <td>0.633855</td>\n",
       "      <td>0.844126</td>\n",
       "    </tr>\n",
       "  </tbody>\n",
       "</table>\n",
       "</div>"
      ],
      "text/plain": [
       "   alpha    auc_cv    auc_tr\n",
       "4    1.0  0.633855  0.844126"
      ]
     },
     "execution_count": 125,
     "metadata": {},
     "output_type": "execute_result"
    }
   ],
   "source": [
    "data_f[data_f['auc_cv']==data_f['auc_cv'].max()]"
   ]
  },
  {
   "cell_type": "markdown",
   "metadata": {
    "_uuid": "bba46aab8acd3b10833f1e852b2207f56ad21733"
   },
   "source": [
    "### AREA UNDER CURVE Vs Neighbours PLOT FOR TRAIN AND TEST"
   ]
  },
  {
   "cell_type": "code",
   "execution_count": 126,
   "metadata": {
    "_uuid": "bdf9270ddc7f9ac8e3aae0b055f3527cc3b42af4",
    "scrolled": false
   },
   "outputs": [
    {
     "data": {
      "image/png": "[encoded data removed]",
      "text/plain": [
       "<matplotlib.figure.Figure at 0x74ffed0>"
      ]
     },
     "metadata": {},
     "output_type": "display_data"
    }
   ],
   "source": [
    "plt.figure(figsize=(10,6))\n",
    "plt.plot(np.log(lamb),auc_tr,'b',label='TRAIN')\n",
    "plt.plot(np.log(lamb),auc_cv,'g',label='CROSS VALIDATION')\n",
    "plt.xlabel('log of alpha')\n",
    "plt.ylabel('AUC')\n",
    "plt.title('Area Under Curve')\n",
    "plt.grid()\n",
    "plt.legend()\n",
    "plt.show()"
   ]
  },
  {
   "cell_type": "code",
   "execution_count": 127,
   "metadata": {
    "_uuid": "efb93630d1dd2ee6ec47069e84e941756ffa74a7"
   },
   "outputs": [
    {
     "data": {
      "text/plain": [
       "0.76572660031315709"
      ]
     },
     "execution_count": 127,
     "metadata": {},
     "output_type": "execute_result"
    }
   ],
   "source": [
    "# TESTING THE MODEL ON TEST DATA\n",
    "clf= SGDClassifier(loss='hinge',alpha=1)\n",
    "calibrated_clf = CalibratedClassifierCV(clf, method='sigmoid')\n",
    "calibrated_clf.fit(sent_vectors, y_tr)\n",
    "pred_final = calibrated_clf.predict_proba(sent_vectors_test)[:,1]\n",
    "fpr_f, tpr_f, thresholds_f = metrics.roc_curve(y_test, pred_final)\n",
    "auc_final = metrics.auc(fpr_f, tpr_f)\n",
    "auc_final"
   ]
  },
  {
   "cell_type": "code",
   "execution_count": 128,
   "metadata": {
    "_uuid": "6ddeeaf9d0fcd4cd6ac677a8343eff2ccd865d01"
   },
   "outputs": [
    {
     "data": {
      "text/plain": [
       "0.87613004856258925"
      ]
     },
     "execution_count": 128,
     "metadata": {},
     "output_type": "execute_result"
    }
   ],
   "source": [
    "# TESTING THE MODEL ON TRAIN DATA\n",
    "pred_train=calibrated_clf.predict_proba(sent_vectors)[:,1]\n",
    "fpr_ft, tpr_ft, thresholds_ft=metrics.roc_curve(y_tr, pred_train)\n",
    "auc_finalt=metrics.auc(fpr_ft, tpr_ft)\n",
    "auc_finalt"
   ]
  },
  {
   "cell_type": "markdown",
   "metadata": {
    "_uuid": "b516caf038fbbc506702ac2a716dc293ef39bbbd"
   },
   "source": [
    "### ROC CURVE"
   ]
  },
  {
   "cell_type": "code",
   "execution_count": 129,
   "metadata": {
    "_uuid": "9779629031b5b079dc0fc12494b792fb7366e58f",
    "collapsed": true
   },
   "outputs": [],
   "source": [
    "y_a=[0,0.5,1]\n",
    "x_a=y_a"
   ]
  },
  {
   "cell_type": "code",
   "execution_count": 130,
   "metadata": {},
   "outputs": [
    {
     "data": {
      "image/png": "[encoded data removed]",
      "text/plain": [
       "<matplotlib.figure.Figure at 0x74ff9b0>"
      ]
     },
     "metadata": {},
     "output_type": "display_data"
    }
   ],
   "source": [
    "plt.figure(figsize=(15,10))\n",
    "plt.plot(fpr_f,tpr_f,'b',label='TEST')\n",
    "plt.plot(x_a,y_a,'--r')\n",
    "plt.plot(fpr_ft,tpr_ft,'g',label='TRAIN')\n",
    "plt.xlabel('tpr_f')\n",
    "plt.ylabel('fpr_f')\n",
    "plt.title('AUC ')\n",
    "plt.grid()\n",
    "plt.legend()\n",
    "plt.show()"
   ]
  },
  {
   "cell_type": "markdown",
   "metadata": {
    "_uuid": "bb1b9703925f588a3e8d33f25ca7e408d89ee0a9"
   },
   "source": [
    "### CONFUSION MATRIX"
   ]
  },
  {
   "cell_type": "code",
   "execution_count": 131,
   "metadata": {
    "_uuid": "536b403605690078952025907389eb004b030999",
    "collapsed": true
   },
   "outputs": [],
   "source": [
    "pred_final\n",
    "pred_final_class=[]\n",
    "for i in range(len(pred_final)):\n",
    "    if pred_final[i]>0.5:\n",
    "        pred_final_class.append(1)\n",
    "    elif pred_final[i]<0.5:\n",
    "            pred_final_class.append(0)\n",
    "    else:\n",
    "            pred_final_class.append(np.random(1,[0,1]))\n",
    "\n",
    "\n"
   ]
  },
  {
   "cell_type": "code",
   "execution_count": 132,
   "metadata": {
    "_uuid": "5a66042c6c9374dc11641ae913283511272b4888",
    "scrolled": true
   },
   "outputs": [
    {
     "data": {
      "text/plain": [
       "array([[  841,  1691],\n",
       "       [ 1094, 10196]], dtype=int64)"
      ]
     },
     "execution_count": 132,
     "metadata": {},
     "output_type": "execute_result"
    }
   ],
   "source": [
    "cm = confusion_matrix(y_test, pred_final_class)\n",
    "cm"
   ]
  },
  {
   "cell_type": "code",
   "execution_count": 133,
   "metadata": {
    "_uuid": "2fdbb3368eee62536010071515e4fedb99defef8"
   },
   "outputs": [
    {
     "data": {
      "text/plain": [
       "1    11290\n",
       "0     2532\n",
       "Name: Score, dtype: int64"
      ]
     },
     "execution_count": 133,
     "metadata": {},
     "output_type": "execute_result"
    }
   ],
   "source": [
    "y_test[\"Score\"].value_counts()"
   ]
  },
  {
   "cell_type": "code",
   "execution_count": 134,
   "metadata": {
    "_uuid": "d3d820a6a99a5923b68a9f3fec0258e6bd662fc5",
    "scrolled": false
   },
   "outputs": [
    {
     "data": {
      "image/png": "[encoded data removed]",
      "text/plain": [
       "<matplotlib.figure.Figure at 0x1cb8b410>"
      ]
     },
     "metadata": {},
     "output_type": "display_data"
    }
   ],
   "source": [
    "import seaborn as sns\n",
    "class_label = [\"negative\", \"positive\"]\n",
    "df_cm = pd.DataFrame(cm, index = class_label, columns = class_label)\n",
    "sns.heatmap(df_cm, annot = True, fmt = \"d\")\n",
    "plt.title(\"Confusiion Matrix\")\n",
    "plt.xlabel(\"Predicted Label\")\n",
    "plt.ylabel(\"True Label\")\n",
    "plt.show()"
   ]
  },
  {
   "cell_type": "markdown",
   "metadata": {
    "_uuid": "89878768564bbe87b7d83c8323c9b2b80d2eb472"
   },
   "source": [
    "## CONCLUSION"
   ]
  },
  {
   "cell_type": "code",
   "execution_count": 135,
   "metadata": {
    "_uuid": "953b0ccdc4c39d90a85023ee4ec3f409be901585"
   },
   "outputs": [
    {
     "name": "stdout",
     "output_type": "stream",
     "text": [
      "             precision    recall  f1-score   support\n",
      "\n",
      "          0       0.43      0.33      0.38      2532\n",
      "          1       0.86      0.90      0.88     11290\n",
      "\n",
      "avg / total       0.78      0.80      0.79     13822\n",
      "\n"
     ]
    }
   ],
   "source": [
    "from sklearn.metrics import classification_report\n",
    "print(classification_report(y_test, pred_final_class))"
   ]
  },
  {
   "cell_type": "markdown",
   "metadata": {
    "_uuid": "8f7d174a87c76a4bd93eae2e27752230827cf584"
   },
   "source": [
    "## [5.2] RBF SVM"
   ]
  },
  {
   "cell_type": "markdown",
   "metadata": {
    "_uuid": "af77db91160d197b7013f07cbfde789343aa9c06"
   },
   "source": [
    "### [5.2.1] Applying RBF SVM on BOW,<font color='red'> SET 1</font>"
   ]
  },
  {
   "cell_type": "code",
   "execution_count": 51,
   "metadata": {
    "_uuid": "f2bd5d0d4d596cdf6b757f7ca2be405a6d36733c",
    "collapsed": true
   },
   "outputs": [],
   "source": [
    "from sklearn.svm import SVC"
   ]
  },
  {
   "cell_type": "code",
   "execution_count": 52,
   "metadata": {
    "_uuid": "0b9148ed2e1678bc16d67d5d89fc88cfc37098f6",
    "collapsed": true
   },
   "outputs": [],
   "source": [
    "gamma= [10**-2,1,10**2]\n",
    "c= [10**-2,1,10**2]"
   ]
  },
  {
   "cell_type": "code",
   "execution_count": 88,
   "metadata": {
    "_uuid": "e6efd468cf22dabb2621d4766716dfdcc6a4fd4d",
    "scrolled": false
   },
   "outputs": [
    {
     "name": "stdout",
     "output_type": "stream",
     "text": [
      "0.01 0.01\n",
      "0.01 1\n",
      "0.01 100\n",
      "1 0.01\n",
      "1 1\n",
      "1 100\n",
      "100 0.01\n",
      "100 1\n",
      "100 100\n"
     ]
    }
   ],
   "source": [
    "auc_cv=[]\n",
    "tpr_cv=[]\n",
    "fpr_cv=[]\n",
    "tpr_tr=[]\n",
    "fpr_tr=[]\n",
    "auc_tr=[]\n",
    "hypermeter=[]\n",
    "for i in c:\n",
    "    for j in gamma:\n",
    "        \n",
    "        clf=SVC(gamma=j,C=i,probability=True)\n",
    "        # fitting the model on crossvalidation train\n",
    "        clf.fit(final_counts_ker, y_ker_tr)\n",
    "\n",
    "        # predict the response on the crossvalidation train\n",
    "        pred = clf.predict_proba(final_counts_cv_ker)[:,1]\n",
    "        fpr, tpr, thresholds = metrics.roc_curve(y_ker_cv, pred)\n",
    "        auc=metrics.auc(fpr, tpr)\n",
    "        auc_cv.append(auc)\n",
    "        tpr_cv.append(tpr)\n",
    "        fpr_cv.append(fpr)\n",
    "\n",
    "        # predict the response on the train\n",
    "        pred = clf.predict_proba(final_counts_ker)[:,1]\n",
    "        fpr, tpr, thresholds = metrics.roc_curve(y_ker_tr, pred)\n",
    "        auc=metrics.auc(fpr, tpr)\n",
    "        auc_tr.append(auc)\n",
    "        tpr_tr.append(tpr)\n",
    "        fpr_tr.append(fpr)\n",
    "        hypermeter.append([i,j])\n",
    "        print(i,j)\n",
    "    \n",
    "\n"
   ]
  },
  {
   "cell_type": "code",
   "execution_count": 89,
   "metadata": {
    "collapsed": true
   },
   "outputs": [],
   "source": [
    "c=[]\n",
    "gamma=[]\n",
    "for i in range(len(hypermeter)):\n",
    "    c.append((hypermeter[i])[0])\n",
    "    gamma.append((hypermeter[i])[1])"
   ]
  },
  {
   "cell_type": "code",
   "execution_count": 90,
   "metadata": {
    "_uuid": "502ae1c93bb80bafa0904716395f6f6fd826d9ee",
    "collapsed": true
   },
   "outputs": [],
   "source": [
    "data1={'hyperparameter(c,gamma)':hypermeter,'c':c,'gamma':gamma,'auc_cv':auc_cv[:],'auc_tr':auc_tr[:]}\n",
    "data_f=pd.DataFrame(data1)"
   ]
  },
  {
   "cell_type": "markdown",
   "metadata": {
    "_uuid": "255e70604ef0241b2115327289c12a498997a986"
   },
   "source": [
    "#### MAXIMUM AUC OF CROSS VALIDATION\n",
    "     aplha=1"
   ]
  },
  {
   "cell_type": "code",
   "execution_count": 91,
   "metadata": {
    "_uuid": "16756b4cb7e76c68cad50be2e7d46e69970ea32d",
    "scrolled": false
   },
   "outputs": [
    {
     "data": {
      "text/html": [
       "<div>\n",
       "<style>\n",
       "    .dataframe thead tr:only-child th {\n",
       "        text-align: right;\n",
       "    }\n",
       "\n",
       "    .dataframe thead th {\n",
       "        text-align: left;\n",
       "    }\n",
       "\n",
       "    .dataframe tbody tr th {\n",
       "        vertical-align: top;\n",
       "    }\n",
       "</style>\n",
       "<table border=\"1\" class=\"dataframe\">\n",
       "  <thead>\n",
       "    <tr style=\"text-align: right;\">\n",
       "      <th></th>\n",
       "      <th>auc_cv</th>\n",
       "      <th>auc_tr</th>\n",
       "      <th>c</th>\n",
       "      <th>gamma</th>\n",
       "      <th>hyperparameter(c,gamma)</th>\n",
       "    </tr>\n",
       "  </thead>\n",
       "  <tbody>\n",
       "    <tr>\n",
       "      <th>3</th>\n",
       "      <td>0.670859</td>\n",
       "      <td>0.940879</td>\n",
       "      <td>1.0</td>\n",
       "      <td>0.01</td>\n",
       "      <td>[1, 0.01]</td>\n",
       "    </tr>\n",
       "  </tbody>\n",
       "</table>\n",
       "</div>"
      ],
      "text/plain": [
       "     auc_cv    auc_tr    c  gamma hyperparameter(c,gamma)\n",
       "3  0.670859  0.940879  1.0   0.01               [1, 0.01]"
      ]
     },
     "execution_count": 91,
     "metadata": {},
     "output_type": "execute_result"
    }
   ],
   "source": [
    "data_f[data_f['auc_cv']==data_f['auc_cv'].max()]"
   ]
  },
  {
   "cell_type": "markdown",
   "metadata": {
    "_uuid": "bba46aab8acd3b10833f1e852b2207f56ad21733"
   },
   "source": [
    "### AREA UNDER CURVE Vs Neighbours PLOT FOR TRAIN AND TEST"
   ]
  },
  {
   "cell_type": "code",
   "execution_count": 92,
   "metadata": {
    "_uuid": "bdf9270ddc7f9ac8e3aae0b055f3527cc3b42af4",
    "scrolled": false
   },
   "outputs": [
    {
     "data": {
      "image/png": "[encoded data removed]",
      "text/plain": [
       "<matplotlib.figure.Figure at 0x14f1f8d0>"
      ]
     },
     "metadata": {},
     "output_type": "display_data"
    }
   ],
   "source": [
    "plt.figure(figsize=(10,6))\n",
    "plt.plot(np.log(c),auc_tr,'b',label='TRAIN')\n",
    "plt.plot(np.log(c),auc_cv,'g',label='CROSS VALIDATION')\n",
    "plt.xlabel('log of c')\n",
    "plt.ylabel('AUC')\n",
    "plt.title('Area Under Curve')\n",
    "plt.grid()\n",
    "plt.legend()\n",
    "plt.show()"
   ]
  },
  {
   "cell_type": "code",
   "execution_count": 53,
   "metadata": {
    "_uuid": "efb93630d1dd2ee6ec47069e84e941756ffa74a7"
   },
   "outputs": [
    {
     "data": {
      "text/plain": [
       "0.70366938167527648"
      ]
     },
     "execution_count": 53,
     "metadata": {},
     "output_type": "execute_result"
    }
   ],
   "source": [
    "# TESTING THE MODEL ON TEST DATA\n",
    "clf= SVC(gamma=0.01,C=1,probability=True)\n",
    "clf.fit(final_counts_ker, y_ker_tr)\n",
    "pred_final = clf.predict_proba(final_counts_test_ker)[:,1]\n",
    "fpr_f, tpr_f, thresholds_f = metrics.roc_curve(y_ker_test, pred_final)\n",
    "auc_final = metrics.auc(fpr_f, tpr_f)\n",
    "auc_final"
   ]
  },
  {
   "cell_type": "code",
   "execution_count": 55,
   "metadata": {
    "_uuid": "6ddeeaf9d0fcd4cd6ac677a8343eff2ccd865d01"
   },
   "outputs": [
    {
     "data": {
      "text/plain": [
       "0.94087937819960332"
      ]
     },
     "execution_count": 55,
     "metadata": {},
     "output_type": "execute_result"
    }
   ],
   "source": [
    "# TESTING THE MODEL ON TRAIN DATA\n",
    "pred_train=clf.predict_proba(final_counts_ker)[:,1]\n",
    "fpr_ft, tpr_ft, thresholds_ft=metrics.roc_curve(y_ker_tr, pred_train)\n",
    "auc_finalt=metrics.auc(fpr_ft, tpr_ft)\n",
    "auc_finalt"
   ]
  },
  {
   "cell_type": "markdown",
   "metadata": {
    "_uuid": "b516caf038fbbc506702ac2a716dc293ef39bbbd"
   },
   "source": [
    "### ROC CURVE"
   ]
  },
  {
   "cell_type": "code",
   "execution_count": 56,
   "metadata": {
    "_uuid": "9779629031b5b079dc0fc12494b792fb7366e58f",
    "collapsed": true
   },
   "outputs": [],
   "source": [
    "y_a=[0,0.5,1]\n",
    "x_a=y_a"
   ]
  },
  {
   "cell_type": "code",
   "execution_count": 57,
   "metadata": {
    "_uuid": "44549168c2088d4a39dcdfa2d843c3f13d6eac90",
    "scrolled": false
   },
   "outputs": [
    {
     "data": {
      "image/png": "[encoded data removed]",
      "text/plain": [
       "<matplotlib.figure.Figure at 0xbc80b0>"
      ]
     },
     "metadata": {},
     "output_type": "display_data"
    }
   ],
   "source": [
    "plt.figure(figsize=(15,10))\n",
    "plt.plot(fpr_f,tpr_f,'b',label='TEST')\n",
    "plt.plot(x_a,y_a,'--r')\n",
    "plt.plot(fpr_ft,tpr_ft,'g',label='TRAIN')\n",
    "plt.xlabel('tpr_f')\n",
    "plt.ylabel('fpr_f')\n",
    "plt.title('AUC ')\n",
    "plt.grid()\n",
    "plt.legend()\n",
    "plt.show()"
   ]
  },
  {
   "cell_type": "markdown",
   "metadata": {
    "_uuid": "bb1b9703925f588a3e8d33f25ca7e408d89ee0a9"
   },
   "source": [
    "### CONFUSION MATRIX"
   ]
  },
  {
   "cell_type": "code",
   "execution_count": 83,
   "metadata": {
    "_uuid": "536b403605690078952025907389eb004b030999",
    "collapsed": true
   },
   "outputs": [],
   "source": [
    "import numpy as np\n",
    "pred_final\n",
    "pred_final_class=[]\n",
    "for i in range(len(pred_final)):\n",
    "    if pred_final[i]>0.5:\n",
    "        pred_final_class.append(1)\n",
    "    elif pred_final[i]<0.5:\n",
    "            pred_final_class.append(0)\n",
    "    else:\n",
    "            pred_final_class.append(np.random.randint(2))\n",
    "\n",
    "# \n"
   ]
  },
  {
   "cell_type": "code",
   "execution_count": 84,
   "metadata": {
    "_uuid": "5a66042c6c9374dc11641ae913283511272b4888",
    "scrolled": true
   },
   "outputs": [
    {
     "data": {
      "text/plain": [
       "array([[ 487, 1783],\n",
       "       [ 642, 9088]], dtype=int64)"
      ]
     },
     "execution_count": 84,
     "metadata": {},
     "output_type": "execute_result"
    }
   ],
   "source": [
    "cm = confusion_matrix(y_ker_test, pred_final_class)\n",
    "cm"
   ]
  },
  {
   "cell_type": "code",
   "execution_count": 85,
   "metadata": {
    "_uuid": "2fdbb3368eee62536010071515e4fedb99defef8"
   },
   "outputs": [
    {
     "data": {
      "text/plain": [
       "1    11290\n",
       "0     2532\n",
       "Name: Score, dtype: int64"
      ]
     },
     "execution_count": 85,
     "metadata": {},
     "output_type": "execute_result"
    }
   ],
   "source": [
    "y_test[\"Score\"].value_counts()"
   ]
  },
  {
   "cell_type": "code",
   "execution_count": 86,
   "metadata": {
    "_uuid": "d3d820a6a99a5923b68a9f3fec0258e6bd662fc5",
    "scrolled": true
   },
   "outputs": [
    {
     "data": {
      "image/png": "[encoded data removed]",
      "text/plain": [
       "<matplotlib.figure.Figure at 0x164a6630>"
      ]
     },
     "metadata": {},
     "output_type": "display_data"
    }
   ],
   "source": [
    "import seaborn as sns\n",
    "class_label = [\"negative\", \"positive\"]\n",
    "df_cm = pd.DataFrame(cm, index = class_label, columns = class_label)\n",
    "sns.heatmap(df_cm, annot = True, fmt = \"d\")\n",
    "plt.title(\"Confusiion Matrix\")\n",
    "plt.xlabel(\"Predicted Label\")\n",
    "plt.ylabel(\"True Label\")\n",
    "plt.show()"
   ]
  },
  {
   "cell_type": "markdown",
   "metadata": {
    "_uuid": "89878768564bbe87b7d83c8323c9b2b80d2eb472"
   },
   "source": [
    "## CONCLUSION"
   ]
  },
  {
   "cell_type": "code",
   "execution_count": 87,
   "metadata": {
    "_uuid": "953b0ccdc4c39d90a85023ee4ec3f409be901585",
    "scrolled": false
   },
   "outputs": [
    {
     "name": "stdout",
     "output_type": "stream",
     "text": [
      "             precision    recall  f1-score   support\n",
      "\n",
      "          0       0.43      0.21      0.29      2270\n",
      "          1       0.84      0.93      0.88      9730\n",
      "\n",
      "avg / total       0.76      0.80      0.77     12000\n",
      "\n"
     ]
    }
   ],
   "source": [
    "from sklearn.metrics import classification_report\n",
    "print(classification_report(y_ker_test, pred_final_class))"
   ]
  },
  {
   "cell_type": "markdown",
   "metadata": {
    "_uuid": "6b5ed4ff5d0bd508d6ffeac3eb1840191ccd9f88"
   },
   "source": [
    "### [5.2.2] Applying RBF SVM on TFIDF,<font color='red'> SET 2</font>"
   ]
  },
  {
   "cell_type": "code",
   "execution_count": 63,
   "metadata": {
    "_uuid": "f2bd5d0d4d596cdf6b757f7ca2be405a6d36733c",
    "collapsed": true
   },
   "outputs": [],
   "source": [
    "from sklearn.svm import SVC"
   ]
  },
  {
   "cell_type": "code",
   "execution_count": 64,
   "metadata": {
    "_uuid": "0b9148ed2e1678bc16d67d5d89fc88cfc37098f6",
    "collapsed": true
   },
   "outputs": [],
   "source": [
    "gamma= [10**-2,1,10**2]\n",
    "c= [10**-2,1,10**2]"
   ]
  },
  {
   "cell_type": "code",
   "execution_count": 69,
   "metadata": {
    "_uuid": "e6efd468cf22dabb2621d4766716dfdcc6a4fd4d",
    "scrolled": false
   },
   "outputs": [
    {
     "name": "stdout",
     "output_type": "stream",
     "text": [
      "0.01 0.01\n",
      "0.01 1\n",
      "0.01 100\n",
      "1 0.01\n",
      "1 1\n",
      "1 100\n",
      "100 0.01\n",
      "100 1\n",
      "100 100\n"
     ]
    }
   ],
   "source": [
    "auc_cv=[]\n",
    "tpr_cv=[]\n",
    "fpr_cv=[]\n",
    "tpr_tr=[]\n",
    "fpr_tr=[]\n",
    "auc_tr=[]\n",
    "hypermeter=[]\n",
    "for i in c:\n",
    "    for j in gamma:\n",
    "        \n",
    "        clf=SVC(gamma=j,C=i,probability=True,)\n",
    "        # fitting the model on crossvalidation train\n",
    "        clf.fit(final_tf_idf_ker, y_ker_tr)\n",
    "\n",
    "        # predict the response on the crossvalidation train\n",
    "        pred = clf.predict_proba(final_tf_idf_cv_ker)[:,1]\n",
    "        fpr, tpr, thresholds = metrics.roc_curve(y_ker_cv, pred)\n",
    "        auc=metrics.auc(fpr, tpr)\n",
    "        auc_cv.append(auc)\n",
    "        tpr_cv.append(tpr)\n",
    "        fpr_cv.append(fpr)\n",
    "\n",
    "        # predict the response on the train\n",
    "        pred = clf.predict_proba(final_tf_idf_ker)[:,1]\n",
    "        fpr, tpr, thresholds = metrics.roc_curve(y_ker_tr, pred)\n",
    "        auc=metrics.auc(fpr, tpr)\n",
    "        auc_tr.append(auc)\n",
    "        tpr_tr.append(tpr)\n",
    "        fpr_tr.append(fpr)\n",
    "        hypermeter.append([i,j])\n",
    "        print(i,j)\n",
    "    \n",
    "\n"
   ]
  },
  {
   "cell_type": "code",
   "execution_count": 70,
   "metadata": {
    "collapsed": true
   },
   "outputs": [],
   "source": [
    "c=[]\n",
    "gamma=[]\n",
    "for i in range(len(hypermeter)):\n",
    "    c.append((hypermeter[i])[0])\n",
    "    gamma.append((hypermeter[i])[1])"
   ]
  },
  {
   "cell_type": "code",
   "execution_count": 71,
   "metadata": {
    "_uuid": "502ae1c93bb80bafa0904716395f6f6fd826d9ee",
    "collapsed": true
   },
   "outputs": [],
   "source": [
    "data1={'hyperparameter(c,gamma)':hypermeter,'c':c,'gamma':gamma,'auc_cv':auc_cv[:],'auc_tr':auc_tr[:]}\n",
    "data_f=pd.DataFrame(data1)"
   ]
  },
  {
   "cell_type": "markdown",
   "metadata": {
    "_uuid": "255e70604ef0241b2115327289c12a498997a986"
   },
   "source": [
    "#### MAXIMUM AUC OF CROSS VALIDATION\n",
    "     aplha=1"
   ]
  },
  {
   "cell_type": "code",
   "execution_count": 72,
   "metadata": {
    "_uuid": "16756b4cb7e76c68cad50be2e7d46e69970ea32d",
    "scrolled": false
   },
   "outputs": [
    {
     "data": {
      "text/html": [
       "<div>\n",
       "<style>\n",
       "    .dataframe thead tr:only-child th {\n",
       "        text-align: right;\n",
       "    }\n",
       "\n",
       "    .dataframe thead th {\n",
       "        text-align: left;\n",
       "    }\n",
       "\n",
       "    .dataframe tbody tr th {\n",
       "        vertical-align: top;\n",
       "    }\n",
       "</style>\n",
       "<table border=\"1\" class=\"dataframe\">\n",
       "  <thead>\n",
       "    <tr style=\"text-align: right;\">\n",
       "      <th></th>\n",
       "      <th>auc_cv</th>\n",
       "      <th>auc_tr</th>\n",
       "      <th>c</th>\n",
       "      <th>gamma</th>\n",
       "      <th>hyperparameter(c,gamma)</th>\n",
       "    </tr>\n",
       "  </thead>\n",
       "  <tbody>\n",
       "    <tr>\n",
       "      <th>3</th>\n",
       "      <td>0.5871</td>\n",
       "      <td>0.911225</td>\n",
       "      <td>1.0</td>\n",
       "      <td>0.01</td>\n",
       "      <td>[1, 0.01]</td>\n",
       "    </tr>\n",
       "  </tbody>\n",
       "</table>\n",
       "</div>"
      ],
      "text/plain": [
       "   auc_cv    auc_tr    c  gamma hyperparameter(c,gamma)\n",
       "3  0.5871  0.911225  1.0   0.01               [1, 0.01]"
      ]
     },
     "execution_count": 72,
     "metadata": {},
     "output_type": "execute_result"
    }
   ],
   "source": [
    "data_f[data_f['auc_cv']==data_f['auc_cv'].max()]"
   ]
  },
  {
   "cell_type": "markdown",
   "metadata": {
    "_uuid": "bba46aab8acd3b10833f1e852b2207f56ad21733"
   },
   "source": [
    "### AREA UNDER CURVE Vs Neighbours PLOT FOR TRAIN AND TEST"
   ]
  },
  {
   "cell_type": "code",
   "execution_count": 73,
   "metadata": {
    "_uuid": "bdf9270ddc7f9ac8e3aae0b055f3527cc3b42af4",
    "scrolled": false
   },
   "outputs": [
    {
     "data": {
      "image/png": "[encoded data removed]",
      "text/plain": [
       "<matplotlib.figure.Figure at 0x15228450>"
      ]
     },
     "metadata": {},
     "output_type": "display_data"
    }
   ],
   "source": [
    "plt.figure(figsize=(10,6))\n",
    "plt.plot(np.log(c),auc_tr,'b',label='TRAIN')\n",
    "plt.plot(np.log(c),auc_cv,'g',label='CROSS VALIDATION')\n",
    "plt.xlabel('log of c')\n",
    "plt.ylabel('AUC')\n",
    "plt.title('Area Under Curve')\n",
    "plt.grid()\n",
    "plt.legend()\n",
    "plt.show()"
   ]
  },
  {
   "cell_type": "code",
   "execution_count": 74,
   "metadata": {
    "_uuid": "efb93630d1dd2ee6ec47069e84e941756ffa74a7"
   },
   "outputs": [
    {
     "data": {
      "text/plain": [
       "0.67365620656401248"
      ]
     },
     "execution_count": 74,
     "metadata": {},
     "output_type": "execute_result"
    }
   ],
   "source": [
    "# TESTING THE MODEL ON TEST DATA\n",
    "clf= SVC(gamma=0.01,C=1,probability=True)\n",
    "clf.fit(final_tf_idf_ker, y_ker_tr)\n",
    "pred_final = clf.predict_proba(final_tf_idf_test_ker)[:,1]\n",
    "fpr_f, tpr_f, thresholds_f = metrics.roc_curve(y_ker_test, pred_final)\n",
    "auc_final = metrics.auc(fpr_f, tpr_f)\n",
    "auc_final"
   ]
  },
  {
   "cell_type": "code",
   "execution_count": 75,
   "metadata": {
    "_uuid": "6ddeeaf9d0fcd4cd6ac677a8343eff2ccd865d01"
   },
   "outputs": [
    {
     "data": {
      "text/plain": [
       "0.9112218733031614"
      ]
     },
     "execution_count": 75,
     "metadata": {},
     "output_type": "execute_result"
    }
   ],
   "source": [
    "# TESTING THE MODEL ON TRAIN DATA\n",
    "pred_train=clf.predict_proba(final_tf_idf_ker)[:,1]\n",
    "fpr_ft, tpr_ft, thresholds_ft=metrics.roc_curve(y_ker_tr, pred_train)\n",
    "auc_finalt=metrics.auc(fpr_ft, tpr_ft)\n",
    "auc_finalt"
   ]
  },
  {
   "cell_type": "markdown",
   "metadata": {
    "_uuid": "b516caf038fbbc506702ac2a716dc293ef39bbbd"
   },
   "source": [
    "### ROC CURVE"
   ]
  },
  {
   "cell_type": "code",
   "execution_count": 76,
   "metadata": {
    "_uuid": "9779629031b5b079dc0fc12494b792fb7366e58f",
    "collapsed": true
   },
   "outputs": [],
   "source": [
    "y_a=[0,0.5,1]\n",
    "x_a=y_a"
   ]
  },
  {
   "cell_type": "code",
   "execution_count": 77,
   "metadata": {
    "_uuid": "44549168c2088d4a39dcdfa2d843c3f13d6eac90",
    "scrolled": false
   },
   "outputs": [
    {
     "data": {
      "image/png": "[encoded data removed]",
      "text/plain": [
       "<matplotlib.figure.Figure at 0xbf9a10>"
      ]
     },
     "metadata": {},
     "output_type": "display_data"
    }
   ],
   "source": [
    "plt.figure(figsize=(15,10))\n",
    "plt.plot(fpr_f,tpr_f,'b',label='TEST')\n",
    "plt.plot(x_a,y_a,'--r')\n",
    "plt.plot(fpr_ft,tpr_ft,'g',label='TRAIN')\n",
    "plt.xlabel('tpr_f')\n",
    "plt.ylabel('fpr_f')\n",
    "plt.title('AUC ')\n",
    "plt.grid()\n",
    "plt.legend()\n",
    "plt.show()"
   ]
  },
  {
   "cell_type": "markdown",
   "metadata": {
    "_uuid": "bb1b9703925f588a3e8d33f25ca7e408d89ee0a9"
   },
   "source": [
    "### CONFUSION MATRIX"
   ]
  },
  {
   "cell_type": "code",
   "execution_count": 78,
   "metadata": {
    "_uuid": "536b403605690078952025907389eb004b030999",
    "collapsed": true
   },
   "outputs": [],
   "source": [
    "import numpy as np\n",
    "pred_final\n",
    "pred_final_class=[]\n",
    "for i in range(len(pred_final)):\n",
    "    if pred_final[i]>0.5:\n",
    "        pred_final_class.append(1)\n",
    "    elif pred_final[i]<0.5:\n",
    "            pred_final_class.append(0)\n",
    "    else:\n",
    "            pred_final_class.append(np.random.randint(2))\n",
    "\n"
   ]
  },
  {
   "cell_type": "code",
   "execution_count": 79,
   "metadata": {
    "_uuid": "5a66042c6c9374dc11641ae913283511272b4888",
    "scrolled": true
   },
   "outputs": [
    {
     "data": {
      "text/plain": [
       "array([[ 285, 1985],\n",
       "       [ 327, 9403]], dtype=int64)"
      ]
     },
     "execution_count": 79,
     "metadata": {},
     "output_type": "execute_result"
    }
   ],
   "source": [
    "cm = confusion_matrix(y_ker_test, pred_final_class)\n",
    "cm"
   ]
  },
  {
   "cell_type": "code",
   "execution_count": 80,
   "metadata": {
    "_uuid": "2fdbb3368eee62536010071515e4fedb99defef8"
   },
   "outputs": [
    {
     "data": {
      "text/plain": [
       "1    11290\n",
       "0     2532\n",
       "Name: Score, dtype: int64"
      ]
     },
     "execution_count": 80,
     "metadata": {},
     "output_type": "execute_result"
    }
   ],
   "source": [
    "y_test[\"Score\"].value_counts()"
   ]
  },
  {
   "cell_type": "code",
   "execution_count": 81,
   "metadata": {
    "_uuid": "d3d820a6a99a5923b68a9f3fec0258e6bd662fc5",
    "scrolled": false
   },
   "outputs": [
    {
     "data": {
      "image/png": "[encoded data removed]",
      "text/plain": [
       "<matplotlib.figure.Figure at 0x16a0fe50>"
      ]
     },
     "metadata": {},
     "output_type": "display_data"
    }
   ],
   "source": [
    "import seaborn as sns\n",
    "class_label = [\"negative\", \"positive\"]\n",
    "df_cm = pd.DataFrame(cm, index = class_label, columns = class_label)\n",
    "sns.heatmap(df_cm, annot = True, fmt = \"d\")\n",
    "plt.title(\"Confusiion Matrix\")\n",
    "plt.xlabel(\"Predicted Label\")\n",
    "plt.ylabel(\"True Label\")\n",
    "plt.show()"
   ]
  },
  {
   "cell_type": "markdown",
   "metadata": {
    "_uuid": "89878768564bbe87b7d83c8323c9b2b80d2eb472"
   },
   "source": [
    "## CONCLUSION"
   ]
  },
  {
   "cell_type": "code",
   "execution_count": 82,
   "metadata": {
    "_uuid": "953b0ccdc4c39d90a85023ee4ec3f409be901585",
    "scrolled": true
   },
   "outputs": [
    {
     "name": "stdout",
     "output_type": "stream",
     "text": [
      "             precision    recall  f1-score   support\n",
      "\n",
      "          0       0.47      0.13      0.20      2270\n",
      "          1       0.83      0.97      0.89      9730\n",
      "\n",
      "avg / total       0.76      0.81      0.76     12000\n",
      "\n"
     ]
    }
   ],
   "source": [
    "from sklearn.metrics import classification_report\n",
    "print(classification_report(y_ker_test, pred_final_class))"
   ]
  },
  {
   "cell_type": "markdown",
   "metadata": {
    "_uuid": "764457c9f531495a45cd5b4a745a6e840dfae3ab"
   },
   "source": [
    "### [5.2.3]  Applying RBF SVM on AVG W2V,<font color='red'> SET 3</font>"
   ]
  },
  {
   "cell_type": "code",
   "execution_count": 83,
   "metadata": {
    "_uuid": "f2bd5d0d4d596cdf6b757f7ca2be405a6d36733c",
    "collapsed": true
   },
   "outputs": [],
   "source": [
    "from sklearn.svm import SVC"
   ]
  },
  {
   "cell_type": "code",
   "execution_count": 84,
   "metadata": {
    "_uuid": "0b9148ed2e1678bc16d67d5d89fc88cfc37098f6",
    "collapsed": true
   },
   "outputs": [],
   "source": [
    "gamma= [10**-2,1,10**2]\n",
    "c= [10**-2,1,10**2]"
   ]
  },
  {
   "cell_type": "code",
   "execution_count": 85,
   "metadata": {
    "_uuid": "e6efd468cf22dabb2621d4766716dfdcc6a4fd4d",
    "scrolled": false
   },
   "outputs": [
    {
     "name": "stdout",
     "output_type": "stream",
     "text": [
      "0.01 0.01\n",
      "0.01 1\n",
      "0.01 100\n",
      "1 0.01\n",
      "1 1\n",
      "1 100\n",
      "100 0.01\n",
      "100 1\n",
      "100 100\n"
     ]
    }
   ],
   "source": [
    "auc_cv=[]\n",
    "tpr_cv=[]\n",
    "fpr_cv=[]\n",
    "tpr_tr=[]\n",
    "fpr_tr=[]\n",
    "auc_tr=[]\n",
    "hypermeter=[]\n",
    "for i in c:\n",
    "    for j in gamma:\n",
    "        \n",
    "        clf=SVC(gamma=j,C=i,probability=True)\n",
    "        # fitting the model on crossvalidation train\n",
    "        clf.fit(sent_vectors_ker, y_ker_tr)\n",
    "\n",
    "        # predict the response on the crossvalidation train\n",
    "        pred = clf.predict_proba(sent_vectors_cv_ker)[:,1]\n",
    "        fpr, tpr, thresholds = metrics.roc_curve(y_ker_cv, pred)\n",
    "        auc=metrics.auc(fpr, tpr)\n",
    "        auc_cv.append(auc)\n",
    "        tpr_cv.append(tpr)\n",
    "        fpr_cv.append(fpr)\n",
    "\n",
    "        # predict the response on the train\n",
    "        pred = clf.predict_proba(sent_vectors_ker)[:,1]\n",
    "        fpr, tpr, thresholds = metrics.roc_curve(y_ker_tr, pred)\n",
    "        auc=metrics.auc(fpr, tpr)\n",
    "        auc_tr.append(auc)\n",
    "        tpr_tr.append(tpr)\n",
    "        fpr_tr.append(fpr)\n",
    "        hypermeter.append([i,j])\n",
    "        print(i,j)\n",
    "    \n",
    "\n"
   ]
  },
  {
   "cell_type": "code",
   "execution_count": 86,
   "metadata": {
    "collapsed": true
   },
   "outputs": [],
   "source": [
    "c=[]\n",
    "gamma=[]\n",
    "for i in range(len(hypermeter)):\n",
    "    c.append((hypermeter[i])[0])\n",
    "    gamma.append((hypermeter[i])[1])"
   ]
  },
  {
   "cell_type": "code",
   "execution_count": 87,
   "metadata": {
    "_uuid": "502ae1c93bb80bafa0904716395f6f6fd826d9ee",
    "collapsed": true
   },
   "outputs": [],
   "source": [
    "data1={'hyperparameter(c,gamma)':hypermeter,'c':c,'gamma':gamma,'auc_cv':auc_cv[:],'auc_tr':auc_tr[:]}\n",
    "data_f=pd.DataFrame(data1)"
   ]
  },
  {
   "cell_type": "markdown",
   "metadata": {
    "_uuid": "255e70604ef0241b2115327289c12a498997a986"
   },
   "source": [
    "#### MAXIMUM AUC OF CROSS VALIDATION\n",
    "     aplha=1"
   ]
  },
  {
   "cell_type": "code",
   "execution_count": 88,
   "metadata": {
    "_uuid": "16756b4cb7e76c68cad50be2e7d46e69970ea32d",
    "scrolled": false
   },
   "outputs": [
    {
     "data": {
      "text/html": [
       "<div>\n",
       "<style>\n",
       "    .dataframe thead tr:only-child th {\n",
       "        text-align: right;\n",
       "    }\n",
       "\n",
       "    .dataframe thead th {\n",
       "        text-align: left;\n",
       "    }\n",
       "\n",
       "    .dataframe tbody tr th {\n",
       "        vertical-align: top;\n",
       "    }\n",
       "</style>\n",
       "<table border=\"1\" class=\"dataframe\">\n",
       "  <thead>\n",
       "    <tr style=\"text-align: right;\">\n",
       "      <th></th>\n",
       "      <th>auc_cv</th>\n",
       "      <th>auc_tr</th>\n",
       "      <th>c</th>\n",
       "      <th>gamma</th>\n",
       "      <th>hyperparameter(c,gamma)</th>\n",
       "    </tr>\n",
       "  </thead>\n",
       "  <tbody>\n",
       "    <tr>\n",
       "      <th>4</th>\n",
       "      <td>0.643319</td>\n",
       "      <td>0.968153</td>\n",
       "      <td>1.0</td>\n",
       "      <td>1.0</td>\n",
       "      <td>[1, 1]</td>\n",
       "    </tr>\n",
       "  </tbody>\n",
       "</table>\n",
       "</div>"
      ],
      "text/plain": [
       "     auc_cv    auc_tr    c  gamma hyperparameter(c,gamma)\n",
       "4  0.643319  0.968153  1.0    1.0                  [1, 1]"
      ]
     },
     "execution_count": 88,
     "metadata": {},
     "output_type": "execute_result"
    }
   ],
   "source": [
    "data_f[data_f['auc_cv']==data_f['auc_cv'].max()]"
   ]
  },
  {
   "cell_type": "markdown",
   "metadata": {
    "_uuid": "bba46aab8acd3b10833f1e852b2207f56ad21733"
   },
   "source": [
    "### AREA UNDER CURVE Vs Neighbours PLOT FOR TRAIN AND TEST"
   ]
  },
  {
   "cell_type": "code",
   "execution_count": 89,
   "metadata": {
    "_uuid": "bdf9270ddc7f9ac8e3aae0b055f3527cc3b42af4",
    "scrolled": false
   },
   "outputs": [
    {
     "data": {
      "image/png": "[encoded data removed]",
      "text/plain": [
       "<matplotlib.figure.Figure at 0x16d0f830>"
      ]
     },
     "metadata": {},
     "output_type": "display_data"
    }
   ],
   "source": [
    "plt.figure(figsize=(10,6))\n",
    "plt.plot(np.log(c),auc_tr,'b',label='TRAIN')\n",
    "plt.plot(np.log(c),auc_cv,'g',label='CROSS VALIDATION')\n",
    "plt.xlabel('log of c')\n",
    "plt.ylabel('AUC')\n",
    "plt.title('Area Under Curve')\n",
    "plt.grid()\n",
    "plt.legend()\n",
    "plt.show()"
   ]
  },
  {
   "cell_type": "code",
   "execution_count": 90,
   "metadata": {
    "_uuid": "efb93630d1dd2ee6ec47069e84e941756ffa74a7"
   },
   "outputs": [
    {
     "data": {
      "text/plain": [
       "0.65550300854344834"
      ]
     },
     "execution_count": 90,
     "metadata": {},
     "output_type": "execute_result"
    }
   ],
   "source": [
    "# TESTING THE MODEL ON TEST DATA\n",
    "clf= SVC(gamma=1,C=1,probability=True)\n",
    "clf.fit(sent_vectors_ker, y_ker_tr)\n",
    "pred_final = clf.predict_proba(sent_vectors_test_ker)[:,1]\n",
    "fpr_f, tpr_f, thresholds_f = metrics.roc_curve(y_ker_test, pred_final)\n",
    "auc_final = metrics.auc(fpr_f, tpr_f)\n",
    "auc_final"
   ]
  },
  {
   "cell_type": "code",
   "execution_count": 91,
   "metadata": {
    "_uuid": "6ddeeaf9d0fcd4cd6ac677a8343eff2ccd865d01"
   },
   "outputs": [
    {
     "data": {
      "text/plain": [
       "0.96815232758109571"
      ]
     },
     "execution_count": 91,
     "metadata": {},
     "output_type": "execute_result"
    }
   ],
   "source": [
    "# TESTING THE MODEL ON TRAIN DATA\n",
    "pred_train=clf.predict_proba(sent_vectors_ker)[:,1]\n",
    "fpr_ft, tpr_ft, thresholds_ft=metrics.roc_curve(y_ker_tr, pred_train)\n",
    "auc_finalt=metrics.auc(fpr_ft, tpr_ft)\n",
    "auc_finalt"
   ]
  },
  {
   "cell_type": "markdown",
   "metadata": {
    "_uuid": "b516caf038fbbc506702ac2a716dc293ef39bbbd"
   },
   "source": [
    "### ROC CURVE"
   ]
  },
  {
   "cell_type": "code",
   "execution_count": 92,
   "metadata": {
    "_uuid": "9779629031b5b079dc0fc12494b792fb7366e58f",
    "collapsed": true
   },
   "outputs": [],
   "source": [
    "y_a=[0,0.5,1]\n",
    "x_a=y_a"
   ]
  },
  {
   "cell_type": "code",
   "execution_count": 93,
   "metadata": {
    "_uuid": "44549168c2088d4a39dcdfa2d843c3f13d6eac90",
    "scrolled": false
   },
   "outputs": [
    {
     "data": {
      "image/png": "[encoded data removed]",
      "text/plain": [
       "<matplotlib.figure.Figure at 0x16bc9ed0>"
      ]
     },
     "metadata": {},
     "output_type": "display_data"
    }
   ],
   "source": [
    "plt.figure(figsize=(15,10))\n",
    "plt.plot(fpr_f,tpr_f,'b',label='TEST')\n",
    "plt.plot(x_a,y_a,'--r')\n",
    "plt.plot(fpr_ft,tpr_ft,'g',label='TRAIN')\n",
    "plt.xlabel('tpr_f')\n",
    "plt.ylabel('fpr_f')\n",
    "plt.title('AUC ')\n",
    "plt.grid()\n",
    "plt.legend()\n",
    "plt.show()"
   ]
  },
  {
   "cell_type": "markdown",
   "metadata": {
    "_uuid": "bb1b9703925f588a3e8d33f25ca7e408d89ee0a9"
   },
   "source": [
    "### CONFUSION MATRIX"
   ]
  },
  {
   "cell_type": "code",
   "execution_count": 94,
   "metadata": {
    "_uuid": "536b403605690078952025907389eb004b030999",
    "collapsed": true
   },
   "outputs": [],
   "source": [
    "import numpy as np\n",
    "pred_final\n",
    "pred_final_class=[]\n",
    "for i in range(len(pred_final)):\n",
    "    if pred_final[i]>0.5:\n",
    "        pred_final_class.append(1)\n",
    "    elif pred_final[i]<0.5:\n",
    "            pred_final_class.append(0)\n",
    "    else:\n",
    "            pred_final_class.append(np.random.randint(2))\n",
    "\n",
    "# \n"
   ]
  },
  {
   "cell_type": "code",
   "execution_count": 95,
   "metadata": {
    "_uuid": "5a66042c6c9374dc11641ae913283511272b4888",
    "scrolled": true
   },
   "outputs": [
    {
     "data": {
      "text/plain": [
       "array([[   4, 2266],\n",
       "       [   1, 9729]], dtype=int64)"
      ]
     },
     "execution_count": 95,
     "metadata": {},
     "output_type": "execute_result"
    }
   ],
   "source": [
    "cm = confusion_matrix(y_ker_test, pred_final_class)\n",
    "cm"
   ]
  },
  {
   "cell_type": "code",
   "execution_count": 96,
   "metadata": {
    "_uuid": "2fdbb3368eee62536010071515e4fedb99defef8"
   },
   "outputs": [
    {
     "data": {
      "text/plain": [
       "1    11290\n",
       "0     2532\n",
       "Name: Score, dtype: int64"
      ]
     },
     "execution_count": 96,
     "metadata": {},
     "output_type": "execute_result"
    }
   ],
   "source": [
    "y_test[\"Score\"].value_counts()"
   ]
  },
  {
   "cell_type": "code",
   "execution_count": 97,
   "metadata": {
    "_uuid": "d3d820a6a99a5923b68a9f3fec0258e6bd662fc5",
    "scrolled": false
   },
   "outputs": [
    {
     "data": {
      "image/png": "[encoded data removed]",
      "text/plain": [
       "<matplotlib.figure.Figure at 0x1c90aef0>"
      ]
     },
     "metadata": {},
     "output_type": "display_data"
    }
   ],
   "source": [
    "import seaborn as sns\n",
    "class_label = [\"negative\", \"positive\"]\n",
    "df_cm = pd.DataFrame(cm, index = class_label, columns = class_label)\n",
    "sns.heatmap(df_cm, annot = True, fmt = \"d\")\n",
    "plt.title(\"Confusiion Matrix\")\n",
    "plt.xlabel(\"Predicted Label\")\n",
    "plt.ylabel(\"True Label\")\n",
    "plt.show()"
   ]
  },
  {
   "cell_type": "markdown",
   "metadata": {
    "_uuid": "89878768564bbe87b7d83c8323c9b2b80d2eb472"
   },
   "source": [
    "## CONCLUSION"
   ]
  },
  {
   "cell_type": "code",
   "execution_count": 98,
   "metadata": {
    "_uuid": "953b0ccdc4c39d90a85023ee4ec3f409be901585",
    "scrolled": true
   },
   "outputs": [
    {
     "name": "stdout",
     "output_type": "stream",
     "text": [
      "             precision    recall  f1-score   support\n",
      "\n",
      "          0       0.80      0.00      0.00      2270\n",
      "          1       0.81      1.00      0.90      9730\n",
      "\n",
      "avg / total       0.81      0.81      0.73     12000\n",
      "\n"
     ]
    }
   ],
   "source": [
    "from sklearn.metrics import classification_report\n",
    "print(classification_report(y_ker_test, pred_final_class))"
   ]
  },
  {
   "cell_type": "markdown",
   "metadata": {
    "_uuid": "2021854d5324d62299b300d6572f56798f4fa260"
   },
   "source": [
    "### [5.2.4]  Applying RBF SVM on TFIDF W2V,<font color='red'> SET 4</font>"
   ]
  },
  {
   "cell_type": "code",
   "execution_count": 99,
   "metadata": {
    "_uuid": "f2bd5d0d4d596cdf6b757f7ca2be405a6d36733c",
    "collapsed": true
   },
   "outputs": [],
   "source": [
    "from sklearn.svm import SVC"
   ]
  },
  {
   "cell_type": "code",
   "execution_count": 100,
   "metadata": {
    "_uuid": "0b9148ed2e1678bc16d67d5d89fc88cfc37098f6",
    "collapsed": true
   },
   "outputs": [],
   "source": [
    "gamma= [10**-2,1,10**2]\n",
    "c= [10**-2,1,10**2]"
   ]
  },
  {
   "cell_type": "code",
   "execution_count": 101,
   "metadata": {
    "_uuid": "e6efd468cf22dabb2621d4766716dfdcc6a4fd4d",
    "scrolled": false
   },
   "outputs": [
    {
     "name": "stdout",
     "output_type": "stream",
     "text": [
      "0.01 0.01\n",
      "0.01 1\n",
      "0.01 100\n",
      "1 0.01\n",
      "1 1\n",
      "1 100\n",
      "100 0.01\n",
      "100 1\n",
      "100 100\n"
     ]
    }
   ],
   "source": [
    "auc_cv=[]\n",
    "tpr_cv=[]\n",
    "fpr_cv=[]\n",
    "tpr_tr=[]\n",
    "fpr_tr=[]\n",
    "auc_tr=[]\n",
    "hypermeter=[]\n",
    "for i in c:\n",
    "    for j in gamma:\n",
    "        \n",
    "        clf=SVC(gamma=j,C=i,probability=True)\n",
    "        # fitting the model on crossvalidation train\n",
    "        clf.fit(tfidf_sent_vectors_ker, y_ker_tr)\n",
    "\n",
    "        # predict the response on the crossvalidation train\n",
    "        pred = clf.predict_proba(tfidf_sent_vectors_ker_cv)[:,1]\n",
    "        fpr, tpr, thresholds = metrics.roc_curve(y_ker_cv, pred)\n",
    "        auc=metrics.auc(fpr, tpr)\n",
    "        auc_cv.append(auc)\n",
    "        tpr_cv.append(tpr)\n",
    "        fpr_cv.append(fpr)\n",
    "\n",
    "        # predict the response on the train\n",
    "        pred = clf.predict_proba(tfidf_sent_vectors_ker)[:,1]\n",
    "        fpr, tpr, thresholds = metrics.roc_curve(y_ker_tr, pred)\n",
    "        auc=metrics.auc(fpr, tpr)\n",
    "        auc_tr.append(auc)\n",
    "        tpr_tr.append(tpr)\n",
    "        fpr_tr.append(fpr)\n",
    "        hypermeter.append([i,j])\n",
    "        print(i,j)\n",
    "    \n",
    "\n"
   ]
  },
  {
   "cell_type": "code",
   "execution_count": 102,
   "metadata": {
    "collapsed": true
   },
   "outputs": [],
   "source": [
    "c=[]\n",
    "gamma=[]\n",
    "for i in range(len(hypermeter)):\n",
    "    c.append((hypermeter[i])[0])\n",
    "    gamma.append((hypermeter[i])[1])"
   ]
  },
  {
   "cell_type": "code",
   "execution_count": 103,
   "metadata": {
    "_uuid": "502ae1c93bb80bafa0904716395f6f6fd826d9ee",
    "collapsed": true
   },
   "outputs": [],
   "source": [
    "data1={'hyperparameter(c,gamma)':hypermeter,'c':c,'gamma':gamma,'auc_cv':auc_cv[:],'auc_tr':auc_tr[:]}\n",
    "data_f=pd.DataFrame(data1)"
   ]
  },
  {
   "cell_type": "markdown",
   "metadata": {
    "_uuid": "255e70604ef0241b2115327289c12a498997a986"
   },
   "source": [
    "#### MAXIMUM AUC OF CROSS VALIDATION\n",
    "     aplha=1"
   ]
  },
  {
   "cell_type": "code",
   "execution_count": 104,
   "metadata": {
    "_uuid": "16756b4cb7e76c68cad50be2e7d46e69970ea32d",
    "scrolled": false
   },
   "outputs": [
    {
     "data": {
      "text/html": [
       "<div>\n",
       "<style>\n",
       "    .dataframe thead tr:only-child th {\n",
       "        text-align: right;\n",
       "    }\n",
       "\n",
       "    .dataframe thead th {\n",
       "        text-align: left;\n",
       "    }\n",
       "\n",
       "    .dataframe tbody tr th {\n",
       "        vertical-align: top;\n",
       "    }\n",
       "</style>\n",
       "<table border=\"1\" class=\"dataframe\">\n",
       "  <thead>\n",
       "    <tr style=\"text-align: right;\">\n",
       "      <th></th>\n",
       "      <th>auc_cv</th>\n",
       "      <th>auc_tr</th>\n",
       "      <th>c</th>\n",
       "      <th>gamma</th>\n",
       "      <th>hyperparameter(c,gamma)</th>\n",
       "    </tr>\n",
       "  </thead>\n",
       "  <tbody>\n",
       "    <tr>\n",
       "      <th>0</th>\n",
       "      <td>0.608269</td>\n",
       "      <td>0.858691</td>\n",
       "      <td>0.01</td>\n",
       "      <td>0.01</td>\n",
       "      <td>[0.01, 0.01]</td>\n",
       "    </tr>\n",
       "  </tbody>\n",
       "</table>\n",
       "</div>"
      ],
      "text/plain": [
       "     auc_cv    auc_tr     c  gamma hyperparameter(c,gamma)\n",
       "0  0.608269  0.858691  0.01   0.01            [0.01, 0.01]"
      ]
     },
     "execution_count": 104,
     "metadata": {},
     "output_type": "execute_result"
    }
   ],
   "source": [
    "data_f[data_f['auc_cv']==data_f['auc_cv'].max()]"
   ]
  },
  {
   "cell_type": "markdown",
   "metadata": {
    "_uuid": "bba46aab8acd3b10833f1e852b2207f56ad21733"
   },
   "source": [
    "### AREA UNDER CURVE Vs Neighbours PLOT FOR TRAIN AND TEST"
   ]
  },
  {
   "cell_type": "code",
   "execution_count": 105,
   "metadata": {
    "_uuid": "bdf9270ddc7f9ac8e3aae0b055f3527cc3b42af4",
    "scrolled": false
   },
   "outputs": [
    {
     "data": {
      "image/png": "[encoded data removed]",
      "text/plain": [
       "<matplotlib.figure.Figure at 0x171ebe70>"
      ]
     },
     "metadata": {},
     "output_type": "display_data"
    }
   ],
   "source": [
    "plt.figure(figsize=(10,6))\n",
    "plt.plot(np.log(c),auc_tr,'b',label='TRAIN')\n",
    "plt.plot(np.log(c),auc_cv,'g',label='CROSS VALIDATION')\n",
    "plt.xlabel('log of c')\n",
    "plt.ylabel('AUC')\n",
    "plt.title('Area Under Curve')\n",
    "plt.grid()\n",
    "plt.legend()\n",
    "plt.show()"
   ]
  },
  {
   "cell_type": "code",
   "execution_count": 108,
   "metadata": {
    "_uuid": "efb93630d1dd2ee6ec47069e84e941756ffa74a7"
   },
   "outputs": [
    {
     "data": {
      "text/plain": [
       "0.76398780283513901"
      ]
     },
     "execution_count": 108,
     "metadata": {},
     "output_type": "execute_result"
    }
   ],
   "source": [
    "# TESTING THE MODEL ON TEST DATA\n",
    "clf= SVC(gamma=0.01,C=0.01,probability=True)\n",
    "clf.fit(tfidf_sent_vectors_ker, y_ker_tr)\n",
    "pred_final = clf.predict_proba(tfidf_sent_vectors_ker_test)[:,1]\n",
    "fpr_f, tpr_f, thresholds_f = metrics.roc_curve(y_ker_test, pred_final)\n",
    "auc_final = metrics.auc(fpr_f, tpr_f)\n",
    "auc_final"
   ]
  },
  {
   "cell_type": "code",
   "execution_count": 109,
   "metadata": {
    "_uuid": "6ddeeaf9d0fcd4cd6ac677a8343eff2ccd865d01"
   },
   "outputs": [
    {
     "data": {
      "text/plain": [
       "0.8586901460843035"
      ]
     },
     "execution_count": 109,
     "metadata": {},
     "output_type": "execute_result"
    }
   ],
   "source": [
    "# TESTING THE MODEL ON TRAIN DATA\n",
    "pred_train=clf.predict_proba(tfidf_sent_vectors_ker)[:,1]\n",
    "fpr_ft, tpr_ft, thresholds_ft=metrics.roc_curve(y_ker_tr, pred_train)\n",
    "auc_finalt=metrics.auc(fpr_ft, tpr_ft)\n",
    "auc_finalt"
   ]
  },
  {
   "cell_type": "markdown",
   "metadata": {
    "_uuid": "b516caf038fbbc506702ac2a716dc293ef39bbbd"
   },
   "source": [
    "### ROC CURVE"
   ]
  },
  {
   "cell_type": "code",
   "execution_count": 110,
   "metadata": {
    "_uuid": "9779629031b5b079dc0fc12494b792fb7366e58f",
    "collapsed": true
   },
   "outputs": [],
   "source": [
    "y_a=[0,0.5,1]\n",
    "x_a=y_a"
   ]
  },
  {
   "cell_type": "code",
   "execution_count": 111,
   "metadata": {
    "_uuid": "44549168c2088d4a39dcdfa2d843c3f13d6eac90",
    "scrolled": false
   },
   "outputs": [
    {
     "data": {
      "image/png": "[encoded data removed]",
      "text/plain": [
       "<matplotlib.figure.Figure at 0x16462310>"
      ]
     },
     "metadata": {},
     "output_type": "display_data"
    }
   ],
   "source": [
    "plt.figure(figsize=(15,10))\n",
    "plt.plot(fpr_f,tpr_f,'b',label='TEST')\n",
    "plt.plot(x_a,y_a,'--r')\n",
    "plt.plot(fpr_ft,tpr_ft,'g',label='TRAIN')\n",
    "plt.xlabel('tpr_f')\n",
    "plt.ylabel('fpr_f')\n",
    "plt.title('AUC ')\n",
    "plt.grid()\n",
    "plt.legend()\n",
    "plt.show()"
   ]
  },
  {
   "cell_type": "markdown",
   "metadata": {
    "_uuid": "bb1b9703925f588a3e8d33f25ca7e408d89ee0a9"
   },
   "source": [
    "### CONFUSION MATRIX"
   ]
  },
  {
   "cell_type": "code",
   "execution_count": 112,
   "metadata": {
    "_uuid": "536b403605690078952025907389eb004b030999",
    "collapsed": true
   },
   "outputs": [],
   "source": [
    "import numpy as np\n",
    "pred_final\n",
    "pred_final_class=[]\n",
    "for i in range(len(pred_final)):\n",
    "    if pred_final[i]>0.5:\n",
    "        pred_final_class.append(1)\n",
    "    elif pred_final[i]<0.5:\n",
    "            pred_final_class.append(0)\n",
    "    else:\n",
    "            pred_final_class.append(np.random.randint(2))\n",
    "\n",
    "# \n"
   ]
  },
  {
   "cell_type": "code",
   "execution_count": 113,
   "metadata": {
    "_uuid": "5a66042c6c9374dc11641ae913283511272b4888",
    "scrolled": true
   },
   "outputs": [
    {
     "data": {
      "text/plain": [
       "array([[  83, 2187],\n",
       "       [  68, 9662]], dtype=int64)"
      ]
     },
     "execution_count": 113,
     "metadata": {},
     "output_type": "execute_result"
    }
   ],
   "source": [
    "cm = confusion_matrix(y_ker_test, pred_final_class)\n",
    "cm"
   ]
  },
  {
   "cell_type": "code",
   "execution_count": 114,
   "metadata": {
    "_uuid": "2fdbb3368eee62536010071515e4fedb99defef8"
   },
   "outputs": [
    {
     "data": {
      "text/plain": [
       "1    11290\n",
       "0     2532\n",
       "Name: Score, dtype: int64"
      ]
     },
     "execution_count": 114,
     "metadata": {},
     "output_type": "execute_result"
    }
   ],
   "source": [
    "y_test[\"Score\"].value_counts()"
   ]
  },
  {
   "cell_type": "code",
   "execution_count": 115,
   "metadata": {
    "_uuid": "d3d820a6a99a5923b68a9f3fec0258e6bd662fc5",
    "scrolled": false
   },
   "outputs": [
    {
     "data": {
      "image/png": "[encoded data removed]",
      "text/plain": [
       "<matplotlib.figure.Figure at 0x16462350>"
      ]
     },
     "metadata": {},
     "output_type": "display_data"
    }
   ],
   "source": [
    "import seaborn as sns\n",
    "class_label = [\"negative\", \"positive\"]\n",
    "df_cm = pd.DataFrame(cm, index = class_label, columns = class_label)\n",
    "sns.heatmap(df_cm, annot = True, fmt = \"d\")\n",
    "plt.title(\"Confusiion Matrix\")\n",
    "plt.xlabel(\"Predicted Label\")\n",
    "plt.ylabel(\"True Label\")\n",
    "plt.show()"
   ]
  },
  {
   "cell_type": "markdown",
   "metadata": {
    "_uuid": "89878768564bbe87b7d83c8323c9b2b80d2eb472"
   },
   "source": [
    "## CONCLUSION"
   ]
  },
  {
   "cell_type": "code",
   "execution_count": 116,
   "metadata": {
    "_uuid": "953b0ccdc4c39d90a85023ee4ec3f409be901585",
    "scrolled": true
   },
   "outputs": [
    {
     "name": "stdout",
     "output_type": "stream",
     "text": [
      "             precision    recall  f1-score   support\n",
      "\n",
      "          0       0.55      0.04      0.07      2270\n",
      "          1       0.82      0.99      0.90      9730\n",
      "\n",
      "avg / total       0.77      0.81      0.74     12000\n",
      "\n"
     ]
    }
   ],
   "source": [
    "from sklearn.metrics import classification_report\n",
    "print(classification_report(y_ker_test, pred_final_class))"
   ]
  },
  {
   "cell_type": "markdown",
   "metadata": {
    "_uuid": "2120c4c7ebc8ed2e2b4e5f10786c8f45d3f30509"
   },
   "source": [
    "# [6] Conclusions"
   ]
  },
  {
   "cell_type": "code",
   "execution_count": 1,
   "metadata": {
    "collapsed": true
   },
   "outputs": [],
   "source": [
    "from prettytable import PrettyTable\n",
    "    \n",
    "x = PrettyTable()\n",
    "\n",
    "x.field_names = [\"VECTORIZER\",\"Model\", \"HYPERMETER  [gamma,C]\", \"AUC\"]\n",
    "\n",
    "x.add_row([\"BOW\",'SGD', 1000, 0.531507])\n",
    "x.add_row([\"BOW\", 'RBF KERNEL', [0.01,1], 0.70367])\n",
    "\n",
    "x.add_row([\"TFIDF\", 'SGD',0.001 ,0.669541])\n",
    "x.add_row([\"TFIDF\", 'RBF KERNEL',[0.01,1] ,0.6736])\n",
    "\n",
    "x.add_row([\"AVG W2V\", 'SGD', 0.1 ,0.830847])\n",
    "x.add_row([\"AVG W2V\", 'RBF KERNEL',[1,1],0.6555])\n",
    "\n",
    "x.add_row([\"TFIDF W2V\", 'SGD',0.1 , 0.8178])\n",
    "x.add_row([\"TFIDF W2V\", 'RBF KERNEL',[0.01,0.01] ,0.76398])\n",
    "\n"
   ]
  },
  {
   "cell_type": "code",
   "execution_count": 2,
   "metadata": {
    "scrolled": false
   },
   "outputs": [
    {
     "name": "stdout",
     "output_type": "stream",
     "text": [
      "+------------+------------+-----------------------+----------+\n",
      "| VECTORIZER |   Model    | HYPERMETER  [gamma,C] |   AUC    |\n",
      "+------------+------------+-----------------------+----------+\n",
      "|    BOW     |    SGD     |          1000         | 0.531507 |\n",
      "|    BOW     | RBF KERNEL |       [0.01, 1]       | 0.70367  |\n",
      "|   TFIDF    |    SGD     |         0.001         | 0.669541 |\n",
      "|   TFIDF    | RBF KERNEL |       [0.01, 1]       |  0.6736  |\n",
      "|  AVG W2V   |    SGD     |          0.1          | 0.830847 |\n",
      "|  AVG W2V   | RBF KERNEL |         [1, 1]        |  0.6555  |\n",
      "| TFIDF W2V  |    SGD     |          0.1          |  0.8178  |\n",
      "| TFIDF W2V  | RBF KERNEL |      [0.01, 0.01]     | 0.76398  |\n",
      "+------------+------------+-----------------------+----------+\n"
     ]
    }
   ],
   "source": [
    "print(x)"
   ]
  }
 ],
 "metadata": {
  "kernelspec": {
   "display_name": "Python 3",
   "language": "python",
   "name": "python3"
  },
  "language_info": {
   "codemirror_mode": {
    "name": "ipython",
    "version": 3
   },
   "file_extension": ".py",
   "mimetype": "text/x-python",
   "name": "python",
   "nbconvert_exporter": "python",
   "pygments_lexer": "ipython3",
   "version": "3.7.1"
  }
 },
 "nbformat": 4,
 "nbformat_minor": 2
}
